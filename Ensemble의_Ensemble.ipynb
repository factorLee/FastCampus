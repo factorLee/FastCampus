{
  "nbformat": 4,
  "nbformat_minor": 0,
  "metadata": {
    "kernelspec": {
      "display_name": "Python 3",
      "language": "python",
      "name": "python3"
    },
    "language_info": {
      "codemirror_mode": {
        "name": "ipython",
        "version": 3
      },
      "file_extension": ".py",
      "mimetype": "text/x-python",
      "name": "python",
      "nbconvert_exporter": "python",
      "pygments_lexer": "ipython3",
      "version": "3.6.5"
    },
    "colab": {
      "name": "Ensemble의 Ensemble.ipynb",
      "provenance": [],
      "toc_visible": true,
      "include_colab_link": true
    }
  },
  "cells": [
    {
      "cell_type": "markdown",
      "metadata": {
        "id": "view-in-github",
        "colab_type": "text"
      },
      "source": [
        "<a href=\"https://colab.research.google.com/github/factorLee/FastCampus/blob/main/Ensemble%E1%84%8B%E1%85%B4_Ensemble.ipynb\" target=\"_parent\"><img src=\"https://colab.research.google.com/assets/colab-badge.svg\" alt=\"Open In Colab\"/></a>"
      ]
    },
    {
      "cell_type": "code",
      "metadata": {
        "id": "QpixNoRjkkAG"
      },
      "source": [
        "import os\n",
        "import pandas as pd\n",
        "import numpy as np\n",
        "from sklearn.model_selection import train_test_split\n",
        "from sklearn.metrics import accuracy_score"
      ],
      "execution_count": null,
      "outputs": []
    },
    {
      "cell_type": "code",
      "metadata": {
        "colab": {
          "base_uri": "https://localhost:8080/",
          "height": 35
        },
        "id": "Qku7sXgekkAM",
        "outputId": "96383054-311c-4b00-db8e-69797b7c9f37"
      },
      "source": [
        "# 현재경로 확인\n",
        "os.getcwd()"
      ],
      "execution_count": null,
      "outputs": [
        {
          "output_type": "execute_result",
          "data": {
            "application/vnd.google.colaboratory.intrinsic+json": {
              "type": "string"
            },
            "text/plain": [
              "'/content'"
            ]
          },
          "metadata": {
            "tags": []
          },
          "execution_count": 2
        }
      ]
    },
    {
      "cell_type": "code",
      "metadata": {
        "colab": {
          "base_uri": "https://localhost:8080/",
          "height": 253
        },
        "id": "zDHBi5E-kkAN",
        "outputId": "1405fbcd-5631-458f-c359-69ffc94558b0"
      },
      "source": [
        "# 데이터 불러오기\n",
        "data = pd.read_csv(\"./otto_train.csv\") # Product Category\n",
        "data.head() # 데이터 확인"
      ],
      "execution_count": null,
      "outputs": [
        {
          "output_type": "execute_result",
          "data": {
            "text/html": [
              "<div>\n",
              "<style scoped>\n",
              "    .dataframe tbody tr th:only-of-type {\n",
              "        vertical-align: middle;\n",
              "    }\n",
              "\n",
              "    .dataframe tbody tr th {\n",
              "        vertical-align: top;\n",
              "    }\n",
              "\n",
              "    .dataframe thead th {\n",
              "        text-align: right;\n",
              "    }\n",
              "</style>\n",
              "<table border=\"1\" class=\"dataframe\">\n",
              "  <thead>\n",
              "    <tr style=\"text-align: right;\">\n",
              "      <th></th>\n",
              "      <th>id</th>\n",
              "      <th>feat_1</th>\n",
              "      <th>feat_2</th>\n",
              "      <th>feat_3</th>\n",
              "      <th>feat_4</th>\n",
              "      <th>feat_5</th>\n",
              "      <th>feat_6</th>\n",
              "      <th>feat_7</th>\n",
              "      <th>feat_8</th>\n",
              "      <th>feat_9</th>\n",
              "      <th>feat_10</th>\n",
              "      <th>feat_11</th>\n",
              "      <th>feat_12</th>\n",
              "      <th>feat_13</th>\n",
              "      <th>feat_14</th>\n",
              "      <th>feat_15</th>\n",
              "      <th>feat_16</th>\n",
              "      <th>feat_17</th>\n",
              "      <th>feat_18</th>\n",
              "      <th>feat_19</th>\n",
              "      <th>feat_20</th>\n",
              "      <th>feat_21</th>\n",
              "      <th>feat_22</th>\n",
              "      <th>feat_23</th>\n",
              "      <th>feat_24</th>\n",
              "      <th>feat_25</th>\n",
              "      <th>feat_26</th>\n",
              "      <th>feat_27</th>\n",
              "      <th>feat_28</th>\n",
              "      <th>feat_29</th>\n",
              "      <th>feat_30</th>\n",
              "      <th>feat_31</th>\n",
              "      <th>feat_32</th>\n",
              "      <th>feat_33</th>\n",
              "      <th>feat_34</th>\n",
              "      <th>feat_35</th>\n",
              "      <th>feat_36</th>\n",
              "      <th>feat_37</th>\n",
              "      <th>feat_38</th>\n",
              "      <th>feat_39</th>\n",
              "      <th>...</th>\n",
              "      <th>feat_55</th>\n",
              "      <th>feat_56</th>\n",
              "      <th>feat_57</th>\n",
              "      <th>feat_58</th>\n",
              "      <th>feat_59</th>\n",
              "      <th>feat_60</th>\n",
              "      <th>feat_61</th>\n",
              "      <th>feat_62</th>\n",
              "      <th>feat_63</th>\n",
              "      <th>feat_64</th>\n",
              "      <th>feat_65</th>\n",
              "      <th>feat_66</th>\n",
              "      <th>feat_67</th>\n",
              "      <th>feat_68</th>\n",
              "      <th>feat_69</th>\n",
              "      <th>feat_70</th>\n",
              "      <th>feat_71</th>\n",
              "      <th>feat_72</th>\n",
              "      <th>feat_73</th>\n",
              "      <th>feat_74</th>\n",
              "      <th>feat_75</th>\n",
              "      <th>feat_76</th>\n",
              "      <th>feat_77</th>\n",
              "      <th>feat_78</th>\n",
              "      <th>feat_79</th>\n",
              "      <th>feat_80</th>\n",
              "      <th>feat_81</th>\n",
              "      <th>feat_82</th>\n",
              "      <th>feat_83</th>\n",
              "      <th>feat_84</th>\n",
              "      <th>feat_85</th>\n",
              "      <th>feat_86</th>\n",
              "      <th>feat_87</th>\n",
              "      <th>feat_88</th>\n",
              "      <th>feat_89</th>\n",
              "      <th>feat_90</th>\n",
              "      <th>feat_91</th>\n",
              "      <th>feat_92</th>\n",
              "      <th>feat_93</th>\n",
              "      <th>target</th>\n",
              "    </tr>\n",
              "  </thead>\n",
              "  <tbody>\n",
              "    <tr>\n",
              "      <th>0</th>\n",
              "      <td>1</td>\n",
              "      <td>1</td>\n",
              "      <td>0</td>\n",
              "      <td>0</td>\n",
              "      <td>0</td>\n",
              "      <td>0</td>\n",
              "      <td>0</td>\n",
              "      <td>0</td>\n",
              "      <td>0</td>\n",
              "      <td>0</td>\n",
              "      <td>0</td>\n",
              "      <td>1</td>\n",
              "      <td>0</td>\n",
              "      <td>0</td>\n",
              "      <td>0</td>\n",
              "      <td>0</td>\n",
              "      <td>0</td>\n",
              "      <td>2</td>\n",
              "      <td>0</td>\n",
              "      <td>0</td>\n",
              "      <td>0</td>\n",
              "      <td>0</td>\n",
              "      <td>1</td>\n",
              "      <td>0</td>\n",
              "      <td>4</td>\n",
              "      <td>1</td>\n",
              "      <td>1</td>\n",
              "      <td>0</td>\n",
              "      <td>0</td>\n",
              "      <td>2</td>\n",
              "      <td>0</td>\n",
              "      <td>0</td>\n",
              "      <td>0</td>\n",
              "      <td>0</td>\n",
              "      <td>0</td>\n",
              "      <td>1</td>\n",
              "      <td>0</td>\n",
              "      <td>0</td>\n",
              "      <td>0</td>\n",
              "      <td>0</td>\n",
              "      <td>...</td>\n",
              "      <td>0</td>\n",
              "      <td>0</td>\n",
              "      <td>2</td>\n",
              "      <td>0</td>\n",
              "      <td>0</td>\n",
              "      <td>11</td>\n",
              "      <td>0</td>\n",
              "      <td>1</td>\n",
              "      <td>1</td>\n",
              "      <td>0</td>\n",
              "      <td>1</td>\n",
              "      <td>0</td>\n",
              "      <td>7</td>\n",
              "      <td>0</td>\n",
              "      <td>0</td>\n",
              "      <td>0</td>\n",
              "      <td>1</td>\n",
              "      <td>0</td>\n",
              "      <td>0</td>\n",
              "      <td>0</td>\n",
              "      <td>0</td>\n",
              "      <td>0</td>\n",
              "      <td>0</td>\n",
              "      <td>0</td>\n",
              "      <td>2</td>\n",
              "      <td>1</td>\n",
              "      <td>0</td>\n",
              "      <td>0</td>\n",
              "      <td>0</td>\n",
              "      <td>0</td>\n",
              "      <td>1</td>\n",
              "      <td>0</td>\n",
              "      <td>0</td>\n",
              "      <td>0</td>\n",
              "      <td>0</td>\n",
              "      <td>0</td>\n",
              "      <td>0</td>\n",
              "      <td>0</td>\n",
              "      <td>0</td>\n",
              "      <td>Class_1</td>\n",
              "    </tr>\n",
              "    <tr>\n",
              "      <th>1</th>\n",
              "      <td>2</td>\n",
              "      <td>0</td>\n",
              "      <td>0</td>\n",
              "      <td>0</td>\n",
              "      <td>0</td>\n",
              "      <td>0</td>\n",
              "      <td>0</td>\n",
              "      <td>0</td>\n",
              "      <td>1</td>\n",
              "      <td>0</td>\n",
              "      <td>0</td>\n",
              "      <td>0</td>\n",
              "      <td>0</td>\n",
              "      <td>0</td>\n",
              "      <td>0</td>\n",
              "      <td>0</td>\n",
              "      <td>0</td>\n",
              "      <td>0</td>\n",
              "      <td>2</td>\n",
              "      <td>0</td>\n",
              "      <td>0</td>\n",
              "      <td>0</td>\n",
              "      <td>0</td>\n",
              "      <td>0</td>\n",
              "      <td>0</td>\n",
              "      <td>0</td>\n",
              "      <td>0</td>\n",
              "      <td>0</td>\n",
              "      <td>0</td>\n",
              "      <td>0</td>\n",
              "      <td>0</td>\n",
              "      <td>0</td>\n",
              "      <td>0</td>\n",
              "      <td>0</td>\n",
              "      <td>0</td>\n",
              "      <td>0</td>\n",
              "      <td>0</td>\n",
              "      <td>1</td>\n",
              "      <td>0</td>\n",
              "      <td>0</td>\n",
              "      <td>...</td>\n",
              "      <td>0</td>\n",
              "      <td>0</td>\n",
              "      <td>0</td>\n",
              "      <td>1</td>\n",
              "      <td>0</td>\n",
              "      <td>0</td>\n",
              "      <td>0</td>\n",
              "      <td>0</td>\n",
              "      <td>0</td>\n",
              "      <td>1</td>\n",
              "      <td>0</td>\n",
              "      <td>0</td>\n",
              "      <td>1</td>\n",
              "      <td>0</td>\n",
              "      <td>0</td>\n",
              "      <td>0</td>\n",
              "      <td>0</td>\n",
              "      <td>0</td>\n",
              "      <td>2</td>\n",
              "      <td>1</td>\n",
              "      <td>0</td>\n",
              "      <td>1</td>\n",
              "      <td>0</td>\n",
              "      <td>1</td>\n",
              "      <td>0</td>\n",
              "      <td>0</td>\n",
              "      <td>0</td>\n",
              "      <td>0</td>\n",
              "      <td>0</td>\n",
              "      <td>0</td>\n",
              "      <td>0</td>\n",
              "      <td>0</td>\n",
              "      <td>0</td>\n",
              "      <td>0</td>\n",
              "      <td>0</td>\n",
              "      <td>0</td>\n",
              "      <td>0</td>\n",
              "      <td>0</td>\n",
              "      <td>0</td>\n",
              "      <td>Class_1</td>\n",
              "    </tr>\n",
              "    <tr>\n",
              "      <th>2</th>\n",
              "      <td>3</td>\n",
              "      <td>0</td>\n",
              "      <td>0</td>\n",
              "      <td>0</td>\n",
              "      <td>0</td>\n",
              "      <td>0</td>\n",
              "      <td>0</td>\n",
              "      <td>0</td>\n",
              "      <td>1</td>\n",
              "      <td>0</td>\n",
              "      <td>0</td>\n",
              "      <td>0</td>\n",
              "      <td>0</td>\n",
              "      <td>0</td>\n",
              "      <td>0</td>\n",
              "      <td>0</td>\n",
              "      <td>0</td>\n",
              "      <td>1</td>\n",
              "      <td>0</td>\n",
              "      <td>0</td>\n",
              "      <td>0</td>\n",
              "      <td>0</td>\n",
              "      <td>0</td>\n",
              "      <td>0</td>\n",
              "      <td>0</td>\n",
              "      <td>0</td>\n",
              "      <td>0</td>\n",
              "      <td>0</td>\n",
              "      <td>0</td>\n",
              "      <td>0</td>\n",
              "      <td>0</td>\n",
              "      <td>0</td>\n",
              "      <td>0</td>\n",
              "      <td>1</td>\n",
              "      <td>0</td>\n",
              "      <td>0</td>\n",
              "      <td>0</td>\n",
              "      <td>0</td>\n",
              "      <td>0</td>\n",
              "      <td>0</td>\n",
              "      <td>...</td>\n",
              "      <td>1</td>\n",
              "      <td>0</td>\n",
              "      <td>0</td>\n",
              "      <td>0</td>\n",
              "      <td>0</td>\n",
              "      <td>0</td>\n",
              "      <td>0</td>\n",
              "      <td>0</td>\n",
              "      <td>0</td>\n",
              "      <td>0</td>\n",
              "      <td>0</td>\n",
              "      <td>0</td>\n",
              "      <td>6</td>\n",
              "      <td>0</td>\n",
              "      <td>0</td>\n",
              "      <td>2</td>\n",
              "      <td>0</td>\n",
              "      <td>0</td>\n",
              "      <td>0</td>\n",
              "      <td>0</td>\n",
              "      <td>0</td>\n",
              "      <td>0</td>\n",
              "      <td>0</td>\n",
              "      <td>0</td>\n",
              "      <td>0</td>\n",
              "      <td>0</td>\n",
              "      <td>1</td>\n",
              "      <td>0</td>\n",
              "      <td>0</td>\n",
              "      <td>0</td>\n",
              "      <td>0</td>\n",
              "      <td>0</td>\n",
              "      <td>0</td>\n",
              "      <td>0</td>\n",
              "      <td>0</td>\n",
              "      <td>0</td>\n",
              "      <td>0</td>\n",
              "      <td>0</td>\n",
              "      <td>0</td>\n",
              "      <td>Class_1</td>\n",
              "    </tr>\n",
              "    <tr>\n",
              "      <th>3</th>\n",
              "      <td>4</td>\n",
              "      <td>1</td>\n",
              "      <td>0</td>\n",
              "      <td>0</td>\n",
              "      <td>1</td>\n",
              "      <td>6</td>\n",
              "      <td>1</td>\n",
              "      <td>5</td>\n",
              "      <td>0</td>\n",
              "      <td>0</td>\n",
              "      <td>1</td>\n",
              "      <td>1</td>\n",
              "      <td>0</td>\n",
              "      <td>1</td>\n",
              "      <td>0</td>\n",
              "      <td>0</td>\n",
              "      <td>1</td>\n",
              "      <td>1</td>\n",
              "      <td>0</td>\n",
              "      <td>0</td>\n",
              "      <td>0</td>\n",
              "      <td>0</td>\n",
              "      <td>0</td>\n",
              "      <td>0</td>\n",
              "      <td>7</td>\n",
              "      <td>2</td>\n",
              "      <td>2</td>\n",
              "      <td>0</td>\n",
              "      <td>0</td>\n",
              "      <td>0</td>\n",
              "      <td>58</td>\n",
              "      <td>0</td>\n",
              "      <td>10</td>\n",
              "      <td>0</td>\n",
              "      <td>0</td>\n",
              "      <td>0</td>\n",
              "      <td>0</td>\n",
              "      <td>0</td>\n",
              "      <td>3</td>\n",
              "      <td>0</td>\n",
              "      <td>...</td>\n",
              "      <td>1</td>\n",
              "      <td>0</td>\n",
              "      <td>0</td>\n",
              "      <td>0</td>\n",
              "      <td>0</td>\n",
              "      <td>0</td>\n",
              "      <td>0</td>\n",
              "      <td>0</td>\n",
              "      <td>0</td>\n",
              "      <td>0</td>\n",
              "      <td>2</td>\n",
              "      <td>1</td>\n",
              "      <td>5</td>\n",
              "      <td>0</td>\n",
              "      <td>0</td>\n",
              "      <td>4</td>\n",
              "      <td>0</td>\n",
              "      <td>0</td>\n",
              "      <td>2</td>\n",
              "      <td>1</td>\n",
              "      <td>0</td>\n",
              "      <td>1</td>\n",
              "      <td>0</td>\n",
              "      <td>0</td>\n",
              "      <td>1</td>\n",
              "      <td>1</td>\n",
              "      <td>2</td>\n",
              "      <td>2</td>\n",
              "      <td>0</td>\n",
              "      <td>22</td>\n",
              "      <td>0</td>\n",
              "      <td>1</td>\n",
              "      <td>2</td>\n",
              "      <td>0</td>\n",
              "      <td>0</td>\n",
              "      <td>0</td>\n",
              "      <td>0</td>\n",
              "      <td>0</td>\n",
              "      <td>0</td>\n",
              "      <td>Class_1</td>\n",
              "    </tr>\n",
              "    <tr>\n",
              "      <th>4</th>\n",
              "      <td>5</td>\n",
              "      <td>0</td>\n",
              "      <td>0</td>\n",
              "      <td>0</td>\n",
              "      <td>0</td>\n",
              "      <td>0</td>\n",
              "      <td>0</td>\n",
              "      <td>0</td>\n",
              "      <td>0</td>\n",
              "      <td>0</td>\n",
              "      <td>0</td>\n",
              "      <td>0</td>\n",
              "      <td>0</td>\n",
              "      <td>0</td>\n",
              "      <td>0</td>\n",
              "      <td>0</td>\n",
              "      <td>0</td>\n",
              "      <td>4</td>\n",
              "      <td>0</td>\n",
              "      <td>0</td>\n",
              "      <td>0</td>\n",
              "      <td>0</td>\n",
              "      <td>0</td>\n",
              "      <td>0</td>\n",
              "      <td>1</td>\n",
              "      <td>0</td>\n",
              "      <td>0</td>\n",
              "      <td>0</td>\n",
              "      <td>0</td>\n",
              "      <td>0</td>\n",
              "      <td>0</td>\n",
              "      <td>0</td>\n",
              "      <td>0</td>\n",
              "      <td>0</td>\n",
              "      <td>0</td>\n",
              "      <td>0</td>\n",
              "      <td>0</td>\n",
              "      <td>0</td>\n",
              "      <td>0</td>\n",
              "      <td>0</td>\n",
              "      <td>...</td>\n",
              "      <td>0</td>\n",
              "      <td>0</td>\n",
              "      <td>0</td>\n",
              "      <td>0</td>\n",
              "      <td>0</td>\n",
              "      <td>0</td>\n",
              "      <td>0</td>\n",
              "      <td>1</td>\n",
              "      <td>0</td>\n",
              "      <td>0</td>\n",
              "      <td>0</td>\n",
              "      <td>0</td>\n",
              "      <td>0</td>\n",
              "      <td>1</td>\n",
              "      <td>0</td>\n",
              "      <td>0</td>\n",
              "      <td>3</td>\n",
              "      <td>0</td>\n",
              "      <td>0</td>\n",
              "      <td>0</td>\n",
              "      <td>0</td>\n",
              "      <td>0</td>\n",
              "      <td>0</td>\n",
              "      <td>0</td>\n",
              "      <td>4</td>\n",
              "      <td>0</td>\n",
              "      <td>1</td>\n",
              "      <td>0</td>\n",
              "      <td>0</td>\n",
              "      <td>0</td>\n",
              "      <td>1</td>\n",
              "      <td>0</td>\n",
              "      <td>0</td>\n",
              "      <td>0</td>\n",
              "      <td>0</td>\n",
              "      <td>1</td>\n",
              "      <td>0</td>\n",
              "      <td>0</td>\n",
              "      <td>0</td>\n",
              "      <td>Class_1</td>\n",
              "    </tr>\n",
              "  </tbody>\n",
              "</table>\n",
              "<p>5 rows × 95 columns</p>\n",
              "</div>"
            ],
            "text/plain": [
              "   id  feat_1  feat_2  feat_3  ...  feat_91  feat_92  feat_93   target\n",
              "0   1       1       0       0  ...        0        0        0  Class_1\n",
              "1   2       0       0       0  ...        0        0        0  Class_1\n",
              "2   3       0       0       0  ...        0        0        0  Class_1\n",
              "3   4       1       0       0  ...        0        0        0  Class_1\n",
              "4   5       0       0       0  ...        0        0        0  Class_1\n",
              "\n",
              "[5 rows x 95 columns]"
            ]
          },
          "metadata": {
            "tags": []
          },
          "execution_count": 3
        }
      ]
    },
    {
      "cell_type": "code",
      "metadata": {
        "colab": {
          "base_uri": "https://localhost:8080/",
          "height": 35
        },
        "id": "2mPjNKs0kkAO",
        "outputId": "e61e331c-f5e9-4bb5-c7c5-8cc93557cee1"
      },
      "source": [
        "'''\n",
        "id: 고유 아이디\n",
        "feat_1 ~ feat_93: 설명변수\n",
        "target: 타겟변수 (1~9)\n",
        "'''"
      ],
      "execution_count": null,
      "outputs": [
        {
          "output_type": "execute_result",
          "data": {
            "application/vnd.google.colaboratory.intrinsic+json": {
              "type": "string"
            },
            "text/plain": [
              "'\\nid: 고유 아이디\\nfeat_1 ~ feat_93: 설명변수\\ntarget: 타겟변수 (1~9)\\n'"
            ]
          },
          "metadata": {
            "tags": []
          },
          "execution_count": 4
        }
      ]
    },
    {
      "cell_type": "code",
      "metadata": {
        "colab": {
          "base_uri": "https://localhost:8080/"
        },
        "id": "HGHPzmOokkAO",
        "outputId": "33a3007a-4feb-4f00-abf9-7578d23f19e7"
      },
      "source": [
        "nCar = data.shape[0] # 데이터 개수\n",
        "nVar = data.shape[1] # 변수 개수\n",
        "print('nCar: %d' % nCar, 'nVar: %d' % nVar )"
      ],
      "execution_count": null,
      "outputs": [
        {
          "output_type": "stream",
          "text": [
            "nCar: 61878 nVar: 95\n"
          ],
          "name": "stdout"
        }
      ]
    },
    {
      "cell_type": "markdown",
      "metadata": {
        "id": "KiEh4nhRkkAP"
      },
      "source": [
        "## 의미가 없다고 판단되는 변수 제거"
      ]
    },
    {
      "cell_type": "code",
      "metadata": {
        "id": "xmTzk-MAkkAP"
      },
      "source": [
        "data = data.drop(['id'], axis = 1) # id 제거"
      ],
      "execution_count": null,
      "outputs": []
    },
    {
      "cell_type": "markdown",
      "metadata": {
        "id": "kgmlxQidkkAP"
      },
      "source": [
        "## 타겟 변수의 문자열을 숫자로 변환"
      ]
    },
    {
      "cell_type": "code",
      "metadata": {
        "id": "cs0XeSorkkAQ"
      },
      "source": [
        "mapping_dict = {\"Class_1\": 1,\n",
        "                \"Class_2\": 2,\n",
        "                \"Class_3\": 3,\n",
        "                \"Class_4\": 4,\n",
        "                \"Class_5\": 5,\n",
        "                \"Class_6\": 6,\n",
        "                \"Class_7\": 7,\n",
        "                \"Class_8\": 8,\n",
        "                \"Class_9\": 9}\n",
        "after_mapping_target = data['target'].apply(lambda x: mapping_dict[x])"
      ],
      "execution_count": null,
      "outputs": []
    },
    {
      "cell_type": "markdown",
      "metadata": {
        "id": "ADOOXZsQkkAQ"
      },
      "source": [
        "## 설명변수와 타겟변수를 분리, 학습데이터와 평가데이터 분리"
      ]
    },
    {
      "cell_type": "code",
      "metadata": {
        "colab": {
          "base_uri": "https://localhost:8080/"
        },
        "id": "4O5krjVlkkAQ",
        "outputId": "ec5ccc8d-ef89-49fa-e2d3-656da44e139d"
      },
      "source": [
        "feature_columns = list(data.columns.difference(['target'])) # target을 제외한 모든 행\n",
        "X = data[feature_columns] # 설명변수\n",
        "y = after_mapping_target # 타겟변수\n",
        "train_x, test_x, train_y, test_y = train_test_split(X, y, test_size = 0.2, random_state = 42) # 학습데이터와 평가데이터의 비율을 8:2 로 분할| \n",
        "print(train_x.shape, test_x.shape, train_y.shape, test_y.shape) # 데이터 개수 확인"
      ],
      "execution_count": null,
      "outputs": [
        {
          "output_type": "stream",
          "text": [
            "(49502, 93) (12376, 93) (49502,) (12376,)\n"
          ],
          "name": "stdout"
        }
      ]
    },
    {
      "cell_type": "markdown",
      "metadata": {
        "id": "LwvZj-r5kkAR"
      },
      "source": [
        "## 1. XGBoost"
      ]
    },
    {
      "cell_type": "code",
      "metadata": {
        "colab": {
          "base_uri": "https://localhost:8080/"
        },
        "id": "FxcsKstWkkAR",
        "outputId": "d509acdd-a40d-4a06-c1d8-b0b5399aa941"
      },
      "source": [
        "# !pip install xgboost\n",
        "import xgboost as xgb\n",
        "import time\n",
        "start = time.time() # 시작 시간 지정\n",
        "xgb_dtrain = xgb.DMatrix(data = train_x, label = train_y) # 학습 데이터를 XGBoost 모델에 맞게 변환\n",
        "xgb_dtest = xgb.DMatrix(data = test_x) # 평가 데이터를 XGBoost 모델에 맞게 변환\n",
        "xgb_param = {'max_depth': 10, # 트리 깊이\n",
        "         'learning_rate': 0.01, # Step Size\n",
        "         'n_estimators': 100, # Number of trees, 트리 생성 개수\n",
        "         'objective': 'multi:softmax', # 목적 함수\n",
        "        'num_class': len(set(train_y)) + 1} # 파라미터 추가, Label must be in [0, num_class) -> num_class보다 1 커야한다.\n",
        "xgb_model = xgb.train(params = xgb_param, dtrain = xgb_dtrain) # 학습 진행\n",
        "xgb_model_predict = xgb_model.predict(xgb_dtest) # 평가 데이터 예측\n",
        "print(\"Accuracy: %.2f\" % (accuracy_score(test_y, xgb_model_predict) * 100), \"%\") # 정확도 % 계산\n",
        "print(\"Time: %.2f\" % (time.time() - start), \"seconds\") # 코드 실행 시간 계산"
      ],
      "execution_count": null,
      "outputs": [
        {
          "output_type": "stream",
          "text": [
            "Accuracy: 76.67 %\n",
            "Time: 26.32 seconds\n"
          ],
          "name": "stdout"
        }
      ]
    },
    {
      "cell_type": "code",
      "metadata": {
        "colab": {
          "base_uri": "https://localhost:8080/"
        },
        "id": "p8zRCHXnkkAR",
        "outputId": "75971ec3-b6fe-42b1-993f-8d984a19eb11"
      },
      "source": [
        "xgb_model_predict"
      ],
      "execution_count": null,
      "outputs": [
        {
          "output_type": "execute_result",
          "data": {
            "text/plain": [
              "array([5., 3., 6., ..., 9., 2., 7.], dtype=float32)"
            ]
          },
          "metadata": {
            "tags": []
          },
          "execution_count": 10
        }
      ]
    },
    {
      "cell_type": "markdown",
      "metadata": {
        "id": "1d5fXAkNkkAR"
      },
      "source": [
        "## 2. LightGBM"
      ]
    },
    {
      "cell_type": "code",
      "metadata": {
        "colab": {
          "base_uri": "https://localhost:8080/"
        },
        "id": "jt_sGSMlkkAS",
        "outputId": "24a51ddf-9289-4989-f2f2-01a756ed3ed0"
      },
      "source": [
        "# !pip install lightgbm\n",
        "import lightgbm as lgb\n",
        "start = time.time() # 시작 시간 지정\n",
        "lgb_dtrain = lgb.Dataset(data = train_x, label = train_y) # 학습 데이터를 LightGBM 모델에 맞게 변환\n",
        "lgb_param = {'max_depth': 10, # 트리 깊이\n",
        "            'learning_rate': 0.01, # Step Size\n",
        "            'n_estimators': 100, # Number of trees, 트리 생성 개수\n",
        "            'objective': 'multiclass', # 목적 함수\n",
        "            'num_class': len(set(train_y)) + 1} # 파라미터 추가, Label must be in [0, num_class) -> num_class보다 1 커야한다.\n",
        "lgb_model = lgb.train(params = lgb_param, train_set = lgb_dtrain) # 학습 진행\n",
        "lgb_model_predict = np.argmax(lgb_model.predict(test_x), axis = 1) # 평가 데이터 예측, Softmax의 결과값 중 가장 큰 값의 Label로 예측\n",
        "print(\"Accuracy: %.2f\" % (accuracy_score(test_y, lgb_model_predict) * 100), \"%\") # 정확도 % 계산\n",
        "print(\"Time: %.2f\" % (time.time() - start), \"seconds\") # 코드 실행 시간 계산"
      ],
      "execution_count": null,
      "outputs": [
        {
          "output_type": "stream",
          "text": [
            "/usr/local/lib/python3.7/dist-packages/lightgbm/engine.py:118: UserWarning: Found `n_estimators` in params. Will use it instead of argument\n",
            "  warnings.warn(\"Found `{}` in params. Will use it instead of argument\".format(alias))\n"
          ],
          "name": "stderr"
        },
        {
          "output_type": "stream",
          "text": [
            "Accuracy: 73.57 %\n",
            "Time: 22.15 seconds\n"
          ],
          "name": "stdout"
        }
      ]
    },
    {
      "cell_type": "code",
      "metadata": {
        "colab": {
          "base_uri": "https://localhost:8080/"
        },
        "id": "Rlfwy4lPkkAS",
        "outputId": "fa21849c-be6f-4199-89c4-0ba95ffc5747"
      },
      "source": [
        "lgb_model.predict(test_x)"
      ],
      "execution_count": null,
      "outputs": [
        {
          "output_type": "execute_result",
          "data": {
            "text/plain": [
              "array([[9.14195396e-16, 2.27101123e-02, 3.85432853e-01, ...,\n",
              "        3.25763637e-02, 7.61804989e-02, 4.64683926e-02],\n",
              "       [1.16264426e-15, 3.77262272e-02, 2.26739830e-01, ...,\n",
              "        1.92812290e-01, 1.01826669e-01, 8.11988908e-02],\n",
              "       [8.03061518e-16, 1.74144816e-02, 1.18616633e-01, ...,\n",
              "        2.57008295e-02, 6.69196402e-02, 4.08194769e-02],\n",
              "       ...,\n",
              "       [8.35633463e-16, 5.03899675e-02, 1.67414994e-01, ...,\n",
              "        4.81925245e-02, 1.02188157e-01, 3.95359380e-01],\n",
              "       [1.01560525e-15, 2.13472780e-02, 4.60509516e-01, ...,\n",
              "        3.32864538e-02, 8.46310485e-02, 5.16230380e-02],\n",
              "       [8.92775603e-16, 2.04756016e-02, 1.31867900e-01, ...,\n",
              "        4.13697353e-01, 1.44381292e-01, 4.53796283e-02]])"
            ]
          },
          "metadata": {
            "tags": []
          },
          "execution_count": 12
        }
      ]
    },
    {
      "cell_type": "markdown",
      "metadata": {
        "id": "mZMy94nKkkAS"
      },
      "source": [
        "## 3. Catboost"
      ]
    },
    {
      "cell_type": "code",
      "metadata": {
        "scrolled": true,
        "colab": {
          "base_uri": "https://localhost:8080/"
        },
        "id": "w7t5p_wPkkAS",
        "outputId": "f75cf55e-fd8f-4e6e-d785-c175db2d46a0"
      },
      "source": [
        "!pip install catboost\n",
        "import catboost as cb\n",
        "start = time.time() # 시작 시간 지정\n",
        "cb_dtrain = cb.Pool(data = train_x, label = train_y) # 학습 데이터를 Catboost 모델에 맞게 변환\n",
        "cb_param = {'max_depth': 10, # 트리 깊이\n",
        "            'learning_rate': 0.01, # Step Size\n",
        "            'n_estimators': 100, # Number of trees, 트리 생성 개수\n",
        "            'eval_metric': 'Accuracy', # 평가 척도\n",
        "            'loss_function': 'MultiClass'} # 손실 함수, 목적 함수\n",
        "cb_model = cb.train(pool = cb_dtrain, params = cb_param) # 학습 진행\n",
        "cb_model_predict = np.argmax(cb_model.predict(test_x), axis = 1) + 1 # 평가 데이터 예측, Softmax의 결과값 중 가장 큰 값의 Label로 예측, 인덱스의 순서를 맞추기 위해 +1\n",
        "print(\"Accuracy: %.2f\" % (accuracy_score(test_y, cb_model_predict) * 100), \"%\") # 정확도 % 계산\n",
        "print(\"Time: %.2f\" % (time.time() - start), \"seconds\") # 코드 실행 시간 계산"
      ],
      "execution_count": null,
      "outputs": [
        {
          "output_type": "stream",
          "text": [
            "Collecting catboost\n",
            "\u001b[?25l  Downloading https://files.pythonhosted.org/packages/1e/21/d1718eb4c93d6bacdd540b3792187f32ccb1ad9c51b9c4f10875d63ec176/catboost-0.25-cp37-none-manylinux1_x86_64.whl (67.3MB)\n",
            "\u001b[K     |████████████████████████████████| 67.3MB 58kB/s \n",
            "\u001b[?25hRequirement already satisfied: matplotlib in /usr/local/lib/python3.7/dist-packages (from catboost) (3.2.2)\n",
            "Requirement already satisfied: numpy>=1.16.0 in /usr/local/lib/python3.7/dist-packages (from catboost) (1.19.5)\n",
            "Requirement already satisfied: plotly in /usr/local/lib/python3.7/dist-packages (from catboost) (4.4.1)\n",
            "Requirement already satisfied: six in /usr/local/lib/python3.7/dist-packages (from catboost) (1.15.0)\n",
            "Requirement already satisfied: scipy in /usr/local/lib/python3.7/dist-packages (from catboost) (1.4.1)\n",
            "Requirement already satisfied: graphviz in /usr/local/lib/python3.7/dist-packages (from catboost) (0.10.1)\n",
            "Requirement already satisfied: pandas>=0.24.0 in /usr/local/lib/python3.7/dist-packages (from catboost) (1.1.5)\n",
            "Requirement already satisfied: pyparsing!=2.0.4,!=2.1.2,!=2.1.6,>=2.0.1 in /usr/local/lib/python3.7/dist-packages (from matplotlib->catboost) (2.4.7)\n",
            "Requirement already satisfied: cycler>=0.10 in /usr/local/lib/python3.7/dist-packages (from matplotlib->catboost) (0.10.0)\n",
            "Requirement already satisfied: python-dateutil>=2.1 in /usr/local/lib/python3.7/dist-packages (from matplotlib->catboost) (2.8.1)\n",
            "Requirement already satisfied: kiwisolver>=1.0.1 in /usr/local/lib/python3.7/dist-packages (from matplotlib->catboost) (1.3.1)\n",
            "Requirement already satisfied: retrying>=1.3.3 in /usr/local/lib/python3.7/dist-packages (from plotly->catboost) (1.3.3)\n",
            "Requirement already satisfied: pytz>=2017.2 in /usr/local/lib/python3.7/dist-packages (from pandas>=0.24.0->catboost) (2018.9)\n",
            "Installing collected packages: catboost\n",
            "Successfully installed catboost-0.25\n",
            "0:\tlearn: 0.5907034\ttotal: 1.24s\tremaining: 2m 2s\n",
            "1:\tlearn: 0.6356107\ttotal: 2.37s\tremaining: 1m 56s\n",
            "2:\tlearn: 0.6411256\ttotal: 3.5s\tremaining: 1m 53s\n",
            "3:\tlearn: 0.6480344\ttotal: 4.63s\tremaining: 1m 51s\n",
            "4:\tlearn: 0.6508222\ttotal: 5.76s\tremaining: 1m 49s\n",
            "5:\tlearn: 0.6499939\ttotal: 6.87s\tremaining: 1m 47s\n",
            "6:\tlearn: 0.6507818\ttotal: 8.01s\tremaining: 1m 46s\n",
            "7:\tlearn: 0.6548422\ttotal: 9.13s\tremaining: 1m 45s\n",
            "8:\tlearn: 0.6559533\ttotal: 10.3s\tremaining: 1m 43s\n",
            "9:\tlearn: 0.6560947\ttotal: 11.4s\tremaining: 1m 42s\n",
            "10:\tlearn: 0.6568421\ttotal: 12.6s\tremaining: 1m 41s\n",
            "11:\tlearn: 0.6588219\ttotal: 13.7s\tremaining: 1m 40s\n",
            "12:\tlearn: 0.6592259\ttotal: 14.8s\tremaining: 1m 39s\n",
            "13:\tlearn: 0.6611248\ttotal: 16s\tremaining: 1m 38s\n",
            "14:\tlearn: 0.6625591\ttotal: 17.1s\tremaining: 1m 36s\n",
            "15:\tlearn: 0.6631853\ttotal: 18.3s\tremaining: 1m 35s\n",
            "16:\tlearn: 0.6639328\ttotal: 19.4s\tremaining: 1m 34s\n",
            "17:\tlearn: 0.6668821\ttotal: 20.6s\tremaining: 1m 33s\n",
            "18:\tlearn: 0.6669630\ttotal: 21.7s\tremaining: 1m 32s\n",
            "19:\tlearn: 0.6675286\ttotal: 22.8s\tremaining: 1m 31s\n",
            "20:\tlearn: 0.6673266\ttotal: 24s\tremaining: 1m 30s\n",
            "21:\tlearn: 0.6677104\ttotal: 25.1s\tremaining: 1m 29s\n",
            "22:\tlearn: 0.6682558\ttotal: 26.3s\tremaining: 1m 27s\n",
            "23:\tlearn: 0.6683972\ttotal: 27.4s\tremaining: 1m 26s\n",
            "24:\tlearn: 0.6686599\ttotal: 28.6s\tremaining: 1m 25s\n",
            "25:\tlearn: 0.6681952\ttotal: 29.7s\tremaining: 1m 24s\n",
            "26:\tlearn: 0.6684982\ttotal: 30.8s\tremaining: 1m 23s\n",
            "27:\tlearn: 0.6692053\ttotal: 32s\tremaining: 1m 22s\n",
            "28:\tlearn: 0.6696699\ttotal: 33.1s\tremaining: 1m 21s\n",
            "29:\tlearn: 0.6699325\ttotal: 34.3s\tremaining: 1m 19s\n",
            "30:\tlearn: 0.6705992\ttotal: 35.4s\tremaining: 1m 18s\n",
            "31:\tlearn: 0.6709426\ttotal: 36.5s\tremaining: 1m 17s\n",
            "32:\tlearn: 0.6708012\ttotal: 37.7s\tremaining: 1m 16s\n",
            "33:\tlearn: 0.6709426\ttotal: 38.8s\tremaining: 1m 15s\n",
            "34:\tlearn: 0.6707002\ttotal: 39.9s\tremaining: 1m 14s\n",
            "35:\tlearn: 0.6715082\ttotal: 41s\tremaining: 1m 12s\n",
            "36:\tlearn: 0.6705992\ttotal: 42.2s\tremaining: 1m 11s\n",
            "37:\tlearn: 0.6725991\ttotal: 43.3s\tremaining: 1m 10s\n",
            "38:\tlearn: 0.6729829\ttotal: 44.4s\tremaining: 1m 9s\n",
            "39:\tlearn: 0.6725991\ttotal: 45.6s\tremaining: 1m 8s\n",
            "40:\tlearn: 0.6734273\ttotal: 46.7s\tremaining: 1m 7s\n",
            "41:\tlearn: 0.6738314\ttotal: 47.9s\tremaining: 1m 6s\n",
            "42:\tlearn: 0.6741546\ttotal: 49s\tremaining: 1m 4s\n",
            "43:\tlearn: 0.6739728\ttotal: 50.2s\tremaining: 1m 3s\n",
            "44:\tlearn: 0.6741950\ttotal: 51.3s\tremaining: 1m 2s\n",
            "45:\tlearn: 0.6750636\ttotal: 52.5s\tremaining: 1m 1s\n",
            "46:\tlearn: 0.6758919\ttotal: 53.6s\tremaining: 1m\n",
            "47:\tlearn: 0.6757707\ttotal: 54.7s\tremaining: 59.3s\n",
            "48:\tlearn: 0.6762151\ttotal: 55.9s\tremaining: 58.1s\n",
            "49:\tlearn: 0.6774474\ttotal: 57s\tremaining: 57s\n",
            "50:\tlearn: 0.6777100\ttotal: 58.1s\tremaining: 55.9s\n",
            "51:\tlearn: 0.6786594\ttotal: 59.3s\tremaining: 54.7s\n",
            "52:\tlearn: 0.6789827\ttotal: 1m\tremaining: 53.6s\n",
            "53:\tlearn: 0.6804372\ttotal: 1m 1s\tremaining: 52.4s\n",
            "54:\tlearn: 0.6804372\ttotal: 1m 2s\tremaining: 51.3s\n",
            "55:\tlearn: 0.6809220\ttotal: 1m 3s\tremaining: 50.1s\n",
            "56:\tlearn: 0.6812250\ttotal: 1m 4s\tremaining: 49s\n",
            "57:\tlearn: 0.6813058\ttotal: 1m 6s\tremaining: 47.8s\n",
            "58:\tlearn: 0.6811846\ttotal: 1m 7s\tremaining: 46.7s\n",
            "59:\tlearn: 0.6813260\ttotal: 1m 8s\tremaining: 45.6s\n",
            "60:\tlearn: 0.6816694\ttotal: 1m 9s\tremaining: 44.4s\n",
            "61:\tlearn: 0.6823159\ttotal: 1m 10s\tremaining: 43.3s\n",
            "62:\tlearn: 0.6832653\ttotal: 1m 11s\tremaining: 42.2s\n",
            "63:\tlearn: 0.6840734\ttotal: 1m 12s\tremaining: 41s\n",
            "64:\tlearn: 0.6840734\ttotal: 1m 14s\tremaining: 39.8s\n",
            "65:\tlearn: 0.6846592\ttotal: 1m 15s\tremaining: 38.7s\n",
            "66:\tlearn: 0.6843360\ttotal: 1m 16s\tremaining: 37.5s\n",
            "67:\tlearn: 0.6846390\ttotal: 1m 17s\tremaining: 36.4s\n",
            "68:\tlearn: 0.6854269\ttotal: 1m 18s\tremaining: 35.3s\n",
            "69:\tlearn: 0.6858309\ttotal: 1m 19s\tremaining: 34.1s\n",
            "70:\tlearn: 0.6858309\ttotal: 1m 20s\tremaining: 33s\n",
            "71:\tlearn: 0.6865783\ttotal: 1m 21s\tremaining: 31.9s\n",
            "72:\tlearn: 0.6864167\ttotal: 1m 23s\tremaining: 30.7s\n",
            "73:\tlearn: 0.6868611\ttotal: 1m 24s\tremaining: 29.6s\n",
            "74:\tlearn: 0.6869217\ttotal: 1m 25s\tremaining: 28.5s\n",
            "75:\tlearn: 0.6870429\ttotal: 1m 26s\tremaining: 27.3s\n",
            "76:\tlearn: 0.6875278\ttotal: 1m 27s\tremaining: 26.2s\n",
            "77:\tlearn: 0.6881136\ttotal: 1m 28s\tremaining: 25s\n",
            "78:\tlearn: 0.6883762\ttotal: 1m 29s\tremaining: 23.9s\n",
            "79:\tlearn: 0.6888207\ttotal: 1m 31s\tremaining: 22.8s\n",
            "80:\tlearn: 0.6892449\ttotal: 1m 32s\tremaining: 21.6s\n",
            "81:\tlearn: 0.6898509\ttotal: 1m 33s\tremaining: 20.5s\n",
            "82:\tlearn: 0.6897095\ttotal: 1m 34s\tremaining: 19.4s\n",
            "83:\tlearn: 0.6902549\ttotal: 1m 35s\tremaining: 18.2s\n",
            "84:\tlearn: 0.6909822\ttotal: 1m 36s\tremaining: 17.1s\n",
            "85:\tlearn: 0.6910832\ttotal: 1m 37s\tremaining: 15.9s\n",
            "86:\tlearn: 0.6914468\ttotal: 1m 38s\tremaining: 14.8s\n",
            "87:\tlearn: 0.6916084\ttotal: 1m 40s\tremaining: 13.7s\n",
            "88:\tlearn: 0.6919922\ttotal: 1m 41s\tremaining: 12.5s\n",
            "89:\tlearn: 0.6925579\ttotal: 1m 42s\tremaining: 11.4s\n",
            "90:\tlearn: 0.6928407\ttotal: 1m 43s\tremaining: 10.2s\n",
            "91:\tlearn: 0.6930427\ttotal: 1m 44s\tremaining: 9.1s\n",
            "92:\tlearn: 0.6935073\ttotal: 1m 45s\tremaining: 7.96s\n",
            "93:\tlearn: 0.6940932\ttotal: 1m 46s\tremaining: 6.82s\n",
            "94:\tlearn: 0.6944972\ttotal: 1m 47s\tremaining: 5.68s\n",
            "95:\tlearn: 0.6948810\ttotal: 1m 49s\tremaining: 4.54s\n",
            "96:\tlearn: 0.6951840\ttotal: 1m 50s\tremaining: 3.41s\n",
            "97:\tlearn: 0.6954264\ttotal: 1m 51s\tremaining: 2.27s\n",
            "98:\tlearn: 0.6955881\ttotal: 1m 52s\tremaining: 1.14s\n",
            "99:\tlearn: 0.6956285\ttotal: 1m 53s\tremaining: 0us\n",
            "Accuracy: 69.64 %\n",
            "Time: 114.32 seconds\n"
          ],
          "name": "stdout"
        }
      ]
    },
    {
      "cell_type": "code",
      "metadata": {
        "colab": {
          "base_uri": "https://localhost:8080/"
        },
        "id": "iPUSVr8wkkAT",
        "outputId": "6bd342a7-e866-4d6c-b5b6-53e373a129cb"
      },
      "source": [
        "cb_model.predict(test_x)"
      ],
      "execution_count": null,
      "outputs": [
        {
          "output_type": "execute_result",
          "data": {
            "text/plain": [
              "array([[-0.35426047,  1.22109587,  0.44230101, ..., -0.1698448 ,\n",
              "        -0.02059177, -0.2130643 ],\n",
              "       [-0.07235138,  0.42535181,  0.20060428, ...,  0.21863604,\n",
              "         0.2719157 ,  0.25089315],\n",
              "       [-0.3315885 , -0.31862353, -0.31279765, ..., -0.29798357,\n",
              "        -0.24018767, -0.32984969],\n",
              "       ...,\n",
              "       [ 0.05304325,  0.02500267, -0.14752573, ..., -0.20741963,\n",
              "         0.12789417,  1.51166757],\n",
              "       [-0.55093666,  1.7691278 ,  0.99746884, ..., -0.3420542 ,\n",
              "        -0.49799871, -0.38136323],\n",
              "       [-0.3033724 ,  0.09352675, -0.11808658, ...,  0.65825036,\n",
              "         1.05515787, -0.20799899]])"
            ]
          },
          "metadata": {
            "tags": []
          },
          "execution_count": 15
        }
      ]
    },
    {
      "cell_type": "code",
      "metadata": {
        "colab": {
          "base_uri": "https://localhost:8080/",
          "height": 224
        },
        "id": "93MnoMMHkkAT",
        "outputId": "56bec68d-966c-46ed-81c4-2aba80c24820"
      },
      "source": [
        "# 데이터 불러오기\n",
        "data = pd.read_csv(\"./kc_house_data.csv\") \n",
        "data.head() # 데이터 확인"
      ],
      "execution_count": null,
      "outputs": [
        {
          "output_type": "execute_result",
          "data": {
            "text/html": [
              "<div>\n",
              "<style scoped>\n",
              "    .dataframe tbody tr th:only-of-type {\n",
              "        vertical-align: middle;\n",
              "    }\n",
              "\n",
              "    .dataframe tbody tr th {\n",
              "        vertical-align: top;\n",
              "    }\n",
              "\n",
              "    .dataframe thead th {\n",
              "        text-align: right;\n",
              "    }\n",
              "</style>\n",
              "<table border=\"1\" class=\"dataframe\">\n",
              "  <thead>\n",
              "    <tr style=\"text-align: right;\">\n",
              "      <th></th>\n",
              "      <th>id</th>\n",
              "      <th>date</th>\n",
              "      <th>price</th>\n",
              "      <th>bedrooms</th>\n",
              "      <th>bathrooms</th>\n",
              "      <th>floors</th>\n",
              "      <th>waterfront</th>\n",
              "      <th>condition</th>\n",
              "      <th>grade</th>\n",
              "      <th>yr_built</th>\n",
              "      <th>yr_renovated</th>\n",
              "      <th>zipcode</th>\n",
              "      <th>lat</th>\n",
              "      <th>long</th>\n",
              "    </tr>\n",
              "  </thead>\n",
              "  <tbody>\n",
              "    <tr>\n",
              "      <th>0</th>\n",
              "      <td>7129300520</td>\n",
              "      <td>20141013T000000</td>\n",
              "      <td>221900.0</td>\n",
              "      <td>3</td>\n",
              "      <td>1.00</td>\n",
              "      <td>1.0</td>\n",
              "      <td>0</td>\n",
              "      <td>3</td>\n",
              "      <td>7</td>\n",
              "      <td>1955</td>\n",
              "      <td>0</td>\n",
              "      <td>98178</td>\n",
              "      <td>47.5112</td>\n",
              "      <td>-122.257</td>\n",
              "    </tr>\n",
              "    <tr>\n",
              "      <th>1</th>\n",
              "      <td>6414100192</td>\n",
              "      <td>20141209T000000</td>\n",
              "      <td>538000.0</td>\n",
              "      <td>3</td>\n",
              "      <td>2.25</td>\n",
              "      <td>2.0</td>\n",
              "      <td>0</td>\n",
              "      <td>3</td>\n",
              "      <td>7</td>\n",
              "      <td>1951</td>\n",
              "      <td>1991</td>\n",
              "      <td>98125</td>\n",
              "      <td>47.7210</td>\n",
              "      <td>-122.319</td>\n",
              "    </tr>\n",
              "    <tr>\n",
              "      <th>2</th>\n",
              "      <td>5631500400</td>\n",
              "      <td>20150225T000000</td>\n",
              "      <td>180000.0</td>\n",
              "      <td>2</td>\n",
              "      <td>1.00</td>\n",
              "      <td>1.0</td>\n",
              "      <td>0</td>\n",
              "      <td>3</td>\n",
              "      <td>6</td>\n",
              "      <td>1933</td>\n",
              "      <td>0</td>\n",
              "      <td>98028</td>\n",
              "      <td>47.7379</td>\n",
              "      <td>-122.233</td>\n",
              "    </tr>\n",
              "    <tr>\n",
              "      <th>3</th>\n",
              "      <td>2487200875</td>\n",
              "      <td>20141209T000000</td>\n",
              "      <td>604000.0</td>\n",
              "      <td>4</td>\n",
              "      <td>3.00</td>\n",
              "      <td>1.0</td>\n",
              "      <td>0</td>\n",
              "      <td>5</td>\n",
              "      <td>7</td>\n",
              "      <td>1965</td>\n",
              "      <td>0</td>\n",
              "      <td>98136</td>\n",
              "      <td>47.5208</td>\n",
              "      <td>-122.393</td>\n",
              "    </tr>\n",
              "    <tr>\n",
              "      <th>4</th>\n",
              "      <td>1954400510</td>\n",
              "      <td>20150218T000000</td>\n",
              "      <td>510000.0</td>\n",
              "      <td>3</td>\n",
              "      <td>2.00</td>\n",
              "      <td>1.0</td>\n",
              "      <td>0</td>\n",
              "      <td>3</td>\n",
              "      <td>8</td>\n",
              "      <td>1987</td>\n",
              "      <td>0</td>\n",
              "      <td>98074</td>\n",
              "      <td>47.6168</td>\n",
              "      <td>-122.045</td>\n",
              "    </tr>\n",
              "  </tbody>\n",
              "</table>\n",
              "</div>"
            ],
            "text/plain": [
              "           id             date     price  ...  zipcode      lat     long\n",
              "0  7129300520  20141013T000000  221900.0  ...    98178  47.5112 -122.257\n",
              "1  6414100192  20141209T000000  538000.0  ...    98125  47.7210 -122.319\n",
              "2  5631500400  20150225T000000  180000.0  ...    98028  47.7379 -122.233\n",
              "3  2487200875  20141209T000000  604000.0  ...    98136  47.5208 -122.393\n",
              "4  1954400510  20150218T000000  510000.0  ...    98074  47.6168 -122.045\n",
              "\n",
              "[5 rows x 14 columns]"
            ]
          },
          "metadata": {
            "tags": []
          },
          "execution_count": 17
        }
      ]
    },
    {
      "cell_type": "code",
      "metadata": {
        "id": "FjrxtsdvkkAT"
      },
      "source": [
        "data = data.drop(['id', 'date', 'zipcode', 'lat', 'long'], axis = 1) # id, date, zipcode, lat, long  제거"
      ],
      "execution_count": null,
      "outputs": []
    },
    {
      "cell_type": "code",
      "metadata": {
        "colab": {
          "base_uri": "https://localhost:8080/"
        },
        "id": "piTTUFoPkkAU",
        "outputId": "a9260daa-a4e8-45dc-ec09-46b82d67d2a5"
      },
      "source": [
        "feature_columns = list(data.columns.difference(['price'])) # Price를 제외한 모든 행\n",
        "X = data[feature_columns]\n",
        "y = data['price']\n",
        "train_x, test_x, train_y, test_y = train_test_split(X, y, test_size = 0.3, random_state = 42) # 학습데이터와 평가데이터의 비율을 7:3\n",
        "print(train_x.shape, test_x.shape, train_y.shape, test_y.shape) # 데이터 개수 확인"
      ],
      "execution_count": null,
      "outputs": [
        {
          "output_type": "stream",
          "text": [
            "(15129, 8) (6484, 8) (15129,) (6484,)\n"
          ],
          "name": "stdout"
        }
      ]
    },
    {
      "cell_type": "code",
      "metadata": {
        "colab": {
          "base_uri": "https://localhost:8080/"
        },
        "id": "T5q7B2w4kkAU",
        "outputId": "877ed775-e9ef-4b46-c771-e9010d40e4df"
      },
      "source": [
        "# !pip install lightgbm\n",
        "import lightgbm as lgb\n",
        "start = time.time() # 시작 시간 지정\n",
        "lgb_dtrain = lgb.Dataset(data = train_x, label = train_y) # 학습 데이터를 LightGBM 모델에 맞게 변환\n",
        "lgb_param = {'max_depth': 10, # 트리 깊이\n",
        "            'learning_rate': 0.01, # Step Size\n",
        "            'n_estimators': 500, # Number of trees, 트리 생성 개수\n",
        "            'objective': 'regression'} # 파라미터 추가, Label must be in [0, num_class) -> num_class보다 1 커야한다.\n",
        "lgb_model = lgb.train(params = lgb_param, train_set = lgb_dtrain) # 학습 진행\n"
      ],
      "execution_count": null,
      "outputs": [
        {
          "output_type": "stream",
          "text": [
            "/usr/local/lib/python3.7/dist-packages/lightgbm/engine.py:118: UserWarning: Found `n_estimators` in params. Will use it instead of argument\n",
            "  warnings.warn(\"Found `{}` in params. Will use it instead of argument\".format(alias))\n"
          ],
          "name": "stderr"
        }
      ]
    },
    {
      "cell_type": "code",
      "metadata": {
        "colab": {
          "base_uri": "https://localhost:8080/"
        },
        "id": "OhXKthybkkAU",
        "outputId": "726f4497-de0d-4b26-9692-f958f7344d22"
      },
      "source": [
        "from sklearn.metrics import mean_squared_error, r2_score\n",
        "from math import sqrt\n",
        "\n",
        "sqrt(mean_squared_error(lgb_model.predict(test_x),test_y))"
      ],
      "execution_count": null,
      "outputs": [
        {
          "output_type": "execute_result",
          "data": {
            "text/plain": [
              "210904.17249451784"
            ]
          },
          "metadata": {
            "tags": []
          },
          "execution_count": 21
        }
      ]
    },
    {
      "cell_type": "markdown",
      "metadata": {
        "id": "63CPIZ1bkkAU"
      },
      "source": [
        "## Ensemble의 Ensemble"
      ]
    },
    {
      "cell_type": "code",
      "metadata": {
        "scrolled": true,
        "colab": {
          "base_uri": "https://localhost:8080/"
        },
        "id": "SUL-Xlb1kkAV",
        "outputId": "59b37809-2f28-4c78-d9fd-71f60b57d37a"
      },
      "source": [
        "import random\n",
        "bagging_predict_result = [] # 빈 리스트 생성\n",
        "for _ in range(30):\n",
        "    data_index = [data_index for data_index in range(train_x.shape[0])] # 학습 데이터의 인덱스를 리스트로 변환\n",
        "    random_data_index = np.random.choice(data_index, train_x.shape[0]) # 데이터의 1/10 크기만큼 랜덤 샘플링, // 는 소수점을 무시하기 위함\n",
        "    print(len(set(random_data_index)))\n",
        "    lgb_dtrain = lgb.Dataset(data = train_x.iloc[random_data_index,], label = train_y.iloc[random_data_index]) # 학습 데이터를 LightGBM 모델에 맞게 변환\n",
        "    lgb_param = {'max_depth': 10, # 트리 깊이\n",
        "                'learning_rate': 0.01, # Step Size\n",
        "                'n_estimators': 500, # Number of trees, 트리 생성 개수\n",
        "                'objective': 'regression'} # 파라미터 추가, Label must be in [0, num_class) -> num_class보다 1 커야한다.\n",
        "    lgb_model = lgb.train(params = lgb_param, train_set = lgb_dtrain) # 학습 진행\n",
        " \n",
        "    predict1 = lgb_model.predict(test_x) # 테스트 데이터 예측\n",
        "    bagging_predict_result.append(predict1) # 반복문이 실행되기 전 빈 리스트에 결과 값 저장\n",
        "    print(sqrt(mean_squared_error(lgb_model.predict(test_x),test_y)))\n",
        "    "
      ],
      "execution_count": null,
      "outputs": [
        {
          "output_type": "stream",
          "text": [
            "9524\n"
          ],
          "name": "stdout"
        },
        {
          "output_type": "stream",
          "text": [
            "/usr/local/lib/python3.7/dist-packages/lightgbm/engine.py:118: UserWarning: Found `n_estimators` in params. Will use it instead of argument\n",
            "  warnings.warn(\"Found `{}` in params. Will use it instead of argument\".format(alias))\n"
          ],
          "name": "stderr"
        },
        {
          "output_type": "stream",
          "text": [
            "214049.86142979588\n",
            "9580\n"
          ],
          "name": "stdout"
        },
        {
          "output_type": "stream",
          "text": [
            "/usr/local/lib/python3.7/dist-packages/lightgbm/engine.py:118: UserWarning: Found `n_estimators` in params. Will use it instead of argument\n",
            "  warnings.warn(\"Found `{}` in params. Will use it instead of argument\".format(alias))\n"
          ],
          "name": "stderr"
        },
        {
          "output_type": "stream",
          "text": [
            "212910.14550518154\n",
            "9610\n"
          ],
          "name": "stdout"
        },
        {
          "output_type": "stream",
          "text": [
            "/usr/local/lib/python3.7/dist-packages/lightgbm/engine.py:118: UserWarning: Found `n_estimators` in params. Will use it instead of argument\n",
            "  warnings.warn(\"Found `{}` in params. Will use it instead of argument\".format(alias))\n"
          ],
          "name": "stderr"
        },
        {
          "output_type": "stream",
          "text": [
            "214265.6324917391\n",
            "9534\n"
          ],
          "name": "stdout"
        },
        {
          "output_type": "stream",
          "text": [
            "/usr/local/lib/python3.7/dist-packages/lightgbm/engine.py:118: UserWarning: Found `n_estimators` in params. Will use it instead of argument\n",
            "  warnings.warn(\"Found `{}` in params. Will use it instead of argument\".format(alias))\n"
          ],
          "name": "stderr"
        },
        {
          "output_type": "stream",
          "text": [
            "213031.36792503484\n",
            "9527\n"
          ],
          "name": "stdout"
        },
        {
          "output_type": "stream",
          "text": [
            "/usr/local/lib/python3.7/dist-packages/lightgbm/engine.py:118: UserWarning: Found `n_estimators` in params. Will use it instead of argument\n",
            "  warnings.warn(\"Found `{}` in params. Will use it instead of argument\".format(alias))\n"
          ],
          "name": "stderr"
        },
        {
          "output_type": "stream",
          "text": [
            "215513.03508590825\n",
            "9530\n"
          ],
          "name": "stdout"
        },
        {
          "output_type": "stream",
          "text": [
            "/usr/local/lib/python3.7/dist-packages/lightgbm/engine.py:118: UserWarning: Found `n_estimators` in params. Will use it instead of argument\n",
            "  warnings.warn(\"Found `{}` in params. Will use it instead of argument\".format(alias))\n"
          ],
          "name": "stderr"
        },
        {
          "output_type": "stream",
          "text": [
            "213497.1624146127\n",
            "9528\n"
          ],
          "name": "stdout"
        },
        {
          "output_type": "stream",
          "text": [
            "/usr/local/lib/python3.7/dist-packages/lightgbm/engine.py:118: UserWarning: Found `n_estimators` in params. Will use it instead of argument\n",
            "  warnings.warn(\"Found `{}` in params. Will use it instead of argument\".format(alias))\n"
          ],
          "name": "stderr"
        },
        {
          "output_type": "stream",
          "text": [
            "214213.59566343576\n",
            "9587\n"
          ],
          "name": "stdout"
        },
        {
          "output_type": "stream",
          "text": [
            "/usr/local/lib/python3.7/dist-packages/lightgbm/engine.py:118: UserWarning: Found `n_estimators` in params. Will use it instead of argument\n",
            "  warnings.warn(\"Found `{}` in params. Will use it instead of argument\".format(alias))\n"
          ],
          "name": "stderr"
        },
        {
          "output_type": "stream",
          "text": [
            "212497.474203489\n",
            "9633\n"
          ],
          "name": "stdout"
        },
        {
          "output_type": "stream",
          "text": [
            "/usr/local/lib/python3.7/dist-packages/lightgbm/engine.py:118: UserWarning: Found `n_estimators` in params. Will use it instead of argument\n",
            "  warnings.warn(\"Found `{}` in params. Will use it instead of argument\".format(alias))\n"
          ],
          "name": "stderr"
        },
        {
          "output_type": "stream",
          "text": [
            "215118.8344588309\n",
            "9560\n"
          ],
          "name": "stdout"
        },
        {
          "output_type": "stream",
          "text": [
            "/usr/local/lib/python3.7/dist-packages/lightgbm/engine.py:118: UserWarning: Found `n_estimators` in params. Will use it instead of argument\n",
            "  warnings.warn(\"Found `{}` in params. Will use it instead of argument\".format(alias))\n"
          ],
          "name": "stderr"
        },
        {
          "output_type": "stream",
          "text": [
            "219932.99733203358\n",
            "9613\n"
          ],
          "name": "stdout"
        },
        {
          "output_type": "stream",
          "text": [
            "/usr/local/lib/python3.7/dist-packages/lightgbm/engine.py:118: UserWarning: Found `n_estimators` in params. Will use it instead of argument\n",
            "  warnings.warn(\"Found `{}` in params. Will use it instead of argument\".format(alias))\n"
          ],
          "name": "stderr"
        },
        {
          "output_type": "stream",
          "text": [
            "212556.59536573503\n",
            "9502\n"
          ],
          "name": "stdout"
        },
        {
          "output_type": "stream",
          "text": [
            "/usr/local/lib/python3.7/dist-packages/lightgbm/engine.py:118: UserWarning: Found `n_estimators` in params. Will use it instead of argument\n",
            "  warnings.warn(\"Found `{}` in params. Will use it instead of argument\".format(alias))\n"
          ],
          "name": "stderr"
        },
        {
          "output_type": "stream",
          "text": [
            "214242.78039634033\n",
            "9630\n"
          ],
          "name": "stdout"
        },
        {
          "output_type": "stream",
          "text": [
            "/usr/local/lib/python3.7/dist-packages/lightgbm/engine.py:118: UserWarning: Found `n_estimators` in params. Will use it instead of argument\n",
            "  warnings.warn(\"Found `{}` in params. Will use it instead of argument\".format(alias))\n"
          ],
          "name": "stderr"
        },
        {
          "output_type": "stream",
          "text": [
            "216788.4694895053\n",
            "9489\n"
          ],
          "name": "stdout"
        },
        {
          "output_type": "stream",
          "text": [
            "/usr/local/lib/python3.7/dist-packages/lightgbm/engine.py:118: UserWarning: Found `n_estimators` in params. Will use it instead of argument\n",
            "  warnings.warn(\"Found `{}` in params. Will use it instead of argument\".format(alias))\n"
          ],
          "name": "stderr"
        },
        {
          "output_type": "stream",
          "text": [
            "213781.8618708438\n",
            "9585\n"
          ],
          "name": "stdout"
        },
        {
          "output_type": "stream",
          "text": [
            "/usr/local/lib/python3.7/dist-packages/lightgbm/engine.py:118: UserWarning: Found `n_estimators` in params. Will use it instead of argument\n",
            "  warnings.warn(\"Found `{}` in params. Will use it instead of argument\".format(alias))\n"
          ],
          "name": "stderr"
        },
        {
          "output_type": "stream",
          "text": [
            "214515.92957716278\n",
            "9533\n"
          ],
          "name": "stdout"
        },
        {
          "output_type": "stream",
          "text": [
            "/usr/local/lib/python3.7/dist-packages/lightgbm/engine.py:118: UserWarning: Found `n_estimators` in params. Will use it instead of argument\n",
            "  warnings.warn(\"Found `{}` in params. Will use it instead of argument\".format(alias))\n"
          ],
          "name": "stderr"
        },
        {
          "output_type": "stream",
          "text": [
            "214341.97192759157\n",
            "9581\n"
          ],
          "name": "stdout"
        },
        {
          "output_type": "stream",
          "text": [
            "/usr/local/lib/python3.7/dist-packages/lightgbm/engine.py:118: UserWarning: Found `n_estimators` in params. Will use it instead of argument\n",
            "  warnings.warn(\"Found `{}` in params. Will use it instead of argument\".format(alias))\n"
          ],
          "name": "stderr"
        },
        {
          "output_type": "stream",
          "text": [
            "214381.3173303254\n",
            "9594\n"
          ],
          "name": "stdout"
        },
        {
          "output_type": "stream",
          "text": [
            "/usr/local/lib/python3.7/dist-packages/lightgbm/engine.py:118: UserWarning: Found `n_estimators` in params. Will use it instead of argument\n",
            "  warnings.warn(\"Found `{}` in params. Will use it instead of argument\".format(alias))\n"
          ],
          "name": "stderr"
        },
        {
          "output_type": "stream",
          "text": [
            "213994.9011434223\n",
            "9628\n"
          ],
          "name": "stdout"
        },
        {
          "output_type": "stream",
          "text": [
            "/usr/local/lib/python3.7/dist-packages/lightgbm/engine.py:118: UserWarning: Found `n_estimators` in params. Will use it instead of argument\n",
            "  warnings.warn(\"Found `{}` in params. Will use it instead of argument\".format(alias))\n"
          ],
          "name": "stderr"
        },
        {
          "output_type": "stream",
          "text": [
            "212900.96123272684\n",
            "9625\n"
          ],
          "name": "stdout"
        },
        {
          "output_type": "stream",
          "text": [
            "/usr/local/lib/python3.7/dist-packages/lightgbm/engine.py:118: UserWarning: Found `n_estimators` in params. Will use it instead of argument\n",
            "  warnings.warn(\"Found `{}` in params. Will use it instead of argument\".format(alias))\n"
          ],
          "name": "stderr"
        },
        {
          "output_type": "stream",
          "text": [
            "213632.2692826902\n",
            "9533\n"
          ],
          "name": "stdout"
        },
        {
          "output_type": "stream",
          "text": [
            "/usr/local/lib/python3.7/dist-packages/lightgbm/engine.py:118: UserWarning: Found `n_estimators` in params. Will use it instead of argument\n",
            "  warnings.warn(\"Found `{}` in params. Will use it instead of argument\".format(alias))\n"
          ],
          "name": "stderr"
        },
        {
          "output_type": "stream",
          "text": [
            "212284.4814312461\n",
            "9608\n"
          ],
          "name": "stdout"
        },
        {
          "output_type": "stream",
          "text": [
            "/usr/local/lib/python3.7/dist-packages/lightgbm/engine.py:118: UserWarning: Found `n_estimators` in params. Will use it instead of argument\n",
            "  warnings.warn(\"Found `{}` in params. Will use it instead of argument\".format(alias))\n"
          ],
          "name": "stderr"
        },
        {
          "output_type": "stream",
          "text": [
            "215412.97047685352\n",
            "9543\n"
          ],
          "name": "stdout"
        },
        {
          "output_type": "stream",
          "text": [
            "/usr/local/lib/python3.7/dist-packages/lightgbm/engine.py:118: UserWarning: Found `n_estimators` in params. Will use it instead of argument\n",
            "  warnings.warn(\"Found `{}` in params. Will use it instead of argument\".format(alias))\n"
          ],
          "name": "stderr"
        },
        {
          "output_type": "stream",
          "text": [
            "214974.59232373198\n",
            "9520\n"
          ],
          "name": "stdout"
        },
        {
          "output_type": "stream",
          "text": [
            "/usr/local/lib/python3.7/dist-packages/lightgbm/engine.py:118: UserWarning: Found `n_estimators` in params. Will use it instead of argument\n",
            "  warnings.warn(\"Found `{}` in params. Will use it instead of argument\".format(alias))\n"
          ],
          "name": "stderr"
        },
        {
          "output_type": "stream",
          "text": [
            "213096.52132647356\n",
            "9649\n"
          ],
          "name": "stdout"
        },
        {
          "output_type": "stream",
          "text": [
            "/usr/local/lib/python3.7/dist-packages/lightgbm/engine.py:118: UserWarning: Found `n_estimators` in params. Will use it instead of argument\n",
            "  warnings.warn(\"Found `{}` in params. Will use it instead of argument\".format(alias))\n"
          ],
          "name": "stderr"
        },
        {
          "output_type": "stream",
          "text": [
            "213088.50456634106\n",
            "9599\n"
          ],
          "name": "stdout"
        },
        {
          "output_type": "stream",
          "text": [
            "/usr/local/lib/python3.7/dist-packages/lightgbm/engine.py:118: UserWarning: Found `n_estimators` in params. Will use it instead of argument\n",
            "  warnings.warn(\"Found `{}` in params. Will use it instead of argument\".format(alias))\n"
          ],
          "name": "stderr"
        },
        {
          "output_type": "stream",
          "text": [
            "213238.89179452354\n",
            "9587\n"
          ],
          "name": "stdout"
        },
        {
          "output_type": "stream",
          "text": [
            "/usr/local/lib/python3.7/dist-packages/lightgbm/engine.py:118: UserWarning: Found `n_estimators` in params. Will use it instead of argument\n",
            "  warnings.warn(\"Found `{}` in params. Will use it instead of argument\".format(alias))\n"
          ],
          "name": "stderr"
        },
        {
          "output_type": "stream",
          "text": [
            "214891.8782172306\n",
            "9521\n"
          ],
          "name": "stdout"
        },
        {
          "output_type": "stream",
          "text": [
            "/usr/local/lib/python3.7/dist-packages/lightgbm/engine.py:118: UserWarning: Found `n_estimators` in params. Will use it instead of argument\n",
            "  warnings.warn(\"Found `{}` in params. Will use it instead of argument\".format(alias))\n"
          ],
          "name": "stderr"
        },
        {
          "output_type": "stream",
          "text": [
            "213310.45232568632\n",
            "9496\n"
          ],
          "name": "stdout"
        },
        {
          "output_type": "stream",
          "text": [
            "/usr/local/lib/python3.7/dist-packages/lightgbm/engine.py:118: UserWarning: Found `n_estimators` in params. Will use it instead of argument\n",
            "  warnings.warn(\"Found `{}` in params. Will use it instead of argument\".format(alias))\n"
          ],
          "name": "stderr"
        },
        {
          "output_type": "stream",
          "text": [
            "213251.70136326484\n",
            "9552\n"
          ],
          "name": "stdout"
        },
        {
          "output_type": "stream",
          "text": [
            "/usr/local/lib/python3.7/dist-packages/lightgbm/engine.py:118: UserWarning: Found `n_estimators` in params. Will use it instead of argument\n",
            "  warnings.warn(\"Found `{}` in params. Will use it instead of argument\".format(alias))\n"
          ],
          "name": "stderr"
        },
        {
          "output_type": "stream",
          "text": [
            "215761.1410317269\n"
          ],
          "name": "stdout"
        }
      ]
    },
    {
      "cell_type": "code",
      "metadata": {
        "id": "F3mqkn2LkkAV"
      },
      "source": [
        "# Bagging을 바탕으로 예측한 결과값에 대한 평균을 계산\n",
        "bagging_predict = [] # 빈 리스트 생성\n",
        "for lst2_index in range(test_x.shape[0]): # 테스트 데이터 개수만큼의 반복\n",
        "    temp_predict = [] # 임시 빈 리스트 생성 (반복문 내 결과값 저장)\n",
        "    for lst_index in range(len(bagging_predict_result)): # Bagging 결과 리스트 반복\n",
        "        temp_predict.append(bagging_predict_result[lst_index][lst2_index]) # 각 Bagging 결과 예측한 값 중 같은 인덱스를 리스트에 저장\n",
        "    bagging_predict.append(np.mean(temp_predict)) # 해당 인덱스의 30개의 결과값에 대한 평균을 최종 리스트에 추가"
      ],
      "execution_count": null,
      "outputs": []
    },
    {
      "cell_type": "code",
      "metadata": {
        "colab": {
          "base_uri": "https://localhost:8080/"
        },
        "id": "_frvLgQGkkAV",
        "outputId": "48ce5cbb-acbd-476e-f2a2-f5a59c8e8796"
      },
      "source": [
        "bagging_predict"
      ],
      "execution_count": null,
      "outputs": [
        {
          "output_type": "execute_result",
          "data": {
            "text/plain": [
              "[507047.25421261875,\n",
              " 631811.2921156292,\n",
              " 966826.1971461514,\n",
              " 1578705.6256523447,\n",
              " 640260.0246427767,\n",
              " 368097.63241183513,\n",
              " 697021.0946114276,\n",
              " 426641.15656070696,\n",
              " 463218.6428196532,\n",
              " 492448.8271544054,\n",
              " 636940.4085960537,\n",
              " 385204.4535910001,\n",
              " 299248.8281398859,\n",
              " 359466.7666378939,\n",
              " 344053.67447376915,\n",
              " 1296721.1035128809,\n",
              " 369104.30752300966,\n",
              " 1040371.8911158273,\n",
              " 317363.6389240547,\n",
              " 529903.0085891795,\n",
              " 376191.0409999818,\n",
              " 1851996.2795410128,\n",
              " 659850.2156711627,\n",
              " 546683.3801695402,\n",
              " 506384.68837232527,\n",
              " 488035.84467230376,\n",
              " 296381.50689059694,\n",
              " 252110.3293888579,\n",
              " 475242.8407109767,\n",
              " 534648.355755548,\n",
              " 489473.72236651724,\n",
              " 471062.62489990494,\n",
              " 467692.24605990417,\n",
              " 576500.8140381862,\n",
              " 381587.44606046885,\n",
              " 1056868.7750807283,\n",
              " 907672.194660249,\n",
              " 527887.8613429748,\n",
              " 355407.0421451153,\n",
              " 1557892.619554546,\n",
              " 394253.209183988,\n",
              " 275417.25144105306,\n",
              " 511399.05371051194,\n",
              " 341958.2775121132,\n",
              " 254316.42383535067,\n",
              " 244724.8591431549,\n",
              " 333009.8953229102,\n",
              " 334275.47580786946,\n",
              " 352948.85197410116,\n",
              " 571088.5304715277,\n",
              " 368557.04205721914,\n",
              " 341313.6818563343,\n",
              " 776652.237084015,\n",
              " 335458.8532257034,\n",
              " 464288.099627145,\n",
              " 1697310.5572199305,\n",
              " 478083.7133214419,\n",
              " 702138.654581791,\n",
              " 331206.4688521641,\n",
              " 649417.4241675121,\n",
              " 481024.15773237223,\n",
              " 376618.0733532597,\n",
              " 295853.8621347642,\n",
              " 521520.4174396401,\n",
              " 450217.19948978076,\n",
              " 284799.20059841726,\n",
              " 384748.2520108614,\n",
              " 1592766.724147107,\n",
              " 482120.70790048345,\n",
              " 660314.7800849613,\n",
              " 434009.1898411774,\n",
              " 299431.49588022,\n",
              " 764629.2344734798,\n",
              " 528272.0006189495,\n",
              " 511576.680365124,\n",
              " 1288838.630035303,\n",
              " 814338.8706289654,\n",
              " 288657.51123363833,\n",
              " 454914.38787002425,\n",
              " 928531.4727540103,\n",
              " 638428.9505365213,\n",
              " 375432.65402419714,\n",
              " 650629.6536239093,\n",
              " 361147.21829133097,\n",
              " 818712.9542626328,\n",
              " 528122.0985660916,\n",
              " 523729.0264493918,\n",
              " 560715.8300738872,\n",
              " 358987.8929598849,\n",
              " 465908.31704933866,\n",
              " 353164.67414417514,\n",
              " 400143.67403873545,\n",
              " 636117.2299355096,\n",
              " 1065708.6315087646,\n",
              " 431608.04430339544,\n",
              " 495288.0907536521,\n",
              " 360824.1541867856,\n",
              " 305077.6286590245,\n",
              " 817334.5748068749,\n",
              " 458302.5745585213,\n",
              " 256838.4699892262,\n",
              " 920879.3584970527,\n",
              " 987976.6740295626,\n",
              " 474517.82720848813,\n",
              " 1055454.3069383863,\n",
              " 298371.269436251,\n",
              " 489822.2470825992,\n",
              " 488931.7642840455,\n",
              " 810242.1281301003,\n",
              " 2451300.4125827546,\n",
              " 553839.7603407972,\n",
              " 326159.03737320076,\n",
              " 561730.2220353745,\n",
              " 625047.9981559016,\n",
              " 550859.2271852052,\n",
              " 335455.5145142034,\n",
              " 311168.00448969955,\n",
              " 253203.0355205194,\n",
              " 322942.87220084696,\n",
              " 344053.67447376915,\n",
              " 383506.69454484165,\n",
              " 284075.9976296672,\n",
              " 337182.740031129,\n",
              " 256197.8003277128,\n",
              " 599002.1682497773,\n",
              " 653717.9811572636,\n",
              " 276987.1038340099,\n",
              " 749579.6792285834,\n",
              " 453417.192768433,\n",
              " 428442.9326567982,\n",
              " 531656.8881838102,\n",
              " 463491.3279974148,\n",
              " 408748.61642997817,\n",
              " 830555.3958494362,\n",
              " 379466.2637519722,\n",
              " 459190.776275875,\n",
              " 383967.50583155005,\n",
              " 351515.22632451146,\n",
              " 902249.0252731751,\n",
              " 620454.4749825465,\n",
              " 520494.5275520789,\n",
              " 785830.8474337966,\n",
              " 894118.9091678034,\n",
              " 399804.4275744024,\n",
              " 258437.32487381372,\n",
              " 390237.5422301192,\n",
              " 483067.10464502854,\n",
              " 246657.65202297637,\n",
              " 413174.9377563956,\n",
              " 470868.5003556222,\n",
              " 575028.5151266843,\n",
              " 681233.6103126374,\n",
              " 547269.3039008499,\n",
              " 1100497.5048030508,\n",
              " 889621.7714580356,\n",
              " 862427.5686582921,\n",
              " 587718.9665048063,\n",
              " 654047.7124728699,\n",
              " 588660.4411158472,\n",
              " 491360.7205594186,\n",
              " 640310.3688804103,\n",
              " 366982.34279091,\n",
              " 334275.47580786946,\n",
              " 357128.3476332685,\n",
              " 362644.28407506994,\n",
              " 346200.28553006164,\n",
              " 290487.8359993048,\n",
              " 311104.41853826557,\n",
              " 450215.6938339704,\n",
              " 461823.6193424313,\n",
              " 627161.5653718931,\n",
              " 397563.89269970846,\n",
              " 464306.7772390547,\n",
              " 579508.5486002222,\n",
              " 426922.46469375107,\n",
              " 414772.35859299527,\n",
              " 360365.2921635009,\n",
              " 668430.0064120137,\n",
              " 347566.56089980004,\n",
              " 255559.75062221035,\n",
              " 311995.43865638843,\n",
              " 482169.10806948296,\n",
              " 535728.9576161453,\n",
              " 670739.5689078119,\n",
              " 470348.7271911384,\n",
              " 469716.1926901732,\n",
              " 272110.3736366389,\n",
              " 427459.92382914893,\n",
              " 353695.7041278351,\n",
              " 349650.7921810249,\n",
              " 377245.3941032986,\n",
              " 651923.0653654662,\n",
              " 1564507.1108254727,\n",
              " 1280104.4191984632,\n",
              " 265081.82989182847,\n",
              " 485830.8683856515,\n",
              " 491081.6016852421,\n",
              " 1640842.199515615,\n",
              " 458489.99201412813,\n",
              " 459351.5448268721,\n",
              " 320940.2169248459,\n",
              " 382005.8437653607,\n",
              " 519556.1808489933,\n",
              " 762791.2734652702,\n",
              " 792178.9161638907,\n",
              " 312007.9862798236,\n",
              " 506384.68837232527,\n",
              " 305978.86566562636,\n",
              " 507492.7645153277,\n",
              " 1414226.5643363437,\n",
              " 360824.1541867856,\n",
              " 416866.6892555123,\n",
              " 456290.73535372625,\n",
              " 360824.1541867856,\n",
              " 332237.62221097026,\n",
              " 717414.8862295842,\n",
              " 790054.490760837,\n",
              " 347662.5761905672,\n",
              " 367155.9094247876,\n",
              " 359404.71365958493,\n",
              " 1727164.1140133706,\n",
              " 536773.1445353783,\n",
              " 502992.0011218963,\n",
              " 454761.7949760674,\n",
              " 520997.2100791655,\n",
              " 751873.5621213923,\n",
              " 346002.21359067893,\n",
              " 1243916.859628172,\n",
              " 882209.4762827744,\n",
              " 462718.68720814947,\n",
              " 356722.90716687817,\n",
              " 483549.7261009842,\n",
              " 721658.4742297657,\n",
              " 299520.35377308953,\n",
              " 347763.0075988733,\n",
              " 395992.55146915035,\n",
              " 350972.22969411925,\n",
              " 355864.96101195377,\n",
              " 2545318.5783867845,\n",
              " 347128.01858271443,\n",
              " 442931.87398980214,\n",
              " 462038.3031443543,\n",
              " 591881.2340842123,\n",
              " 419096.92482246406,\n",
              " 467777.8990296285,\n",
              " 308330.6920635841,\n",
              " 520787.5640245873,\n",
              " 557380.6525988868,\n",
              " 720906.9679458606,\n",
              " 864508.2692077251,\n",
              " 537131.0988184073,\n",
              " 428018.28950767714,\n",
              " 719451.5448759274,\n",
              " 355516.34167487756,\n",
              " 349650.7921810249,\n",
              " 526203.3741210325,\n",
              " 507127.92274484056,\n",
              " 467779.96934729826,\n",
              " 890044.1871800784,\n",
              " 371168.08005264535,\n",
              " 3465382.2026549033,\n",
              " 635426.1696365478,\n",
              " 761362.7951510323,\n",
              " 1071732.602522761,\n",
              " 506381.8396547523,\n",
              " 674078.7071526612,\n",
              " 907720.8861136648,\n",
              " 351018.7536975831,\n",
              " 720965.259938399,\n",
              " 435093.36047854606,\n",
              " 473602.78021603136,\n",
              " 343193.93426265474,\n",
              " 289169.210452515,\n",
              " 444278.7997571763,\n",
              " 410969.5617215656,\n",
              " 1362252.3021069265,\n",
              " 304251.4567690523,\n",
              " 345523.2491572691,\n",
              " 530614.1509687968,\n",
              " 362912.8154684195,\n",
              " 310208.39294869144,\n",
              " 506777.15401183994,\n",
              " 368611.58468955575,\n",
              " 443178.58206691913,\n",
              " 482900.91512678936,\n",
              " 443577.76813823037,\n",
              " 370897.14889216144,\n",
              " 640897.3263891296,\n",
              " 354894.92876023083,\n",
              " 316484.1643345262,\n",
              " 786937.7644325745,\n",
              " 441867.16416204703,\n",
              " 259078.19827650598,\n",
              " 349935.3061690266,\n",
              " 651923.0653654662,\n",
              " 653570.461880244,\n",
              " 491309.2689948994,\n",
              " 447975.60460150556,\n",
              " 450987.07445532136,\n",
              " 569631.9940720792,\n",
              " 471768.5018377722,\n",
              " 539174.1571000528,\n",
              " 329915.6254868963,\n",
              " 568318.9020180026,\n",
              " 345899.5382012336,\n",
              " 797985.797610275,\n",
              " 450215.6938339704,\n",
              " 384177.90842152335,\n",
              " 334298.6258796561,\n",
              " 331321.2463462102,\n",
              " 365435.14360721444,\n",
              " 290992.5010392872,\n",
              " 848240.0999256872,\n",
              " 1573114.0135049613,\n",
              " 958660.9405407377,\n",
              " 448648.0890845206,\n",
              " 812206.5108421741,\n",
              " 464302.198682478,\n",
              " 800150.6345977152,\n",
              " 345394.8662122074,\n",
              " 401866.13438866084,\n",
              " 490789.6668510333,\n",
              " 265081.82989182847,\n",
              " 296575.92643552047,\n",
              " 466174.0353800695,\n",
              " 461823.6193424313,\n",
              " 578874.300885147,\n",
              " 299215.21809672355,\n",
              " 510770.38129976543,\n",
              " 256197.8003277128,\n",
              " 659913.3784380662,\n",
              " 291323.1832466106,\n",
              " 500318.5124417329,\n",
              " 300349.2032614496,\n",
              " 389362.6103282544,\n",
              " 482398.6263179808,\n",
              " 611843.6377393588,\n",
              " 471556.17826945387,\n",
              " 932604.778636268,\n",
              " 258590.74382130493,\n",
              " 1685594.1937291652,\n",
              " 474894.20308777184,\n",
              " 442579.48731538444,\n",
              " 576195.139255803,\n",
              " 692097.4154554304,\n",
              " 622173.9621381096,\n",
              " 343510.4045483932,\n",
              " 461294.71893133625,\n",
              " 472458.37040351826,\n",
              " 734187.8410635304,\n",
              " 282063.94163019693,\n",
              " 365708.1542650253,\n",
              " 476113.3953789008,\n",
              " 617675.0876219567,\n",
              " 341281.04089760635,\n",
              " 848512.9766068065,\n",
              " 558186.1589716753,\n",
              " 904612.4034723603,\n",
              " 969248.3987038197,\n",
              " 638485.7210510728,\n",
              " 371292.51112865255,\n",
              " 797310.5255535565,\n",
              " 356217.0159425723,\n",
              " 568009.4427062641,\n",
              " 680313.9000309304,\n",
              " 330579.49268996983,\n",
              " 760954.5508826607,\n",
              " 403386.5860216482,\n",
              " 985380.0373767249,\n",
              " 386477.2860485445,\n",
              " 498734.2418317285,\n",
              " 658865.2753511433,\n",
              " 574551.1636300869,\n",
              " 350964.3520857805,\n",
              " 547658.5167972521,\n",
              " 379422.77925118414,\n",
              " 340525.62658994016,\n",
              " 548421.7312353798,\n",
              " 389834.2488648673,\n",
              " 419324.814449345,\n",
              " 372732.1213461669,\n",
              " 715573.2723511944,\n",
              " 647417.9397971798,\n",
              " 430857.10196989117,\n",
              " 461973.80651307025,\n",
              " 458147.32501538855,\n",
              " 299918.1699512185,\n",
              " 494541.8493873451,\n",
              " 430861.6648790222,\n",
              " 463689.2476559492,\n",
              " 566669.9313447291,\n",
              " 388207.92613084184,\n",
              " 378600.0972160148,\n",
              " 410331.41882665356,\n",
              " 1393645.9502159592,\n",
              " 386477.2860485445,\n",
              " 345682.5854313837,\n",
              " 1190429.0430266918,\n",
              " 666753.3816380304,\n",
              " 387812.90730842197,\n",
              " 434009.1898411774,\n",
              " 477345.99777014245,\n",
              " 652964.6628780818,\n",
              " 455999.1253584266,\n",
              " 396934.0721584828,\n",
              " 430825.0518596165,\n",
              " 461823.6193424313,\n",
              " 428442.9326567982,\n",
              " 483512.0153499338,\n",
              " 469682.77623588435,\n",
              " 349307.9223569247,\n",
              " 474941.1969189016,\n",
              " 610310.7198069006,\n",
              " 423721.61863423703,\n",
              " 267879.6279677167,\n",
              " 383245.6484488918,\n",
              " 463152.9083564847,\n",
              " 450901.17528999015,\n",
              " 1091764.5565096035,\n",
              " 454949.7094931794,\n",
              " 395964.84404530766,\n",
              " 569496.2458882515,\n",
              " 333755.2020634813,\n",
              " 681794.0210474187,\n",
              " 406627.01141209266,\n",
              " 474395.23450346326,\n",
              " 484994.4929745573,\n",
              " 467895.79808505136,\n",
              " 565881.6235054462,\n",
              " 335133.41856325796,\n",
              " 606031.4210306234,\n",
              " 515060.9265457355,\n",
              " 704091.8455026388,\n",
              " 533178.5614655556,\n",
              " 513424.0746290441,\n",
              " 529052.0289695467,\n",
              " 524606.3665958066,\n",
              " 381742.6115875083,\n",
              " 365953.7024346794,\n",
              " 353837.4216842007,\n",
              " 643796.4578430501,\n",
              " 385206.9677835368,\n",
              " 358486.8397688874,\n",
              " 275160.4935519719,\n",
              " 367801.1739444224,\n",
              " 386777.9419327499,\n",
              " 830555.3958494362,\n",
              " 2389531.9877341506,\n",
              " 446066.1202601928,\n",
              " 1162207.145522487,\n",
              " 501479.455122224,\n",
              " 267799.81474003725,\n",
              " 486676.1866365968,\n",
              " 450245.39402345964,\n",
              " 433557.8018397552,\n",
              " 673169.6074523616,\n",
              " 381080.3688703471,\n",
              " 825183.2224483631,\n",
              " 373500.67147498886,\n",
              " 276943.05072452326,\n",
              " 464473.7085962827,\n",
              " 636654.7202815551,\n",
              " 986150.6718593949,\n",
              " 373161.0614409662,\n",
              " 717480.3313545407,\n",
              " 452684.08574397065,\n",
              " 357056.29226618935,\n",
              " 542551.0703805989,\n",
              " 973836.7695323823,\n",
              " 434899.99596116436,\n",
              " 471556.17826945387,\n",
              " 349307.9223569247,\n",
              " 455686.85279310995,\n",
              " 1199907.0997913624,\n",
              " 445650.233620341,\n",
              " 494736.56498684187,\n",
              " 384896.22722698626,\n",
              " 458111.3625054793,\n",
              " 317582.65413200116,\n",
              " 453004.2888712395,\n",
              " 301926.4780028042,\n",
              " 337156.7346565325,\n",
              " 347187.31608860096,\n",
              " 389062.7384145356,\n",
              " 443412.2431891143,\n",
              " 621575.6140959722,\n",
              " 519227.65755297954,\n",
              " 336239.39844745374,\n",
              " 756240.9661595376,\n",
              " 649780.587798837,\n",
              " 703540.537506827,\n",
              " 350938.52530790056,\n",
              " 426922.46469375107,\n",
              " 653618.2639643415,\n",
              " 1939494.026614185,\n",
              " 493977.22873911704,\n",
              " 679527.7017505914,\n",
              " 370104.67127968307,\n",
              " 371227.5682564535,\n",
              " 346678.83319337625,\n",
              " 697455.1750796849,\n",
              " 481024.15773237223,\n",
              " 318351.1668667886,\n",
              " 521397.31419853185,\n",
              " 347347.59769043524,\n",
              " 563868.4933012425,\n",
              " 796778.3439370978,\n",
              " 1053756.2682312343,\n",
              " 328611.2244695962,\n",
              " 538495.9667448,\n",
              " 1190002.7134660413,\n",
              " 461823.6193424313,\n",
              " 814152.9110521096,\n",
              " 627895.087487276,\n",
              " 459343.37676022376,\n",
              " 812898.5001067243,\n",
              " 708337.4931232432,\n",
              " 255585.70208024225,\n",
              " 376618.0733532597,\n",
              " 284712.2582341932,\n",
              " 428418.35247109196,\n",
              " 541842.9228532056,\n",
              " 334204.8993405915,\n",
              " 490729.7279622147,\n",
              " 533984.149400787,\n",
              " 411721.83983462496,\n",
              " 500298.8149065525,\n",
              " 356363.0584810164,\n",
              " 842336.4119890088,\n",
              " 342964.9475097129,\n",
              " 372573.1738121766,\n",
              " 380111.322232735,\n",
              " 1205103.0473197214,\n",
              " 461473.8509015665,\n",
              " 289422.58065184206,\n",
              " 285233.50590022316,\n",
              " 464617.1489971655,\n",
              " 815436.5432317405,\n",
              " 475595.37252516154,\n",
              " 669825.9824263625,\n",
              " 537765.3303035885,\n",
              " 452837.18912758207,\n",
              " 976350.2052845251,\n",
              " 279887.1038898173,\n",
              " 891626.6740090512,\n",
              " 636665.081535818,\n",
              " 516425.35802877875,\n",
              " 1053224.283154137,\n",
              " 466927.96680105996,\n",
              " 282435.6400401248,\n",
              " 842154.9041180604,\n",
              " 335377.2705706821,\n",
              " 629791.8186329787,\n",
              " 1501423.5111407721,\n",
              " 348577.56158287905,\n",
              " 500749.8604408605,\n",
              " 450156.9288480469,\n",
              " 368174.1496142641,\n",
              " 254285.88021945997,\n",
              " 861952.4662494853,\n",
              " 439955.99382882565,\n",
              " 290605.98182369623,\n",
              " 470635.4438467641,\n",
              " 355680.56634947745,\n",
              " 287858.12106027495,\n",
              " 491146.9706488769,\n",
              " 355487.6890440071,\n",
              " 416555.69707965,\n",
              " 394107.92574750405,\n",
              " 481130.72944679816,\n",
              " 487358.2691744342,\n",
              " 540677.0500004013,\n",
              " 785483.6656847987,\n",
              " 334884.58968315274,\n",
              " 326715.3847698605,\n",
              " 385206.9677835368,\n",
              " 382005.8437653607,\n",
              " 327102.08505284943,\n",
              " 426308.9919159829,\n",
              " 772236.0699073637,\n",
              " 503149.0806789453,\n",
              " 849327.9049558651,\n",
              " 839729.664576017,\n",
              " 473899.3049798068,\n",
              " 443374.4470552487,\n",
              " 481724.5198886904,\n",
              " 313838.6205065518,\n",
              " 407563.2128156506,\n",
              " 442007.9596375255,\n",
              " 313674.4327196919,\n",
              " 474868.02839225717,\n",
              " 669825.9824263625,\n",
              " 416901.7578822477,\n",
              " 406874.792343648,\n",
              " 464319.0573166355,\n",
              " 410656.61115873576,\n",
              " 1017551.2591449418,\n",
              " 812153.3705510795,\n",
              " 755854.7012605498,\n",
              " 370234.775205743,\n",
              " 458147.32501538855,\n",
              " 401882.9419184681,\n",
              " 568450.4828465467,\n",
              " 267764.2957625307,\n",
              " 392686.30443786416,\n",
              " 357919.2918156227,\n",
              " 314228.83948423906,\n",
              " 358006.5644514912,\n",
              " 287423.43532099813,\n",
              " 416539.4034907194,\n",
              " 594794.5320904928,\n",
              " 309551.2514360725,\n",
              " 442030.6237064501,\n",
              " 519385.34501078154,\n",
              " 487169.4406365634,\n",
              " 348542.56667684467,\n",
              " 336454.1548875869,\n",
              " 286594.8517347174,\n",
              " 539126.7778590171,\n",
              " 470764.23824218975,\n",
              " 1710309.199379292,\n",
              " 459343.37676022376,\n",
              " 2241288.4871282997,\n",
              " 679319.4009561685,\n",
              " 1049468.049295935,\n",
              " 617346.4048849617,\n",
              " 419411.0465843409,\n",
              " 458387.6997311812,\n",
              " 990314.748601116,\n",
              " 685609.4572802188,\n",
              " 479851.57958774944,\n",
              " 476417.3652893289,\n",
              " 736184.7322756323,\n",
              " 501442.89212220255,\n",
              " 385472.5471211268,\n",
              " 407451.7101266292,\n",
              " 363594.7288336444,\n",
              " 469220.2981982218,\n",
              " 335253.57270402747,\n",
              " 735420.8901603526,\n",
              " 507224.02777398186,\n",
              " 797310.5255535565,\n",
              " 694870.3589483241,\n",
              " 506107.51216280187,\n",
              " 449140.51580439473,\n",
              " 483316.83927503054,\n",
              " 494144.93665034854,\n",
              " 508678.6122861432,\n",
              " 558805.1915866813,\n",
              " 308061.9109186958,\n",
              " 1075249.8508870106,\n",
              " 310335.87162856944,\n",
              " 575325.6415989756,\n",
              " 276831.67029875383,\n",
              " 1799438.4118876362,\n",
              " 852452.8408051035,\n",
              " 641223.0944979948,\n",
              " 521716.5017162667,\n",
              " 645865.8644344695,\n",
              " 558711.0673085412,\n",
              " 347875.4019411443,\n",
              " 525638.8345432773,\n",
              " 463890.61387789255,\n",
              " 1014256.951852121,\n",
              " 379116.1104985152,\n",
              " 506733.74081660004,\n",
              " 995050.5819895562,\n",
              " 530490.9557686407,\n",
              " 455926.72864130576,\n",
              " 451193.04130687483,\n",
              " 1068553.0969735167,\n",
              " 317856.7341483537,\n",
              " 633133.0053918379,\n",
              " 792384.3185036182,\n",
              " 317856.7341483537,\n",
              " 626971.7321401798,\n",
              " 601532.20609254,\n",
              " 393412.61851312424,\n",
              " 469093.9946454644,\n",
              " 630578.0872910193,\n",
              " 439532.21374685876,\n",
              " 350938.52530790056,\n",
              " 535122.3197760273,\n",
              " 276831.67029875383,\n",
              " 349987.00145258784,\n",
              " 469914.0521007825,\n",
              " 532644.7864015703,\n",
              " 450424.49633348343,\n",
              " 822388.9961056921,\n",
              " 411815.3789584379,\n",
              " 299248.8281398859,\n",
              " 322135.1116774929,\n",
              " 469682.77623588435,\n",
              " 741967.9031402881,\n",
              " 751291.7212048549,\n",
              " 371168.08005264535,\n",
              " 312131.590513434,\n",
              " 387198.53060017654,\n",
              " 272722.7205122545,\n",
              " 850933.4134161149,\n",
              " 404828.3850447766,\n",
              " 285219.9778080132,\n",
              " 339709.9144297151,\n",
              " 492065.7063645216,\n",
              " 495079.90430214163,\n",
              " 469682.77623588435,\n",
              " 1148042.9053745258,\n",
              " 1033220.9512235598,\n",
              " 1177042.1997161726,\n",
              " 435977.9665233055,\n",
              " 575289.4763385834,\n",
              " 370956.6429647646,\n",
              " 517831.5753896674,\n",
              " 357867.72389747354,\n",
              " 396903.2403639109,\n",
              " 347757.031900557,\n",
              " 814215.1745776995,\n",
              " 464288.099627145,\n",
              " 355989.4371883178,\n",
              " 395987.958706123,\n",
              " 291505.61814406904,\n",
              " 533443.8906446213,\n",
              " 481875.4324734229,\n",
              " 425761.10078122135,\n",
              " 527535.5121973384,\n",
              " 278427.2045999099,\n",
              " 637620.8496505991,\n",
              " 526264.8068569304,\n",
              " 454914.38787002425,\n",
              " 471768.5018377722,\n",
              " 298649.31009579607,\n",
              " 360985.81784519536,\n",
              " 1140502.0731545554,\n",
              " 763598.3719260007,\n",
              " 443696.05719034467,\n",
              " 318894.3027901099,\n",
              " 351740.5373913322,\n",
              " 1036695.5979437571,\n",
              " 550285.1864733517,\n",
              " 429877.65166137926,\n",
              " 277637.428026095,\n",
              " 379672.2808644427,\n",
              " 296534.81331772346,\n",
              " 851150.0429180894,\n",
              " 253528.514692704,\n",
              " 320700.67507927853,\n",
              " 296294.1254638786,\n",
              " 467777.8990296285,\n",
              " 482025.3032999568,\n",
              " 599145.5833558589,\n",
              " 583515.1228968275,\n",
              " 388464.1898911753,\n",
              " 476101.23118370265,\n",
              " 566266.6871287166,\n",
              " 482474.9256790892,\n",
              " 470775.0343906368,\n",
              " 620454.4749825465,\n",
              " 512095.68399904284,\n",
              " 778249.9286659191,\n",
              " 389695.8339042319,\n",
              " 316295.5061917845,\n",
              " 467175.1404041053,\n",
              " 585342.6331996216,\n",
              " 467577.9479900694,\n",
              " 491967.5101646004,\n",
              " 933895.5711021709,\n",
              " 533561.6274677208,\n",
              " 745349.6900716309,\n",
              " 618246.3077381264,\n",
              " 822996.7044398597,\n",
              " 277477.6939566985,\n",
              " 478585.83226827835,\n",
              " 469769.33427411463,\n",
              " 797506.4237014349,\n",
              " 843376.078808537,\n",
              " 278613.12562443875,\n",
              " 258437.32487381372,\n",
              " 496249.53561865014,\n",
              " 293500.9069916489,\n",
              " 725652.1423930733,\n",
              " 388974.7371549155,\n",
              " 475376.7510688293,\n",
              " 512370.1086626768,\n",
              " 386301.76305013744,\n",
              " 296294.1254638786,\n",
              " 295938.2376341409,\n",
              " 325972.9328378846,\n",
              " 629826.5651360056,\n",
              " 286000.6968027912,\n",
              " 370829.7621691289,\n",
              " 477972.84643206035,\n",
              " 390497.16838322673,\n",
              " 524606.3665958066,\n",
              " 368949.3450915146,\n",
              " 396903.2403639109,\n",
              " 464288.099627145,\n",
              " 356446.4662953516,\n",
              " 1219907.035087846,\n",
              " 624064.7306562822,\n",
              " 329689.6902369732,\n",
              " 456097.24379507103,\n",
              " 768004.7084605031,\n",
              " 634817.1012428974,\n",
              " 272542.25583248935,\n",
              " 469619.74463179463,\n",
              " 389362.6103282544,\n",
              " 299549.94422331074,\n",
              " 858257.4955677405,\n",
              " 473756.36606260843,\n",
              " 554841.254078004,\n",
              " 476036.88111865555,\n",
              " 672698.5850296397,\n",
              " 576807.5766525746,\n",
              " 860447.9489102467,\n",
              " 660314.7800849613,\n",
              " 788798.6413740909,\n",
              " 383070.9416516088,\n",
              " 1025147.944853381,\n",
              " 633215.6920652592,\n",
              " 777888.8868815475,\n",
              " 456305.9513350901,\n",
              " 468680.91643423267,\n",
              " 381080.3688703471,\n",
              " 464288.099627145,\n",
              " 376618.0733532597,\n",
              " 785830.8474337966,\n",
              " 526147.0084211805,\n",
              " 488825.62737231643,\n",
              " 280576.3331347984,\n",
              " 276831.67029875383,\n",
              " 299588.39960146847,\n",
              " 805661.0810960488,\n",
              " 649417.4241675121,\n",
              " 460946.69674183044,\n",
              " 360776.642456784,\n",
              " 472956.9305932575,\n",
              " 365435.14360721444,\n",
              " 651473.3675367936,\n",
              " 276997.13225150213,\n",
              " 648157.4955160368,\n",
              " 522357.3150191296,\n",
              " 351361.92658776016,\n",
              " 279229.8649860634,\n",
              " 482120.70790048345,\n",
              " 506023.8384091951,\n",
              " 375352.8783248319,\n",
              " 688668.454318674,\n",
              " 337156.7346565325,\n",
              " 388974.7371549155,\n",
              " 535557.0998764056,\n",
              " 301674.1841963955,\n",
              " 574229.1019544917,\n",
              " 685620.8872212654,\n",
              " 702238.7988923114,\n",
              " 490996.3391685389,\n",
              " 423130.7729342951,\n",
              " 700759.5868435944,\n",
              " 517457.6894432735,\n",
              " 649417.4241675121,\n",
              " 1530838.1907062002,\n",
              " 543683.1045600747,\n",
              " 343718.9801708815,\n",
              " 696933.5516669477,\n",
              " 825614.4192342709,\n",
              " 343162.34145930165,\n",
              " 403843.30849454034,\n",
              " 375149.67966307024,\n",
              " 293660.9092026072,\n",
              " 508176.86037593096,\n",
              " 503462.75128906383,\n",
              " 410489.55100149475,\n",
              " 488654.9170865973,\n",
              " 329987.0868650858,\n",
              " 372604.0552293364,\n",
              " 254534.75484942878,\n",
              " 351515.22632451146,\n",
              " 345682.5854313837,\n",
              " 332143.2878132159,\n",
              " 344656.7254250354,\n",
              " 334216.82588363247,\n",
              " 822609.8247074988,\n",
              " 420418.31111642957,\n",
              " 440763.60969020246,\n",
              " 710217.219924476,\n",
              " 355133.74337464635,\n",
              " 253528.514692704,\n",
              " 371296.29883512785,\n",
              " 293770.23285181506,\n",
              " 587816.7018957931,\n",
              " 300972.492486927,\n",
              " 518427.1734823638,\n",
              " 812970.5404780615,\n",
              " 578114.9360964473,\n",
              " 559891.7247103932,\n",
              " 502935.35588235216,\n",
              " 268395.3743381117,\n",
              " 962678.0408314284,\n",
              " 640260.0246427767,\n",
              " 864508.2692077251,\n",
              " 326607.6762133695,\n",
              " 464676.3677696319,\n",
              " 808798.6821006836,\n",
              " 515142.7957952866,\n",
              " 255887.37476674633,\n",
              " 1160963.2255294933,\n",
              " 311933.7078052846,\n",
              " 634422.4218020926,\n",
              " 470635.4438467641,\n",
              " 755292.0518642832,\n",
              " 553263.1047780376,\n",
              " 452684.08574397065,\n",
              " 458147.32501538855,\n",
              " 446707.8520215592,\n",
              " 550121.5229403775,\n",
              " 1316356.8875648202,\n",
              " 483926.88278212806,\n",
              " 837867.4786758578,\n",
              " 488108.9470744541,\n",
              " 380917.55527774146,\n",
              " 275812.24374632107,\n",
              " 439295.42790584854,\n",
              " 553380.1674379257,\n",
              " 488439.046262721,\n",
              " 454869.7792743504,\n",
              " 296534.81331772346,\n",
              " 363450.55311772757,\n",
              " 351150.5021431445,\n",
              " 508044.3031551238,\n",
              " 568822.8553744836,\n",
              " 285019.4733674127,\n",
              " 382173.2726740111,\n",
              " 507813.925786457,\n",
              " 626971.7321401798,\n",
              " 968831.7399401971,\n",
              " 667931.1854480274,\n",
              " 359177.1274753461,\n",
              " 784329.3258831948,\n",
              " 708635.1181065498,\n",
              " 843372.7399433701,\n",
              " 351767.75492621755,\n",
              " 2154181.3981579756,\n",
              " 370056.7719835996,\n",
              " 378755.3422700992,\n",
              " 504921.5186745434,\n",
              " 333407.7397314579,\n",
              " 357852.9146077682,\n",
              " 547945.5678606315,\n",
              " 661351.3558527232,\n",
              " 714979.7051465478,\n",
              " 276600.6178087757,\n",
              " 350964.3520857805,\n",
              " 554518.2815280485,\n",
              " 2357884.8726013517,\n",
              " 554548.0307173725,\n",
              " 466876.64492535207,\n",
              " 914888.1876179503,\n",
              " 623011.964033423,\n",
              " 551415.9357239172,\n",
              " 805812.2307301349,\n",
              " 707240.8942116167,\n",
              " 452684.08574397065,\n",
              " 295572.9499908753,\n",
              " 440849.28686661716,\n",
              " 655667.7341936474,\n",
              " 557844.0281925688,\n",
              " 283083.3629161294,\n",
              " 299549.94422331074,\n",
              " 563577.4408720587,\n",
              " 410280.9488689983,\n",
              " 677313.0399911163,\n",
              " 492214.44918214437,\n",
              " 943410.0561333912,\n",
              " 379280.3800338336,\n",
              " 293543.2045017168,\n",
              " 396249.4678653935,\n",
              " 289524.02167283936,\n",
              " 360824.1541867856,\n",
              " 343162.34145930165,\n",
              " 392116.2034083525,\n",
              " 908257.5403386068,\n",
              " 584574.1391594353,\n",
              " 364692.9482627177,\n",
              " 508197.9612405399,\n",
              " 664926.4447026253,\n",
              " 256315.777635107,\n",
              " 532408.4125246089,\n",
              " 358341.9477053962,\n",
              " 640564.4329546187,\n",
              " 646745.7406501524,\n",
              " 465182.9314091005,\n",
              " 291334.44959677383,\n",
              " 436446.34616692446,\n",
              " 349365.4254610956,\n",
              " 872243.5612438826,\n",
              " 358160.58793406177,\n",
              " 568528.7332658892,\n",
              " 413859.44019617967,\n",
              " 384896.22722698626,\n",
              " 353557.20803985134,\n",
              " 344624.72357813956,\n",
              " ...]"
            ]
          },
          "metadata": {
            "tags": []
          },
          "execution_count": 31
        }
      ]
    },
    {
      "cell_type": "code",
      "metadata": {
        "colab": {
          "base_uri": "https://localhost:8080/"
        },
        "id": "B_QXzaUJkkAW",
        "outputId": "d2936f07-faef-4aef-9329-90c8651eda0a"
      },
      "source": [
        "sqrt(mean_squared_error(bagging_predict,test_y))"
      ],
      "execution_count": null,
      "outputs": [
        {
          "output_type": "execute_result",
          "data": {
            "text/plain": [
              "209423.05130524564"
            ]
          },
          "metadata": {
            "tags": []
          },
          "execution_count": 32
        }
      ]
    },
    {
      "cell_type": "code",
      "metadata": {
        "id": "uhUdAnwVkkAW"
      },
      "source": [
        ""
      ],
      "execution_count": null,
      "outputs": []
    }
  ]
}