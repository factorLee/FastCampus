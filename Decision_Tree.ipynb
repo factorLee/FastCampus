{
  "nbformat": 4,
  "nbformat_minor": 0,
  "metadata": {
    "colab": {
      "name": "Decision Tree.ipynb",
      "provenance": [],
      "authorship_tag": "ABX9TyPr6yM7oXHnjdRKHlrn5Usf",
      "include_colab_link": true
    },
    "kernelspec": {
      "name": "python3",
      "display_name": "Python 3"
    }
  },
  "cells": [
    {
      "cell_type": "markdown",
      "metadata": {
        "id": "view-in-github",
        "colab_type": "text"
      },
      "source": [
        "<a href=\"https://colab.research.google.com/github/factorLee/FastCampus/blob/main/Decision_Tree.ipynb\" target=\"_parent\"><img src=\"https://colab.research.google.com/assets/colab-badge.svg\" alt=\"Open In Colab\"/></a>"
      ]
    },
    {
      "cell_type": "markdown",
      "metadata": {
        "id": "veHRnHWokvey"
      },
      "source": [
        "# Decision Tree 실습"
      ]
    },
    {
      "cell_type": "markdown",
      "metadata": {
        "id": "aWsYz7EZkv4m"
      },
      "source": [
        "# 1.함수 익히기 및 모듈 불러오기\n",
        "- 함수 익히기"
      ]
    },
    {
      "cell_type": "code",
      "metadata": {
        "id": "CI8F4QoKkqc7"
      },
      "source": [
        "from sklearn import tree\n",
        "X = [[0,0],[1,1]] # 2개의 Attribute로 구성되어있는 X\n",
        "Y = [0,1] # 0과 1이라는 관측치 (2-Class prob)\n",
        "clf = tree.DecisionTreeClassifier() # tree객체에서 불러옴\n",
        "clf = clf.fit(X,Y)"
      ],
      "execution_count": null,
      "outputs": []
    },
    {
      "cell_type": "code",
      "metadata": {
        "colab": {
          "base_uri": "https://localhost:8080/"
        },
        "id": "tB-2j4AplB9v",
        "outputId": "bacce3ea-109a-4e53-e8d0-4e62e866a8aa"
      },
      "source": [
        "clf.predict([[1,1]])\n",
        "\n",
        "# 여기까지 sklearn의 기본적인 구조. (전반적인 overview)"
      ],
      "execution_count": null,
      "outputs": [
        {
          "output_type": "execute_result",
          "data": {
            "text/plain": [
              "array([1])"
            ]
          },
          "metadata": {
            "tags": []
          },
          "execution_count": 3
        }
      ]
    },
    {
      "cell_type": "markdown",
      "metadata": {
        "id": "tGJ79U8_kwSF"
      },
      "source": [
        "- 모듈 불러오기"
      ]
    },
    {
      "cell_type": "code",
      "metadata": {
        "id": "APNZ3cFHmIGz"
      },
      "source": [
        "from sklearn.datasets import load_iris\n",
        "from sklearn import tree\n",
        "from os import system"
      ],
      "execution_count": null,
      "outputs": []
    },
    {
      "cell_type": "code",
      "metadata": {
        "colab": {
          "base_uri": "https://localhost:8080/"
        },
        "id": "SoHXkJjMANlh",
        "outputId": "87a11979-6154-47fc-f001-fc18fb7ce286"
      },
      "source": [
        "system('pip install graphviz') # 터미널 혹은 커맨드에 입력하게 해주는 system함수"
      ],
      "execution_count": null,
      "outputs": [
        {
          "output_type": "execute_result",
          "data": {
            "text/plain": [
              "0"
            ]
          },
          "metadata": {
            "tags": []
          },
          "execution_count": 5
        }
      ]
    },
    {
      "cell_type": "code",
      "metadata": {
        "id": "5mrqyUbZAWzD"
      },
      "source": [
        "import graphviz"
      ],
      "execution_count": null,
      "outputs": []
    },
    {
      "cell_type": "markdown",
      "metadata": {
        "id": "oSm3phn4Ad86"
      },
      "source": [
        "- 데이터 로드"
      ]
    },
    {
      "cell_type": "code",
      "metadata": {
        "id": "tQfPwlSmAaJz"
      },
      "source": [
        "iris = load_iris() # Attribute"
      ],
      "execution_count": null,
      "outputs": []
    },
    {
      "cell_type": "code",
      "metadata": {
        "colab": {
          "base_uri": "https://localhost:8080/"
        },
        "id": "IVudx8N2Ah6e",
        "outputId": "501a31fa-cea3-4d04-e3ad-ef84ce425038"
      },
      "source": [
        "# iris.data -> Attribute, iris.target -> y값(종속변수), iris.feature_names -> iris.data 변수의 이름들, iris.target_names -> y범주가 의미하는 이름\n",
        "iris.data "
      ],
      "execution_count": null,
      "outputs": [
        {
          "output_type": "execute_result",
          "data": {
            "text/plain": [
              "array([[5.1, 3.5, 1.4, 0.2],\n",
              "       [4.9, 3. , 1.4, 0.2],\n",
              "       [4.7, 3.2, 1.3, 0.2],\n",
              "       [4.6, 3.1, 1.5, 0.2],\n",
              "       [5. , 3.6, 1.4, 0.2],\n",
              "       [5.4, 3.9, 1.7, 0.4],\n",
              "       [4.6, 3.4, 1.4, 0.3],\n",
              "       [5. , 3.4, 1.5, 0.2],\n",
              "       [4.4, 2.9, 1.4, 0.2],\n",
              "       [4.9, 3.1, 1.5, 0.1],\n",
              "       [5.4, 3.7, 1.5, 0.2],\n",
              "       [4.8, 3.4, 1.6, 0.2],\n",
              "       [4.8, 3. , 1.4, 0.1],\n",
              "       [4.3, 3. , 1.1, 0.1],\n",
              "       [5.8, 4. , 1.2, 0.2],\n",
              "       [5.7, 4.4, 1.5, 0.4],\n",
              "       [5.4, 3.9, 1.3, 0.4],\n",
              "       [5.1, 3.5, 1.4, 0.3],\n",
              "       [5.7, 3.8, 1.7, 0.3],\n",
              "       [5.1, 3.8, 1.5, 0.3],\n",
              "       [5.4, 3.4, 1.7, 0.2],\n",
              "       [5.1, 3.7, 1.5, 0.4],\n",
              "       [4.6, 3.6, 1. , 0.2],\n",
              "       [5.1, 3.3, 1.7, 0.5],\n",
              "       [4.8, 3.4, 1.9, 0.2],\n",
              "       [5. , 3. , 1.6, 0.2],\n",
              "       [5. , 3.4, 1.6, 0.4],\n",
              "       [5.2, 3.5, 1.5, 0.2],\n",
              "       [5.2, 3.4, 1.4, 0.2],\n",
              "       [4.7, 3.2, 1.6, 0.2],\n",
              "       [4.8, 3.1, 1.6, 0.2],\n",
              "       [5.4, 3.4, 1.5, 0.4],\n",
              "       [5.2, 4.1, 1.5, 0.1],\n",
              "       [5.5, 4.2, 1.4, 0.2],\n",
              "       [4.9, 3.1, 1.5, 0.2],\n",
              "       [5. , 3.2, 1.2, 0.2],\n",
              "       [5.5, 3.5, 1.3, 0.2],\n",
              "       [4.9, 3.6, 1.4, 0.1],\n",
              "       [4.4, 3. , 1.3, 0.2],\n",
              "       [5.1, 3.4, 1.5, 0.2],\n",
              "       [5. , 3.5, 1.3, 0.3],\n",
              "       [4.5, 2.3, 1.3, 0.3],\n",
              "       [4.4, 3.2, 1.3, 0.2],\n",
              "       [5. , 3.5, 1.6, 0.6],\n",
              "       [5.1, 3.8, 1.9, 0.4],\n",
              "       [4.8, 3. , 1.4, 0.3],\n",
              "       [5.1, 3.8, 1.6, 0.2],\n",
              "       [4.6, 3.2, 1.4, 0.2],\n",
              "       [5.3, 3.7, 1.5, 0.2],\n",
              "       [5. , 3.3, 1.4, 0.2],\n",
              "       [7. , 3.2, 4.7, 1.4],\n",
              "       [6.4, 3.2, 4.5, 1.5],\n",
              "       [6.9, 3.1, 4.9, 1.5],\n",
              "       [5.5, 2.3, 4. , 1.3],\n",
              "       [6.5, 2.8, 4.6, 1.5],\n",
              "       [5.7, 2.8, 4.5, 1.3],\n",
              "       [6.3, 3.3, 4.7, 1.6],\n",
              "       [4.9, 2.4, 3.3, 1. ],\n",
              "       [6.6, 2.9, 4.6, 1.3],\n",
              "       [5.2, 2.7, 3.9, 1.4],\n",
              "       [5. , 2. , 3.5, 1. ],\n",
              "       [5.9, 3. , 4.2, 1.5],\n",
              "       [6. , 2.2, 4. , 1. ],\n",
              "       [6.1, 2.9, 4.7, 1.4],\n",
              "       [5.6, 2.9, 3.6, 1.3],\n",
              "       [6.7, 3.1, 4.4, 1.4],\n",
              "       [5.6, 3. , 4.5, 1.5],\n",
              "       [5.8, 2.7, 4.1, 1. ],\n",
              "       [6.2, 2.2, 4.5, 1.5],\n",
              "       [5.6, 2.5, 3.9, 1.1],\n",
              "       [5.9, 3.2, 4.8, 1.8],\n",
              "       [6.1, 2.8, 4. , 1.3],\n",
              "       [6.3, 2.5, 4.9, 1.5],\n",
              "       [6.1, 2.8, 4.7, 1.2],\n",
              "       [6.4, 2.9, 4.3, 1.3],\n",
              "       [6.6, 3. , 4.4, 1.4],\n",
              "       [6.8, 2.8, 4.8, 1.4],\n",
              "       [6.7, 3. , 5. , 1.7],\n",
              "       [6. , 2.9, 4.5, 1.5],\n",
              "       [5.7, 2.6, 3.5, 1. ],\n",
              "       [5.5, 2.4, 3.8, 1.1],\n",
              "       [5.5, 2.4, 3.7, 1. ],\n",
              "       [5.8, 2.7, 3.9, 1.2],\n",
              "       [6. , 2.7, 5.1, 1.6],\n",
              "       [5.4, 3. , 4.5, 1.5],\n",
              "       [6. , 3.4, 4.5, 1.6],\n",
              "       [6.7, 3.1, 4.7, 1.5],\n",
              "       [6.3, 2.3, 4.4, 1.3],\n",
              "       [5.6, 3. , 4.1, 1.3],\n",
              "       [5.5, 2.5, 4. , 1.3],\n",
              "       [5.5, 2.6, 4.4, 1.2],\n",
              "       [6.1, 3. , 4.6, 1.4],\n",
              "       [5.8, 2.6, 4. , 1.2],\n",
              "       [5. , 2.3, 3.3, 1. ],\n",
              "       [5.6, 2.7, 4.2, 1.3],\n",
              "       [5.7, 3. , 4.2, 1.2],\n",
              "       [5.7, 2.9, 4.2, 1.3],\n",
              "       [6.2, 2.9, 4.3, 1.3],\n",
              "       [5.1, 2.5, 3. , 1.1],\n",
              "       [5.7, 2.8, 4.1, 1.3],\n",
              "       [6.3, 3.3, 6. , 2.5],\n",
              "       [5.8, 2.7, 5.1, 1.9],\n",
              "       [7.1, 3. , 5.9, 2.1],\n",
              "       [6.3, 2.9, 5.6, 1.8],\n",
              "       [6.5, 3. , 5.8, 2.2],\n",
              "       [7.6, 3. , 6.6, 2.1],\n",
              "       [4.9, 2.5, 4.5, 1.7],\n",
              "       [7.3, 2.9, 6.3, 1.8],\n",
              "       [6.7, 2.5, 5.8, 1.8],\n",
              "       [7.2, 3.6, 6.1, 2.5],\n",
              "       [6.5, 3.2, 5.1, 2. ],\n",
              "       [6.4, 2.7, 5.3, 1.9],\n",
              "       [6.8, 3. , 5.5, 2.1],\n",
              "       [5.7, 2.5, 5. , 2. ],\n",
              "       [5.8, 2.8, 5.1, 2.4],\n",
              "       [6.4, 3.2, 5.3, 2.3],\n",
              "       [6.5, 3. , 5.5, 1.8],\n",
              "       [7.7, 3.8, 6.7, 2.2],\n",
              "       [7.7, 2.6, 6.9, 2.3],\n",
              "       [6. , 2.2, 5. , 1.5],\n",
              "       [6.9, 3.2, 5.7, 2.3],\n",
              "       [5.6, 2.8, 4.9, 2. ],\n",
              "       [7.7, 2.8, 6.7, 2. ],\n",
              "       [6.3, 2.7, 4.9, 1.8],\n",
              "       [6.7, 3.3, 5.7, 2.1],\n",
              "       [7.2, 3.2, 6. , 1.8],\n",
              "       [6.2, 2.8, 4.8, 1.8],\n",
              "       [6.1, 3. , 4.9, 1.8],\n",
              "       [6.4, 2.8, 5.6, 2.1],\n",
              "       [7.2, 3. , 5.8, 1.6],\n",
              "       [7.4, 2.8, 6.1, 1.9],\n",
              "       [7.9, 3.8, 6.4, 2. ],\n",
              "       [6.4, 2.8, 5.6, 2.2],\n",
              "       [6.3, 2.8, 5.1, 1.5],\n",
              "       [6.1, 2.6, 5.6, 1.4],\n",
              "       [7.7, 3. , 6.1, 2.3],\n",
              "       [6.3, 3.4, 5.6, 2.4],\n",
              "       [6.4, 3.1, 5.5, 1.8],\n",
              "       [6. , 3. , 4.8, 1.8],\n",
              "       [6.9, 3.1, 5.4, 2.1],\n",
              "       [6.7, 3.1, 5.6, 2.4],\n",
              "       [6.9, 3.1, 5.1, 2.3],\n",
              "       [5.8, 2.7, 5.1, 1.9],\n",
              "       [6.8, 3.2, 5.9, 2.3],\n",
              "       [6.7, 3.3, 5.7, 2.5],\n",
              "       [6.7, 3. , 5.2, 2.3],\n",
              "       [6.3, 2.5, 5. , 1.9],\n",
              "       [6.5, 3. , 5.2, 2. ],\n",
              "       [6.2, 3.4, 5.4, 2.3],\n",
              "       [5.9, 3. , 5.1, 1.8]])"
            ]
          },
          "metadata": {
            "tags": []
          },
          "execution_count": 8
        }
      ]
    },
    {
      "cell_type": "code",
      "metadata": {
        "colab": {
          "base_uri": "https://localhost:8080/"
        },
        "id": "DGTMKsPOBP3B",
        "outputId": "33d65a21-839c-43c3-dee4-f45bb091ea5d"
      },
      "source": [
        "iris.feature_names"
      ],
      "execution_count": null,
      "outputs": [
        {
          "output_type": "execute_result",
          "data": {
            "text/plain": [
              "['sepal length (cm)',\n",
              " 'sepal width (cm)',\n",
              " 'petal length (cm)',\n",
              " 'petal width (cm)']"
            ]
          },
          "metadata": {
            "tags": []
          },
          "execution_count": 9
        }
      ]
    },
    {
      "cell_type": "code",
      "metadata": {
        "colab": {
          "base_uri": "https://localhost:8080/"
        },
        "id": "1mE0_sH-BVy1",
        "outputId": "473738ab-6b60-4f2c-ac4a-a62f60a235d9"
      },
      "source": [
        "iris.target"
      ],
      "execution_count": null,
      "outputs": [
        {
          "output_type": "execute_result",
          "data": {
            "text/plain": [
              "array([0, 0, 0, 0, 0, 0, 0, 0, 0, 0, 0, 0, 0, 0, 0, 0, 0, 0, 0, 0, 0, 0,\n",
              "       0, 0, 0, 0, 0, 0, 0, 0, 0, 0, 0, 0, 0, 0, 0, 0, 0, 0, 0, 0, 0, 0,\n",
              "       0, 0, 0, 0, 0, 0, 1, 1, 1, 1, 1, 1, 1, 1, 1, 1, 1, 1, 1, 1, 1, 1,\n",
              "       1, 1, 1, 1, 1, 1, 1, 1, 1, 1, 1, 1, 1, 1, 1, 1, 1, 1, 1, 1, 1, 1,\n",
              "       1, 1, 1, 1, 1, 1, 1, 1, 1, 1, 1, 1, 2, 2, 2, 2, 2, 2, 2, 2, 2, 2,\n",
              "       2, 2, 2, 2, 2, 2, 2, 2, 2, 2, 2, 2, 2, 2, 2, 2, 2, 2, 2, 2, 2, 2,\n",
              "       2, 2, 2, 2, 2, 2, 2, 2, 2, 2, 2, 2, 2, 2, 2, 2, 2, 2])"
            ]
          },
          "metadata": {
            "tags": []
          },
          "execution_count": 10
        }
      ]
    },
    {
      "cell_type": "code",
      "metadata": {
        "colab": {
          "base_uri": "https://localhost:8080/"
        },
        "id": "1Mb-zb5YBXxl",
        "outputId": "655cafdd-c83c-421e-83da-dde01a20f2f3"
      },
      "source": [
        "iris.target_names"
      ],
      "execution_count": null,
      "outputs": [
        {
          "output_type": "execute_result",
          "data": {
            "text/plain": [
              "array(['setosa', 'versicolor', 'virginica'], dtype='<U10')"
            ]
          },
          "metadata": {
            "tags": []
          },
          "execution_count": 11
        }
      ]
    },
    {
      "cell_type": "markdown",
      "metadata": {
        "id": "KivypD42BeRD"
      },
      "source": [
        "# 2.의사결정나무 구축 및 시각화\n",
        "- 트리 구축"
      ]
    },
    {
      "cell_type": "code",
      "metadata": {
        "id": "wjogOIqQBZmN"
      },
      "source": [
        "clf = tree.DecisionTreeClassifier()# 범주형변수=> classifier\n",
        "clf=clf.fit(iris.data,iris.target)\n"
      ],
      "execution_count": null,
      "outputs": []
    },
    {
      "cell_type": "markdown",
      "metadata": {
        "id": "sN54OsSeCITP"
      },
      "source": [
        "- 트리의 시각화"
      ]
    },
    {
      "cell_type": "code",
      "metadata": {
        "id": "Os4rQtIMCHWm"
      },
      "source": [
        "dot_data=tree.export_graphviz(clf, out_file=None,\n",
        "                              feature_names=iris.feature_names,\n",
        "                              class_names=iris.target_names,\n",
        "                              filled=True, rounded=True,\n",
        "                              special_characters=True)\n",
        "\n",
        "graph = graphviz.Source(dot_data)"
      ],
      "execution_count": null,
      "outputs": []
    },
    {
      "cell_type": "code",
      "metadata": {
        "colab": {
          "base_uri": "https://localhost:8080/",
          "height": 916
        },
        "id": "lIs_LWLlDc8f",
        "outputId": "9d16cd35-09bd-4f44-e036-80bd6ab83cc0"
      },
      "source": [
        "graph \n",
        "# gini 계수는 높은경우보다 낮은경우에 더 선호한다.\n",
        "# petal length가 2.45보다 작거나 같으면 gini가 0이고, value가 [50,0,0] 이기 때문에 'setosa'로 분류할 수 있다.\n",
        "#"
      ],
      "execution_count": null,
      "outputs": [
        {
          "output_type": "execute_result",
          "data": {
            "text/plain": [
              "<graphviz.files.Source at 0x7fc788ec7b10>"
            ],
            "image/svg+xml": "<?xml version=\"1.0\" encoding=\"UTF-8\" standalone=\"no\"?>\n<!DOCTYPE svg PUBLIC \"-//W3C//DTD SVG 1.1//EN\"\n \"http://www.w3.org/Graphics/SVG/1.1/DTD/svg11.dtd\">\n<!-- Generated by graphviz version 2.40.1 (20161225.0304)\n -->\n<!-- Title: Tree Pages: 1 -->\n<svg width=\"909pt\" height=\"671pt\"\n viewBox=\"0.00 0.00 908.50 671.00\" xmlns=\"http://www.w3.org/2000/svg\" xmlns:xlink=\"http://www.w3.org/1999/xlink\">\n<g id=\"graph0\" class=\"graph\" transform=\"scale(1 1) rotate(0) translate(4 667)\">\n<title>Tree</title>\n<polygon fill=\"#ffffff\" stroke=\"transparent\" points=\"-4,4 -4,-667 904.5,-667 904.5,4 -4,4\"/>\n<!-- 0 -->\n<g id=\"node1\" class=\"node\">\n<title>0</title>\n<path fill=\"#ffffff\" stroke=\"#000000\" d=\"M539.5,-663C539.5,-663 410.5,-663 410.5,-663 404.5,-663 398.5,-657 398.5,-651 398.5,-651 398.5,-592 398.5,-592 398.5,-586 404.5,-580 410.5,-580 410.5,-580 539.5,-580 539.5,-580 545.5,-580 551.5,-586 551.5,-592 551.5,-592 551.5,-651 551.5,-651 551.5,-657 545.5,-663 539.5,-663\"/>\n<text text-anchor=\"start\" x=\"406.5\" y=\"-647.8\" font-family=\"Helvetica,sans-Serif\" font-size=\"14.00\" fill=\"#000000\">petal width (cm) ≤ 0.8</text>\n<text text-anchor=\"start\" x=\"437\" y=\"-632.8\" font-family=\"Helvetica,sans-Serif\" font-size=\"14.00\" fill=\"#000000\">gini = 0.667</text>\n<text text-anchor=\"start\" x=\"427\" y=\"-617.8\" font-family=\"Helvetica,sans-Serif\" font-size=\"14.00\" fill=\"#000000\">samples = 150</text>\n<text text-anchor=\"start\" x=\"413\" y=\"-602.8\" font-family=\"Helvetica,sans-Serif\" font-size=\"14.00\" fill=\"#000000\">value = [50, 50, 50]</text>\n<text text-anchor=\"start\" x=\"428\" y=\"-587.8\" font-family=\"Helvetica,sans-Serif\" font-size=\"14.00\" fill=\"#000000\">class = setosa</text>\n</g>\n<!-- 1 -->\n<g id=\"node2\" class=\"node\">\n<title>1</title>\n<path fill=\"#e58139\" stroke=\"#000000\" d=\"M444.5,-536.5C444.5,-536.5 345.5,-536.5 345.5,-536.5 339.5,-536.5 333.5,-530.5 333.5,-524.5 333.5,-524.5 333.5,-480.5 333.5,-480.5 333.5,-474.5 339.5,-468.5 345.5,-468.5 345.5,-468.5 444.5,-468.5 444.5,-468.5 450.5,-468.5 456.5,-474.5 456.5,-480.5 456.5,-480.5 456.5,-524.5 456.5,-524.5 456.5,-530.5 450.5,-536.5 444.5,-536.5\"/>\n<text text-anchor=\"start\" x=\"365.5\" y=\"-521.3\" font-family=\"Helvetica,sans-Serif\" font-size=\"14.00\" fill=\"#000000\">gini = 0.0</text>\n<text text-anchor=\"start\" x=\"351\" y=\"-506.3\" font-family=\"Helvetica,sans-Serif\" font-size=\"14.00\" fill=\"#000000\">samples = 50</text>\n<text text-anchor=\"start\" x=\"341.5\" y=\"-491.3\" font-family=\"Helvetica,sans-Serif\" font-size=\"14.00\" fill=\"#000000\">value = [50, 0, 0]</text>\n<text text-anchor=\"start\" x=\"348\" y=\"-476.3\" font-family=\"Helvetica,sans-Serif\" font-size=\"14.00\" fill=\"#000000\">class = setosa</text>\n</g>\n<!-- 0&#45;&gt;1 -->\n<g id=\"edge1\" class=\"edge\">\n<title>0&#45;&gt;1</title>\n<path fill=\"none\" stroke=\"#000000\" d=\"M447.0199,-579.8796C439.4797,-568.6636 431.3113,-556.5131 423.7309,-545.2372\"/>\n<polygon fill=\"#000000\" stroke=\"#000000\" points=\"426.5527,-543.1612 418.0689,-536.8149 420.7434,-547.0667 426.5527,-543.1612\"/>\n<text text-anchor=\"middle\" x=\"413.2608\" y=\"-557.6482\" font-family=\"Helvetica,sans-Serif\" font-size=\"14.00\" fill=\"#000000\">True</text>\n</g>\n<!-- 2 -->\n<g id=\"node3\" class=\"node\">\n<title>2</title>\n<path fill=\"#ffffff\" stroke=\"#000000\" d=\"M623.5,-544C623.5,-544 486.5,-544 486.5,-544 480.5,-544 474.5,-538 474.5,-532 474.5,-532 474.5,-473 474.5,-473 474.5,-467 480.5,-461 486.5,-461 486.5,-461 623.5,-461 623.5,-461 629.5,-461 635.5,-467 635.5,-473 635.5,-473 635.5,-532 635.5,-532 635.5,-538 629.5,-544 623.5,-544\"/>\n<text text-anchor=\"start\" x=\"482.5\" y=\"-528.8\" font-family=\"Helvetica,sans-Serif\" font-size=\"14.00\" fill=\"#000000\">petal width (cm) ≤ 1.75</text>\n<text text-anchor=\"start\" x=\"525.5\" y=\"-513.8\" font-family=\"Helvetica,sans-Serif\" font-size=\"14.00\" fill=\"#000000\">gini = 0.5</text>\n<text text-anchor=\"start\" x=\"507\" y=\"-498.8\" font-family=\"Helvetica,sans-Serif\" font-size=\"14.00\" fill=\"#000000\">samples = 100</text>\n<text text-anchor=\"start\" x=\"497.5\" y=\"-483.8\" font-family=\"Helvetica,sans-Serif\" font-size=\"14.00\" fill=\"#000000\">value = [0, 50, 50]</text>\n<text text-anchor=\"start\" x=\"499\" y=\"-468.8\" font-family=\"Helvetica,sans-Serif\" font-size=\"14.00\" fill=\"#000000\">class = versicolor</text>\n</g>\n<!-- 0&#45;&gt;2 -->\n<g id=\"edge2\" class=\"edge\">\n<title>0&#45;&gt;2</title>\n<path fill=\"none\" stroke=\"#000000\" d=\"M502.9801,-579.8796C508.8531,-571.1434 515.1073,-561.8404 521.1679,-552.8253\"/>\n<polygon fill=\"#000000\" stroke=\"#000000\" points=\"524.2259,-554.5498 526.9005,-544.2981 518.4166,-550.6444 524.2259,-554.5498\"/>\n<text text-anchor=\"middle\" x=\"531.7085\" y=\"-565.1314\" font-family=\"Helvetica,sans-Serif\" font-size=\"14.00\" fill=\"#000000\">False</text>\n</g>\n<!-- 3 -->\n<g id=\"node4\" class=\"node\">\n<title>3</title>\n<path fill=\"#4de88e\" stroke=\"#000000\" d=\"M508.5,-425C508.5,-425 365.5,-425 365.5,-425 359.5,-425 353.5,-419 353.5,-413 353.5,-413 353.5,-354 353.5,-354 353.5,-348 359.5,-342 365.5,-342 365.5,-342 508.5,-342 508.5,-342 514.5,-342 520.5,-348 520.5,-354 520.5,-354 520.5,-413 520.5,-413 520.5,-419 514.5,-425 508.5,-425\"/>\n<text text-anchor=\"start\" x=\"361.5\" y=\"-409.8\" font-family=\"Helvetica,sans-Serif\" font-size=\"14.00\" fill=\"#000000\">petal length (cm) ≤ 4.95</text>\n<text text-anchor=\"start\" x=\"399\" y=\"-394.8\" font-family=\"Helvetica,sans-Serif\" font-size=\"14.00\" fill=\"#000000\">gini = 0.168</text>\n<text text-anchor=\"start\" x=\"393\" y=\"-379.8\" font-family=\"Helvetica,sans-Serif\" font-size=\"14.00\" fill=\"#000000\">samples = 54</text>\n<text text-anchor=\"start\" x=\"383.5\" y=\"-364.8\" font-family=\"Helvetica,sans-Serif\" font-size=\"14.00\" fill=\"#000000\">value = [0, 49, 5]</text>\n<text text-anchor=\"start\" x=\"381\" y=\"-349.8\" font-family=\"Helvetica,sans-Serif\" font-size=\"14.00\" fill=\"#000000\">class = versicolor</text>\n</g>\n<!-- 2&#45;&gt;3 -->\n<g id=\"edge3\" class=\"edge\">\n<title>2&#45;&gt;3</title>\n<path fill=\"none\" stroke=\"#000000\" d=\"M513.7293,-460.8796C504.6201,-451.6931 494.8892,-441.8798 485.5224,-432.4336\"/>\n<polygon fill=\"#000000\" stroke=\"#000000\" points=\"487.9733,-429.9345 478.4468,-425.2981 483.0027,-434.8634 487.9733,-429.9345\"/>\n</g>\n<!-- 12 -->\n<g id=\"node13\" class=\"node\">\n<title>12</title>\n<path fill=\"#843de6\" stroke=\"#000000\" d=\"M745.5,-425C745.5,-425 602.5,-425 602.5,-425 596.5,-425 590.5,-419 590.5,-413 590.5,-413 590.5,-354 590.5,-354 590.5,-348 596.5,-342 602.5,-342 602.5,-342 745.5,-342 745.5,-342 751.5,-342 757.5,-348 757.5,-354 757.5,-354 757.5,-413 757.5,-413 757.5,-419 751.5,-425 745.5,-425\"/>\n<text text-anchor=\"start\" x=\"598.5\" y=\"-409.8\" font-family=\"Helvetica,sans-Serif\" font-size=\"14.00\" fill=\"#000000\">petal length (cm) ≤ 4.85</text>\n<text text-anchor=\"start\" x=\"636\" y=\"-394.8\" font-family=\"Helvetica,sans-Serif\" font-size=\"14.00\" fill=\"#000000\">gini = 0.043</text>\n<text text-anchor=\"start\" x=\"630\" y=\"-379.8\" font-family=\"Helvetica,sans-Serif\" font-size=\"14.00\" fill=\"#000000\">samples = 46</text>\n<text text-anchor=\"start\" x=\"620.5\" y=\"-364.8\" font-family=\"Helvetica,sans-Serif\" font-size=\"14.00\" fill=\"#000000\">value = [0, 1, 45]</text>\n<text text-anchor=\"start\" x=\"622.5\" y=\"-349.8\" font-family=\"Helvetica,sans-Serif\" font-size=\"14.00\" fill=\"#000000\">class = virginica</text>\n</g>\n<!-- 2&#45;&gt;12 -->\n<g id=\"edge12\" class=\"edge\">\n<title>2&#45;&gt;12</title>\n<path fill=\"none\" stroke=\"#000000\" d=\"M596.6204,-460.8796C605.8069,-451.6931 615.6202,-441.8798 625.0664,-432.4336\"/>\n<polygon fill=\"#000000\" stroke=\"#000000\" points=\"627.6057,-434.8441 632.2019,-425.2981 622.6559,-429.8943 627.6057,-434.8441\"/>\n</g>\n<!-- 4 -->\n<g id=\"node5\" class=\"node\">\n<title>4</title>\n<path fill=\"#3de684\" stroke=\"#000000\" d=\"M274.5,-306C274.5,-306 137.5,-306 137.5,-306 131.5,-306 125.5,-300 125.5,-294 125.5,-294 125.5,-235 125.5,-235 125.5,-229 131.5,-223 137.5,-223 137.5,-223 274.5,-223 274.5,-223 280.5,-223 286.5,-229 286.5,-235 286.5,-235 286.5,-294 286.5,-294 286.5,-300 280.5,-306 274.5,-306\"/>\n<text text-anchor=\"start\" x=\"133.5\" y=\"-290.8\" font-family=\"Helvetica,sans-Serif\" font-size=\"14.00\" fill=\"#000000\">petal width (cm) ≤ 1.65</text>\n<text text-anchor=\"start\" x=\"168\" y=\"-275.8\" font-family=\"Helvetica,sans-Serif\" font-size=\"14.00\" fill=\"#000000\">gini = 0.041</text>\n<text text-anchor=\"start\" x=\"162\" y=\"-260.8\" font-family=\"Helvetica,sans-Serif\" font-size=\"14.00\" fill=\"#000000\">samples = 48</text>\n<text text-anchor=\"start\" x=\"152.5\" y=\"-245.8\" font-family=\"Helvetica,sans-Serif\" font-size=\"14.00\" fill=\"#000000\">value = [0, 47, 1]</text>\n<text text-anchor=\"start\" x=\"150\" y=\"-230.8\" font-family=\"Helvetica,sans-Serif\" font-size=\"14.00\" fill=\"#000000\">class = versicolor</text>\n</g>\n<!-- 3&#45;&gt;4 -->\n<g id=\"edge4\" class=\"edge\">\n<title>3&#45;&gt;4</title>\n<path fill=\"none\" stroke=\"#000000\" d=\"M356.2074,-341.8796C336.6886,-331.8244 315.712,-321.0183 295.8077,-310.7645\"/>\n<polygon fill=\"#000000\" stroke=\"#000000\" points=\"297.2396,-307.5651 286.747,-306.0969 294.0339,-313.788 297.2396,-307.5651\"/>\n</g>\n<!-- 7 -->\n<g id=\"node8\" class=\"node\">\n<title>7</title>\n<path fill=\"#c09cf2\" stroke=\"#000000\" d=\"M505.5,-306C505.5,-306 368.5,-306 368.5,-306 362.5,-306 356.5,-300 356.5,-294 356.5,-294 356.5,-235 356.5,-235 356.5,-229 362.5,-223 368.5,-223 368.5,-223 505.5,-223 505.5,-223 511.5,-223 517.5,-229 517.5,-235 517.5,-235 517.5,-294 517.5,-294 517.5,-300 511.5,-306 505.5,-306\"/>\n<text text-anchor=\"start\" x=\"364.5\" y=\"-290.8\" font-family=\"Helvetica,sans-Serif\" font-size=\"14.00\" fill=\"#000000\">petal width (cm) ≤ 1.55</text>\n<text text-anchor=\"start\" x=\"399\" y=\"-275.8\" font-family=\"Helvetica,sans-Serif\" font-size=\"14.00\" fill=\"#000000\">gini = 0.444</text>\n<text text-anchor=\"start\" x=\"397.5\" y=\"-260.8\" font-family=\"Helvetica,sans-Serif\" font-size=\"14.00\" fill=\"#000000\">samples = 6</text>\n<text text-anchor=\"start\" x=\"387.5\" y=\"-245.8\" font-family=\"Helvetica,sans-Serif\" font-size=\"14.00\" fill=\"#000000\">value = [0, 2, 4]</text>\n<text text-anchor=\"start\" x=\"385.5\" y=\"-230.8\" font-family=\"Helvetica,sans-Serif\" font-size=\"14.00\" fill=\"#000000\">class = virginica</text>\n</g>\n<!-- 3&#45;&gt;7 -->\n<g id=\"edge7\" class=\"edge\">\n<title>3&#45;&gt;7</title>\n<path fill=\"none\" stroke=\"#000000\" d=\"M437,-341.8796C437,-333.6838 437,-324.9891 437,-316.5013\"/>\n<polygon fill=\"#000000\" stroke=\"#000000\" points=\"440.5001,-316.298 437,-306.2981 433.5001,-316.2981 440.5001,-316.298\"/>\n</g>\n<!-- 5 -->\n<g id=\"node6\" class=\"node\">\n<title>5</title>\n<path fill=\"#39e581\" stroke=\"#000000\" d=\"M116,-179.5C116,-179.5 12,-179.5 12,-179.5 6,-179.5 0,-173.5 0,-167.5 0,-167.5 0,-123.5 0,-123.5 0,-117.5 6,-111.5 12,-111.5 12,-111.5 116,-111.5 116,-111.5 122,-111.5 128,-117.5 128,-123.5 128,-123.5 128,-167.5 128,-167.5 128,-173.5 122,-179.5 116,-179.5\"/>\n<text text-anchor=\"start\" x=\"34.5\" y=\"-164.3\" font-family=\"Helvetica,sans-Serif\" font-size=\"14.00\" fill=\"#000000\">gini = 0.0</text>\n<text text-anchor=\"start\" x=\"20\" y=\"-149.3\" font-family=\"Helvetica,sans-Serif\" font-size=\"14.00\" fill=\"#000000\">samples = 47</text>\n<text text-anchor=\"start\" x=\"10.5\" y=\"-134.3\" font-family=\"Helvetica,sans-Serif\" font-size=\"14.00\" fill=\"#000000\">value = [0, 47, 0]</text>\n<text text-anchor=\"start\" x=\"8\" y=\"-119.3\" font-family=\"Helvetica,sans-Serif\" font-size=\"14.00\" fill=\"#000000\">class = versicolor</text>\n</g>\n<!-- 4&#45;&gt;5 -->\n<g id=\"edge5\" class=\"edge\">\n<title>4&#45;&gt;5</title>\n<path fill=\"none\" stroke=\"#000000\" d=\"M156.3353,-222.8796C142.1642,-211.0038 126.743,-198.0804 112.6342,-186.2568\"/>\n<polygon fill=\"#000000\" stroke=\"#000000\" points=\"114.8598,-183.5554 104.9472,-179.8149 110.3637,-188.9206 114.8598,-183.5554\"/>\n</g>\n<!-- 6 -->\n<g id=\"node7\" class=\"node\">\n<title>6</title>\n<path fill=\"#8139e5\" stroke=\"#000000\" d=\"M253.5,-179.5C253.5,-179.5 158.5,-179.5 158.5,-179.5 152.5,-179.5 146.5,-173.5 146.5,-167.5 146.5,-167.5 146.5,-123.5 146.5,-123.5 146.5,-117.5 152.5,-111.5 158.5,-111.5 158.5,-111.5 253.5,-111.5 253.5,-111.5 259.5,-111.5 265.5,-117.5 265.5,-123.5 265.5,-123.5 265.5,-167.5 265.5,-167.5 265.5,-173.5 259.5,-179.5 253.5,-179.5\"/>\n<text text-anchor=\"start\" x=\"176.5\" y=\"-164.3\" font-family=\"Helvetica,sans-Serif\" font-size=\"14.00\" fill=\"#000000\">gini = 0.0</text>\n<text text-anchor=\"start\" x=\"166.5\" y=\"-149.3\" font-family=\"Helvetica,sans-Serif\" font-size=\"14.00\" fill=\"#000000\">samples = 1</text>\n<text text-anchor=\"start\" x=\"156.5\" y=\"-134.3\" font-family=\"Helvetica,sans-Serif\" font-size=\"14.00\" fill=\"#000000\">value = [0, 0, 1]</text>\n<text text-anchor=\"start\" x=\"154.5\" y=\"-119.3\" font-family=\"Helvetica,sans-Serif\" font-size=\"14.00\" fill=\"#000000\">class = virginica</text>\n</g>\n<!-- 4&#45;&gt;6 -->\n<g id=\"edge6\" class=\"edge\">\n<title>4&#45;&gt;6</title>\n<path fill=\"none\" stroke=\"#000000\" d=\"M206,-222.8796C206,-212.2134 206,-200.7021 206,-189.9015\"/>\n<polygon fill=\"#000000\" stroke=\"#000000\" points=\"209.5001,-189.8149 206,-179.8149 202.5001,-189.815 209.5001,-189.8149\"/>\n</g>\n<!-- 8 -->\n<g id=\"node9\" class=\"node\">\n<title>8</title>\n<path fill=\"#8139e5\" stroke=\"#000000\" d=\"M390.5,-179.5C390.5,-179.5 295.5,-179.5 295.5,-179.5 289.5,-179.5 283.5,-173.5 283.5,-167.5 283.5,-167.5 283.5,-123.5 283.5,-123.5 283.5,-117.5 289.5,-111.5 295.5,-111.5 295.5,-111.5 390.5,-111.5 390.5,-111.5 396.5,-111.5 402.5,-117.5 402.5,-123.5 402.5,-123.5 402.5,-167.5 402.5,-167.5 402.5,-173.5 396.5,-179.5 390.5,-179.5\"/>\n<text text-anchor=\"start\" x=\"313.5\" y=\"-164.3\" font-family=\"Helvetica,sans-Serif\" font-size=\"14.00\" fill=\"#000000\">gini = 0.0</text>\n<text text-anchor=\"start\" x=\"303.5\" y=\"-149.3\" font-family=\"Helvetica,sans-Serif\" font-size=\"14.00\" fill=\"#000000\">samples = 3</text>\n<text text-anchor=\"start\" x=\"293.5\" y=\"-134.3\" font-family=\"Helvetica,sans-Serif\" font-size=\"14.00\" fill=\"#000000\">value = [0, 0, 3]</text>\n<text text-anchor=\"start\" x=\"291.5\" y=\"-119.3\" font-family=\"Helvetica,sans-Serif\" font-size=\"14.00\" fill=\"#000000\">class = virginica</text>\n</g>\n<!-- 7&#45;&gt;8 -->\n<g id=\"edge8\" class=\"edge\">\n<title>7&#45;&gt;8</title>\n<path fill=\"none\" stroke=\"#000000\" d=\"M404.1234,-222.8796C395.1768,-211.5536 385.4776,-199.2748 376.4971,-187.9058\"/>\n<polygon fill=\"#000000\" stroke=\"#000000\" points=\"379.051,-185.4926 370.1059,-179.8149 373.558,-189.8316 379.051,-185.4926\"/>\n</g>\n<!-- 9 -->\n<g id=\"node10\" class=\"node\">\n<title>9</title>\n<path fill=\"#9cf2c0\" stroke=\"#000000\" d=\"M579.5,-187C579.5,-187 432.5,-187 432.5,-187 426.5,-187 420.5,-181 420.5,-175 420.5,-175 420.5,-116 420.5,-116 420.5,-110 426.5,-104 432.5,-104 432.5,-104 579.5,-104 579.5,-104 585.5,-104 591.5,-110 591.5,-116 591.5,-116 591.5,-175 591.5,-175 591.5,-181 585.5,-187 579.5,-187\"/>\n<text text-anchor=\"start\" x=\"428.5\" y=\"-171.8\" font-family=\"Helvetica,sans-Serif\" font-size=\"14.00\" fill=\"#000000\">sepal length (cm) ≤ 6.95</text>\n<text text-anchor=\"start\" x=\"468\" y=\"-156.8\" font-family=\"Helvetica,sans-Serif\" font-size=\"14.00\" fill=\"#000000\">gini = 0.444</text>\n<text text-anchor=\"start\" x=\"466.5\" y=\"-141.8\" font-family=\"Helvetica,sans-Serif\" font-size=\"14.00\" fill=\"#000000\">samples = 3</text>\n<text text-anchor=\"start\" x=\"456.5\" y=\"-126.8\" font-family=\"Helvetica,sans-Serif\" font-size=\"14.00\" fill=\"#000000\">value = [0, 2, 1]</text>\n<text text-anchor=\"start\" x=\"450\" y=\"-111.8\" font-family=\"Helvetica,sans-Serif\" font-size=\"14.00\" fill=\"#000000\">class = versicolor</text>\n</g>\n<!-- 7&#45;&gt;9 -->\n<g id=\"edge9\" class=\"edge\">\n<title>7&#45;&gt;9</title>\n<path fill=\"none\" stroke=\"#000000\" d=\"M461.1329,-222.8796C466.1461,-214.2335 471.4813,-205.0322 476.6581,-196.1042\"/>\n<polygon fill=\"#000000\" stroke=\"#000000\" points=\"479.7758,-197.7047 481.7641,-187.2981 473.7202,-194.1934 479.7758,-197.7047\"/>\n</g>\n<!-- 10 -->\n<g id=\"node11\" class=\"node\">\n<title>10</title>\n<path fill=\"#39e581\" stroke=\"#000000\" d=\"M487,-68C487,-68 383,-68 383,-68 377,-68 371,-62 371,-56 371,-56 371,-12 371,-12 371,-6 377,0 383,0 383,0 487,0 487,0 493,0 499,-6 499,-12 499,-12 499,-56 499,-56 499,-62 493,-68 487,-68\"/>\n<text text-anchor=\"start\" x=\"405.5\" y=\"-52.8\" font-family=\"Helvetica,sans-Serif\" font-size=\"14.00\" fill=\"#000000\">gini = 0.0</text>\n<text text-anchor=\"start\" x=\"395.5\" y=\"-37.8\" font-family=\"Helvetica,sans-Serif\" font-size=\"14.00\" fill=\"#000000\">samples = 2</text>\n<text text-anchor=\"start\" x=\"385.5\" y=\"-22.8\" font-family=\"Helvetica,sans-Serif\" font-size=\"14.00\" fill=\"#000000\">value = [0, 2, 0]</text>\n<text text-anchor=\"start\" x=\"379\" y=\"-7.8\" font-family=\"Helvetica,sans-Serif\" font-size=\"14.00\" fill=\"#000000\">class = versicolor</text>\n</g>\n<!-- 9&#45;&gt;10 -->\n<g id=\"edge10\" class=\"edge\">\n<title>9&#45;&gt;10</title>\n<path fill=\"none\" stroke=\"#000000\" d=\"M479.5622,-103.9815C473.944,-95.1585 468.0012,-85.8258 462.3497,-76.9506\"/>\n<polygon fill=\"#000000\" stroke=\"#000000\" points=\"465.1416,-74.8188 456.8181,-68.2637 459.2371,-78.5787 465.1416,-74.8188\"/>\n</g>\n<!-- 11 -->\n<g id=\"node12\" class=\"node\">\n<title>11</title>\n<path fill=\"#8139e5\" stroke=\"#000000\" d=\"M624.5,-68C624.5,-68 529.5,-68 529.5,-68 523.5,-68 517.5,-62 517.5,-56 517.5,-56 517.5,-12 517.5,-12 517.5,-6 523.5,0 529.5,0 529.5,0 624.5,0 624.5,0 630.5,0 636.5,-6 636.5,-12 636.5,-12 636.5,-56 636.5,-56 636.5,-62 630.5,-68 624.5,-68\"/>\n<text text-anchor=\"start\" x=\"547.5\" y=\"-52.8\" font-family=\"Helvetica,sans-Serif\" font-size=\"14.00\" fill=\"#000000\">gini = 0.0</text>\n<text text-anchor=\"start\" x=\"537.5\" y=\"-37.8\" font-family=\"Helvetica,sans-Serif\" font-size=\"14.00\" fill=\"#000000\">samples = 1</text>\n<text text-anchor=\"start\" x=\"527.5\" y=\"-22.8\" font-family=\"Helvetica,sans-Serif\" font-size=\"14.00\" fill=\"#000000\">value = [0, 0, 1]</text>\n<text text-anchor=\"start\" x=\"525.5\" y=\"-7.8\" font-family=\"Helvetica,sans-Serif\" font-size=\"14.00\" fill=\"#000000\">class = virginica</text>\n</g>\n<!-- 9&#45;&gt;11 -->\n<g id=\"edge11\" class=\"edge\">\n<title>9&#45;&gt;11</title>\n<path fill=\"none\" stroke=\"#000000\" d=\"M532.4378,-103.9815C538.056,-95.1585 543.9988,-85.8258 549.6503,-76.9506\"/>\n<polygon fill=\"#000000\" stroke=\"#000000\" points=\"552.7629,-78.5787 555.1819,-68.2637 546.8584,-74.8188 552.7629,-78.5787\"/>\n</g>\n<!-- 13 -->\n<g id=\"node14\" class=\"node\">\n<title>13</title>\n<path fill=\"#c09cf2\" stroke=\"#000000\" d=\"M747.5,-306C747.5,-306 600.5,-306 600.5,-306 594.5,-306 588.5,-300 588.5,-294 588.5,-294 588.5,-235 588.5,-235 588.5,-229 594.5,-223 600.5,-223 600.5,-223 747.5,-223 747.5,-223 753.5,-223 759.5,-229 759.5,-235 759.5,-235 759.5,-294 759.5,-294 759.5,-300 753.5,-306 747.5,-306\"/>\n<text text-anchor=\"start\" x=\"596.5\" y=\"-290.8\" font-family=\"Helvetica,sans-Serif\" font-size=\"14.00\" fill=\"#000000\">sepal length (cm) ≤ 5.95</text>\n<text text-anchor=\"start\" x=\"636\" y=\"-275.8\" font-family=\"Helvetica,sans-Serif\" font-size=\"14.00\" fill=\"#000000\">gini = 0.444</text>\n<text text-anchor=\"start\" x=\"634.5\" y=\"-260.8\" font-family=\"Helvetica,sans-Serif\" font-size=\"14.00\" fill=\"#000000\">samples = 3</text>\n<text text-anchor=\"start\" x=\"624.5\" y=\"-245.8\" font-family=\"Helvetica,sans-Serif\" font-size=\"14.00\" fill=\"#000000\">value = [0, 1, 2]</text>\n<text text-anchor=\"start\" x=\"622.5\" y=\"-230.8\" font-family=\"Helvetica,sans-Serif\" font-size=\"14.00\" fill=\"#000000\">class = virginica</text>\n</g>\n<!-- 12&#45;&gt;13 -->\n<g id=\"edge13\" class=\"edge\">\n<title>12&#45;&gt;13</title>\n<path fill=\"none\" stroke=\"#000000\" d=\"M674,-341.8796C674,-333.6838 674,-324.9891 674,-316.5013\"/>\n<polygon fill=\"#000000\" stroke=\"#000000\" points=\"677.5001,-316.298 674,-306.2981 670.5001,-316.2981 677.5001,-316.298\"/>\n</g>\n<!-- 16 -->\n<g id=\"node17\" class=\"node\">\n<title>16</title>\n<path fill=\"#8139e5\" stroke=\"#000000\" d=\"M888.5,-298.5C888.5,-298.5 789.5,-298.5 789.5,-298.5 783.5,-298.5 777.5,-292.5 777.5,-286.5 777.5,-286.5 777.5,-242.5 777.5,-242.5 777.5,-236.5 783.5,-230.5 789.5,-230.5 789.5,-230.5 888.5,-230.5 888.5,-230.5 894.5,-230.5 900.5,-236.5 900.5,-242.5 900.5,-242.5 900.5,-286.5 900.5,-286.5 900.5,-292.5 894.5,-298.5 888.5,-298.5\"/>\n<text text-anchor=\"start\" x=\"809.5\" y=\"-283.3\" font-family=\"Helvetica,sans-Serif\" font-size=\"14.00\" fill=\"#000000\">gini = 0.0</text>\n<text text-anchor=\"start\" x=\"795\" y=\"-268.3\" font-family=\"Helvetica,sans-Serif\" font-size=\"14.00\" fill=\"#000000\">samples = 43</text>\n<text text-anchor=\"start\" x=\"785.5\" y=\"-253.3\" font-family=\"Helvetica,sans-Serif\" font-size=\"14.00\" fill=\"#000000\">value = [0, 0, 43]</text>\n<text text-anchor=\"start\" x=\"787.5\" y=\"-238.3\" font-family=\"Helvetica,sans-Serif\" font-size=\"14.00\" fill=\"#000000\">class = virginica</text>\n</g>\n<!-- 12&#45;&gt;16 -->\n<g id=\"edge16\" class=\"edge\">\n<title>12&#45;&gt;16</title>\n<path fill=\"none\" stroke=\"#000000\" d=\"M731.709,-341.8796C748.407,-329.8368 766.5987,-316.7167 783.1793,-304.7586\"/>\n<polygon fill=\"#000000\" stroke=\"#000000\" points=\"785.6232,-307.3113 791.6865,-298.623 781.5285,-301.6339 785.6232,-307.3113\"/>\n</g>\n<!-- 14 -->\n<g id=\"node15\" class=\"node\">\n<title>14</title>\n<path fill=\"#39e581\" stroke=\"#000000\" d=\"M726,-179.5C726,-179.5 622,-179.5 622,-179.5 616,-179.5 610,-173.5 610,-167.5 610,-167.5 610,-123.5 610,-123.5 610,-117.5 616,-111.5 622,-111.5 622,-111.5 726,-111.5 726,-111.5 732,-111.5 738,-117.5 738,-123.5 738,-123.5 738,-167.5 738,-167.5 738,-173.5 732,-179.5 726,-179.5\"/>\n<text text-anchor=\"start\" x=\"644.5\" y=\"-164.3\" font-family=\"Helvetica,sans-Serif\" font-size=\"14.00\" fill=\"#000000\">gini = 0.0</text>\n<text text-anchor=\"start\" x=\"634.5\" y=\"-149.3\" font-family=\"Helvetica,sans-Serif\" font-size=\"14.00\" fill=\"#000000\">samples = 1</text>\n<text text-anchor=\"start\" x=\"624.5\" y=\"-134.3\" font-family=\"Helvetica,sans-Serif\" font-size=\"14.00\" fill=\"#000000\">value = [0, 1, 0]</text>\n<text text-anchor=\"start\" x=\"618\" y=\"-119.3\" font-family=\"Helvetica,sans-Serif\" font-size=\"14.00\" fill=\"#000000\">class = versicolor</text>\n</g>\n<!-- 13&#45;&gt;14 -->\n<g id=\"edge14\" class=\"edge\">\n<title>13&#45;&gt;14</title>\n<path fill=\"none\" stroke=\"#000000\" d=\"M674,-222.8796C674,-212.2134 674,-200.7021 674,-189.9015\"/>\n<polygon fill=\"#000000\" stroke=\"#000000\" points=\"677.5001,-189.8149 674,-179.8149 670.5001,-189.815 677.5001,-189.8149\"/>\n</g>\n<!-- 15 -->\n<g id=\"node16\" class=\"node\">\n<title>15</title>\n<path fill=\"#8139e5\" stroke=\"#000000\" d=\"M863.5,-179.5C863.5,-179.5 768.5,-179.5 768.5,-179.5 762.5,-179.5 756.5,-173.5 756.5,-167.5 756.5,-167.5 756.5,-123.5 756.5,-123.5 756.5,-117.5 762.5,-111.5 768.5,-111.5 768.5,-111.5 863.5,-111.5 863.5,-111.5 869.5,-111.5 875.5,-117.5 875.5,-123.5 875.5,-123.5 875.5,-167.5 875.5,-167.5 875.5,-173.5 869.5,-179.5 863.5,-179.5\"/>\n<text text-anchor=\"start\" x=\"786.5\" y=\"-164.3\" font-family=\"Helvetica,sans-Serif\" font-size=\"14.00\" fill=\"#000000\">gini = 0.0</text>\n<text text-anchor=\"start\" x=\"776.5\" y=\"-149.3\" font-family=\"Helvetica,sans-Serif\" font-size=\"14.00\" fill=\"#000000\">samples = 2</text>\n<text text-anchor=\"start\" x=\"766.5\" y=\"-134.3\" font-family=\"Helvetica,sans-Serif\" font-size=\"14.00\" fill=\"#000000\">value = [0, 0, 2]</text>\n<text text-anchor=\"start\" x=\"764.5\" y=\"-119.3\" font-family=\"Helvetica,sans-Serif\" font-size=\"14.00\" fill=\"#000000\">class = virginica</text>\n</g>\n<!-- 13&#45;&gt;15 -->\n<g id=\"edge15\" class=\"edge\">\n<title>13&#45;&gt;15</title>\n<path fill=\"none\" stroke=\"#000000\" d=\"M723.6647,-222.8796C737.8358,-211.0038 753.257,-198.0804 767.3658,-186.2568\"/>\n<polygon fill=\"#000000\" stroke=\"#000000\" points=\"769.6363,-188.9206 775.0528,-179.8149 765.1402,-183.5554 769.6363,-188.9206\"/>\n</g>\n</g>\n</svg>\n"
          },
          "metadata": {
            "tags": []
          },
          "execution_count": 14
        }
      ]
    },
    {
      "cell_type": "markdown",
      "metadata": {
        "id": "O0cuaIwgDZCm"
      },
      "source": [
        "- 엔트로피를 활용한 트리"
      ]
    },
    {
      "cell_type": "code",
      "metadata": {
        "id": "7HkXD-tBC-bD"
      },
      "source": [
        "clf2 = tree.DecisionTreeClassifier(criterion='entropy')# criterion을 entropy로 설정"
      ],
      "execution_count": null,
      "outputs": []
    },
    {
      "cell_type": "code",
      "metadata": {
        "colab": {
          "base_uri": "https://localhost:8080/"
        },
        "id": "yAhpZ8_UEqHt",
        "outputId": "95ff7bfc-c48b-4eb8-9f1d-b23c30701f5e"
      },
      "source": [
        "clf2.fit(iris.data,iris.target)"
      ],
      "execution_count": null,
      "outputs": [
        {
          "output_type": "execute_result",
          "data": {
            "text/plain": [
              "DecisionTreeClassifier(ccp_alpha=0.0, class_weight=None, criterion='entropy',\n",
              "                       max_depth=None, max_features=None, max_leaf_nodes=None,\n",
              "                       min_impurity_decrease=0.0, min_impurity_split=None,\n",
              "                       min_samples_leaf=1, min_samples_split=2,\n",
              "                       min_weight_fraction_leaf=0.0, presort='deprecated',\n",
              "                       random_state=None, splitter='best')"
            ]
          },
          "metadata": {
            "tags": []
          },
          "execution_count": 16
        }
      ]
    },
    {
      "cell_type": "code",
      "metadata": {
        "id": "AuO0wfMKEzRo"
      },
      "source": [
        "dot_data2=tree.export_graphviz(clf2, out_file=None,\n",
        "                              feature_names=iris.feature_names,\n",
        "                              class_names=iris.target_names,\n",
        "                              filled=True, rounded=True,\n",
        "                              special_characters=True)\n",
        "\n",
        "graph2 = graphviz.Source(dot_data2)"
      ],
      "execution_count": null,
      "outputs": []
    },
    {
      "cell_type": "code",
      "metadata": {
        "colab": {
          "base_uri": "https://localhost:8080/",
          "height": 916
        },
        "id": "ZyiKhr7wE5Tl",
        "outputId": "34cdef43-0bd4-4fbc-cd17-f8b1a453009d"
      },
      "source": [
        "graph2\n",
        "# 너무 복잡한 모델을 설계하면 오버피팅의 위험이 있다. -> 프루닝으로 해결가능"
      ],
      "execution_count": null,
      "outputs": [
        {
          "output_type": "execute_result",
          "data": {
            "text/plain": [
              "<graphviz.files.Source at 0x7fc788e7ac50>"
            ],
            "image/svg+xml": "<?xml version=\"1.0\" encoding=\"UTF-8\" standalone=\"no\"?>\n<!DOCTYPE svg PUBLIC \"-//W3C//DTD SVG 1.1//EN\"\n \"http://www.w3.org/Graphics/SVG/1.1/DTD/svg11.dtd\">\n<!-- Generated by graphviz version 2.40.1 (20161225.0304)\n -->\n<!-- Title: Tree Pages: 1 -->\n<svg width=\"905pt\" height=\"671pt\"\n viewBox=\"0.00 0.00 904.50 671.00\" xmlns=\"http://www.w3.org/2000/svg\" xmlns:xlink=\"http://www.w3.org/1999/xlink\">\n<g id=\"graph0\" class=\"graph\" transform=\"scale(1 1) rotate(0) translate(4 667)\">\n<title>Tree</title>\n<polygon fill=\"#ffffff\" stroke=\"transparent\" points=\"-4,4 -4,-667 900.5,-667 900.5,4 -4,4\"/>\n<!-- 0 -->\n<g id=\"node1\" class=\"node\">\n<title>0</title>\n<path fill=\"#ffffff\" stroke=\"#000000\" d=\"M543.5,-663C543.5,-663 400.5,-663 400.5,-663 394.5,-663 388.5,-657 388.5,-651 388.5,-651 388.5,-592 388.5,-592 388.5,-586 394.5,-580 400.5,-580 400.5,-580 543.5,-580 543.5,-580 549.5,-580 555.5,-586 555.5,-592 555.5,-592 555.5,-651 555.5,-651 555.5,-657 549.5,-663 543.5,-663\"/>\n<text text-anchor=\"start\" x=\"396.5\" y=\"-647.8\" font-family=\"Helvetica,sans-Serif\" font-size=\"14.00\" fill=\"#000000\">petal length (cm) ≤ 2.45</text>\n<text text-anchor=\"start\" x=\"421\" y=\"-632.8\" font-family=\"Helvetica,sans-Serif\" font-size=\"14.00\" fill=\"#000000\">entropy = 1.585</text>\n<text text-anchor=\"start\" x=\"424\" y=\"-617.8\" font-family=\"Helvetica,sans-Serif\" font-size=\"14.00\" fill=\"#000000\">samples = 150</text>\n<text text-anchor=\"start\" x=\"410\" y=\"-602.8\" font-family=\"Helvetica,sans-Serif\" font-size=\"14.00\" fill=\"#000000\">value = [50, 50, 50]</text>\n<text text-anchor=\"start\" x=\"425\" y=\"-587.8\" font-family=\"Helvetica,sans-Serif\" font-size=\"14.00\" fill=\"#000000\">class = setosa</text>\n</g>\n<!-- 1 -->\n<g id=\"node2\" class=\"node\">\n<title>1</title>\n<path fill=\"#e58139\" stroke=\"#000000\" d=\"M441.5,-536.5C441.5,-536.5 342.5,-536.5 342.5,-536.5 336.5,-536.5 330.5,-530.5 330.5,-524.5 330.5,-524.5 330.5,-480.5 330.5,-480.5 330.5,-474.5 336.5,-468.5 342.5,-468.5 342.5,-468.5 441.5,-468.5 441.5,-468.5 447.5,-468.5 453.5,-474.5 453.5,-480.5 453.5,-480.5 453.5,-524.5 453.5,-524.5 453.5,-530.5 447.5,-536.5 441.5,-536.5\"/>\n<text text-anchor=\"start\" x=\"349.5\" y=\"-521.3\" font-family=\"Helvetica,sans-Serif\" font-size=\"14.00\" fill=\"#000000\">entropy = 0.0</text>\n<text text-anchor=\"start\" x=\"348\" y=\"-506.3\" font-family=\"Helvetica,sans-Serif\" font-size=\"14.00\" fill=\"#000000\">samples = 50</text>\n<text text-anchor=\"start\" x=\"338.5\" y=\"-491.3\" font-family=\"Helvetica,sans-Serif\" font-size=\"14.00\" fill=\"#000000\">value = [50, 0, 0]</text>\n<text text-anchor=\"start\" x=\"345\" y=\"-476.3\" font-family=\"Helvetica,sans-Serif\" font-size=\"14.00\" fill=\"#000000\">class = setosa</text>\n</g>\n<!-- 0&#45;&gt;1 -->\n<g id=\"edge1\" class=\"edge\">\n<title>0&#45;&gt;1</title>\n<path fill=\"none\" stroke=\"#000000\" d=\"M444.0199,-579.8796C436.4797,-568.6636 428.3113,-556.5131 420.7309,-545.2372\"/>\n<polygon fill=\"#000000\" stroke=\"#000000\" points=\"423.5527,-543.1612 415.0689,-536.8149 417.7434,-547.0667 423.5527,-543.1612\"/>\n<text text-anchor=\"middle\" x=\"410.2608\" y=\"-557.6482\" font-family=\"Helvetica,sans-Serif\" font-size=\"14.00\" fill=\"#000000\">True</text>\n</g>\n<!-- 2 -->\n<g id=\"node3\" class=\"node\">\n<title>2</title>\n<path fill=\"#ffffff\" stroke=\"#000000\" d=\"M620.5,-544C620.5,-544 483.5,-544 483.5,-544 477.5,-544 471.5,-538 471.5,-532 471.5,-532 471.5,-473 471.5,-473 471.5,-467 477.5,-461 483.5,-461 483.5,-461 620.5,-461 620.5,-461 626.5,-461 632.5,-467 632.5,-473 632.5,-473 632.5,-532 632.5,-532 632.5,-538 626.5,-544 620.5,-544\"/>\n<text text-anchor=\"start\" x=\"479.5\" y=\"-528.8\" font-family=\"Helvetica,sans-Serif\" font-size=\"14.00\" fill=\"#000000\">petal width (cm) ≤ 1.75</text>\n<text text-anchor=\"start\" x=\"509.5\" y=\"-513.8\" font-family=\"Helvetica,sans-Serif\" font-size=\"14.00\" fill=\"#000000\">entropy = 1.0</text>\n<text text-anchor=\"start\" x=\"504\" y=\"-498.8\" font-family=\"Helvetica,sans-Serif\" font-size=\"14.00\" fill=\"#000000\">samples = 100</text>\n<text text-anchor=\"start\" x=\"494.5\" y=\"-483.8\" font-family=\"Helvetica,sans-Serif\" font-size=\"14.00\" fill=\"#000000\">value = [0, 50, 50]</text>\n<text text-anchor=\"start\" x=\"496\" y=\"-468.8\" font-family=\"Helvetica,sans-Serif\" font-size=\"14.00\" fill=\"#000000\">class = versicolor</text>\n</g>\n<!-- 0&#45;&gt;2 -->\n<g id=\"edge2\" class=\"edge\">\n<title>0&#45;&gt;2</title>\n<path fill=\"none\" stroke=\"#000000\" d=\"M499.9801,-579.8796C505.8531,-571.1434 512.1073,-561.8404 518.1679,-552.8253\"/>\n<polygon fill=\"#000000\" stroke=\"#000000\" points=\"521.2259,-554.5498 523.9005,-544.2981 515.4166,-550.6444 521.2259,-554.5498\"/>\n<text text-anchor=\"middle\" x=\"528.7085\" y=\"-565.1314\" font-family=\"Helvetica,sans-Serif\" font-size=\"14.00\" fill=\"#000000\">False</text>\n</g>\n<!-- 3 -->\n<g id=\"node4\" class=\"node\">\n<title>3</title>\n<path fill=\"#4de88e\" stroke=\"#000000\" d=\"M506.5,-425C506.5,-425 363.5,-425 363.5,-425 357.5,-425 351.5,-419 351.5,-413 351.5,-413 351.5,-354 351.5,-354 351.5,-348 357.5,-342 363.5,-342 363.5,-342 506.5,-342 506.5,-342 512.5,-342 518.5,-348 518.5,-354 518.5,-354 518.5,-413 518.5,-413 518.5,-419 512.5,-425 506.5,-425\"/>\n<text text-anchor=\"start\" x=\"359.5\" y=\"-409.8\" font-family=\"Helvetica,sans-Serif\" font-size=\"14.00\" fill=\"#000000\">petal length (cm) ≤ 4.95</text>\n<text text-anchor=\"start\" x=\"384\" y=\"-394.8\" font-family=\"Helvetica,sans-Serif\" font-size=\"14.00\" fill=\"#000000\">entropy = 0.445</text>\n<text text-anchor=\"start\" x=\"391\" y=\"-379.8\" font-family=\"Helvetica,sans-Serif\" font-size=\"14.00\" fill=\"#000000\">samples = 54</text>\n<text text-anchor=\"start\" x=\"381.5\" y=\"-364.8\" font-family=\"Helvetica,sans-Serif\" font-size=\"14.00\" fill=\"#000000\">value = [0, 49, 5]</text>\n<text text-anchor=\"start\" x=\"379\" y=\"-349.8\" font-family=\"Helvetica,sans-Serif\" font-size=\"14.00\" fill=\"#000000\">class = versicolor</text>\n</g>\n<!-- 2&#45;&gt;3 -->\n<g id=\"edge3\" class=\"edge\">\n<title>2&#45;&gt;3</title>\n<path fill=\"none\" stroke=\"#000000\" d=\"M511.0791,-460.8796C502.047,-451.6931 492.3987,-441.8798 483.1112,-432.4336\"/>\n<polygon fill=\"#000000\" stroke=\"#000000\" points=\"485.6023,-429.975 476.0956,-425.2981 480.6107,-434.8827 485.6023,-429.975\"/>\n</g>\n<!-- 12 -->\n<g id=\"node13\" class=\"node\">\n<title>12</title>\n<path fill=\"#843de6\" stroke=\"#000000\" d=\"M741.5,-425C741.5,-425 598.5,-425 598.5,-425 592.5,-425 586.5,-419 586.5,-413 586.5,-413 586.5,-354 586.5,-354 586.5,-348 592.5,-342 598.5,-342 598.5,-342 741.5,-342 741.5,-342 747.5,-342 753.5,-348 753.5,-354 753.5,-354 753.5,-413 753.5,-413 753.5,-419 747.5,-425 741.5,-425\"/>\n<text text-anchor=\"start\" x=\"594.5\" y=\"-409.8\" font-family=\"Helvetica,sans-Serif\" font-size=\"14.00\" fill=\"#000000\">petal length (cm) ≤ 4.85</text>\n<text text-anchor=\"start\" x=\"619\" y=\"-394.8\" font-family=\"Helvetica,sans-Serif\" font-size=\"14.00\" fill=\"#000000\">entropy = 0.151</text>\n<text text-anchor=\"start\" x=\"626\" y=\"-379.8\" font-family=\"Helvetica,sans-Serif\" font-size=\"14.00\" fill=\"#000000\">samples = 46</text>\n<text text-anchor=\"start\" x=\"616.5\" y=\"-364.8\" font-family=\"Helvetica,sans-Serif\" font-size=\"14.00\" fill=\"#000000\">value = [0, 1, 45]</text>\n<text text-anchor=\"start\" x=\"618.5\" y=\"-349.8\" font-family=\"Helvetica,sans-Serif\" font-size=\"14.00\" fill=\"#000000\">class = virginica</text>\n</g>\n<!-- 2&#45;&gt;12 -->\n<g id=\"edge12\" class=\"edge\">\n<title>2&#45;&gt;12</title>\n<path fill=\"none\" stroke=\"#000000\" d=\"M593.2707,-460.8796C602.3799,-451.6931 612.1108,-441.8798 621.4776,-432.4336\"/>\n<polygon fill=\"#000000\" stroke=\"#000000\" points=\"623.9973,-434.8634 628.5532,-425.2981 619.0267,-429.9345 623.9973,-434.8634\"/>\n</g>\n<!-- 4 -->\n<g id=\"node5\" class=\"node\">\n<title>4</title>\n<path fill=\"#3de684\" stroke=\"#000000\" d=\"M274.5,-306C274.5,-306 137.5,-306 137.5,-306 131.5,-306 125.5,-300 125.5,-294 125.5,-294 125.5,-235 125.5,-235 125.5,-229 131.5,-223 137.5,-223 137.5,-223 274.5,-223 274.5,-223 280.5,-223 286.5,-229 286.5,-235 286.5,-235 286.5,-294 286.5,-294 286.5,-300 280.5,-306 274.5,-306\"/>\n<text text-anchor=\"start\" x=\"133.5\" y=\"-290.8\" font-family=\"Helvetica,sans-Serif\" font-size=\"14.00\" fill=\"#000000\">petal width (cm) ≤ 1.65</text>\n<text text-anchor=\"start\" x=\"155\" y=\"-275.8\" font-family=\"Helvetica,sans-Serif\" font-size=\"14.00\" fill=\"#000000\">entropy = 0.146</text>\n<text text-anchor=\"start\" x=\"162\" y=\"-260.8\" font-family=\"Helvetica,sans-Serif\" font-size=\"14.00\" fill=\"#000000\">samples = 48</text>\n<text text-anchor=\"start\" x=\"152.5\" y=\"-245.8\" font-family=\"Helvetica,sans-Serif\" font-size=\"14.00\" fill=\"#000000\">value = [0, 47, 1]</text>\n<text text-anchor=\"start\" x=\"150\" y=\"-230.8\" font-family=\"Helvetica,sans-Serif\" font-size=\"14.00\" fill=\"#000000\">class = versicolor</text>\n</g>\n<!-- 3&#45;&gt;4 -->\n<g id=\"edge4\" class=\"edge\">\n<title>3&#45;&gt;4</title>\n<path fill=\"none\" stroke=\"#000000\" d=\"M354.9069,-341.8796C335.5571,-331.8244 314.7621,-321.0183 295.0301,-310.7645\"/>\n<polygon fill=\"#000000\" stroke=\"#000000\" points=\"296.5352,-307.6024 286.0479,-306.0969 293.3074,-313.8138 296.5352,-307.6024\"/>\n</g>\n<!-- 7 -->\n<g id=\"node8\" class=\"node\">\n<title>7</title>\n<path fill=\"#c09cf2\" stroke=\"#000000\" d=\"M503.5,-306C503.5,-306 366.5,-306 366.5,-306 360.5,-306 354.5,-300 354.5,-294 354.5,-294 354.5,-235 354.5,-235 354.5,-229 360.5,-223 366.5,-223 366.5,-223 503.5,-223 503.5,-223 509.5,-223 515.5,-229 515.5,-235 515.5,-235 515.5,-294 515.5,-294 515.5,-300 509.5,-306 503.5,-306\"/>\n<text text-anchor=\"start\" x=\"362.5\" y=\"-290.8\" font-family=\"Helvetica,sans-Serif\" font-size=\"14.00\" fill=\"#000000\">petal width (cm) ≤ 1.55</text>\n<text text-anchor=\"start\" x=\"384\" y=\"-275.8\" font-family=\"Helvetica,sans-Serif\" font-size=\"14.00\" fill=\"#000000\">entropy = 0.918</text>\n<text text-anchor=\"start\" x=\"395.5\" y=\"-260.8\" font-family=\"Helvetica,sans-Serif\" font-size=\"14.00\" fill=\"#000000\">samples = 6</text>\n<text text-anchor=\"start\" x=\"385.5\" y=\"-245.8\" font-family=\"Helvetica,sans-Serif\" font-size=\"14.00\" fill=\"#000000\">value = [0, 2, 4]</text>\n<text text-anchor=\"start\" x=\"383.5\" y=\"-230.8\" font-family=\"Helvetica,sans-Serif\" font-size=\"14.00\" fill=\"#000000\">class = virginica</text>\n</g>\n<!-- 3&#45;&gt;7 -->\n<g id=\"edge7\" class=\"edge\">\n<title>3&#45;&gt;7</title>\n<path fill=\"none\" stroke=\"#000000\" d=\"M435,-341.8796C435,-333.6838 435,-324.9891 435,-316.5013\"/>\n<polygon fill=\"#000000\" stroke=\"#000000\" points=\"438.5001,-316.298 435,-306.2981 431.5001,-316.2981 438.5001,-316.298\"/>\n</g>\n<!-- 5 -->\n<g id=\"node6\" class=\"node\">\n<title>5</title>\n<path fill=\"#39e581\" stroke=\"#000000\" d=\"M116,-179.5C116,-179.5 12,-179.5 12,-179.5 6,-179.5 0,-173.5 0,-167.5 0,-167.5 0,-123.5 0,-123.5 0,-117.5 6,-111.5 12,-111.5 12,-111.5 116,-111.5 116,-111.5 122,-111.5 128,-117.5 128,-123.5 128,-123.5 128,-167.5 128,-167.5 128,-173.5 122,-179.5 116,-179.5\"/>\n<text text-anchor=\"start\" x=\"21.5\" y=\"-164.3\" font-family=\"Helvetica,sans-Serif\" font-size=\"14.00\" fill=\"#000000\">entropy = 0.0</text>\n<text text-anchor=\"start\" x=\"20\" y=\"-149.3\" font-family=\"Helvetica,sans-Serif\" font-size=\"14.00\" fill=\"#000000\">samples = 47</text>\n<text text-anchor=\"start\" x=\"10.5\" y=\"-134.3\" font-family=\"Helvetica,sans-Serif\" font-size=\"14.00\" fill=\"#000000\">value = [0, 47, 0]</text>\n<text text-anchor=\"start\" x=\"8\" y=\"-119.3\" font-family=\"Helvetica,sans-Serif\" font-size=\"14.00\" fill=\"#000000\">class = versicolor</text>\n</g>\n<!-- 4&#45;&gt;5 -->\n<g id=\"edge5\" class=\"edge\">\n<title>4&#45;&gt;5</title>\n<path fill=\"none\" stroke=\"#000000\" d=\"M156.3353,-222.8796C142.1642,-211.0038 126.743,-198.0804 112.6342,-186.2568\"/>\n<polygon fill=\"#000000\" stroke=\"#000000\" points=\"114.8598,-183.5554 104.9472,-179.8149 110.3637,-188.9206 114.8598,-183.5554\"/>\n</g>\n<!-- 6 -->\n<g id=\"node7\" class=\"node\">\n<title>6</title>\n<path fill=\"#8139e5\" stroke=\"#000000\" d=\"M253.5,-179.5C253.5,-179.5 158.5,-179.5 158.5,-179.5 152.5,-179.5 146.5,-173.5 146.5,-167.5 146.5,-167.5 146.5,-123.5 146.5,-123.5 146.5,-117.5 152.5,-111.5 158.5,-111.5 158.5,-111.5 253.5,-111.5 253.5,-111.5 259.5,-111.5 265.5,-117.5 265.5,-123.5 265.5,-123.5 265.5,-167.5 265.5,-167.5 265.5,-173.5 259.5,-179.5 253.5,-179.5\"/>\n<text text-anchor=\"start\" x=\"163.5\" y=\"-164.3\" font-family=\"Helvetica,sans-Serif\" font-size=\"14.00\" fill=\"#000000\">entropy = 0.0</text>\n<text text-anchor=\"start\" x=\"166.5\" y=\"-149.3\" font-family=\"Helvetica,sans-Serif\" font-size=\"14.00\" fill=\"#000000\">samples = 1</text>\n<text text-anchor=\"start\" x=\"156.5\" y=\"-134.3\" font-family=\"Helvetica,sans-Serif\" font-size=\"14.00\" fill=\"#000000\">value = [0, 0, 1]</text>\n<text text-anchor=\"start\" x=\"154.5\" y=\"-119.3\" font-family=\"Helvetica,sans-Serif\" font-size=\"14.00\" fill=\"#000000\">class = virginica</text>\n</g>\n<!-- 4&#45;&gt;6 -->\n<g id=\"edge6\" class=\"edge\">\n<title>4&#45;&gt;6</title>\n<path fill=\"none\" stroke=\"#000000\" d=\"M206,-222.8796C206,-212.2134 206,-200.7021 206,-189.9015\"/>\n<polygon fill=\"#000000\" stroke=\"#000000\" points=\"209.5001,-189.8149 206,-179.8149 202.5001,-189.815 209.5001,-189.8149\"/>\n</g>\n<!-- 8 -->\n<g id=\"node9\" class=\"node\">\n<title>8</title>\n<path fill=\"#8139e5\" stroke=\"#000000\" d=\"M390.5,-179.5C390.5,-179.5 295.5,-179.5 295.5,-179.5 289.5,-179.5 283.5,-173.5 283.5,-167.5 283.5,-167.5 283.5,-123.5 283.5,-123.5 283.5,-117.5 289.5,-111.5 295.5,-111.5 295.5,-111.5 390.5,-111.5 390.5,-111.5 396.5,-111.5 402.5,-117.5 402.5,-123.5 402.5,-123.5 402.5,-167.5 402.5,-167.5 402.5,-173.5 396.5,-179.5 390.5,-179.5\"/>\n<text text-anchor=\"start\" x=\"300.5\" y=\"-164.3\" font-family=\"Helvetica,sans-Serif\" font-size=\"14.00\" fill=\"#000000\">entropy = 0.0</text>\n<text text-anchor=\"start\" x=\"303.5\" y=\"-149.3\" font-family=\"Helvetica,sans-Serif\" font-size=\"14.00\" fill=\"#000000\">samples = 3</text>\n<text text-anchor=\"start\" x=\"293.5\" y=\"-134.3\" font-family=\"Helvetica,sans-Serif\" font-size=\"14.00\" fill=\"#000000\">value = [0, 0, 3]</text>\n<text text-anchor=\"start\" x=\"291.5\" y=\"-119.3\" font-family=\"Helvetica,sans-Serif\" font-size=\"14.00\" fill=\"#000000\">class = virginica</text>\n</g>\n<!-- 7&#45;&gt;8 -->\n<g id=\"edge8\" class=\"edge\">\n<title>7&#45;&gt;8</title>\n<path fill=\"none\" stroke=\"#000000\" d=\"M402.8229,-222.8796C394.0667,-211.5536 384.5738,-199.2748 375.7844,-187.9058\"/>\n<polygon fill=\"#000000\" stroke=\"#000000\" points=\"378.4146,-185.5856 369.5292,-179.8149 372.8766,-189.8671 378.4146,-185.5856\"/>\n</g>\n<!-- 9 -->\n<g id=\"node10\" class=\"node\">\n<title>9</title>\n<path fill=\"#9cf2c0\" stroke=\"#000000\" d=\"M575.5,-187C575.5,-187 432.5,-187 432.5,-187 426.5,-187 420.5,-181 420.5,-175 420.5,-175 420.5,-116 420.5,-116 420.5,-110 426.5,-104 432.5,-104 432.5,-104 575.5,-104 575.5,-104 581.5,-104 587.5,-110 587.5,-116 587.5,-116 587.5,-175 587.5,-175 587.5,-181 581.5,-187 575.5,-187\"/>\n<text text-anchor=\"start\" x=\"428.5\" y=\"-171.8\" font-family=\"Helvetica,sans-Serif\" font-size=\"14.00\" fill=\"#000000\">petal length (cm) ≤ 5.45</text>\n<text text-anchor=\"start\" x=\"453\" y=\"-156.8\" font-family=\"Helvetica,sans-Serif\" font-size=\"14.00\" fill=\"#000000\">entropy = 0.918</text>\n<text text-anchor=\"start\" x=\"464.5\" y=\"-141.8\" font-family=\"Helvetica,sans-Serif\" font-size=\"14.00\" fill=\"#000000\">samples = 3</text>\n<text text-anchor=\"start\" x=\"454.5\" y=\"-126.8\" font-family=\"Helvetica,sans-Serif\" font-size=\"14.00\" fill=\"#000000\">value = [0, 2, 1]</text>\n<text text-anchor=\"start\" x=\"448\" y=\"-111.8\" font-family=\"Helvetica,sans-Serif\" font-size=\"14.00\" fill=\"#000000\">class = versicolor</text>\n</g>\n<!-- 7&#45;&gt;9 -->\n<g id=\"edge9\" class=\"edge\">\n<title>7&#45;&gt;9</title>\n<path fill=\"none\" stroke=\"#000000\" d=\"M459.1329,-222.8796C464.1461,-214.2335 469.4813,-205.0322 474.6581,-196.1042\"/>\n<polygon fill=\"#000000\" stroke=\"#000000\" points=\"477.7758,-197.7047 479.7641,-187.2981 471.7202,-194.1934 477.7758,-197.7047\"/>\n</g>\n<!-- 10 -->\n<g id=\"node11\" class=\"node\">\n<title>10</title>\n<path fill=\"#39e581\" stroke=\"#000000\" d=\"M485,-68C485,-68 381,-68 381,-68 375,-68 369,-62 369,-56 369,-56 369,-12 369,-12 369,-6 375,0 381,0 381,0 485,0 485,0 491,0 497,-6 497,-12 497,-12 497,-56 497,-56 497,-62 491,-68 485,-68\"/>\n<text text-anchor=\"start\" x=\"390.5\" y=\"-52.8\" font-family=\"Helvetica,sans-Serif\" font-size=\"14.00\" fill=\"#000000\">entropy = 0.0</text>\n<text text-anchor=\"start\" x=\"393.5\" y=\"-37.8\" font-family=\"Helvetica,sans-Serif\" font-size=\"14.00\" fill=\"#000000\">samples = 2</text>\n<text text-anchor=\"start\" x=\"383.5\" y=\"-22.8\" font-family=\"Helvetica,sans-Serif\" font-size=\"14.00\" fill=\"#000000\">value = [0, 2, 0]</text>\n<text text-anchor=\"start\" x=\"377\" y=\"-7.8\" font-family=\"Helvetica,sans-Serif\" font-size=\"14.00\" fill=\"#000000\">class = versicolor</text>\n</g>\n<!-- 9&#45;&gt;10 -->\n<g id=\"edge10\" class=\"edge\">\n<title>9&#45;&gt;10</title>\n<path fill=\"none\" stroke=\"#000000\" d=\"M477.5622,-103.9815C471.944,-95.1585 466.0012,-85.8258 460.3497,-76.9506\"/>\n<polygon fill=\"#000000\" stroke=\"#000000\" points=\"463.1416,-74.8188 454.8181,-68.2637 457.2371,-78.5787 463.1416,-74.8188\"/>\n</g>\n<!-- 11 -->\n<g id=\"node12\" class=\"node\">\n<title>11</title>\n<path fill=\"#8139e5\" stroke=\"#000000\" d=\"M622.5,-68C622.5,-68 527.5,-68 527.5,-68 521.5,-68 515.5,-62 515.5,-56 515.5,-56 515.5,-12 515.5,-12 515.5,-6 521.5,0 527.5,0 527.5,0 622.5,0 622.5,0 628.5,0 634.5,-6 634.5,-12 634.5,-12 634.5,-56 634.5,-56 634.5,-62 628.5,-68 622.5,-68\"/>\n<text text-anchor=\"start\" x=\"532.5\" y=\"-52.8\" font-family=\"Helvetica,sans-Serif\" font-size=\"14.00\" fill=\"#000000\">entropy = 0.0</text>\n<text text-anchor=\"start\" x=\"535.5\" y=\"-37.8\" font-family=\"Helvetica,sans-Serif\" font-size=\"14.00\" fill=\"#000000\">samples = 1</text>\n<text text-anchor=\"start\" x=\"525.5\" y=\"-22.8\" font-family=\"Helvetica,sans-Serif\" font-size=\"14.00\" fill=\"#000000\">value = [0, 0, 1]</text>\n<text text-anchor=\"start\" x=\"523.5\" y=\"-7.8\" font-family=\"Helvetica,sans-Serif\" font-size=\"14.00\" fill=\"#000000\">class = virginica</text>\n</g>\n<!-- 9&#45;&gt;11 -->\n<g id=\"edge11\" class=\"edge\">\n<title>9&#45;&gt;11</title>\n<path fill=\"none\" stroke=\"#000000\" d=\"M530.4378,-103.9815C536.056,-95.1585 541.9988,-85.8258 547.6503,-76.9506\"/>\n<polygon fill=\"#000000\" stroke=\"#000000\" points=\"550.7629,-78.5787 553.1819,-68.2637 544.8584,-74.8188 550.7629,-78.5787\"/>\n</g>\n<!-- 13 -->\n<g id=\"node14\" class=\"node\">\n<title>13</title>\n<path fill=\"#c09cf2\" stroke=\"#000000\" d=\"M743.5,-306C743.5,-306 596.5,-306 596.5,-306 590.5,-306 584.5,-300 584.5,-294 584.5,-294 584.5,-235 584.5,-235 584.5,-229 590.5,-223 596.5,-223 596.5,-223 743.5,-223 743.5,-223 749.5,-223 755.5,-229 755.5,-235 755.5,-235 755.5,-294 755.5,-294 755.5,-300 749.5,-306 743.5,-306\"/>\n<text text-anchor=\"start\" x=\"592.5\" y=\"-290.8\" font-family=\"Helvetica,sans-Serif\" font-size=\"14.00\" fill=\"#000000\">sepal length (cm) ≤ 5.95</text>\n<text text-anchor=\"start\" x=\"619\" y=\"-275.8\" font-family=\"Helvetica,sans-Serif\" font-size=\"14.00\" fill=\"#000000\">entropy = 0.918</text>\n<text text-anchor=\"start\" x=\"630.5\" y=\"-260.8\" font-family=\"Helvetica,sans-Serif\" font-size=\"14.00\" fill=\"#000000\">samples = 3</text>\n<text text-anchor=\"start\" x=\"620.5\" y=\"-245.8\" font-family=\"Helvetica,sans-Serif\" font-size=\"14.00\" fill=\"#000000\">value = [0, 1, 2]</text>\n<text text-anchor=\"start\" x=\"618.5\" y=\"-230.8\" font-family=\"Helvetica,sans-Serif\" font-size=\"14.00\" fill=\"#000000\">class = virginica</text>\n</g>\n<!-- 12&#45;&gt;13 -->\n<g id=\"edge13\" class=\"edge\">\n<title>12&#45;&gt;13</title>\n<path fill=\"none\" stroke=\"#000000\" d=\"M670,-341.8796C670,-333.6838 670,-324.9891 670,-316.5013\"/>\n<polygon fill=\"#000000\" stroke=\"#000000\" points=\"673.5001,-316.298 670,-306.2981 666.5001,-316.2981 673.5001,-316.298\"/>\n</g>\n<!-- 16 -->\n<g id=\"node17\" class=\"node\">\n<title>16</title>\n<path fill=\"#8139e5\" stroke=\"#000000\" d=\"M884.5,-298.5C884.5,-298.5 785.5,-298.5 785.5,-298.5 779.5,-298.5 773.5,-292.5 773.5,-286.5 773.5,-286.5 773.5,-242.5 773.5,-242.5 773.5,-236.5 779.5,-230.5 785.5,-230.5 785.5,-230.5 884.5,-230.5 884.5,-230.5 890.5,-230.5 896.5,-236.5 896.5,-242.5 896.5,-242.5 896.5,-286.5 896.5,-286.5 896.5,-292.5 890.5,-298.5 884.5,-298.5\"/>\n<text text-anchor=\"start\" x=\"792.5\" y=\"-283.3\" font-family=\"Helvetica,sans-Serif\" font-size=\"14.00\" fill=\"#000000\">entropy = 0.0</text>\n<text text-anchor=\"start\" x=\"791\" y=\"-268.3\" font-family=\"Helvetica,sans-Serif\" font-size=\"14.00\" fill=\"#000000\">samples = 43</text>\n<text text-anchor=\"start\" x=\"781.5\" y=\"-253.3\" font-family=\"Helvetica,sans-Serif\" font-size=\"14.00\" fill=\"#000000\">value = [0, 0, 43]</text>\n<text text-anchor=\"start\" x=\"783.5\" y=\"-238.3\" font-family=\"Helvetica,sans-Serif\" font-size=\"14.00\" fill=\"#000000\">class = virginica</text>\n</g>\n<!-- 12&#45;&gt;16 -->\n<g id=\"edge16\" class=\"edge\">\n<title>12&#45;&gt;16</title>\n<path fill=\"none\" stroke=\"#000000\" d=\"M727.709,-341.8796C744.407,-329.8368 762.5987,-316.7167 779.1793,-304.7586\"/>\n<polygon fill=\"#000000\" stroke=\"#000000\" points=\"781.6232,-307.3113 787.6865,-298.623 777.5285,-301.6339 781.6232,-307.3113\"/>\n</g>\n<!-- 14 -->\n<g id=\"node15\" class=\"node\">\n<title>14</title>\n<path fill=\"#39e581\" stroke=\"#000000\" d=\"M722,-179.5C722,-179.5 618,-179.5 618,-179.5 612,-179.5 606,-173.5 606,-167.5 606,-167.5 606,-123.5 606,-123.5 606,-117.5 612,-111.5 618,-111.5 618,-111.5 722,-111.5 722,-111.5 728,-111.5 734,-117.5 734,-123.5 734,-123.5 734,-167.5 734,-167.5 734,-173.5 728,-179.5 722,-179.5\"/>\n<text text-anchor=\"start\" x=\"627.5\" y=\"-164.3\" font-family=\"Helvetica,sans-Serif\" font-size=\"14.00\" fill=\"#000000\">entropy = 0.0</text>\n<text text-anchor=\"start\" x=\"630.5\" y=\"-149.3\" font-family=\"Helvetica,sans-Serif\" font-size=\"14.00\" fill=\"#000000\">samples = 1</text>\n<text text-anchor=\"start\" x=\"620.5\" y=\"-134.3\" font-family=\"Helvetica,sans-Serif\" font-size=\"14.00\" fill=\"#000000\">value = [0, 1, 0]</text>\n<text text-anchor=\"start\" x=\"614\" y=\"-119.3\" font-family=\"Helvetica,sans-Serif\" font-size=\"14.00\" fill=\"#000000\">class = versicolor</text>\n</g>\n<!-- 13&#45;&gt;14 -->\n<g id=\"edge14\" class=\"edge\">\n<title>13&#45;&gt;14</title>\n<path fill=\"none\" stroke=\"#000000\" d=\"M670,-222.8796C670,-212.2134 670,-200.7021 670,-189.9015\"/>\n<polygon fill=\"#000000\" stroke=\"#000000\" points=\"673.5001,-189.8149 670,-179.8149 666.5001,-189.815 673.5001,-189.8149\"/>\n</g>\n<!-- 15 -->\n<g id=\"node16\" class=\"node\">\n<title>15</title>\n<path fill=\"#8139e5\" stroke=\"#000000\" d=\"M859.5,-179.5C859.5,-179.5 764.5,-179.5 764.5,-179.5 758.5,-179.5 752.5,-173.5 752.5,-167.5 752.5,-167.5 752.5,-123.5 752.5,-123.5 752.5,-117.5 758.5,-111.5 764.5,-111.5 764.5,-111.5 859.5,-111.5 859.5,-111.5 865.5,-111.5 871.5,-117.5 871.5,-123.5 871.5,-123.5 871.5,-167.5 871.5,-167.5 871.5,-173.5 865.5,-179.5 859.5,-179.5\"/>\n<text text-anchor=\"start\" x=\"769.5\" y=\"-164.3\" font-family=\"Helvetica,sans-Serif\" font-size=\"14.00\" fill=\"#000000\">entropy = 0.0</text>\n<text text-anchor=\"start\" x=\"772.5\" y=\"-149.3\" font-family=\"Helvetica,sans-Serif\" font-size=\"14.00\" fill=\"#000000\">samples = 2</text>\n<text text-anchor=\"start\" x=\"762.5\" y=\"-134.3\" font-family=\"Helvetica,sans-Serif\" font-size=\"14.00\" fill=\"#000000\">value = [0, 0, 2]</text>\n<text text-anchor=\"start\" x=\"760.5\" y=\"-119.3\" font-family=\"Helvetica,sans-Serif\" font-size=\"14.00\" fill=\"#000000\">class = virginica</text>\n</g>\n<!-- 13&#45;&gt;15 -->\n<g id=\"edge15\" class=\"edge\">\n<title>13&#45;&gt;15</title>\n<path fill=\"none\" stroke=\"#000000\" d=\"M719.6647,-222.8796C733.8358,-211.0038 749.257,-198.0804 763.3658,-186.2568\"/>\n<polygon fill=\"#000000\" stroke=\"#000000\" points=\"765.6363,-188.9206 771.0528,-179.8149 761.1402,-183.5554 765.6363,-188.9206\"/>\n</g>\n</g>\n</svg>\n"
          },
          "metadata": {
            "tags": []
          },
          "execution_count": 19
        }
      ]
    },
    {
      "cell_type": "markdown",
      "metadata": {
        "id": "MZbnijx7GIi8"
      },
      "source": [
        "- 프루닝 (오버피팅을 간단한 방법으로 피해보자)\n",
        "max_depth "
      ]
    },
    {
      "cell_type": "code",
      "metadata": {
        "id": "wtsdSl4VE6m-"
      },
      "source": [
        "clf3=tree.DecisionTreeClassifier(criterion='entropy', max_depth=2) # max_depth로 우리가 가지는 가지의 개수를 컨트롤할 수 있다. depth를 최대 2개만 설정했다."
      ],
      "execution_count": null,
      "outputs": []
    },
    {
      "cell_type": "code",
      "metadata": {
        "colab": {
          "base_uri": "https://localhost:8080/"
        },
        "id": "2_Qp-qsJGa-a",
        "outputId": "d5dc65ca-5c24-454e-8f50-828704b66f7f"
      },
      "source": [
        "clf3.fit(iris.data, iris.target)"
      ],
      "execution_count": null,
      "outputs": [
        {
          "output_type": "execute_result",
          "data": {
            "text/plain": [
              "DecisionTreeClassifier(ccp_alpha=0.0, class_weight=None, criterion='entropy',\n",
              "                       max_depth=2, max_features=None, max_leaf_nodes=None,\n",
              "                       min_impurity_decrease=0.0, min_impurity_split=None,\n",
              "                       min_samples_leaf=1, min_samples_split=2,\n",
              "                       min_weight_fraction_leaf=0.0, presort='deprecated',\n",
              "                       random_state=None, splitter='best')"
            ]
          },
          "metadata": {
            "tags": []
          },
          "execution_count": 24
        }
      ]
    },
    {
      "cell_type": "code",
      "metadata": {
        "colab": {
          "base_uri": "https://localhost:8080/",
          "height": 440
        },
        "id": "yOgDJvgIGfck",
        "outputId": "80d08dca-80b0-470d-b334-702879bc1a4a"
      },
      "source": [
        "dot_data3=tree.export_graphviz(clf3, out_file=None,\n",
        "                              feature_names=iris.feature_names,\n",
        "                              class_names=iris.target_names,\n",
        "                              filled=True, rounded=True,\n",
        "                              special_characters=True)\n",
        "\n",
        "graph3 = graphviz.Source(dot_data3)\n",
        "graph3 # depth 최대 2개\n",
        "# 각각의 entropy가 다 0이 되지 못하고 끊어버리는것을 프루닝이라고 한다. 과적합을 피하기 위해 모델의 복잡도를 간단하게 한다."
      ],
      "execution_count": null,
      "outputs": [
        {
          "output_type": "execute_result",
          "data": {
            "text/plain": [
              "<graphviz.files.Source at 0x7fc788df5290>"
            ],
            "image/svg+xml": "<?xml version=\"1.0\" encoding=\"UTF-8\" standalone=\"no\"?>\n<!DOCTYPE svg PUBLIC \"-//W3C//DTD SVG 1.1//EN\"\n \"http://www.w3.org/Graphics/SVG/1.1/DTD/svg11.dtd\">\n<!-- Generated by graphviz version 2.40.1 (20161225.0304)\n -->\n<!-- Title: Tree Pages: 1 -->\n<svg width=\"363pt\" height=\"314pt\"\n viewBox=\"0.00 0.00 363.00 314.00\" xmlns=\"http://www.w3.org/2000/svg\" xmlns:xlink=\"http://www.w3.org/1999/xlink\">\n<g id=\"graph0\" class=\"graph\" transform=\"scale(1 1) rotate(0) translate(4 310)\">\n<title>Tree</title>\n<polygon fill=\"#ffffff\" stroke=\"transparent\" points=\"-4,4 -4,-310 359,-310 359,4 -4,4\"/>\n<!-- 0 -->\n<g id=\"node1\" class=\"node\">\n<title>0</title>\n<path fill=\"#ffffff\" stroke=\"#000000\" d=\"M213,-306C213,-306 70,-306 70,-306 64,-306 58,-300 58,-294 58,-294 58,-235 58,-235 58,-229 64,-223 70,-223 70,-223 213,-223 213,-223 219,-223 225,-229 225,-235 225,-235 225,-294 225,-294 225,-300 219,-306 213,-306\"/>\n<text text-anchor=\"start\" x=\"66\" y=\"-290.8\" font-family=\"Helvetica,sans-Serif\" font-size=\"14.00\" fill=\"#000000\">petal length (cm) ≤ 2.45</text>\n<text text-anchor=\"start\" x=\"90.5\" y=\"-275.8\" font-family=\"Helvetica,sans-Serif\" font-size=\"14.00\" fill=\"#000000\">entropy = 1.585</text>\n<text text-anchor=\"start\" x=\"93.5\" y=\"-260.8\" font-family=\"Helvetica,sans-Serif\" font-size=\"14.00\" fill=\"#000000\">samples = 150</text>\n<text text-anchor=\"start\" x=\"79.5\" y=\"-245.8\" font-family=\"Helvetica,sans-Serif\" font-size=\"14.00\" fill=\"#000000\">value = [50, 50, 50]</text>\n<text text-anchor=\"start\" x=\"94.5\" y=\"-230.8\" font-family=\"Helvetica,sans-Serif\" font-size=\"14.00\" fill=\"#000000\">class = setosa</text>\n</g>\n<!-- 1 -->\n<g id=\"node2\" class=\"node\">\n<title>1</title>\n<path fill=\"#e58139\" stroke=\"#000000\" d=\"M111,-179.5C111,-179.5 12,-179.5 12,-179.5 6,-179.5 0,-173.5 0,-167.5 0,-167.5 0,-123.5 0,-123.5 0,-117.5 6,-111.5 12,-111.5 12,-111.5 111,-111.5 111,-111.5 117,-111.5 123,-117.5 123,-123.5 123,-123.5 123,-167.5 123,-167.5 123,-173.5 117,-179.5 111,-179.5\"/>\n<text text-anchor=\"start\" x=\"19\" y=\"-164.3\" font-family=\"Helvetica,sans-Serif\" font-size=\"14.00\" fill=\"#000000\">entropy = 0.0</text>\n<text text-anchor=\"start\" x=\"17.5\" y=\"-149.3\" font-family=\"Helvetica,sans-Serif\" font-size=\"14.00\" fill=\"#000000\">samples = 50</text>\n<text text-anchor=\"start\" x=\"8\" y=\"-134.3\" font-family=\"Helvetica,sans-Serif\" font-size=\"14.00\" fill=\"#000000\">value = [50, 0, 0]</text>\n<text text-anchor=\"start\" x=\"14.5\" y=\"-119.3\" font-family=\"Helvetica,sans-Serif\" font-size=\"14.00\" fill=\"#000000\">class = setosa</text>\n</g>\n<!-- 0&#45;&gt;1 -->\n<g id=\"edge1\" class=\"edge\">\n<title>0&#45;&gt;1</title>\n<path fill=\"none\" stroke=\"#000000\" d=\"M113.5199,-222.8796C105.9797,-211.6636 97.8113,-199.5131 90.2309,-188.2372\"/>\n<polygon fill=\"#000000\" stroke=\"#000000\" points=\"93.0527,-186.1612 84.5689,-179.8149 87.2434,-190.0667 93.0527,-186.1612\"/>\n<text text-anchor=\"middle\" x=\"79.7608\" y=\"-200.6482\" font-family=\"Helvetica,sans-Serif\" font-size=\"14.00\" fill=\"#000000\">True</text>\n</g>\n<!-- 2 -->\n<g id=\"node3\" class=\"node\">\n<title>2</title>\n<path fill=\"#ffffff\" stroke=\"#000000\" d=\"M290,-187C290,-187 153,-187 153,-187 147,-187 141,-181 141,-175 141,-175 141,-116 141,-116 141,-110 147,-104 153,-104 153,-104 290,-104 290,-104 296,-104 302,-110 302,-116 302,-116 302,-175 302,-175 302,-181 296,-187 290,-187\"/>\n<text text-anchor=\"start\" x=\"149\" y=\"-171.8\" font-family=\"Helvetica,sans-Serif\" font-size=\"14.00\" fill=\"#000000\">petal width (cm) ≤ 1.75</text>\n<text text-anchor=\"start\" x=\"179\" y=\"-156.8\" font-family=\"Helvetica,sans-Serif\" font-size=\"14.00\" fill=\"#000000\">entropy = 1.0</text>\n<text text-anchor=\"start\" x=\"173.5\" y=\"-141.8\" font-family=\"Helvetica,sans-Serif\" font-size=\"14.00\" fill=\"#000000\">samples = 100</text>\n<text text-anchor=\"start\" x=\"164\" y=\"-126.8\" font-family=\"Helvetica,sans-Serif\" font-size=\"14.00\" fill=\"#000000\">value = [0, 50, 50]</text>\n<text text-anchor=\"start\" x=\"165.5\" y=\"-111.8\" font-family=\"Helvetica,sans-Serif\" font-size=\"14.00\" fill=\"#000000\">class = versicolor</text>\n</g>\n<!-- 0&#45;&gt;2 -->\n<g id=\"edge2\" class=\"edge\">\n<title>0&#45;&gt;2</title>\n<path fill=\"none\" stroke=\"#000000\" d=\"M169.4801,-222.8796C175.3531,-214.1434 181.6073,-204.8404 187.6679,-195.8253\"/>\n<polygon fill=\"#000000\" stroke=\"#000000\" points=\"190.7259,-197.5498 193.4005,-187.2981 184.9166,-193.6444 190.7259,-197.5498\"/>\n<text text-anchor=\"middle\" x=\"198.2085\" y=\"-208.1314\" font-family=\"Helvetica,sans-Serif\" font-size=\"14.00\" fill=\"#000000\">False</text>\n</g>\n<!-- 3 -->\n<g id=\"node4\" class=\"node\">\n<title>3</title>\n<path fill=\"#4de88e\" stroke=\"#000000\" d=\"M201.5,-68C201.5,-68 97.5,-68 97.5,-68 91.5,-68 85.5,-62 85.5,-56 85.5,-56 85.5,-12 85.5,-12 85.5,-6 91.5,0 97.5,0 97.5,0 201.5,0 201.5,0 207.5,0 213.5,-6 213.5,-12 213.5,-12 213.5,-56 213.5,-56 213.5,-62 207.5,-68 201.5,-68\"/>\n<text text-anchor=\"start\" x=\"98.5\" y=\"-52.8\" font-family=\"Helvetica,sans-Serif\" font-size=\"14.00\" fill=\"#000000\">entropy = 0.445</text>\n<text text-anchor=\"start\" x=\"105.5\" y=\"-37.8\" font-family=\"Helvetica,sans-Serif\" font-size=\"14.00\" fill=\"#000000\">samples = 54</text>\n<text text-anchor=\"start\" x=\"96\" y=\"-22.8\" font-family=\"Helvetica,sans-Serif\" font-size=\"14.00\" fill=\"#000000\">value = [0, 49, 5]</text>\n<text text-anchor=\"start\" x=\"93.5\" y=\"-7.8\" font-family=\"Helvetica,sans-Serif\" font-size=\"14.00\" fill=\"#000000\">class = versicolor</text>\n</g>\n<!-- 2&#45;&gt;3 -->\n<g id=\"edge3\" class=\"edge\">\n<title>2&#45;&gt;3</title>\n<path fill=\"none\" stroke=\"#000000\" d=\"M194.6899,-103.9815C188.9331,-95.0666 182.8404,-85.6313 177.0559,-76.6734\"/>\n<polygon fill=\"#000000\" stroke=\"#000000\" points=\"179.9904,-74.7658 171.6254,-68.2637 174.1099,-78.5631 179.9904,-74.7658\"/>\n</g>\n<!-- 4 -->\n<g id=\"node5\" class=\"node\">\n<title>4</title>\n<path fill=\"#843de6\" stroke=\"#000000\" d=\"M343,-68C343,-68 244,-68 244,-68 238,-68 232,-62 232,-56 232,-56 232,-12 232,-12 232,-6 238,0 244,0 244,0 343,0 343,0 349,0 355,-6 355,-12 355,-12 355,-56 355,-56 355,-62 349,-68 343,-68\"/>\n<text text-anchor=\"start\" x=\"242.5\" y=\"-52.8\" font-family=\"Helvetica,sans-Serif\" font-size=\"14.00\" fill=\"#000000\">entropy = 0.151</text>\n<text text-anchor=\"start\" x=\"249.5\" y=\"-37.8\" font-family=\"Helvetica,sans-Serif\" font-size=\"14.00\" fill=\"#000000\">samples = 46</text>\n<text text-anchor=\"start\" x=\"240\" y=\"-22.8\" font-family=\"Helvetica,sans-Serif\" font-size=\"14.00\" fill=\"#000000\">value = [0, 1, 45]</text>\n<text text-anchor=\"start\" x=\"242\" y=\"-7.8\" font-family=\"Helvetica,sans-Serif\" font-size=\"14.00\" fill=\"#000000\">class = virginica</text>\n</g>\n<!-- 2&#45;&gt;4 -->\n<g id=\"edge4\" class=\"edge\">\n<title>2&#45;&gt;4</title>\n<path fill=\"none\" stroke=\"#000000\" d=\"M248.3101,-103.9815C254.0669,-95.0666 260.1596,-85.6313 265.9441,-76.6734\"/>\n<polygon fill=\"#000000\" stroke=\"#000000\" points=\"268.8901,-78.5631 271.3746,-68.2637 263.0096,-74.7658 268.8901,-78.5631\"/>\n</g>\n</g>\n</svg>\n"
          },
          "metadata": {
            "tags": []
          },
          "execution_count": 29
        }
      ]
    },
    {
      "cell_type": "markdown",
      "metadata": {
        "id": "Zaa-UMlWG3Ue"
      },
      "source": [
        "- Confution Matrix 구하기"
      ]
    },
    {
      "cell_type": "code",
      "metadata": {
        "colab": {
          "base_uri": "https://localhost:8080/"
        },
        "id": "EcZpHv9eGlfr",
        "outputId": "f51c6454-ff39-46fa-c9b7-fc1405d08f85"
      },
      "source": [
        "from sklearn.metrics import confusion_matrix\n",
        "confusion_matrix(iris.target,clf.predict(iris.data)) # gini\n"
      ],
      "execution_count": null,
      "outputs": [
        {
          "output_type": "execute_result",
          "data": {
            "text/plain": [
              "array([[50,  0,  0],\n",
              "       [ 0, 50,  0],\n",
              "       [ 0,  0, 50]])"
            ]
          },
          "metadata": {
            "tags": []
          },
          "execution_count": 33
        }
      ]
    },
    {
      "cell_type": "code",
      "metadata": {
        "colab": {
          "base_uri": "https://localhost:8080/"
        },
        "id": "ZF3llc-BHaYU",
        "outputId": "3f3695b5-8800-47e0-9e06-7b9aff684433"
      },
      "source": [
        "# entropy\n",
        "confusion_matrix(iris.target,clf2.predict(iris.data))"
      ],
      "execution_count": null,
      "outputs": [
        {
          "output_type": "execute_result",
          "data": {
            "text/plain": [
              "array([[50,  0,  0],\n",
              "       [ 0, 50,  0],\n",
              "       [ 0,  0, 50]])"
            ]
          },
          "metadata": {
            "tags": []
          },
          "execution_count": 34
        }
      ]
    },
    {
      "cell_type": "code",
      "metadata": {
        "colab": {
          "base_uri": "https://localhost:8080/"
        },
        "id": "q2AwGIgCHhY_",
        "outputId": "3da75c74-3e48-49f8-f009-6ba5c0d0c91b"
      },
      "source": [
        "# 프루닝\n",
        "confusion_matrix(iris.target,clf3.predict(iris.data)) # train set에서 어느정도 오차를 보이지만, test set에서 좋은 결과를 낼 수도 있다."
      ],
      "execution_count": null,
      "outputs": [
        {
          "output_type": "execute_result",
          "data": {
            "text/plain": [
              "array([[50,  0,  0],\n",
              "       [ 0, 49,  1],\n",
              "       [ 0,  5, 45]])"
            ]
          },
          "metadata": {
            "tags": []
          },
          "execution_count": 37
        }
      ]
    },
    {
      "cell_type": "code",
      "metadata": {
        "id": "2rMp2rsqHiQM"
      },
      "source": [
        ""
      ],
      "execution_count": null,
      "outputs": []
    },
    {
      "cell_type": "markdown",
      "metadata": {
        "id": "hCG3OsqfIJCb"
      },
      "source": [
        "# 3. Training - Test 구분 및 Confusion matrix 계산 (과적합을 고려해보자)"
      ]
    },
    {
      "cell_type": "code",
      "metadata": {
        "id": "p_DIhBf2IIkN"
      },
      "source": [
        "from sklearn.model_selection import train_test_split # train과 test를 구분해주는 함수는 model_selection에 있는 train_test_split이라는 함수다."
      ],
      "execution_count": null,
      "outputs": []
    },
    {
      "cell_type": "code",
      "metadata": {
        "id": "V0XJR_HDIaeq"
      },
      "source": [
        "X_train, X_test, y_train, y_test = train_test_split(iris.data,iris.target,stratify=iris.target,random_state=1) # 기본적으로 3/4이 train, 1/4가 test로 세팅이됨"
      ],
      "execution_count": null,
      "outputs": []
    },
    {
      "cell_type": "code",
      "metadata": {
        "id": "QghXlygXJD6x"
      },
      "source": [
        "clf4=tree.DecisionTreeClassifier(criterion='entropy')"
      ],
      "execution_count": null,
      "outputs": []
    },
    {
      "cell_type": "code",
      "metadata": {
        "colab": {
          "base_uri": "https://localhost:8080/"
        },
        "id": "9OM8SQU6JU0E",
        "outputId": "ae3cfe04-6c78-494c-8d22-ed6661611e6c"
      },
      "source": [
        "clf4.fit(X_train,y_train)"
      ],
      "execution_count": null,
      "outputs": [
        {
          "output_type": "execute_result",
          "data": {
            "text/plain": [
              "DecisionTreeClassifier(ccp_alpha=0.0, class_weight=None, criterion='entropy',\n",
              "                       max_depth=None, max_features=None, max_leaf_nodes=None,\n",
              "                       min_impurity_decrease=0.0, min_impurity_split=None,\n",
              "                       min_samples_leaf=1, min_samples_split=2,\n",
              "                       min_weight_fraction_leaf=0.0, presort='deprecated',\n",
              "                       random_state=None, splitter='best')"
            ]
          },
          "metadata": {
            "tags": []
          },
          "execution_count": 43
        }
      ]
    },
    {
      "cell_type": "code",
      "metadata": {
        "colab": {
          "base_uri": "https://localhost:8080/"
        },
        "id": "_g4qN0CZJZf5",
        "outputId": "204673cc-c3ed-4bc1-dd99-425c311d4cde"
      },
      "source": [
        "confusion_matrix(y_test,clf4.predict(X_test))"
      ],
      "execution_count": null,
      "outputs": [
        {
          "output_type": "execute_result",
          "data": {
            "text/plain": [
              "array([[12,  0,  0],\n",
              "       [ 0, 13,  0],\n",
              "       [ 0,  2, 11]])"
            ]
          },
          "metadata": {
            "tags": []
          },
          "execution_count": 44
        }
      ]
    },
    {
      "cell_type": "markdown",
      "metadata": {
        "id": "CIx-0Jk1J4ay"
      },
      "source": [
        "# 4. Decision regressiontree\n",
        "- 모듈 불러오기 및 데이터 생성"
      ]
    },
    {
      "cell_type": "code",
      "metadata": {
        "id": "WUofngACJi9D"
      },
      "source": [
        "# regression은 y변수(반응변수)가 연속형일때 사용\n",
        "import numpy as np\n",
        "from sklearn.tree import DecisionTreeRegressor\n",
        "import matplotlib.pyplot as plt\n",
        "\n",
        "rng = np.random.RandomState(1)\n",
        "X = np.sort(5*rng.rand(80,1), axis=0)\n",
        "y = np.sin(X).ravel()\n",
        "y[::5] +=3 * (0.5 - rng.rand(16))"
      ],
      "execution_count": null,
      "outputs": []
    },
    {
      "cell_type": "markdown",
      "metadata": {
        "id": "Y5Vez03NKpwi"
      },
      "source": [
        "- Regression tree 구축"
      ]
    },
    {
      "cell_type": "code",
      "metadata": {
        "id": "KXuASwbtKpJE"
      },
      "source": [
        "# max_depth를 달리해서 비교\n",
        "regr1=tree.DecisionTreeRegressor(max_depth=2)\n",
        "regr2=tree.DecisionTreeRegressor(max_depth=5)"
      ],
      "execution_count": null,
      "outputs": []
    },
    {
      "cell_type": "code",
      "metadata": {
        "colab": {
          "base_uri": "https://localhost:8080/"
        },
        "id": "MtDBMg_gK7c1",
        "outputId": "ff4667ba-6ffc-4cf1-85ef-7f51ef7d1671"
      },
      "source": [
        "regr1.fit(X,y)"
      ],
      "execution_count": null,
      "outputs": [
        {
          "output_type": "execute_result",
          "data": {
            "text/plain": [
              "DecisionTreeRegressor(ccp_alpha=0.0, criterion='mse', max_depth=2,\n",
              "                      max_features=None, max_leaf_nodes=None,\n",
              "                      min_impurity_decrease=0.0, min_impurity_split=None,\n",
              "                      min_samples_leaf=1, min_samples_split=2,\n",
              "                      min_weight_fraction_leaf=0.0, presort='deprecated',\n",
              "                      random_state=None, splitter='best')"
            ]
          },
          "metadata": {
            "tags": []
          },
          "execution_count": 50
        }
      ]
    },
    {
      "cell_type": "code",
      "metadata": {
        "colab": {
          "base_uri": "https://localhost:8080/"
        },
        "id": "CoNbMmg2K92C",
        "outputId": "e01efdba-ed5e-42f7-84d4-7f56949a9096"
      },
      "source": [
        "regr2.fit(X,y)"
      ],
      "execution_count": null,
      "outputs": [
        {
          "output_type": "execute_result",
          "data": {
            "text/plain": [
              "DecisionTreeRegressor(ccp_alpha=0.0, criterion='mse', max_depth=5,\n",
              "                      max_features=None, max_leaf_nodes=None,\n",
              "                      min_impurity_decrease=0.0, min_impurity_split=None,\n",
              "                      min_samples_leaf=1, min_samples_split=2,\n",
              "                      min_weight_fraction_leaf=0.0, presort='deprecated',\n",
              "                      random_state=None, splitter='best')"
            ]
          },
          "metadata": {
            "tags": []
          },
          "execution_count": 51
        }
      ]
    },
    {
      "cell_type": "code",
      "metadata": {
        "colab": {
          "base_uri": "https://localhost:8080/"
        },
        "id": "NKkOf6xsLEd7",
        "outputId": "5bbee2a8-25f3-4d07-8721-458560e4029b"
      },
      "source": [
        "X_test=np.arange(0.0, 5.0, 0.01)[:,np.newaxis]\n",
        "X_test"
      ],
      "execution_count": null,
      "outputs": [
        {
          "output_type": "execute_result",
          "data": {
            "text/plain": [
              "array([[0.  ],\n",
              "       [0.01],\n",
              "       [0.02],\n",
              "       [0.03],\n",
              "       [0.04],\n",
              "       [0.05],\n",
              "       [0.06],\n",
              "       [0.07],\n",
              "       [0.08],\n",
              "       [0.09],\n",
              "       [0.1 ],\n",
              "       [0.11],\n",
              "       [0.12],\n",
              "       [0.13],\n",
              "       [0.14],\n",
              "       [0.15],\n",
              "       [0.16],\n",
              "       [0.17],\n",
              "       [0.18],\n",
              "       [0.19],\n",
              "       [0.2 ],\n",
              "       [0.21],\n",
              "       [0.22],\n",
              "       [0.23],\n",
              "       [0.24],\n",
              "       [0.25],\n",
              "       [0.26],\n",
              "       [0.27],\n",
              "       [0.28],\n",
              "       [0.29],\n",
              "       [0.3 ],\n",
              "       [0.31],\n",
              "       [0.32],\n",
              "       [0.33],\n",
              "       [0.34],\n",
              "       [0.35],\n",
              "       [0.36],\n",
              "       [0.37],\n",
              "       [0.38],\n",
              "       [0.39],\n",
              "       [0.4 ],\n",
              "       [0.41],\n",
              "       [0.42],\n",
              "       [0.43],\n",
              "       [0.44],\n",
              "       [0.45],\n",
              "       [0.46],\n",
              "       [0.47],\n",
              "       [0.48],\n",
              "       [0.49],\n",
              "       [0.5 ],\n",
              "       [0.51],\n",
              "       [0.52],\n",
              "       [0.53],\n",
              "       [0.54],\n",
              "       [0.55],\n",
              "       [0.56],\n",
              "       [0.57],\n",
              "       [0.58],\n",
              "       [0.59],\n",
              "       [0.6 ],\n",
              "       [0.61],\n",
              "       [0.62],\n",
              "       [0.63],\n",
              "       [0.64],\n",
              "       [0.65],\n",
              "       [0.66],\n",
              "       [0.67],\n",
              "       [0.68],\n",
              "       [0.69],\n",
              "       [0.7 ],\n",
              "       [0.71],\n",
              "       [0.72],\n",
              "       [0.73],\n",
              "       [0.74],\n",
              "       [0.75],\n",
              "       [0.76],\n",
              "       [0.77],\n",
              "       [0.78],\n",
              "       [0.79],\n",
              "       [0.8 ],\n",
              "       [0.81],\n",
              "       [0.82],\n",
              "       [0.83],\n",
              "       [0.84],\n",
              "       [0.85],\n",
              "       [0.86],\n",
              "       [0.87],\n",
              "       [0.88],\n",
              "       [0.89],\n",
              "       [0.9 ],\n",
              "       [0.91],\n",
              "       [0.92],\n",
              "       [0.93],\n",
              "       [0.94],\n",
              "       [0.95],\n",
              "       [0.96],\n",
              "       [0.97],\n",
              "       [0.98],\n",
              "       [0.99],\n",
              "       [1.  ],\n",
              "       [1.01],\n",
              "       [1.02],\n",
              "       [1.03],\n",
              "       [1.04],\n",
              "       [1.05],\n",
              "       [1.06],\n",
              "       [1.07],\n",
              "       [1.08],\n",
              "       [1.09],\n",
              "       [1.1 ],\n",
              "       [1.11],\n",
              "       [1.12],\n",
              "       [1.13],\n",
              "       [1.14],\n",
              "       [1.15],\n",
              "       [1.16],\n",
              "       [1.17],\n",
              "       [1.18],\n",
              "       [1.19],\n",
              "       [1.2 ],\n",
              "       [1.21],\n",
              "       [1.22],\n",
              "       [1.23],\n",
              "       [1.24],\n",
              "       [1.25],\n",
              "       [1.26],\n",
              "       [1.27],\n",
              "       [1.28],\n",
              "       [1.29],\n",
              "       [1.3 ],\n",
              "       [1.31],\n",
              "       [1.32],\n",
              "       [1.33],\n",
              "       [1.34],\n",
              "       [1.35],\n",
              "       [1.36],\n",
              "       [1.37],\n",
              "       [1.38],\n",
              "       [1.39],\n",
              "       [1.4 ],\n",
              "       [1.41],\n",
              "       [1.42],\n",
              "       [1.43],\n",
              "       [1.44],\n",
              "       [1.45],\n",
              "       [1.46],\n",
              "       [1.47],\n",
              "       [1.48],\n",
              "       [1.49],\n",
              "       [1.5 ],\n",
              "       [1.51],\n",
              "       [1.52],\n",
              "       [1.53],\n",
              "       [1.54],\n",
              "       [1.55],\n",
              "       [1.56],\n",
              "       [1.57],\n",
              "       [1.58],\n",
              "       [1.59],\n",
              "       [1.6 ],\n",
              "       [1.61],\n",
              "       [1.62],\n",
              "       [1.63],\n",
              "       [1.64],\n",
              "       [1.65],\n",
              "       [1.66],\n",
              "       [1.67],\n",
              "       [1.68],\n",
              "       [1.69],\n",
              "       [1.7 ],\n",
              "       [1.71],\n",
              "       [1.72],\n",
              "       [1.73],\n",
              "       [1.74],\n",
              "       [1.75],\n",
              "       [1.76],\n",
              "       [1.77],\n",
              "       [1.78],\n",
              "       [1.79],\n",
              "       [1.8 ],\n",
              "       [1.81],\n",
              "       [1.82],\n",
              "       [1.83],\n",
              "       [1.84],\n",
              "       [1.85],\n",
              "       [1.86],\n",
              "       [1.87],\n",
              "       [1.88],\n",
              "       [1.89],\n",
              "       [1.9 ],\n",
              "       [1.91],\n",
              "       [1.92],\n",
              "       [1.93],\n",
              "       [1.94],\n",
              "       [1.95],\n",
              "       [1.96],\n",
              "       [1.97],\n",
              "       [1.98],\n",
              "       [1.99],\n",
              "       [2.  ],\n",
              "       [2.01],\n",
              "       [2.02],\n",
              "       [2.03],\n",
              "       [2.04],\n",
              "       [2.05],\n",
              "       [2.06],\n",
              "       [2.07],\n",
              "       [2.08],\n",
              "       [2.09],\n",
              "       [2.1 ],\n",
              "       [2.11],\n",
              "       [2.12],\n",
              "       [2.13],\n",
              "       [2.14],\n",
              "       [2.15],\n",
              "       [2.16],\n",
              "       [2.17],\n",
              "       [2.18],\n",
              "       [2.19],\n",
              "       [2.2 ],\n",
              "       [2.21],\n",
              "       [2.22],\n",
              "       [2.23],\n",
              "       [2.24],\n",
              "       [2.25],\n",
              "       [2.26],\n",
              "       [2.27],\n",
              "       [2.28],\n",
              "       [2.29],\n",
              "       [2.3 ],\n",
              "       [2.31],\n",
              "       [2.32],\n",
              "       [2.33],\n",
              "       [2.34],\n",
              "       [2.35],\n",
              "       [2.36],\n",
              "       [2.37],\n",
              "       [2.38],\n",
              "       [2.39],\n",
              "       [2.4 ],\n",
              "       [2.41],\n",
              "       [2.42],\n",
              "       [2.43],\n",
              "       [2.44],\n",
              "       [2.45],\n",
              "       [2.46],\n",
              "       [2.47],\n",
              "       [2.48],\n",
              "       [2.49],\n",
              "       [2.5 ],\n",
              "       [2.51],\n",
              "       [2.52],\n",
              "       [2.53],\n",
              "       [2.54],\n",
              "       [2.55],\n",
              "       [2.56],\n",
              "       [2.57],\n",
              "       [2.58],\n",
              "       [2.59],\n",
              "       [2.6 ],\n",
              "       [2.61],\n",
              "       [2.62],\n",
              "       [2.63],\n",
              "       [2.64],\n",
              "       [2.65],\n",
              "       [2.66],\n",
              "       [2.67],\n",
              "       [2.68],\n",
              "       [2.69],\n",
              "       [2.7 ],\n",
              "       [2.71],\n",
              "       [2.72],\n",
              "       [2.73],\n",
              "       [2.74],\n",
              "       [2.75],\n",
              "       [2.76],\n",
              "       [2.77],\n",
              "       [2.78],\n",
              "       [2.79],\n",
              "       [2.8 ],\n",
              "       [2.81],\n",
              "       [2.82],\n",
              "       [2.83],\n",
              "       [2.84],\n",
              "       [2.85],\n",
              "       [2.86],\n",
              "       [2.87],\n",
              "       [2.88],\n",
              "       [2.89],\n",
              "       [2.9 ],\n",
              "       [2.91],\n",
              "       [2.92],\n",
              "       [2.93],\n",
              "       [2.94],\n",
              "       [2.95],\n",
              "       [2.96],\n",
              "       [2.97],\n",
              "       [2.98],\n",
              "       [2.99],\n",
              "       [3.  ],\n",
              "       [3.01],\n",
              "       [3.02],\n",
              "       [3.03],\n",
              "       [3.04],\n",
              "       [3.05],\n",
              "       [3.06],\n",
              "       [3.07],\n",
              "       [3.08],\n",
              "       [3.09],\n",
              "       [3.1 ],\n",
              "       [3.11],\n",
              "       [3.12],\n",
              "       [3.13],\n",
              "       [3.14],\n",
              "       [3.15],\n",
              "       [3.16],\n",
              "       [3.17],\n",
              "       [3.18],\n",
              "       [3.19],\n",
              "       [3.2 ],\n",
              "       [3.21],\n",
              "       [3.22],\n",
              "       [3.23],\n",
              "       [3.24],\n",
              "       [3.25],\n",
              "       [3.26],\n",
              "       [3.27],\n",
              "       [3.28],\n",
              "       [3.29],\n",
              "       [3.3 ],\n",
              "       [3.31],\n",
              "       [3.32],\n",
              "       [3.33],\n",
              "       [3.34],\n",
              "       [3.35],\n",
              "       [3.36],\n",
              "       [3.37],\n",
              "       [3.38],\n",
              "       [3.39],\n",
              "       [3.4 ],\n",
              "       [3.41],\n",
              "       [3.42],\n",
              "       [3.43],\n",
              "       [3.44],\n",
              "       [3.45],\n",
              "       [3.46],\n",
              "       [3.47],\n",
              "       [3.48],\n",
              "       [3.49],\n",
              "       [3.5 ],\n",
              "       [3.51],\n",
              "       [3.52],\n",
              "       [3.53],\n",
              "       [3.54],\n",
              "       [3.55],\n",
              "       [3.56],\n",
              "       [3.57],\n",
              "       [3.58],\n",
              "       [3.59],\n",
              "       [3.6 ],\n",
              "       [3.61],\n",
              "       [3.62],\n",
              "       [3.63],\n",
              "       [3.64],\n",
              "       [3.65],\n",
              "       [3.66],\n",
              "       [3.67],\n",
              "       [3.68],\n",
              "       [3.69],\n",
              "       [3.7 ],\n",
              "       [3.71],\n",
              "       [3.72],\n",
              "       [3.73],\n",
              "       [3.74],\n",
              "       [3.75],\n",
              "       [3.76],\n",
              "       [3.77],\n",
              "       [3.78],\n",
              "       [3.79],\n",
              "       [3.8 ],\n",
              "       [3.81],\n",
              "       [3.82],\n",
              "       [3.83],\n",
              "       [3.84],\n",
              "       [3.85],\n",
              "       [3.86],\n",
              "       [3.87],\n",
              "       [3.88],\n",
              "       [3.89],\n",
              "       [3.9 ],\n",
              "       [3.91],\n",
              "       [3.92],\n",
              "       [3.93],\n",
              "       [3.94],\n",
              "       [3.95],\n",
              "       [3.96],\n",
              "       [3.97],\n",
              "       [3.98],\n",
              "       [3.99],\n",
              "       [4.  ],\n",
              "       [4.01],\n",
              "       [4.02],\n",
              "       [4.03],\n",
              "       [4.04],\n",
              "       [4.05],\n",
              "       [4.06],\n",
              "       [4.07],\n",
              "       [4.08],\n",
              "       [4.09],\n",
              "       [4.1 ],\n",
              "       [4.11],\n",
              "       [4.12],\n",
              "       [4.13],\n",
              "       [4.14],\n",
              "       [4.15],\n",
              "       [4.16],\n",
              "       [4.17],\n",
              "       [4.18],\n",
              "       [4.19],\n",
              "       [4.2 ],\n",
              "       [4.21],\n",
              "       [4.22],\n",
              "       [4.23],\n",
              "       [4.24],\n",
              "       [4.25],\n",
              "       [4.26],\n",
              "       [4.27],\n",
              "       [4.28],\n",
              "       [4.29],\n",
              "       [4.3 ],\n",
              "       [4.31],\n",
              "       [4.32],\n",
              "       [4.33],\n",
              "       [4.34],\n",
              "       [4.35],\n",
              "       [4.36],\n",
              "       [4.37],\n",
              "       [4.38],\n",
              "       [4.39],\n",
              "       [4.4 ],\n",
              "       [4.41],\n",
              "       [4.42],\n",
              "       [4.43],\n",
              "       [4.44],\n",
              "       [4.45],\n",
              "       [4.46],\n",
              "       [4.47],\n",
              "       [4.48],\n",
              "       [4.49],\n",
              "       [4.5 ],\n",
              "       [4.51],\n",
              "       [4.52],\n",
              "       [4.53],\n",
              "       [4.54],\n",
              "       [4.55],\n",
              "       [4.56],\n",
              "       [4.57],\n",
              "       [4.58],\n",
              "       [4.59],\n",
              "       [4.6 ],\n",
              "       [4.61],\n",
              "       [4.62],\n",
              "       [4.63],\n",
              "       [4.64],\n",
              "       [4.65],\n",
              "       [4.66],\n",
              "       [4.67],\n",
              "       [4.68],\n",
              "       [4.69],\n",
              "       [4.7 ],\n",
              "       [4.71],\n",
              "       [4.72],\n",
              "       [4.73],\n",
              "       [4.74],\n",
              "       [4.75],\n",
              "       [4.76],\n",
              "       [4.77],\n",
              "       [4.78],\n",
              "       [4.79],\n",
              "       [4.8 ],\n",
              "       [4.81],\n",
              "       [4.82],\n",
              "       [4.83],\n",
              "       [4.84],\n",
              "       [4.85],\n",
              "       [4.86],\n",
              "       [4.87],\n",
              "       [4.88],\n",
              "       [4.89],\n",
              "       [4.9 ],\n",
              "       [4.91],\n",
              "       [4.92],\n",
              "       [4.93],\n",
              "       [4.94],\n",
              "       [4.95],\n",
              "       [4.96],\n",
              "       [4.97],\n",
              "       [4.98],\n",
              "       [4.99]])"
            ]
          },
          "metadata": {
            "tags": []
          },
          "execution_count": 56
        }
      ]
    },
    {
      "cell_type": "code",
      "metadata": {
        "id": "NuUAxs9ELOGr"
      },
      "source": [
        "y_1=regr1.predict(X_test)\n",
        "y_2=regr2.predict(X_test)"
      ],
      "execution_count": null,
      "outputs": []
    },
    {
      "cell_type": "code",
      "metadata": {
        "colab": {
          "base_uri": "https://localhost:8080/"
        },
        "id": "2GqALCKNLW2U",
        "outputId": "8a3305bc-96d0-4491-ea9d-e54ccf67f85a"
      },
      "source": [
        "y_1"
      ],
      "execution_count": null,
      "outputs": [
        {
          "output_type": "execute_result",
          "data": {
            "text/plain": [
              "array([ 0.05236068,  0.05236068,  0.05236068,  0.05236068,  0.05236068,\n",
              "        0.05236068,  0.05236068,  0.05236068,  0.05236068,  0.05236068,\n",
              "        0.05236068,  0.05236068,  0.05236068,  0.05236068,  0.05236068,\n",
              "        0.05236068,  0.05236068,  0.05236068,  0.05236068,  0.05236068,\n",
              "        0.05236068,  0.05236068,  0.05236068,  0.05236068,  0.05236068,\n",
              "        0.05236068,  0.05236068,  0.05236068,  0.05236068,  0.05236068,\n",
              "        0.05236068,  0.05236068,  0.05236068,  0.05236068,  0.05236068,\n",
              "        0.05236068,  0.05236068,  0.05236068,  0.05236068,  0.05236068,\n",
              "        0.05236068,  0.05236068,  0.05236068,  0.05236068,  0.05236068,\n",
              "        0.05236068,  0.05236068,  0.05236068,  0.05236068,  0.05236068,\n",
              "        0.05236068,  0.05236068,  0.71382568,  0.71382568,  0.71382568,\n",
              "        0.71382568,  0.71382568,  0.71382568,  0.71382568,  0.71382568,\n",
              "        0.71382568,  0.71382568,  0.71382568,  0.71382568,  0.71382568,\n",
              "        0.71382568,  0.71382568,  0.71382568,  0.71382568,  0.71382568,\n",
              "        0.71382568,  0.71382568,  0.71382568,  0.71382568,  0.71382568,\n",
              "        0.71382568,  0.71382568,  0.71382568,  0.71382568,  0.71382568,\n",
              "        0.71382568,  0.71382568,  0.71382568,  0.71382568,  0.71382568,\n",
              "        0.71382568,  0.71382568,  0.71382568,  0.71382568,  0.71382568,\n",
              "        0.71382568,  0.71382568,  0.71382568,  0.71382568,  0.71382568,\n",
              "        0.71382568,  0.71382568,  0.71382568,  0.71382568,  0.71382568,\n",
              "        0.71382568,  0.71382568,  0.71382568,  0.71382568,  0.71382568,\n",
              "        0.71382568,  0.71382568,  0.71382568,  0.71382568,  0.71382568,\n",
              "        0.71382568,  0.71382568,  0.71382568,  0.71382568,  0.71382568,\n",
              "        0.71382568,  0.71382568,  0.71382568,  0.71382568,  0.71382568,\n",
              "        0.71382568,  0.71382568,  0.71382568,  0.71382568,  0.71382568,\n",
              "        0.71382568,  0.71382568,  0.71382568,  0.71382568,  0.71382568,\n",
              "        0.71382568,  0.71382568,  0.71382568,  0.71382568,  0.71382568,\n",
              "        0.71382568,  0.71382568,  0.71382568,  0.71382568,  0.71382568,\n",
              "        0.71382568,  0.71382568,  0.71382568,  0.71382568,  0.71382568,\n",
              "        0.71382568,  0.71382568,  0.71382568,  0.71382568,  0.71382568,\n",
              "        0.71382568,  0.71382568,  0.71382568,  0.71382568,  0.71382568,\n",
              "        0.71382568,  0.71382568,  0.71382568,  0.71382568,  0.71382568,\n",
              "        0.71382568,  0.71382568,  0.71382568,  0.71382568,  0.71382568,\n",
              "        0.71382568,  0.71382568,  0.71382568,  0.71382568,  0.71382568,\n",
              "        0.71382568,  0.71382568,  0.71382568,  0.71382568,  0.71382568,\n",
              "        0.71382568,  0.71382568,  0.71382568,  0.71382568,  0.71382568,\n",
              "        0.71382568,  0.71382568,  0.71382568,  0.71382568,  0.71382568,\n",
              "        0.71382568,  0.71382568,  0.71382568,  0.71382568,  0.71382568,\n",
              "        0.71382568,  0.71382568,  0.71382568,  0.71382568,  0.71382568,\n",
              "        0.71382568,  0.71382568,  0.71382568,  0.71382568,  0.71382568,\n",
              "        0.71382568,  0.71382568,  0.71382568,  0.71382568,  0.71382568,\n",
              "        0.71382568,  0.71382568,  0.71382568,  0.71382568,  0.71382568,\n",
              "        0.71382568,  0.71382568,  0.71382568,  0.71382568,  0.71382568,\n",
              "        0.71382568,  0.71382568,  0.71382568,  0.71382568,  0.71382568,\n",
              "        0.71382568,  0.71382568,  0.71382568,  0.71382568,  0.71382568,\n",
              "        0.71382568,  0.71382568,  0.71382568,  0.71382568,  0.71382568,\n",
              "        0.71382568,  0.71382568,  0.71382568,  0.71382568,  0.71382568,\n",
              "        0.71382568,  0.71382568,  0.71382568,  0.71382568,  0.71382568,\n",
              "        0.71382568,  0.71382568,  0.71382568,  0.71382568,  0.71382568,\n",
              "        0.71382568,  0.71382568,  0.71382568,  0.71382568,  0.71382568,\n",
              "        0.71382568,  0.71382568,  0.71382568,  0.71382568,  0.71382568,\n",
              "        0.71382568,  0.71382568,  0.71382568,  0.71382568,  0.71382568,\n",
              "        0.71382568,  0.71382568,  0.71382568,  0.71382568,  0.71382568,\n",
              "        0.71382568,  0.71382568,  0.71382568,  0.71382568,  0.71382568,\n",
              "        0.71382568,  0.71382568,  0.71382568,  0.71382568,  0.71382568,\n",
              "        0.71382568,  0.71382568,  0.71382568,  0.71382568,  0.71382568,\n",
              "        0.71382568,  0.71382568,  0.71382568,  0.71382568,  0.71382568,\n",
              "        0.71382568,  0.71382568,  0.71382568,  0.71382568,  0.71382568,\n",
              "        0.71382568,  0.71382568,  0.71382568,  0.71382568,  0.71382568,\n",
              "        0.71382568,  0.71382568,  0.71382568,  0.71382568,  0.71382568,\n",
              "        0.71382568,  0.71382568,  0.71382568,  0.71382568,  0.71382568,\n",
              "        0.71382568,  0.71382568,  0.71382568,  0.71382568,  0.71382568,\n",
              "        0.71382568,  0.71382568,  0.71382568,  0.71382568, -0.45190264,\n",
              "       -0.45190264, -0.45190264, -0.45190264, -0.45190264, -0.45190264,\n",
              "       -0.45190264, -0.45190264, -0.45190264, -0.45190264, -0.45190264,\n",
              "       -0.45190264, -0.45190264, -0.45190264, -0.45190264, -0.45190264,\n",
              "       -0.45190264, -0.45190264, -0.45190264, -0.45190264, -0.45190264,\n",
              "       -0.45190264, -0.45190264, -0.45190264, -0.45190264, -0.45190264,\n",
              "       -0.45190264, -0.45190264, -0.45190264, -0.45190264, -0.45190264,\n",
              "       -0.45190264, -0.45190264, -0.45190264, -0.45190264, -0.45190264,\n",
              "       -0.45190264, -0.45190264, -0.45190264, -0.45190264, -0.45190264,\n",
              "       -0.45190264, -0.45190264, -0.45190264, -0.45190264, -0.45190264,\n",
              "       -0.45190264, -0.45190264, -0.45190264, -0.45190264, -0.45190264,\n",
              "       -0.45190264, -0.45190264, -0.45190264, -0.45190264, -0.45190264,\n",
              "       -0.45190264, -0.45190264, -0.45190264, -0.45190264, -0.45190264,\n",
              "       -0.45190264, -0.45190264, -0.45190264, -0.45190264, -0.45190264,\n",
              "       -0.45190264, -0.45190264, -0.45190264, -0.45190264, -0.45190264,\n",
              "       -0.45190264, -0.86864256, -0.86864256, -0.86864256, -0.86864256,\n",
              "       -0.86864256, -0.86864256, -0.86864256, -0.86864256, -0.86864256,\n",
              "       -0.86864256, -0.86864256, -0.86864256, -0.86864256, -0.86864256,\n",
              "       -0.86864256, -0.86864256, -0.86864256, -0.86864256, -0.86864256,\n",
              "       -0.86864256, -0.86864256, -0.86864256, -0.86864256, -0.86864256,\n",
              "       -0.86864256, -0.86864256, -0.86864256, -0.86864256, -0.86864256,\n",
              "       -0.86864256, -0.86864256, -0.86864256, -0.86864256, -0.86864256,\n",
              "       -0.86864256, -0.86864256, -0.86864256, -0.86864256, -0.86864256,\n",
              "       -0.86864256, -0.86864256, -0.86864256, -0.86864256, -0.86864256,\n",
              "       -0.86864256, -0.86864256, -0.86864256, -0.86864256, -0.86864256,\n",
              "       -0.86864256, -0.86864256, -0.86864256, -0.86864256, -0.86864256,\n",
              "       -0.86864256, -0.86864256, -0.86864256, -0.86864256, -0.86864256,\n",
              "       -0.86864256, -0.86864256, -0.86864256, -0.86864256, -0.86864256,\n",
              "       -0.86864256, -0.86864256, -0.86864256, -0.86864256, -0.86864256,\n",
              "       -0.86864256, -0.86864256, -0.86864256, -0.86864256, -0.86864256,\n",
              "       -0.86864256, -0.86864256, -0.86864256, -0.86864256, -0.86864256,\n",
              "       -0.86864256, -0.86864256, -0.86864256, -0.86864256, -0.86864256,\n",
              "       -0.86864256, -0.86864256, -0.86864256, -0.86864256, -0.86864256,\n",
              "       -0.86864256, -0.86864256, -0.86864256, -0.86864256, -0.86864256,\n",
              "       -0.86864256, -0.86864256, -0.86864256, -0.86864256, -0.86864256,\n",
              "       -0.86864256, -0.86864256, -0.86864256, -0.86864256, -0.86864256,\n",
              "       -0.86864256, -0.86864256, -0.86864256, -0.86864256, -0.86864256,\n",
              "       -0.86864256, -0.86864256, -0.86864256, -0.86864256, -0.86864256])"
            ]
          },
          "metadata": {
            "tags": []
          },
          "execution_count": 58
        }
      ]
    },
    {
      "cell_type": "code",
      "metadata": {
        "colab": {
          "base_uri": "https://localhost:8080/",
          "height": 295
        },
        "id": "cs90JbVJLY_X",
        "outputId": "f0ef9112-9db9-487d-c046-08507d0899fa"
      },
      "source": [
        "# depth에 따라 결과가 어떻게 변하는거 그래프로 확인\n",
        "plt.figure()\n",
        "plt.scatter(X,y,s=20,edgecolors='black',\n",
        "            c='darkorange', label='data')\n",
        "plt.plot(X_test, y_1, color='cornflowerblue',\n",
        "         label='max_depth=2', linewidth=2)\n",
        "plt.plot(X_test, y_2, color='yellowgreen',\n",
        "         label='max_depth=5', linewidth=2)\n",
        "plt.xlabel('data')\n",
        "plt.ylabel('target')\n",
        "plt.title('Decision Tree Regression')\n",
        "plt.legend()\n",
        "plt.show()\n",
        "\n",
        "# depth=5는 이상치까지 잘찾아가고있음(복잡하게 찾아가고있음: 오버피팅의 위험)"
      ],
      "execution_count": null,
      "outputs": [
        {
          "output_type": "display_data",
          "data": {
            "image/png": "[encoded data removed]",
            "text/plain": [
              "<Figure size 432x288 with 1 Axes>"
            ]
          },
          "metadata": {
            "tags": [],
            "needs_background": "light"
          }
        }
      ]
    },
    {
      "cell_type": "code",
      "metadata": {
        "colab": {
          "base_uri": "https://localhost:8080/",
          "height": 789
        },
        "id": "N8NY2FzTMTJg",
        "outputId": "a980ccfa-a598-43f1-eaa4-d439caf2f9c1"
      },
      "source": [
        "# depth가 5인 그래프\n",
        "dot_data4=tree.export_graphviz(regr2, out_file=None,\n",
        "                              filled=True, rounded=True,\n",
        "                              special_characters=True)\n",
        "\n",
        "graph4 = graphviz.Source(dot_data4)\n",
        "graph4\n",
        "\n",
        "# 분류 모델에서의 entropy와 예측 모델에서의 MSE는 같은 맥락으로 이해하면 된다.(작아지면 좋다.)\n",
        "# sample 갯수가 작아지면서 MSE도 작아진다.\n",
        "# value가 이 범주에 해당하는 집단의 대표값이 된다.(ex. y의 평균 등 이다., 예측을 하려면 value 값을 쓰면 된다.)"
      ],
      "execution_count": null,
      "outputs": [
        {
          "output_type": "execute_result",
          "data": {
            "text/plain": [
              "<graphviz.files.Source at 0x7fc78408bfd0>"
            ],
            "image/svg+xml": "<?xml version=\"1.0\" encoding=\"UTF-8\" standalone=\"no\"?>\n<!DOCTYPE svg PUBLIC \"-//W3C//DTD SVG 1.1//EN\"\n \"http://www.w3.org/Graphics/SVG/1.1/DTD/svg11.dtd\">\n<!-- Generated by graphviz version 2.40.1 (20161225.0304)\n -->\n<!-- Title: Tree Pages: 1 -->\n<svg width=\"2228pt\" height=\"561pt\"\n viewBox=\"0.00 0.00 2227.50 561.00\" xmlns=\"http://www.w3.org/2000/svg\" xmlns:xlink=\"http://www.w3.org/1999/xlink\">\n<g id=\"graph0\" class=\"graph\" transform=\"scale(1 1) rotate(0) translate(4 557)\">\n<title>Tree</title>\n<polygon fill=\"#ffffff\" stroke=\"transparent\" points=\"-4,4 -4,-557 2223.5,-557 2223.5,4 -4,4\"/>\n<!-- 0 -->\n<g id=\"node1\" class=\"node\">\n<title>0</title>\n<path fill=\"#f0b58a\" stroke=\"#000000\" d=\"M1016,-553C1016,-553 936,-553 936,-553 930,-553 924,-547 924,-541 924,-541 924,-501 924,-501 924,-495 930,-489 936,-489 936,-489 1016,-489 1016,-489 1022,-489 1028,-495 1028,-501 1028,-501 1028,-541 1028,-541 1028,-547 1022,-553 1016,-553\"/>\n<text text-anchor=\"start\" x=\"941.5\" y=\"-538.8\" font-family=\"Helvetica,sans-Serif\" font-size=\"14.00\" fill=\"#000000\">X</text>\n<text text-anchor=\"start\" x=\"951.5\" y=\"-538.8\" font-family=\"Helvetica,sans-Serif\" baseline-shift=\"sub\" font-size=\"14.00\" fill=\"#000000\">0</text>\n<text text-anchor=\"start\" x=\"958.5\" y=\"-538.8\" font-family=\"Helvetica,sans-Serif\" font-size=\"14.00\" fill=\"#000000\"> ≤ 3.133</text>\n<text text-anchor=\"start\" x=\"935.5\" y=\"-524.8\" font-family=\"Helvetica,sans-Serif\" font-size=\"14.00\" fill=\"#000000\">mse = 0.547</text>\n<text text-anchor=\"start\" x=\"932\" y=\"-510.8\" font-family=\"Helvetica,sans-Serif\" font-size=\"14.00\" fill=\"#000000\">samples = 80</text>\n<text text-anchor=\"start\" x=\"932\" y=\"-496.8\" font-family=\"Helvetica,sans-Serif\" font-size=\"14.00\" fill=\"#000000\">value = 0.122</text>\n</g>\n<!-- 1 -->\n<g id=\"node2\" class=\"node\">\n<title>1</title>\n<path fill=\"#eca26d\" stroke=\"#000000\" d=\"M647,-453C647,-453 567,-453 567,-453 561,-453 555,-447 555,-441 555,-441 555,-401 555,-401 555,-395 561,-389 567,-389 567,-389 647,-389 647,-389 653,-389 659,-395 659,-401 659,-401 659,-441 659,-441 659,-447 653,-453 647,-453\"/>\n<text text-anchor=\"start\" x=\"572.5\" y=\"-438.8\" font-family=\"Helvetica,sans-Serif\" font-size=\"14.00\" fill=\"#000000\">X</text>\n<text text-anchor=\"start\" x=\"582.5\" y=\"-438.8\" font-family=\"Helvetica,sans-Serif\" baseline-shift=\"sub\" font-size=\"14.00\" fill=\"#000000\">0</text>\n<text text-anchor=\"start\" x=\"589.5\" y=\"-438.8\" font-family=\"Helvetica,sans-Serif\" font-size=\"14.00\" fill=\"#000000\"> ≤ 0.514</text>\n<text text-anchor=\"start\" x=\"566.5\" y=\"-424.8\" font-family=\"Helvetica,sans-Serif\" font-size=\"14.00\" fill=\"#000000\">mse = 0.231</text>\n<text text-anchor=\"start\" x=\"563\" y=\"-410.8\" font-family=\"Helvetica,sans-Serif\" font-size=\"14.00\" fill=\"#000000\">samples = 51</text>\n<text text-anchor=\"start\" x=\"563\" y=\"-396.8\" font-family=\"Helvetica,sans-Serif\" font-size=\"14.00\" fill=\"#000000\">value = 0.571</text>\n</g>\n<!-- 0&#45;&gt;1 -->\n<g id=\"edge1\" class=\"edge\">\n<title>0&#45;&gt;1</title>\n<path fill=\"none\" stroke=\"#000000\" d=\"M923.9139,-506.8845C856.8416,-488.7077 740.4233,-457.1581 668.9029,-437.7759\"/>\n<polygon fill=\"#000000\" stroke=\"#000000\" points=\"669.6862,-434.3619 659.1188,-435.1243 667.8552,-441.1182 669.6862,-434.3619\"/>\n<text text-anchor=\"middle\" x=\"671.5571\" y=\"-453.1105\" font-family=\"Helvetica,sans-Serif\" font-size=\"14.00\" fill=\"#000000\">True</text>\n</g>\n<!-- 22 -->\n<g id=\"node23\" class=\"node\">\n<title>22</title>\n<path fill=\"#f7d6bf\" stroke=\"#000000\" d=\"M1387.5,-453C1387.5,-453 1302.5,-453 1302.5,-453 1296.5,-453 1290.5,-447 1290.5,-441 1290.5,-441 1290.5,-401 1290.5,-401 1290.5,-395 1296.5,-389 1302.5,-389 1302.5,-389 1387.5,-389 1387.5,-389 1393.5,-389 1399.5,-395 1399.5,-401 1399.5,-401 1399.5,-441 1399.5,-441 1399.5,-447 1393.5,-453 1387.5,-453\"/>\n<text text-anchor=\"start\" x=\"1314.5\" y=\"-438.8\" font-family=\"Helvetica,sans-Serif\" font-size=\"14.00\" fill=\"#000000\">X</text>\n<text text-anchor=\"start\" x=\"1324.5\" y=\"-438.8\" font-family=\"Helvetica,sans-Serif\" baseline-shift=\"sub\" font-size=\"14.00\" fill=\"#000000\">0</text>\n<text text-anchor=\"start\" x=\"1331.5\" y=\"-438.8\" font-family=\"Helvetica,sans-Serif\" font-size=\"14.00\" fill=\"#000000\"> ≤ 3.85</text>\n<text text-anchor=\"start\" x=\"1304.5\" y=\"-424.8\" font-family=\"Helvetica,sans-Serif\" font-size=\"14.00\" fill=\"#000000\">mse = 0.124</text>\n<text text-anchor=\"start\" x=\"1301\" y=\"-410.8\" font-family=\"Helvetica,sans-Serif\" font-size=\"14.00\" fill=\"#000000\">samples = 29</text>\n<text text-anchor=\"start\" x=\"1298.5\" y=\"-396.8\" font-family=\"Helvetica,sans-Serif\" font-size=\"14.00\" fill=\"#000000\">value = &#45;0.667</text>\n</g>\n<!-- 0&#45;&gt;22 -->\n<g id=\"edge22\" class=\"edge\">\n<title>0&#45;&gt;22</title>\n<path fill=\"none\" stroke=\"#000000\" d=\"M1028.0861,-506.8845C1094.3995,-488.9134 1208.9483,-457.8704 1280.6521,-438.4384\"/>\n<polygon fill=\"#000000\" stroke=\"#000000\" points=\"1281.7397,-441.77 1290.476,-435.7761 1279.9087,-435.0137 1281.7397,-441.77\"/>\n<text text-anchor=\"middle\" x=\"1278.0377\" y=\"-453.7623\" font-family=\"Helvetica,sans-Serif\" font-size=\"14.00\" fill=\"#000000\">False</text>\n</g>\n<!-- 2 -->\n<g id=\"node3\" class=\"node\">\n<title>2</title>\n<path fill=\"#f0b88f\" stroke=\"#000000\" d=\"M338,-353C338,-353 258,-353 258,-353 252,-353 246,-347 246,-341 246,-341 246,-301 246,-301 246,-295 252,-289 258,-289 258,-289 338,-289 338,-289 344,-289 350,-295 350,-301 350,-301 350,-341 350,-341 350,-347 344,-353 338,-353\"/>\n<text text-anchor=\"start\" x=\"263.5\" y=\"-338.8\" font-family=\"Helvetica,sans-Serif\" font-size=\"14.00\" fill=\"#000000\">X</text>\n<text text-anchor=\"start\" x=\"273.5\" y=\"-338.8\" font-family=\"Helvetica,sans-Serif\" baseline-shift=\"sub\" font-size=\"14.00\" fill=\"#000000\">0</text>\n<text text-anchor=\"start\" x=\"280.5\" y=\"-338.8\" font-family=\"Helvetica,sans-Serif\" font-size=\"14.00\" fill=\"#000000\"> ≤ 0.046</text>\n<text text-anchor=\"start\" x=\"257.5\" y=\"-324.8\" font-family=\"Helvetica,sans-Serif\" font-size=\"14.00\" fill=\"#000000\">mse = 0.192</text>\n<text text-anchor=\"start\" x=\"254\" y=\"-310.8\" font-family=\"Helvetica,sans-Serif\" font-size=\"14.00\" fill=\"#000000\">samples = 11</text>\n<text text-anchor=\"start\" x=\"254\" y=\"-296.8\" font-family=\"Helvetica,sans-Serif\" font-size=\"14.00\" fill=\"#000000\">value = 0.052</text>\n</g>\n<!-- 1&#45;&gt;2 -->\n<g id=\"edge2\" class=\"edge\">\n<title>1&#45;&gt;2</title>\n<path fill=\"none\" stroke=\"#000000\" d=\"M554.9318,-404.1494C501.0328,-386.7064 416.863,-359.467 359.6681,-340.9573\"/>\n<polygon fill=\"#000000\" stroke=\"#000000\" points=\"360.6154,-337.5852 350.0236,-337.8361 358.4601,-344.2452 360.6154,-337.5852\"/>\n</g>\n<!-- 9 -->\n<g id=\"node10\" class=\"node\">\n<title>9</title>\n<path fill=\"#eb9c63\" stroke=\"#000000\" d=\"M647,-353C647,-353 567,-353 567,-353 561,-353 555,-347 555,-341 555,-341 555,-301 555,-301 555,-295 561,-289 567,-289 567,-289 647,-289 647,-289 653,-289 659,-295 659,-301 659,-301 659,-341 659,-341 659,-347 653,-353 647,-353\"/>\n<text text-anchor=\"start\" x=\"572.5\" y=\"-338.8\" font-family=\"Helvetica,sans-Serif\" font-size=\"14.00\" fill=\"#000000\">X</text>\n<text text-anchor=\"start\" x=\"582.5\" y=\"-338.8\" font-family=\"Helvetica,sans-Serif\" baseline-shift=\"sub\" font-size=\"14.00\" fill=\"#000000\">0</text>\n<text text-anchor=\"start\" x=\"589.5\" y=\"-338.8\" font-family=\"Helvetica,sans-Serif\" font-size=\"14.00\" fill=\"#000000\"> ≤ 2.029</text>\n<text text-anchor=\"start\" x=\"566.5\" y=\"-324.8\" font-family=\"Helvetica,sans-Serif\" font-size=\"14.00\" fill=\"#000000\">mse = 0.148</text>\n<text text-anchor=\"start\" x=\"563\" y=\"-310.8\" font-family=\"Helvetica,sans-Serif\" font-size=\"14.00\" fill=\"#000000\">samples = 40</text>\n<text text-anchor=\"start\" x=\"563\" y=\"-296.8\" font-family=\"Helvetica,sans-Serif\" font-size=\"14.00\" fill=\"#000000\">value = 0.714</text>\n</g>\n<!-- 1&#45;&gt;9 -->\n<g id=\"edge9\" class=\"edge\">\n<title>1&#45;&gt;9</title>\n<path fill=\"none\" stroke=\"#000000\" d=\"M607,-388.8089C607,-380.6906 607,-371.8517 607,-363.3186\"/>\n<polygon fill=\"#000000\" stroke=\"#000000\" points=\"610.5001,-363.1307 607,-353.1308 603.5001,-363.1308 610.5001,-363.1307\"/>\n</g>\n<!-- 3 -->\n<g id=\"node4\" class=\"node\">\n<title>3</title>\n<path fill=\"#fbeadf\" stroke=\"#000000\" d=\"M215.5,-247.5C215.5,-247.5 130.5,-247.5 130.5,-247.5 124.5,-247.5 118.5,-241.5 118.5,-235.5 118.5,-235.5 118.5,-206.5 118.5,-206.5 118.5,-200.5 124.5,-194.5 130.5,-194.5 130.5,-194.5 215.5,-194.5 215.5,-194.5 221.5,-194.5 227.5,-200.5 227.5,-206.5 227.5,-206.5 227.5,-235.5 227.5,-235.5 227.5,-241.5 221.5,-247.5 215.5,-247.5\"/>\n<text text-anchor=\"start\" x=\"141\" y=\"-232.3\" font-family=\"Helvetica,sans-Serif\" font-size=\"14.00\" fill=\"#000000\">mse = 0.0</text>\n<text text-anchor=\"start\" x=\"133.5\" y=\"-217.3\" font-family=\"Helvetica,sans-Serif\" font-size=\"14.00\" fill=\"#000000\">samples = 1</text>\n<text text-anchor=\"start\" x=\"126.5\" y=\"-202.3\" font-family=\"Helvetica,sans-Serif\" font-size=\"14.00\" fill=\"#000000\">value = &#45;1.149</text>\n</g>\n<!-- 2&#45;&gt;3 -->\n<g id=\"edge3\" class=\"edge\">\n<title>2&#45;&gt;3</title>\n<path fill=\"none\" stroke=\"#000000\" d=\"M257.7612,-288.8089C243.9198,-277.7359 228.4029,-265.3223 214.4658,-254.1726\"/>\n<polygon fill=\"#000000\" stroke=\"#000000\" points=\"216.4621,-251.2875 206.4669,-247.7735 212.0892,-256.7536 216.4621,-251.2875\"/>\n</g>\n<!-- 4 -->\n<g id=\"node5\" class=\"node\">\n<title>4</title>\n<path fill=\"#efb387\" stroke=\"#000000\" d=\"M338,-253C338,-253 258,-253 258,-253 252,-253 246,-247 246,-241 246,-241 246,-201 246,-201 246,-195 252,-189 258,-189 258,-189 338,-189 338,-189 344,-189 350,-195 350,-201 350,-201 350,-241 350,-241 350,-247 344,-253 338,-253\"/>\n<text text-anchor=\"start\" x=\"263.5\" y=\"-238.8\" font-family=\"Helvetica,sans-Serif\" font-size=\"14.00\" fill=\"#000000\">X</text>\n<text text-anchor=\"start\" x=\"273.5\" y=\"-238.8\" font-family=\"Helvetica,sans-Serif\" baseline-shift=\"sub\" font-size=\"14.00\" fill=\"#000000\">0</text>\n<text text-anchor=\"start\" x=\"280.5\" y=\"-238.8\" font-family=\"Helvetica,sans-Serif\" font-size=\"14.00\" fill=\"#000000\"> ≤ 0.502</text>\n<text text-anchor=\"start\" x=\"257.5\" y=\"-224.8\" font-family=\"Helvetica,sans-Serif\" font-size=\"14.00\" fill=\"#000000\">mse = 0.052</text>\n<text text-anchor=\"start\" x=\"254\" y=\"-210.8\" font-family=\"Helvetica,sans-Serif\" font-size=\"14.00\" fill=\"#000000\">samples = 10</text>\n<text text-anchor=\"start\" x=\"254\" y=\"-196.8\" font-family=\"Helvetica,sans-Serif\" font-size=\"14.00\" fill=\"#000000\">value = 0.173</text>\n</g>\n<!-- 2&#45;&gt;4 -->\n<g id=\"edge4\" class=\"edge\">\n<title>2&#45;&gt;4</title>\n<path fill=\"none\" stroke=\"#000000\" d=\"M298,-288.8089C298,-280.6906 298,-271.8517 298,-263.3186\"/>\n<polygon fill=\"#000000\" stroke=\"#000000\" points=\"301.5001,-263.1307 298,-253.1308 294.5001,-263.1308 301.5001,-263.1307\"/>\n</g>\n<!-- 5 -->\n<g id=\"node6\" class=\"node\">\n<title>5</title>\n<path fill=\"#efb184\" stroke=\"#000000\" d=\"M213,-153C213,-153 133,-153 133,-153 127,-153 121,-147 121,-141 121,-141 121,-101 121,-101 121,-95 127,-89 133,-89 133,-89 213,-89 213,-89 219,-89 225,-95 225,-101 225,-101 225,-141 225,-141 225,-147 219,-153 213,-153\"/>\n<text text-anchor=\"start\" x=\"138.5\" y=\"-138.8\" font-family=\"Helvetica,sans-Serif\" font-size=\"14.00\" fill=\"#000000\">X</text>\n<text text-anchor=\"start\" x=\"148.5\" y=\"-138.8\" font-family=\"Helvetica,sans-Serif\" baseline-shift=\"sub\" font-size=\"14.00\" fill=\"#000000\">0</text>\n<text text-anchor=\"start\" x=\"155.5\" y=\"-138.8\" font-family=\"Helvetica,sans-Serif\" font-size=\"14.00\" fill=\"#000000\"> ≤ 0.258</text>\n<text text-anchor=\"start\" x=\"132.5\" y=\"-124.8\" font-family=\"Helvetica,sans-Serif\" font-size=\"14.00\" fill=\"#000000\">mse = 0.035</text>\n<text text-anchor=\"start\" x=\"133.5\" y=\"-110.8\" font-family=\"Helvetica,sans-Serif\" font-size=\"14.00\" fill=\"#000000\">samples = 9</text>\n<text text-anchor=\"start\" x=\"129\" y=\"-96.8\" font-family=\"Helvetica,sans-Serif\" font-size=\"14.00\" fill=\"#000000\">value = 0.221</text>\n</g>\n<!-- 4&#45;&gt;5 -->\n<g id=\"edge5\" class=\"edge\">\n<title>4&#45;&gt;5</title>\n<path fill=\"none\" stroke=\"#000000\" d=\"M257.7612,-188.8089C246.052,-179.4416 233.1438,-169.115 221.0071,-159.4057\"/>\n<polygon fill=\"#000000\" stroke=\"#000000\" points=\"223.1586,-156.6447 213.1634,-153.1308 218.7857,-162.1108 223.1586,-156.6447\"/>\n</g>\n<!-- 8 -->\n<g id=\"node9\" class=\"node\">\n<title>8</title>\n<path fill=\"#f3c5a4\" stroke=\"#000000\" d=\"M340.5,-147.5C340.5,-147.5 255.5,-147.5 255.5,-147.5 249.5,-147.5 243.5,-141.5 243.5,-135.5 243.5,-135.5 243.5,-106.5 243.5,-106.5 243.5,-100.5 249.5,-94.5 255.5,-94.5 255.5,-94.5 340.5,-94.5 340.5,-94.5 346.5,-94.5 352.5,-100.5 352.5,-106.5 352.5,-106.5 352.5,-135.5 352.5,-135.5 352.5,-141.5 346.5,-147.5 340.5,-147.5\"/>\n<text text-anchor=\"start\" x=\"263.5\" y=\"-132.3\" font-family=\"Helvetica,sans-Serif\" font-size=\"14.00\" fill=\"#000000\">mse = &#45;0.0</text>\n<text text-anchor=\"start\" x=\"258.5\" y=\"-117.3\" font-family=\"Helvetica,sans-Serif\" font-size=\"14.00\" fill=\"#000000\">samples = 1</text>\n<text text-anchor=\"start\" x=\"251.5\" y=\"-102.3\" font-family=\"Helvetica,sans-Serif\" font-size=\"14.00\" fill=\"#000000\">value = &#45;0.263</text>\n</g>\n<!-- 4&#45;&gt;8 -->\n<g id=\"edge8\" class=\"edge\">\n<title>4&#45;&gt;8</title>\n<path fill=\"none\" stroke=\"#000000\" d=\"M298,-188.8089C298,-178.9777 298,-168.0898 298,-157.9679\"/>\n<polygon fill=\"#000000\" stroke=\"#000000\" points=\"301.5001,-157.7735 298,-147.7735 294.5001,-157.7736 301.5001,-157.7735\"/>\n</g>\n<!-- 6 -->\n<g id=\"node7\" class=\"node\">\n<title>6</title>\n<path fill=\"#f0b78d\" stroke=\"#000000\" d=\"M92,-53C92,-53 12,-53 12,-53 6,-53 0,-47 0,-41 0,-41 0,-12 0,-12 0,-6 6,0 12,0 12,0 92,0 92,0 98,0 104,-6 104,-12 104,-12 104,-41 104,-41 104,-47 98,-53 92,-53\"/>\n<text text-anchor=\"start\" x=\"11.5\" y=\"-37.8\" font-family=\"Helvetica,sans-Serif\" font-size=\"14.00\" fill=\"#000000\">mse = 0.012</text>\n<text text-anchor=\"start\" x=\"12.5\" y=\"-22.8\" font-family=\"Helvetica,sans-Serif\" font-size=\"14.00\" fill=\"#000000\">samples = 5</text>\n<text text-anchor=\"start\" x=\"8\" y=\"-7.8\" font-family=\"Helvetica,sans-Serif\" font-size=\"14.00\" fill=\"#000000\">value = 0.079</text>\n</g>\n<!-- 5&#45;&gt;6 -->\n<g id=\"edge6\" class=\"edge\">\n<title>5&#45;&gt;6</title>\n<path fill=\"none\" stroke=\"#000000\" d=\"M131.6971,-88.7428C119.6819,-79.359 106.5398,-69.0952 94.4551,-59.657\"/>\n<polygon fill=\"#000000\" stroke=\"#000000\" points=\"96.32,-56.6726 86.2844,-53.2759 92.0114,-62.1895 96.32,-56.6726\"/>\n</g>\n<!-- 7 -->\n<g id=\"node8\" class=\"node\">\n<title>7</title>\n<path fill=\"#eda978\" stroke=\"#000000\" d=\"M214,-53C214,-53 134,-53 134,-53 128,-53 122,-47 122,-41 122,-41 122,-12 122,-12 122,-6 128,0 134,0 134,0 214,0 214,0 220,0 226,-6 226,-12 226,-12 226,-41 226,-41 226,-47 220,-53 214,-53\"/>\n<text text-anchor=\"start\" x=\"133.5\" y=\"-37.8\" font-family=\"Helvetica,sans-Serif\" font-size=\"14.00\" fill=\"#000000\">mse = 0.007</text>\n<text text-anchor=\"start\" x=\"134.5\" y=\"-22.8\" font-family=\"Helvetica,sans-Serif\" font-size=\"14.00\" fill=\"#000000\">samples = 4</text>\n<text text-anchor=\"start\" x=\"130\" y=\"-7.8\" font-family=\"Helvetica,sans-Serif\" font-size=\"14.00\" fill=\"#000000\">value = 0.398</text>\n</g>\n<!-- 5&#45;&gt;7 -->\n<g id=\"edge7\" class=\"edge\">\n<title>5&#45;&gt;7</title>\n<path fill=\"none\" stroke=\"#000000\" d=\"M173.3413,-88.7428C173.4273,-80.6222 173.5202,-71.8426 173.6084,-63.5093\"/>\n<polygon fill=\"#000000\" stroke=\"#000000\" points=\"177.1106,-63.3124 173.7167,-53.2759 170.1109,-63.2382 177.1106,-63.3124\"/>\n</g>\n<!-- 10 -->\n<g id=\"node11\" class=\"node\">\n<title>10</title>\n<path fill=\"#e9975b\" stroke=\"#000000\" d=\"M586,-253C586,-253 506,-253 506,-253 500,-253 494,-247 494,-241 494,-241 494,-201 494,-201 494,-195 500,-189 506,-189 506,-189 586,-189 586,-189 592,-189 598,-195 598,-201 598,-201 598,-241 598,-241 598,-247 592,-253 586,-253\"/>\n<text text-anchor=\"start\" x=\"511.5\" y=\"-238.8\" font-family=\"Helvetica,sans-Serif\" font-size=\"14.00\" fill=\"#000000\">X</text>\n<text text-anchor=\"start\" x=\"521.5\" y=\"-238.8\" font-family=\"Helvetica,sans-Serif\" baseline-shift=\"sub\" font-size=\"14.00\" fill=\"#000000\">0</text>\n<text text-anchor=\"start\" x=\"528.5\" y=\"-238.8\" font-family=\"Helvetica,sans-Serif\" font-size=\"14.00\" fill=\"#000000\"> ≤ 1.421</text>\n<text text-anchor=\"start\" x=\"505.5\" y=\"-224.8\" font-family=\"Helvetica,sans-Serif\" font-size=\"14.00\" fill=\"#000000\">mse = 0.093</text>\n<text text-anchor=\"start\" x=\"502\" y=\"-210.8\" font-family=\"Helvetica,sans-Serif\" font-size=\"14.00\" fill=\"#000000\">samples = 24</text>\n<text text-anchor=\"start\" x=\"502\" y=\"-196.8\" font-family=\"Helvetica,sans-Serif\" font-size=\"14.00\" fill=\"#000000\">value = 0.839</text>\n</g>\n<!-- 9&#45;&gt;10 -->\n<g id=\"edge10\" class=\"edge\">\n<title>9&#45;&gt;10</title>\n<path fill=\"none\" stroke=\"#000000\" d=\"M587.3634,-288.8089C582.1392,-280.2445 576.4257,-270.8782 570.9582,-261.915\"/>\n<polygon fill=\"#000000\" stroke=\"#000000\" points=\"573.7954,-259.8451 565.5998,-253.1308 567.8194,-263.4905 573.7954,-259.8451\"/>\n</g>\n<!-- 17 -->\n<g id=\"node18\" class=\"node\">\n<title>17</title>\n<path fill=\"#eca470\" stroke=\"#000000\" d=\"M708,-253C708,-253 628,-253 628,-253 622,-253 616,-247 616,-241 616,-241 616,-201 616,-201 616,-195 622,-189 628,-189 628,-189 708,-189 708,-189 714,-189 720,-195 720,-201 720,-201 720,-241 720,-241 720,-247 714,-253 708,-253\"/>\n<text text-anchor=\"start\" x=\"633.5\" y=\"-238.8\" font-family=\"Helvetica,sans-Serif\" font-size=\"14.00\" fill=\"#000000\">X</text>\n<text text-anchor=\"start\" x=\"643.5\" y=\"-238.8\" font-family=\"Helvetica,sans-Serif\" baseline-shift=\"sub\" font-size=\"14.00\" fill=\"#000000\">0</text>\n<text text-anchor=\"start\" x=\"650.5\" y=\"-238.8\" font-family=\"Helvetica,sans-Serif\" font-size=\"14.00\" fill=\"#000000\"> ≤ 2.071</text>\n<text text-anchor=\"start\" x=\"627.5\" y=\"-224.8\" font-family=\"Helvetica,sans-Serif\" font-size=\"14.00\" fill=\"#000000\">mse = 0.172</text>\n<text text-anchor=\"start\" x=\"624\" y=\"-210.8\" font-family=\"Helvetica,sans-Serif\" font-size=\"14.00\" fill=\"#000000\">samples = 16</text>\n<text text-anchor=\"start\" x=\"624\" y=\"-196.8\" font-family=\"Helvetica,sans-Serif\" font-size=\"14.00\" fill=\"#000000\">value = 0.527</text>\n</g>\n<!-- 9&#45;&gt;17 -->\n<g id=\"edge17\" class=\"edge\">\n<title>9&#45;&gt;17</title>\n<path fill=\"none\" stroke=\"#000000\" d=\"M626.6366,-288.8089C631.8608,-280.2445 637.5743,-270.8782 643.0418,-261.915\"/>\n<polygon fill=\"#000000\" stroke=\"#000000\" points=\"646.1806,-263.4905 648.4002,-253.1308 640.2046,-259.8451 646.1806,-263.4905\"/>\n</g>\n<!-- 11 -->\n<g id=\"node12\" class=\"node\">\n<title>11</title>\n<path fill=\"#ea9b61\" stroke=\"#000000\" d=\"M463,-153C463,-153 383,-153 383,-153 377,-153 371,-147 371,-141 371,-141 371,-101 371,-101 371,-95 377,-89 383,-89 383,-89 463,-89 463,-89 469,-89 475,-95 475,-101 475,-101 475,-141 475,-141 475,-147 469,-153 463,-153\"/>\n<text text-anchor=\"start\" x=\"388.5\" y=\"-138.8\" font-family=\"Helvetica,sans-Serif\" font-size=\"14.00\" fill=\"#000000\">X</text>\n<text text-anchor=\"start\" x=\"398.5\" y=\"-138.8\" font-family=\"Helvetica,sans-Serif\" baseline-shift=\"sub\" font-size=\"14.00\" fill=\"#000000\">0</text>\n<text text-anchor=\"start\" x=\"405.5\" y=\"-138.8\" font-family=\"Helvetica,sans-Serif\" font-size=\"14.00\" fill=\"#000000\"> ≤ 1.365</text>\n<text text-anchor=\"start\" x=\"382.5\" y=\"-124.8\" font-family=\"Helvetica,sans-Serif\" font-size=\"14.00\" fill=\"#000000\">mse = 0.119</text>\n<text text-anchor=\"start\" x=\"379\" y=\"-110.8\" font-family=\"Helvetica,sans-Serif\" font-size=\"14.00\" fill=\"#000000\">samples = 15</text>\n<text text-anchor=\"start\" x=\"379\" y=\"-96.8\" font-family=\"Helvetica,sans-Serif\" font-size=\"14.00\" fill=\"#000000\">value = 0.741</text>\n</g>\n<!-- 10&#45;&gt;11 -->\n<g id=\"edge11\" class=\"edge\">\n<title>10&#45;&gt;11</title>\n<path fill=\"none\" stroke=\"#000000\" d=\"M506.405,-188.8089C494.9929,-179.5308 482.4233,-169.3116 470.5804,-159.6833\"/>\n<polygon fill=\"#000000\" stroke=\"#000000\" points=\"472.488,-156.7234 462.5208,-153.1308 468.0721,-162.1548 472.488,-156.7234\"/>\n</g>\n<!-- 14 -->\n<g id=\"node15\" class=\"node\">\n<title>14</title>\n<path fill=\"#e89050\" stroke=\"#000000\" d=\"M583.5,-153C583.5,-153 510.5,-153 510.5,-153 504.5,-153 498.5,-147 498.5,-141 498.5,-141 498.5,-101 498.5,-101 498.5,-95 504.5,-89 510.5,-89 510.5,-89 583.5,-89 583.5,-89 589.5,-89 595.5,-95 595.5,-101 595.5,-101 595.5,-141 595.5,-141 595.5,-147 589.5,-153 583.5,-153\"/>\n<text text-anchor=\"start\" x=\"512.5\" y=\"-138.8\" font-family=\"Helvetica,sans-Serif\" font-size=\"14.00\" fill=\"#000000\">X</text>\n<text text-anchor=\"start\" x=\"522.5\" y=\"-138.8\" font-family=\"Helvetica,sans-Serif\" baseline-shift=\"sub\" font-size=\"14.00\" fill=\"#000000\">0</text>\n<text text-anchor=\"start\" x=\"529.5\" y=\"-138.8\" font-family=\"Helvetica,sans-Serif\" font-size=\"14.00\" fill=\"#000000\"> ≤ 1.861</text>\n<text text-anchor=\"start\" x=\"506.5\" y=\"-124.8\" font-family=\"Helvetica,sans-Serif\" font-size=\"14.00\" fill=\"#000000\">mse = 0.007</text>\n<text text-anchor=\"start\" x=\"507.5\" y=\"-110.8\" font-family=\"Helvetica,sans-Serif\" font-size=\"14.00\" fill=\"#000000\">samples = 9</text>\n<text text-anchor=\"start\" x=\"511\" y=\"-96.8\" font-family=\"Helvetica,sans-Serif\" font-size=\"14.00\" fill=\"#000000\">value = 1.0</text>\n</g>\n<!-- 10&#45;&gt;14 -->\n<g id=\"edge14\" class=\"edge\">\n<title>10&#45;&gt;14</title>\n<path fill=\"none\" stroke=\"#000000\" d=\"M546.3219,-188.8089C546.4031,-180.6906 546.4915,-171.8517 546.5768,-163.3186\"/>\n<polygon fill=\"#000000\" stroke=\"#000000\" points=\"550.0784,-163.1653 546.6787,-153.1308 543.0788,-163.0952 550.0784,-163.1653\"/>\n</g>\n<!-- 12 -->\n<g id=\"node13\" class=\"node\">\n<title>12</title>\n<path fill=\"#ea985d\" stroke=\"#000000\" d=\"M337,-53C337,-53 257,-53 257,-53 251,-53 245,-47 245,-41 245,-41 245,-12 245,-12 245,-6 251,0 257,0 257,0 337,0 337,0 343,0 349,-6 349,-12 349,-12 349,-41 349,-41 349,-47 343,-53 337,-53\"/>\n<text text-anchor=\"start\" x=\"256.5\" y=\"-37.8\" font-family=\"Helvetica,sans-Serif\" font-size=\"14.00\" fill=\"#000000\">mse = 0.059</text>\n<text text-anchor=\"start\" x=\"253\" y=\"-22.8\" font-family=\"Helvetica,sans-Serif\" font-size=\"14.00\" fill=\"#000000\">samples = 14</text>\n<text text-anchor=\"start\" x=\"253\" y=\"-7.8\" font-family=\"Helvetica,sans-Serif\" font-size=\"14.00\" fill=\"#000000\">value = 0.809</text>\n</g>\n<!-- 11&#45;&gt;12 -->\n<g id=\"edge12\" class=\"edge\">\n<title>11&#45;&gt;12</title>\n<path fill=\"none\" stroke=\"#000000\" d=\"M379.9904,-88.7428C367.3584,-79.2688 353.5303,-68.8977 340.8467,-59.385\"/>\n<polygon fill=\"#000000\" stroke=\"#000000\" points=\"342.8012,-56.4759 332.7012,-53.2759 338.6012,-62.0759 342.8012,-56.4759\"/>\n</g>\n<!-- 13 -->\n<g id=\"node14\" class=\"node\">\n<title>13</title>\n<path fill=\"#f3c2a0\" stroke=\"#000000\" d=\"M464.5,-53C464.5,-53 379.5,-53 379.5,-53 373.5,-53 367.5,-47 367.5,-41 367.5,-41 367.5,-12 367.5,-12 367.5,-6 373.5,0 379.5,0 379.5,0 464.5,0 464.5,0 470.5,0 476.5,-6 476.5,-12 476.5,-12 476.5,-41 476.5,-41 476.5,-47 470.5,-53 464.5,-53\"/>\n<text text-anchor=\"start\" x=\"390\" y=\"-37.8\" font-family=\"Helvetica,sans-Serif\" font-size=\"14.00\" fill=\"#000000\">mse = 0.0</text>\n<text text-anchor=\"start\" x=\"382.5\" y=\"-22.8\" font-family=\"Helvetica,sans-Serif\" font-size=\"14.00\" fill=\"#000000\">samples = 1</text>\n<text text-anchor=\"start\" x=\"375.5\" y=\"-7.8\" font-family=\"Helvetica,sans-Serif\" font-size=\"14.00\" fill=\"#000000\">value = &#45;0.202</text>\n</g>\n<!-- 11&#45;&gt;13 -->\n<g id=\"edge13\" class=\"edge\">\n<title>11&#45;&gt;13</title>\n<path fill=\"none\" stroke=\"#000000\" d=\"M422.6587,-88.7428C422.5727,-80.6222 422.4798,-71.8426 422.3916,-63.5093\"/>\n<polygon fill=\"#000000\" stroke=\"#000000\" points=\"425.8891,-63.2382 422.2833,-53.2759 418.8894,-63.3124 425.8891,-63.2382\"/>\n</g>\n<!-- 15 -->\n<g id=\"node16\" class=\"node\">\n<title>15</title>\n<path fill=\"#e88f4f\" stroke=\"#000000\" d=\"M587,-53C587,-53 507,-53 507,-53 501,-53 495,-47 495,-41 495,-41 495,-12 495,-12 495,-6 501,0 507,0 507,0 587,0 587,0 593,0 599,-6 599,-12 599,-12 599,-41 599,-41 599,-47 593,-53 587,-53\"/>\n<text text-anchor=\"start\" x=\"506.5\" y=\"-37.8\" font-family=\"Helvetica,sans-Serif\" font-size=\"14.00\" fill=\"#000000\">mse = 0.006</text>\n<text text-anchor=\"start\" x=\"507.5\" y=\"-22.8\" font-family=\"Helvetica,sans-Serif\" font-size=\"14.00\" fill=\"#000000\">samples = 7</text>\n<text text-anchor=\"start\" x=\"503\" y=\"-7.8\" font-family=\"Helvetica,sans-Serif\" font-size=\"14.00\" fill=\"#000000\">value = 1.025</text>\n</g>\n<!-- 14&#45;&gt;15 -->\n<g id=\"edge15\" class=\"edge\">\n<title>14&#45;&gt;15</title>\n<path fill=\"none\" stroke=\"#000000\" d=\"M547,-88.7428C547,-80.6222 547,-71.8426 547,-63.5093\"/>\n<polygon fill=\"#000000\" stroke=\"#000000\" points=\"550.5001,-63.2758 547,-53.2759 543.5001,-63.2759 550.5001,-63.2758\"/>\n</g>\n<!-- 16 -->\n<g id=\"node17\" class=\"node\">\n<title>16</title>\n<path fill=\"#e99356\" stroke=\"#000000\" d=\"M709,-53C709,-53 629,-53 629,-53 623,-53 617,-47 617,-41 617,-41 617,-12 617,-12 617,-6 623,0 629,0 629,0 709,0 709,0 715,0 721,-6 721,-12 721,-12 721,-41 721,-41 721,-47 715,-53 709,-53\"/>\n<text text-anchor=\"start\" x=\"637\" y=\"-37.8\" font-family=\"Helvetica,sans-Serif\" font-size=\"14.00\" fill=\"#000000\">mse = 0.0</text>\n<text text-anchor=\"start\" x=\"629.5\" y=\"-22.8\" font-family=\"Helvetica,sans-Serif\" font-size=\"14.00\" fill=\"#000000\">samples = 2</text>\n<text text-anchor=\"start\" x=\"625\" y=\"-7.8\" font-family=\"Helvetica,sans-Serif\" font-size=\"14.00\" fill=\"#000000\">value = 0.915</text>\n</g>\n<!-- 14&#45;&gt;16 -->\n<g id=\"edge16\" class=\"edge\">\n<title>14&#45;&gt;16</title>\n<path fill=\"none\" stroke=\"#000000\" d=\"M588.6443,-88.7428C600.7587,-79.359 614.0094,-69.0952 626.1941,-59.657\"/>\n<polygon fill=\"#000000\" stroke=\"#000000\" points=\"628.6698,-62.1666 634.4322,-53.2759 624.3832,-56.6326 628.6698,-62.1666\"/>\n</g>\n<!-- 18 -->\n<g id=\"node19\" class=\"node\">\n<title>18</title>\n<path fill=\"#f5d0b5\" stroke=\"#000000\" d=\"M710.5,-147.5C710.5,-147.5 625.5,-147.5 625.5,-147.5 619.5,-147.5 613.5,-141.5 613.5,-135.5 613.5,-135.5 613.5,-106.5 613.5,-106.5 613.5,-100.5 619.5,-94.5 625.5,-94.5 625.5,-94.5 710.5,-94.5 710.5,-94.5 716.5,-94.5 722.5,-100.5 722.5,-106.5 722.5,-106.5 722.5,-135.5 722.5,-135.5 722.5,-141.5 716.5,-147.5 710.5,-147.5\"/>\n<text text-anchor=\"start\" x=\"636\" y=\"-132.3\" font-family=\"Helvetica,sans-Serif\" font-size=\"14.00\" fill=\"#000000\">mse = 0.0</text>\n<text text-anchor=\"start\" x=\"628.5\" y=\"-117.3\" font-family=\"Helvetica,sans-Serif\" font-size=\"14.00\" fill=\"#000000\">samples = 1</text>\n<text text-anchor=\"start\" x=\"621.5\" y=\"-102.3\" font-family=\"Helvetica,sans-Serif\" font-size=\"14.00\" fill=\"#000000\">value = &#45;0.517</text>\n</g>\n<!-- 17&#45;&gt;18 -->\n<g id=\"edge18\" class=\"edge\">\n<title>17&#45;&gt;18</title>\n<path fill=\"none\" stroke=\"#000000\" d=\"M668,-188.8089C668,-178.9777 668,-168.0898 668,-157.9679\"/>\n<polygon fill=\"#000000\" stroke=\"#000000\" points=\"671.5001,-157.7735 668,-147.7735 664.5001,-157.7736 671.5001,-157.7735\"/>\n</g>\n<!-- 19 -->\n<g id=\"node20\" class=\"node\">\n<title>19</title>\n<path fill=\"#eca16b\" stroke=\"#000000\" d=\"M833,-153C833,-153 753,-153 753,-153 747,-153 741,-147 741,-141 741,-141 741,-101 741,-101 741,-95 747,-89 753,-89 753,-89 833,-89 833,-89 839,-89 845,-95 845,-101 845,-101 845,-141 845,-141 845,-147 839,-153 833,-153\"/>\n<text text-anchor=\"start\" x=\"762.5\" y=\"-138.8\" font-family=\"Helvetica,sans-Serif\" font-size=\"14.00\" fill=\"#000000\">X</text>\n<text text-anchor=\"start\" x=\"772.5\" y=\"-138.8\" font-family=\"Helvetica,sans-Serif\" baseline-shift=\"sub\" font-size=\"14.00\" fill=\"#000000\">0</text>\n<text text-anchor=\"start\" x=\"779.5\" y=\"-138.8\" font-family=\"Helvetica,sans-Serif\" font-size=\"14.00\" fill=\"#000000\"> ≤ 2.94</text>\n<text text-anchor=\"start\" x=\"752.5\" y=\"-124.8\" font-family=\"Helvetica,sans-Serif\" font-size=\"14.00\" fill=\"#000000\">mse = 0.106</text>\n<text text-anchor=\"start\" x=\"749\" y=\"-110.8\" font-family=\"Helvetica,sans-Serif\" font-size=\"14.00\" fill=\"#000000\">samples = 15</text>\n<text text-anchor=\"start\" x=\"749\" y=\"-96.8\" font-family=\"Helvetica,sans-Serif\" font-size=\"14.00\" fill=\"#000000\">value = 0.596</text>\n</g>\n<!-- 17&#45;&gt;19 -->\n<g id=\"edge19\" class=\"edge\">\n<title>17&#45;&gt;19</title>\n<path fill=\"none\" stroke=\"#000000\" d=\"M708.2388,-188.8089C719.948,-179.4416 732.8562,-169.115 744.9929,-159.4057\"/>\n<polygon fill=\"#000000\" stroke=\"#000000\" points=\"747.2143,-162.1108 752.8366,-153.1308 742.8414,-156.6447 747.2143,-162.1108\"/>\n</g>\n<!-- 20 -->\n<g id=\"node21\" class=\"node\">\n<title>20</title>\n<path fill=\"#eca36f\" stroke=\"#000000\" d=\"M831,-53C831,-53 751,-53 751,-53 745,-53 739,-47 739,-41 739,-41 739,-12 739,-12 739,-6 745,0 751,0 751,0 831,0 831,0 837,0 843,-6 843,-12 843,-12 843,-41 843,-41 843,-47 837,-53 831,-53\"/>\n<text text-anchor=\"start\" x=\"750.5\" y=\"-37.8\" font-family=\"Helvetica,sans-Serif\" font-size=\"14.00\" fill=\"#000000\">mse = 0.071</text>\n<text text-anchor=\"start\" x=\"747\" y=\"-22.8\" font-family=\"Helvetica,sans-Serif\" font-size=\"14.00\" fill=\"#000000\">samples = 14</text>\n<text text-anchor=\"start\" x=\"747\" y=\"-7.8\" font-family=\"Helvetica,sans-Serif\" font-size=\"14.00\" fill=\"#000000\">value = 0.542</text>\n</g>\n<!-- 19&#45;&gt;20 -->\n<g id=\"edge20\" class=\"edge\">\n<title>19&#45;&gt;20</title>\n<path fill=\"none\" stroke=\"#000000\" d=\"M792.3173,-88.7428C792.1454,-80.6222 791.9596,-71.8426 791.7833,-63.5093\"/>\n<polygon fill=\"#000000\" stroke=\"#000000\" points=\"795.2776,-63.1995 791.5667,-53.2759 788.2792,-63.3477 795.2776,-63.1995\"/>\n</g>\n<!-- 21 -->\n<g id=\"node22\" class=\"node\">\n<title>21</title>\n<path fill=\"#e58139\" stroke=\"#000000\" d=\"M945,-53C945,-53 873,-53 873,-53 867,-53 861,-47 861,-41 861,-41 861,-12 861,-12 861,-6 867,0 873,0 873,0 945,0 945,0 951,0 957,-6 957,-12 957,-12 957,-41 957,-41 957,-47 951,-53 945,-53\"/>\n<text text-anchor=\"start\" x=\"877\" y=\"-37.8\" font-family=\"Helvetica,sans-Serif\" font-size=\"14.00\" fill=\"#000000\">mse = 0.0</text>\n<text text-anchor=\"start\" x=\"869.5\" y=\"-22.8\" font-family=\"Helvetica,sans-Serif\" font-size=\"14.00\" fill=\"#000000\">samples = 1</text>\n<text text-anchor=\"start\" x=\"869\" y=\"-7.8\" font-family=\"Helvetica,sans-Serif\" font-size=\"14.00\" fill=\"#000000\">value = 1.35</text>\n</g>\n<!-- 19&#45;&gt;21 -->\n<g id=\"edge21\" class=\"edge\">\n<title>19&#45;&gt;21</title>\n<path fill=\"none\" stroke=\"#000000\" d=\"M832.5962,-88.7428C844.1148,-79.359 856.7139,-69.0952 868.2993,-59.657\"/>\n<polygon fill=\"#000000\" stroke=\"#000000\" points=\"870.5899,-62.3054 876.1323,-53.2759 866.1687,-56.8783 870.5899,-62.3054\"/>\n</g>\n<!-- 23 -->\n<g id=\"node24\" class=\"node\">\n<title>23</title>\n<path fill=\"#f5cdb1\" stroke=\"#000000\" d=\"M1387.5,-353C1387.5,-353 1302.5,-353 1302.5,-353 1296.5,-353 1290.5,-347 1290.5,-341 1290.5,-341 1290.5,-301 1290.5,-301 1290.5,-295 1296.5,-289 1302.5,-289 1302.5,-289 1387.5,-289 1387.5,-289 1393.5,-289 1399.5,-295 1399.5,-301 1399.5,-301 1399.5,-341 1399.5,-341 1399.5,-347 1393.5,-353 1387.5,-353\"/>\n<text text-anchor=\"start\" x=\"1310.5\" y=\"-338.8\" font-family=\"Helvetica,sans-Serif\" font-size=\"14.00\" fill=\"#000000\">X</text>\n<text text-anchor=\"start\" x=\"1320.5\" y=\"-338.8\" font-family=\"Helvetica,sans-Serif\" baseline-shift=\"sub\" font-size=\"14.00\" fill=\"#000000\">0</text>\n<text text-anchor=\"start\" x=\"1327.5\" y=\"-338.8\" font-family=\"Helvetica,sans-Serif\" font-size=\"14.00\" fill=\"#000000\"> ≤ 3.429</text>\n<text text-anchor=\"start\" x=\"1304.5\" y=\"-324.8\" font-family=\"Helvetica,sans-Serif\" font-size=\"14.00\" fill=\"#000000\">mse = 0.124</text>\n<text text-anchor=\"start\" x=\"1301\" y=\"-310.8\" font-family=\"Helvetica,sans-Serif\" font-size=\"14.00\" fill=\"#000000\">samples = 14</text>\n<text text-anchor=\"start\" x=\"1298.5\" y=\"-296.8\" font-family=\"Helvetica,sans-Serif\" font-size=\"14.00\" fill=\"#000000\">value = &#45;0.452</text>\n</g>\n<!-- 22&#45;&gt;23 -->\n<g id=\"edge23\" class=\"edge\">\n<title>22&#45;&gt;23</title>\n<path fill=\"none\" stroke=\"#000000\" d=\"M1345,-388.8089C1345,-380.6906 1345,-371.8517 1345,-363.3186\"/>\n<polygon fill=\"#000000\" stroke=\"#000000\" points=\"1348.5001,-363.1307 1345,-353.1308 1341.5001,-363.1308 1348.5001,-363.1307\"/>\n</g>\n<!-- 36 -->\n<g id=\"node37\" class=\"node\">\n<title>36</title>\n<path fill=\"#f8dfcc\" stroke=\"#000000\" d=\"M1889.5,-353C1889.5,-353 1804.5,-353 1804.5,-353 1798.5,-353 1792.5,-347 1792.5,-341 1792.5,-341 1792.5,-301 1792.5,-301 1792.5,-295 1798.5,-289 1804.5,-289 1804.5,-289 1889.5,-289 1889.5,-289 1895.5,-289 1901.5,-295 1901.5,-301 1901.5,-301 1901.5,-341 1901.5,-341 1901.5,-347 1895.5,-353 1889.5,-353\"/>\n<text text-anchor=\"start\" x=\"1816.5\" y=\"-338.8\" font-family=\"Helvetica,sans-Serif\" font-size=\"14.00\" fill=\"#000000\">X</text>\n<text text-anchor=\"start\" x=\"1826.5\" y=\"-338.8\" font-family=\"Helvetica,sans-Serif\" baseline-shift=\"sub\" font-size=\"14.00\" fill=\"#000000\">0</text>\n<text text-anchor=\"start\" x=\"1833.5\" y=\"-338.8\" font-family=\"Helvetica,sans-Serif\" font-size=\"14.00\" fill=\"#000000\"> ≤ 4.68</text>\n<text text-anchor=\"start\" x=\"1806.5\" y=\"-324.8\" font-family=\"Helvetica,sans-Serif\" font-size=\"14.00\" fill=\"#000000\">mse = 0.041</text>\n<text text-anchor=\"start\" x=\"1803\" y=\"-310.8\" font-family=\"Helvetica,sans-Serif\" font-size=\"14.00\" fill=\"#000000\">samples = 15</text>\n<text text-anchor=\"start\" x=\"1800.5\" y=\"-296.8\" font-family=\"Helvetica,sans-Serif\" font-size=\"14.00\" fill=\"#000000\">value = &#45;0.869</text>\n</g>\n<!-- 22&#45;&gt;36 -->\n<g id=\"edge36\" class=\"edge\">\n<title>22&#45;&gt;36</title>\n<path fill=\"none\" stroke=\"#000000\" d=\"M1399.6784,-410.1079C1493.0363,-391.5107 1682.7298,-353.7231 1782.4416,-333.8602\"/>\n<polygon fill=\"#000000\" stroke=\"#000000\" points=\"1783.2655,-337.265 1792.389,-331.8787 1781.8979,-330.3999 1783.2655,-337.265\"/>\n</g>\n<!-- 24 -->\n<g id=\"node25\" class=\"node\">\n<title>24</title>\n<path fill=\"#f3c4a2\" stroke=\"#000000\" d=\"M1324.5,-253C1324.5,-253 1239.5,-253 1239.5,-253 1233.5,-253 1227.5,-247 1227.5,-241 1227.5,-241 1227.5,-201 1227.5,-201 1227.5,-195 1233.5,-189 1239.5,-189 1239.5,-189 1324.5,-189 1324.5,-189 1330.5,-189 1336.5,-195 1336.5,-201 1336.5,-201 1336.5,-241 1336.5,-241 1336.5,-247 1330.5,-253 1324.5,-253\"/>\n<text text-anchor=\"start\" x=\"1247.5\" y=\"-238.8\" font-family=\"Helvetica,sans-Serif\" font-size=\"14.00\" fill=\"#000000\">X</text>\n<text text-anchor=\"start\" x=\"1257.5\" y=\"-238.8\" font-family=\"Helvetica,sans-Serif\" baseline-shift=\"sub\" font-size=\"14.00\" fill=\"#000000\">0</text>\n<text text-anchor=\"start\" x=\"1264.5\" y=\"-238.8\" font-family=\"Helvetica,sans-Serif\" font-size=\"14.00\" fill=\"#000000\"> ≤ 3.373</text>\n<text text-anchor=\"start\" x=\"1241.5\" y=\"-224.8\" font-family=\"Helvetica,sans-Serif\" font-size=\"14.00\" fill=\"#000000\">mse = 0.002</text>\n<text text-anchor=\"start\" x=\"1242.5\" y=\"-210.8\" font-family=\"Helvetica,sans-Serif\" font-size=\"14.00\" fill=\"#000000\">samples = 4</text>\n<text text-anchor=\"start\" x=\"1235.5\" y=\"-196.8\" font-family=\"Helvetica,sans-Serif\" font-size=\"14.00\" fill=\"#000000\">value = &#45;0.229</text>\n</g>\n<!-- 23&#45;&gt;24 -->\n<g id=\"edge24\" class=\"edge\">\n<title>23&#45;&gt;24</title>\n<path fill=\"none\" stroke=\"#000000\" d=\"M1324.7196,-288.8089C1319.2678,-280.1553 1313.3003,-270.683 1307.6001,-261.635\"/>\n<polygon fill=\"#000000\" stroke=\"#000000\" points=\"1310.5341,-259.726 1302.2424,-253.1308 1304.6115,-263.4573 1310.5341,-259.726\"/>\n</g>\n<!-- 31 -->\n<g id=\"node32\" class=\"node\">\n<title>31</title>\n<path fill=\"#f5d1b6\" stroke=\"#000000\" d=\"M1451.5,-253C1451.5,-253 1366.5,-253 1366.5,-253 1360.5,-253 1354.5,-247 1354.5,-241 1354.5,-241 1354.5,-201 1354.5,-201 1354.5,-195 1360.5,-189 1366.5,-189 1366.5,-189 1451.5,-189 1451.5,-189 1457.5,-189 1463.5,-195 1463.5,-201 1463.5,-201 1463.5,-241 1463.5,-241 1463.5,-247 1457.5,-253 1451.5,-253\"/>\n<text text-anchor=\"start\" x=\"1374.5\" y=\"-238.8\" font-family=\"Helvetica,sans-Serif\" font-size=\"14.00\" fill=\"#000000\">X</text>\n<text text-anchor=\"start\" x=\"1384.5\" y=\"-238.8\" font-family=\"Helvetica,sans-Serif\" baseline-shift=\"sub\" font-size=\"14.00\" fill=\"#000000\">0</text>\n<text text-anchor=\"start\" x=\"1391.5\" y=\"-238.8\" font-family=\"Helvetica,sans-Serif\" font-size=\"14.00\" fill=\"#000000\"> ≤ 3.446</text>\n<text text-anchor=\"start\" x=\"1368.5\" y=\"-224.8\" font-family=\"Helvetica,sans-Serif\" font-size=\"14.00\" fill=\"#000000\">mse = 0.145</text>\n<text text-anchor=\"start\" x=\"1365\" y=\"-210.8\" font-family=\"Helvetica,sans-Serif\" font-size=\"14.00\" fill=\"#000000\">samples = 10</text>\n<text text-anchor=\"start\" x=\"1362.5\" y=\"-196.8\" font-family=\"Helvetica,sans-Serif\" font-size=\"14.00\" fill=\"#000000\">value = &#45;0.541</text>\n</g>\n<!-- 23&#45;&gt;31 -->\n<g id=\"edge31\" class=\"edge\">\n<title>23&#45;&gt;31</title>\n<path fill=\"none\" stroke=\"#000000\" d=\"M1365.6023,-288.8089C1371.1406,-280.1553 1377.2029,-270.683 1382.9936,-261.635\"/>\n<polygon fill=\"#000000\" stroke=\"#000000\" points=\"1385.9937,-263.4402 1388.4363,-253.1308 1380.0978,-259.6668 1385.9937,-263.4402\"/>\n</g>\n<!-- 25 -->\n<g id=\"node26\" class=\"node\">\n<title>25</title>\n<path fill=\"#f2c29f\" stroke=\"#000000\" d=\"M1197.5,-153C1197.5,-153 1112.5,-153 1112.5,-153 1106.5,-153 1100.5,-147 1100.5,-141 1100.5,-141 1100.5,-101 1100.5,-101 1100.5,-95 1106.5,-89 1112.5,-89 1112.5,-89 1197.5,-89 1197.5,-89 1203.5,-89 1209.5,-95 1209.5,-101 1209.5,-101 1209.5,-141 1209.5,-141 1209.5,-147 1203.5,-153 1197.5,-153\"/>\n<text text-anchor=\"start\" x=\"1120.5\" y=\"-138.8\" font-family=\"Helvetica,sans-Serif\" font-size=\"14.00\" fill=\"#000000\">X</text>\n<text text-anchor=\"start\" x=\"1130.5\" y=\"-138.8\" font-family=\"Helvetica,sans-Serif\" baseline-shift=\"sub\" font-size=\"14.00\" fill=\"#000000\">0</text>\n<text text-anchor=\"start\" x=\"1137.5\" y=\"-138.8\" font-family=\"Helvetica,sans-Serif\" font-size=\"14.00\" fill=\"#000000\"> ≤ 3.336</text>\n<text text-anchor=\"start\" x=\"1123\" y=\"-124.8\" font-family=\"Helvetica,sans-Serif\" font-size=\"14.00\" fill=\"#000000\">mse = 0.0</text>\n<text text-anchor=\"start\" x=\"1115.5\" y=\"-110.8\" font-family=\"Helvetica,sans-Serif\" font-size=\"14.00\" fill=\"#000000\">samples = 2</text>\n<text text-anchor=\"start\" x=\"1108.5\" y=\"-96.8\" font-family=\"Helvetica,sans-Serif\" font-size=\"14.00\" fill=\"#000000\">value = &#45;0.193</text>\n</g>\n<!-- 24&#45;&gt;25 -->\n<g id=\"edge25\" class=\"edge\">\n<title>24&#45;&gt;25</title>\n<path fill=\"none\" stroke=\"#000000\" d=\"M1241.1173,-188.8089C1229.2208,-179.4416 1216.1061,-169.115 1203.7753,-159.4057\"/>\n<polygon fill=\"#000000\" stroke=\"#000000\" points=\"1205.8281,-156.5673 1195.8061,-153.1308 1201.4976,-162.0671 1205.8281,-156.5673\"/>\n</g>\n<!-- 28 -->\n<g id=\"node29\" class=\"node\">\n<title>28</title>\n<path fill=\"#f3c5a4\" stroke=\"#000000\" d=\"M1324.5,-153C1324.5,-153 1239.5,-153 1239.5,-153 1233.5,-153 1227.5,-147 1227.5,-141 1227.5,-141 1227.5,-101 1227.5,-101 1227.5,-95 1233.5,-89 1239.5,-89 1239.5,-89 1324.5,-89 1324.5,-89 1330.5,-89 1336.5,-95 1336.5,-101 1336.5,-101 1336.5,-141 1336.5,-141 1336.5,-147 1330.5,-153 1324.5,-153\"/>\n<text text-anchor=\"start\" x=\"1251.5\" y=\"-138.8\" font-family=\"Helvetica,sans-Serif\" font-size=\"14.00\" fill=\"#000000\">X</text>\n<text text-anchor=\"start\" x=\"1261.5\" y=\"-138.8\" font-family=\"Helvetica,sans-Serif\" baseline-shift=\"sub\" font-size=\"14.00\" fill=\"#000000\">0</text>\n<text text-anchor=\"start\" x=\"1268.5\" y=\"-138.8\" font-family=\"Helvetica,sans-Serif\" font-size=\"14.00\" fill=\"#000000\"> ≤ 3.41</text>\n<text text-anchor=\"start\" x=\"1250\" y=\"-124.8\" font-family=\"Helvetica,sans-Serif\" font-size=\"14.00\" fill=\"#000000\">mse = 0.0</text>\n<text text-anchor=\"start\" x=\"1242.5\" y=\"-110.8\" font-family=\"Helvetica,sans-Serif\" font-size=\"14.00\" fill=\"#000000\">samples = 2</text>\n<text text-anchor=\"start\" x=\"1235.5\" y=\"-96.8\" font-family=\"Helvetica,sans-Serif\" font-size=\"14.00\" fill=\"#000000\">value = &#45;0.265</text>\n</g>\n<!-- 24&#45;&gt;28 -->\n<g id=\"edge28\" class=\"edge\">\n<title>24&#45;&gt;28</title>\n<path fill=\"none\" stroke=\"#000000\" d=\"M1282,-188.8089C1282,-180.6906 1282,-171.8517 1282,-163.3186\"/>\n<polygon fill=\"#000000\" stroke=\"#000000\" points=\"1285.5001,-163.1307 1282,-153.1308 1278.5001,-163.1308 1285.5001,-163.1307\"/>\n</g>\n<!-- 26 -->\n<g id=\"node27\" class=\"node\">\n<title>26</title>\n<path fill=\"#f2c19e\" stroke=\"#000000\" d=\"M1072.5,-53C1072.5,-53 987.5,-53 987.5,-53 981.5,-53 975.5,-47 975.5,-41 975.5,-41 975.5,-12 975.5,-12 975.5,-6 981.5,0 987.5,0 987.5,0 1072.5,0 1072.5,0 1078.5,0 1084.5,-6 1084.5,-12 1084.5,-12 1084.5,-41 1084.5,-41 1084.5,-47 1078.5,-53 1072.5,-53\"/>\n<text text-anchor=\"start\" x=\"998\" y=\"-37.8\" font-family=\"Helvetica,sans-Serif\" font-size=\"14.00\" fill=\"#000000\">mse = 0.0</text>\n<text text-anchor=\"start\" x=\"990.5\" y=\"-22.8\" font-family=\"Helvetica,sans-Serif\" font-size=\"14.00\" fill=\"#000000\">samples = 1</text>\n<text text-anchor=\"start\" x=\"983.5\" y=\"-7.8\" font-family=\"Helvetica,sans-Serif\" font-size=\"14.00\" fill=\"#000000\">value = &#45;0.176</text>\n</g>\n<!-- 25&#45;&gt;26 -->\n<g id=\"edge26\" class=\"edge\">\n<title>25&#45;&gt;26</title>\n<path fill=\"none\" stroke=\"#000000\" d=\"M1112.3317,-88.7428C1099.8,-79.2688 1086.0816,-68.8977 1073.4987,-59.385\"/>\n<polygon fill=\"#000000\" stroke=\"#000000\" points=\"1075.5055,-56.5145 1065.4178,-53.2759 1071.2841,-62.0984 1075.5055,-56.5145\"/>\n</g>\n<!-- 27 -->\n<g id=\"node28\" class=\"node\">\n<title>27</title>\n<path fill=\"#f3c3a0\" stroke=\"#000000\" d=\"M1199.5,-53C1199.5,-53 1114.5,-53 1114.5,-53 1108.5,-53 1102.5,-47 1102.5,-41 1102.5,-41 1102.5,-12 1102.5,-12 1102.5,-6 1108.5,0 1114.5,0 1114.5,0 1199.5,0 1199.5,0 1205.5,0 1211.5,-6 1211.5,-12 1211.5,-12 1211.5,-41 1211.5,-41 1211.5,-47 1205.5,-53 1199.5,-53\"/>\n<text text-anchor=\"start\" x=\"1125\" y=\"-37.8\" font-family=\"Helvetica,sans-Serif\" font-size=\"14.00\" fill=\"#000000\">mse = 0.0</text>\n<text text-anchor=\"start\" x=\"1117.5\" y=\"-22.8\" font-family=\"Helvetica,sans-Serif\" font-size=\"14.00\" fill=\"#000000\">samples = 1</text>\n<text text-anchor=\"start\" x=\"1110.5\" y=\"-7.8\" font-family=\"Helvetica,sans-Serif\" font-size=\"14.00\" fill=\"#000000\">value = &#45;0.209</text>\n</g>\n<!-- 25&#45;&gt;27 -->\n<g id=\"edge27\" class=\"edge\">\n<title>25&#45;&gt;27</title>\n<path fill=\"none\" stroke=\"#000000\" d=\"M1155.6827,-88.7428C1155.8546,-80.6222 1156.0404,-71.8426 1156.2167,-63.5093\"/>\n<polygon fill=\"#000000\" stroke=\"#000000\" points=\"1159.7208,-63.3477 1156.4333,-53.2759 1152.7224,-63.1995 1159.7208,-63.3477\"/>\n</g>\n<!-- 29 -->\n<g id=\"node30\" class=\"node\">\n<title>29</title>\n<path fill=\"#f3c5a3\" stroke=\"#000000\" d=\"M1318.5,-53C1318.5,-53 1241.5,-53 1241.5,-53 1235.5,-53 1229.5,-47 1229.5,-41 1229.5,-41 1229.5,-12 1229.5,-12 1229.5,-6 1235.5,0 1241.5,0 1241.5,0 1318.5,0 1318.5,0 1324.5,0 1330.5,-6 1330.5,-12 1330.5,-12 1330.5,-41 1330.5,-41 1330.5,-47 1324.5,-53 1318.5,-53\"/>\n<text text-anchor=\"start\" x=\"1248\" y=\"-37.8\" font-family=\"Helvetica,sans-Serif\" font-size=\"14.00\" fill=\"#000000\">mse = 0.0</text>\n<text text-anchor=\"start\" x=\"1240.5\" y=\"-22.8\" font-family=\"Helvetica,sans-Serif\" font-size=\"14.00\" fill=\"#000000\">samples = 1</text>\n<text text-anchor=\"start\" x=\"1237.5\" y=\"-7.8\" font-family=\"Helvetica,sans-Serif\" font-size=\"14.00\" fill=\"#000000\">value = &#45;0.25</text>\n</g>\n<!-- 28&#45;&gt;29 -->\n<g id=\"edge29\" class=\"edge\">\n<title>28&#45;&gt;29</title>\n<path fill=\"none\" stroke=\"#000000\" d=\"M1281.3173,-88.7428C1281.1454,-80.6222 1280.9596,-71.8426 1280.7833,-63.5093\"/>\n<polygon fill=\"#000000\" stroke=\"#000000\" points=\"1284.2776,-63.1995 1280.5667,-53.2759 1277.2792,-63.3477 1284.2776,-63.1995\"/>\n</g>\n<!-- 30 -->\n<g id=\"node31\" class=\"node\">\n<title>30</title>\n<path fill=\"#f3c6a5\" stroke=\"#000000\" d=\"M1445.5,-53C1445.5,-53 1360.5,-53 1360.5,-53 1354.5,-53 1348.5,-47 1348.5,-41 1348.5,-41 1348.5,-12 1348.5,-12 1348.5,-6 1354.5,0 1360.5,0 1360.5,0 1445.5,0 1445.5,0 1451.5,0 1457.5,-6 1457.5,-12 1457.5,-12 1457.5,-41 1457.5,-41 1457.5,-47 1451.5,-53 1445.5,-53\"/>\n<text text-anchor=\"start\" x=\"1368.5\" y=\"-37.8\" font-family=\"Helvetica,sans-Serif\" font-size=\"14.00\" fill=\"#000000\">mse = &#45;0.0</text>\n<text text-anchor=\"start\" x=\"1363.5\" y=\"-22.8\" font-family=\"Helvetica,sans-Serif\" font-size=\"14.00\" fill=\"#000000\">samples = 1</text>\n<text text-anchor=\"start\" x=\"1356.5\" y=\"-7.8\" font-family=\"Helvetica,sans-Serif\" font-size=\"14.00\" fill=\"#000000\">value = &#45;0.281</text>\n</g>\n<!-- 28&#45;&gt;30 -->\n<g id=\"edge30\" class=\"edge\">\n<title>28&#45;&gt;30</title>\n<path fill=\"none\" stroke=\"#000000\" d=\"M1323.3029,-88.7428C1335.3181,-79.359 1348.4602,-69.0952 1360.5449,-59.657\"/>\n<polygon fill=\"#000000\" stroke=\"#000000\" points=\"1362.9886,-62.1895 1368.7156,-53.2759 1358.68,-56.6726 1362.9886,-62.1895\"/>\n</g>\n<!-- 32 -->\n<g id=\"node33\" class=\"node\">\n<title>32</title>\n<path fill=\"#ffffff\" stroke=\"#000000\" d=\"M1451.5,-147.5C1451.5,-147.5 1366.5,-147.5 1366.5,-147.5 1360.5,-147.5 1354.5,-141.5 1354.5,-135.5 1354.5,-135.5 1354.5,-106.5 1354.5,-106.5 1354.5,-100.5 1360.5,-94.5 1366.5,-94.5 1366.5,-94.5 1451.5,-94.5 1451.5,-94.5 1457.5,-94.5 1463.5,-100.5 1463.5,-106.5 1463.5,-106.5 1463.5,-135.5 1463.5,-135.5 1463.5,-141.5 1457.5,-147.5 1451.5,-147.5\"/>\n<text text-anchor=\"start\" x=\"1377\" y=\"-132.3\" font-family=\"Helvetica,sans-Serif\" font-size=\"14.00\" fill=\"#000000\">mse = 0.0</text>\n<text text-anchor=\"start\" x=\"1369.5\" y=\"-117.3\" font-family=\"Helvetica,sans-Serif\" font-size=\"14.00\" fill=\"#000000\">samples = 1</text>\n<text text-anchor=\"start\" x=\"1362.5\" y=\"-102.3\" font-family=\"Helvetica,sans-Serif\" font-size=\"14.00\" fill=\"#000000\">value = &#45;1.635</text>\n</g>\n<!-- 31&#45;&gt;32 -->\n<g id=\"edge32\" class=\"edge\">\n<title>31&#45;&gt;32</title>\n<path fill=\"none\" stroke=\"#000000\" d=\"M1409,-188.8089C1409,-178.9777 1409,-168.0898 1409,-157.9679\"/>\n<polygon fill=\"#000000\" stroke=\"#000000\" points=\"1412.5001,-157.7735 1409,-147.7735 1405.5001,-157.7736 1412.5001,-157.7735\"/>\n</g>\n<!-- 33 -->\n<g id=\"node34\" class=\"node\">\n<title>33</title>\n<path fill=\"#f4ccae\" stroke=\"#000000\" d=\"M1578.5,-153C1578.5,-153 1493.5,-153 1493.5,-153 1487.5,-153 1481.5,-147 1481.5,-141 1481.5,-141 1481.5,-101 1481.5,-101 1481.5,-95 1487.5,-89 1493.5,-89 1493.5,-89 1578.5,-89 1578.5,-89 1584.5,-89 1590.5,-95 1590.5,-101 1590.5,-101 1590.5,-141 1590.5,-141 1590.5,-147 1584.5,-153 1578.5,-153\"/>\n<text text-anchor=\"start\" x=\"1501.5\" y=\"-138.8\" font-family=\"Helvetica,sans-Serif\" font-size=\"14.00\" fill=\"#000000\">X</text>\n<text text-anchor=\"start\" x=\"1511.5\" y=\"-138.8\" font-family=\"Helvetica,sans-Serif\" baseline-shift=\"sub\" font-size=\"14.00\" fill=\"#000000\">0</text>\n<text text-anchor=\"start\" x=\"1518.5\" y=\"-138.8\" font-family=\"Helvetica,sans-Serif\" font-size=\"14.00\" fill=\"#000000\"> ≤ 3.616</text>\n<text text-anchor=\"start\" x=\"1495.5\" y=\"-124.8\" font-family=\"Helvetica,sans-Serif\" font-size=\"14.00\" fill=\"#000000\">mse = 0.014</text>\n<text text-anchor=\"start\" x=\"1496.5\" y=\"-110.8\" font-family=\"Helvetica,sans-Serif\" font-size=\"14.00\" fill=\"#000000\">samples = 9</text>\n<text text-anchor=\"start\" x=\"1489.5\" y=\"-96.8\" font-family=\"Helvetica,sans-Serif\" font-size=\"14.00\" fill=\"#000000\">value = &#45;0.419</text>\n</g>\n<!-- 31&#45;&gt;33 -->\n<g id=\"edge33\" class=\"edge\">\n<title>31&#45;&gt;33</title>\n<path fill=\"none\" stroke=\"#000000\" d=\"M1449.8827,-188.8089C1461.7792,-179.4416 1474.8939,-169.115 1487.2247,-159.4057\"/>\n<polygon fill=\"#000000\" stroke=\"#000000\" points=\"1489.5024,-162.0671 1495.1939,-153.1308 1485.1719,-156.5673 1489.5024,-162.0671\"/>\n</g>\n<!-- 34 -->\n<g id=\"node35\" class=\"node\">\n<title>34</title>\n<path fill=\"#f4c7a8\" stroke=\"#000000\" d=\"M1572.5,-53C1572.5,-53 1487.5,-53 1487.5,-53 1481.5,-53 1475.5,-47 1475.5,-41 1475.5,-41 1475.5,-12 1475.5,-12 1475.5,-6 1481.5,0 1487.5,0 1487.5,0 1572.5,0 1572.5,0 1578.5,0 1584.5,-6 1584.5,-12 1584.5,-12 1584.5,-41 1584.5,-41 1584.5,-47 1578.5,-53 1572.5,-53\"/>\n<text text-anchor=\"start\" x=\"1498\" y=\"-37.8\" font-family=\"Helvetica,sans-Serif\" font-size=\"14.00\" fill=\"#000000\">mse = 0.0</text>\n<text text-anchor=\"start\" x=\"1490.5\" y=\"-22.8\" font-family=\"Helvetica,sans-Serif\" font-size=\"14.00\" fill=\"#000000\">samples = 5</text>\n<text text-anchor=\"start\" x=\"1483.5\" y=\"-7.8\" font-family=\"Helvetica,sans-Serif\" font-size=\"14.00\" fill=\"#000000\">value = &#45;0.319</text>\n</g>\n<!-- 33&#45;&gt;34 -->\n<g id=\"edge34\" class=\"edge\">\n<title>33&#45;&gt;34</title>\n<path fill=\"none\" stroke=\"#000000\" d=\"M1533.9519,-88.7428C1533.4363,-80.6222 1532.8789,-71.8426 1532.3498,-63.5093\"/>\n<polygon fill=\"#000000\" stroke=\"#000000\" points=\"1535.8268,-63.034 1531.7001,-53.2759 1528.8408,-63.4776 1535.8268,-63.034\"/>\n</g>\n<!-- 35 -->\n<g id=\"node36\" class=\"node\">\n<title>35</title>\n<path fill=\"#f6d1b7\" stroke=\"#000000\" d=\"M1699.5,-53C1699.5,-53 1614.5,-53 1614.5,-53 1608.5,-53 1602.5,-47 1602.5,-41 1602.5,-41 1602.5,-12 1602.5,-12 1602.5,-6 1608.5,0 1614.5,0 1614.5,0 1699.5,0 1699.5,0 1705.5,0 1711.5,-6 1711.5,-12 1711.5,-12 1711.5,-41 1711.5,-41 1711.5,-47 1705.5,-53 1699.5,-53\"/>\n<text text-anchor=\"start\" x=\"1616.5\" y=\"-37.8\" font-family=\"Helvetica,sans-Serif\" font-size=\"14.00\" fill=\"#000000\">mse = 0.002</text>\n<text text-anchor=\"start\" x=\"1617.5\" y=\"-22.8\" font-family=\"Helvetica,sans-Serif\" font-size=\"14.00\" fill=\"#000000\">samples = 4</text>\n<text text-anchor=\"start\" x=\"1610.5\" y=\"-7.8\" font-family=\"Helvetica,sans-Serif\" font-size=\"14.00\" fill=\"#000000\">value = &#45;0.545</text>\n</g>\n<!-- 33&#45;&gt;35 -->\n<g id=\"edge35\" class=\"edge\">\n<title>33&#45;&gt;35</title>\n<path fill=\"none\" stroke=\"#000000\" d=\"M1577.3029,-88.7428C1589.3181,-79.359 1602.4602,-69.0952 1614.5449,-59.657\"/>\n<polygon fill=\"#000000\" stroke=\"#000000\" points=\"1616.9886,-62.1895 1622.7156,-53.2759 1612.68,-56.6726 1616.9886,-62.1895\"/>\n</g>\n<!-- 37 -->\n<g id=\"node38\" class=\"node\">\n<title>37</title>\n<path fill=\"#f8ddc9\" stroke=\"#000000\" d=\"M1889.5,-253C1889.5,-253 1804.5,-253 1804.5,-253 1798.5,-253 1792.5,-247 1792.5,-241 1792.5,-241 1792.5,-201 1792.5,-201 1792.5,-195 1798.5,-189 1804.5,-189 1804.5,-189 1889.5,-189 1889.5,-189 1895.5,-189 1901.5,-195 1901.5,-201 1901.5,-201 1901.5,-241 1901.5,-241 1901.5,-247 1895.5,-253 1889.5,-253\"/>\n<text text-anchor=\"start\" x=\"1816.5\" y=\"-238.8\" font-family=\"Helvetica,sans-Serif\" font-size=\"14.00\" fill=\"#000000\">X</text>\n<text text-anchor=\"start\" x=\"1826.5\" y=\"-238.8\" font-family=\"Helvetica,sans-Serif\" baseline-shift=\"sub\" font-size=\"14.00\" fill=\"#000000\">0</text>\n<text text-anchor=\"start\" x=\"1833.5\" y=\"-238.8\" font-family=\"Helvetica,sans-Serif\" font-size=\"14.00\" fill=\"#000000\"> ≤ 4.59</text>\n<text text-anchor=\"start\" x=\"1806.5\" y=\"-224.8\" font-family=\"Helvetica,sans-Serif\" font-size=\"14.00\" fill=\"#000000\">mse = 0.048</text>\n<text text-anchor=\"start\" x=\"1803\" y=\"-210.8\" font-family=\"Helvetica,sans-Serif\" font-size=\"14.00\" fill=\"#000000\">samples = 11</text>\n<text text-anchor=\"start\" x=\"1800.5\" y=\"-196.8\" font-family=\"Helvetica,sans-Serif\" font-size=\"14.00\" fill=\"#000000\">value = &#45;0.824</text>\n</g>\n<!-- 36&#45;&gt;37 -->\n<g id=\"edge37\" class=\"edge\">\n<title>36&#45;&gt;37</title>\n<path fill=\"none\" stroke=\"#000000\" d=\"M1847,-288.8089C1847,-280.6906 1847,-271.8517 1847,-263.3186\"/>\n<polygon fill=\"#000000\" stroke=\"#000000\" points=\"1850.5001,-263.1307 1847,-253.1308 1843.5001,-263.1308 1850.5001,-263.1307\"/>\n</g>\n<!-- 42 -->\n<g id=\"node43\" class=\"node\">\n<title>42</title>\n<path fill=\"#f9e4d4\" stroke=\"#000000\" d=\"M2076.5,-253C2076.5,-253 1999.5,-253 1999.5,-253 1993.5,-253 1987.5,-247 1987.5,-241 1987.5,-241 1987.5,-201 1987.5,-201 1987.5,-195 1993.5,-189 1999.5,-189 1999.5,-189 2076.5,-189 2076.5,-189 2082.5,-189 2088.5,-195 2088.5,-201 2088.5,-201 2088.5,-241 2088.5,-241 2088.5,-247 2082.5,-253 2076.5,-253\"/>\n<text text-anchor=\"start\" x=\"2003.5\" y=\"-238.8\" font-family=\"Helvetica,sans-Serif\" font-size=\"14.00\" fill=\"#000000\">X</text>\n<text text-anchor=\"start\" x=\"2013.5\" y=\"-238.8\" font-family=\"Helvetica,sans-Serif\" baseline-shift=\"sub\" font-size=\"14.00\" fill=\"#000000\">0</text>\n<text text-anchor=\"start\" x=\"2020.5\" y=\"-238.8\" font-family=\"Helvetica,sans-Serif\" font-size=\"14.00\" fill=\"#000000\"> ≤ 4.893</text>\n<text text-anchor=\"start\" x=\"2006\" y=\"-224.8\" font-family=\"Helvetica,sans-Serif\" font-size=\"14.00\" fill=\"#000000\">mse = 0.0</text>\n<text text-anchor=\"start\" x=\"1998.5\" y=\"-210.8\" font-family=\"Helvetica,sans-Serif\" font-size=\"14.00\" fill=\"#000000\">samples = 4</text>\n<text text-anchor=\"start\" x=\"1995.5\" y=\"-196.8\" font-family=\"Helvetica,sans-Serif\" font-size=\"14.00\" fill=\"#000000\">value = &#45;0.99</text>\n</g>\n<!-- 36&#45;&gt;42 -->\n<g id=\"edge42\" class=\"edge\">\n<title>36&#45;&gt;42</title>\n<path fill=\"none\" stroke=\"#000000\" d=\"M1901.7329,-292.344C1925.5832,-279.8569 1953.6097,-265.1834 1978.0239,-252.4011\"/>\n<polygon fill=\"#000000\" stroke=\"#000000\" points=\"1979.952,-255.3424 1987.1878,-247.6032 1976.7051,-249.1409 1979.952,-255.3424\"/>\n</g>\n<!-- 38 -->\n<g id=\"node39\" class=\"node\">\n<title>38</title>\n<path fill=\"#f8dfcd\" stroke=\"#000000\" d=\"M1826.5,-153C1826.5,-153 1741.5,-153 1741.5,-153 1735.5,-153 1729.5,-147 1729.5,-141 1729.5,-141 1729.5,-101 1729.5,-101 1729.5,-95 1735.5,-89 1741.5,-89 1741.5,-89 1826.5,-89 1826.5,-89 1832.5,-89 1838.5,-95 1838.5,-101 1838.5,-101 1838.5,-141 1838.5,-141 1838.5,-147 1832.5,-153 1826.5,-153\"/>\n<text text-anchor=\"start\" x=\"1749.5\" y=\"-138.8\" font-family=\"Helvetica,sans-Serif\" font-size=\"14.00\" fill=\"#000000\">X</text>\n<text text-anchor=\"start\" x=\"1759.5\" y=\"-138.8\" font-family=\"Helvetica,sans-Serif\" baseline-shift=\"sub\" font-size=\"14.00\" fill=\"#000000\">0</text>\n<text text-anchor=\"start\" x=\"1766.5\" y=\"-138.8\" font-family=\"Helvetica,sans-Serif\" font-size=\"14.00\" fill=\"#000000\"> ≤ 4.391</text>\n<text text-anchor=\"start\" x=\"1743.5\" y=\"-124.8\" font-family=\"Helvetica,sans-Serif\" font-size=\"14.00\" fill=\"#000000\">mse = 0.011</text>\n<text text-anchor=\"start\" x=\"1740\" y=\"-110.8\" font-family=\"Helvetica,sans-Serif\" font-size=\"14.00\" fill=\"#000000\">samples = 10</text>\n<text text-anchor=\"start\" x=\"1737.5\" y=\"-96.8\" font-family=\"Helvetica,sans-Serif\" font-size=\"14.00\" fill=\"#000000\">value = &#45;0.886</text>\n</g>\n<!-- 37&#45;&gt;38 -->\n<g id=\"edge38\" class=\"edge\">\n<title>37&#45;&gt;38</title>\n<path fill=\"none\" stroke=\"#000000\" d=\"M1826.7196,-188.8089C1821.2678,-180.1553 1815.3003,-170.683 1809.6001,-161.635\"/>\n<polygon fill=\"#000000\" stroke=\"#000000\" points=\"1812.5341,-159.726 1804.2424,-153.1308 1806.6115,-163.4573 1812.5341,-159.726\"/>\n</g>\n<!-- 41 -->\n<g id=\"node42\" class=\"node\">\n<title>41</title>\n<path fill=\"#f3c3a0\" stroke=\"#000000\" d=\"M1953.5,-147.5C1953.5,-147.5 1868.5,-147.5 1868.5,-147.5 1862.5,-147.5 1856.5,-141.5 1856.5,-135.5 1856.5,-135.5 1856.5,-106.5 1856.5,-106.5 1856.5,-100.5 1862.5,-94.5 1868.5,-94.5 1868.5,-94.5 1953.5,-94.5 1953.5,-94.5 1959.5,-94.5 1965.5,-100.5 1965.5,-106.5 1965.5,-106.5 1965.5,-135.5 1965.5,-135.5 1965.5,-141.5 1959.5,-147.5 1953.5,-147.5\"/>\n<text text-anchor=\"start\" x=\"1876.5\" y=\"-132.3\" font-family=\"Helvetica,sans-Serif\" font-size=\"14.00\" fill=\"#000000\">mse = &#45;0.0</text>\n<text text-anchor=\"start\" x=\"1871.5\" y=\"-117.3\" font-family=\"Helvetica,sans-Serif\" font-size=\"14.00\" fill=\"#000000\">samples = 1</text>\n<text text-anchor=\"start\" x=\"1864.5\" y=\"-102.3\" font-family=\"Helvetica,sans-Serif\" font-size=\"14.00\" fill=\"#000000\">value = &#45;0.208</text>\n</g>\n<!-- 37&#45;&gt;41 -->\n<g id=\"edge41\" class=\"edge\">\n<title>37&#45;&gt;41</title>\n<path fill=\"none\" stroke=\"#000000\" d=\"M1867.6023,-188.8089C1874.2254,-178.4603 1881.5979,-166.9408 1888.3591,-156.3764\"/>\n<polygon fill=\"#000000\" stroke=\"#000000\" points=\"1891.4223,-158.083 1893.8649,-147.7735 1885.5264,-154.3095 1891.4223,-158.083\"/>\n</g>\n<!-- 39 -->\n<g id=\"node40\" class=\"node\">\n<title>39</title>\n<path fill=\"#f8ddc9\" stroke=\"#000000\" d=\"M1826.5,-53C1826.5,-53 1741.5,-53 1741.5,-53 1735.5,-53 1729.5,-47 1729.5,-41 1729.5,-41 1729.5,-12 1729.5,-12 1729.5,-6 1735.5,0 1741.5,0 1741.5,0 1826.5,0 1826.5,0 1832.5,0 1838.5,-6 1838.5,-12 1838.5,-12 1838.5,-41 1838.5,-41 1838.5,-47 1832.5,-53 1826.5,-53\"/>\n<text text-anchor=\"start\" x=\"1747.5\" y=\"-37.8\" font-family=\"Helvetica,sans-Serif\" font-size=\"14.00\" fill=\"#000000\">mse = 0.01</text>\n<text text-anchor=\"start\" x=\"1744.5\" y=\"-22.8\" font-family=\"Helvetica,sans-Serif\" font-size=\"14.00\" fill=\"#000000\">samples = 6</text>\n<text text-anchor=\"start\" x=\"1737.5\" y=\"-7.8\" font-family=\"Helvetica,sans-Serif\" font-size=\"14.00\" fill=\"#000000\">value = &#45;0.829</text>\n</g>\n<!-- 38&#45;&gt;39 -->\n<g id=\"edge39\" class=\"edge\">\n<title>38&#45;&gt;39</title>\n<path fill=\"none\" stroke=\"#000000\" d=\"M1784,-88.7428C1784,-80.6222 1784,-71.8426 1784,-63.5093\"/>\n<polygon fill=\"#000000\" stroke=\"#000000\" points=\"1787.5001,-63.2758 1784,-53.2759 1780.5001,-63.2759 1787.5001,-63.2758\"/>\n</g>\n<!-- 40 -->\n<g id=\"node41\" class=\"node\">\n<title>40</title>\n<path fill=\"#f9e3d3\" stroke=\"#000000\" d=\"M1953.5,-53C1953.5,-53 1868.5,-53 1868.5,-53 1862.5,-53 1856.5,-47 1856.5,-41 1856.5,-41 1856.5,-12 1856.5,-12 1856.5,-6 1862.5,0 1868.5,0 1868.5,0 1953.5,0 1953.5,0 1959.5,0 1965.5,-6 1965.5,-12 1965.5,-12 1965.5,-41 1965.5,-41 1965.5,-47 1959.5,-53 1953.5,-53\"/>\n<text text-anchor=\"start\" x=\"1879\" y=\"-37.8\" font-family=\"Helvetica,sans-Serif\" font-size=\"14.00\" fill=\"#000000\">mse = 0.0</text>\n<text text-anchor=\"start\" x=\"1871.5\" y=\"-22.8\" font-family=\"Helvetica,sans-Serif\" font-size=\"14.00\" fill=\"#000000\">samples = 4</text>\n<text text-anchor=\"start\" x=\"1864.5\" y=\"-7.8\" font-family=\"Helvetica,sans-Serif\" font-size=\"14.00\" fill=\"#000000\">value = &#45;0.972</text>\n</g>\n<!-- 38&#45;&gt;40 -->\n<g id=\"edge40\" class=\"edge\">\n<title>38&#45;&gt;40</title>\n<path fill=\"none\" stroke=\"#000000\" d=\"M1827.351,-88.7428C1840.0832,-79.2688 1854.0211,-68.8977 1866.8053,-59.385\"/>\n<polygon fill=\"#000000\" stroke=\"#000000\" points=\"1869.0822,-62.0535 1875.0155,-53.2759 1864.9034,-56.4376 1869.0822,-62.0535\"/>\n</g>\n<!-- 43 -->\n<g id=\"node44\" class=\"node\">\n<title>43</title>\n<path fill=\"#f9e4d5\" stroke=\"#000000\" d=\"M2080.5,-153C2080.5,-153 1995.5,-153 1995.5,-153 1989.5,-153 1983.5,-147 1983.5,-141 1983.5,-141 1983.5,-101 1983.5,-101 1983.5,-95 1989.5,-89 1995.5,-89 1995.5,-89 2080.5,-89 2080.5,-89 2086.5,-89 2092.5,-95 2092.5,-101 2092.5,-101 2092.5,-141 2092.5,-141 2092.5,-147 2086.5,-153 2080.5,-153\"/>\n<text text-anchor=\"start\" x=\"2003.5\" y=\"-138.8\" font-family=\"Helvetica,sans-Serif\" font-size=\"14.00\" fill=\"#000000\">X</text>\n<text text-anchor=\"start\" x=\"2013.5\" y=\"-138.8\" font-family=\"Helvetica,sans-Serif\" baseline-shift=\"sub\" font-size=\"14.00\" fill=\"#000000\">0</text>\n<text text-anchor=\"start\" x=\"2020.5\" y=\"-138.8\" font-family=\"Helvetica,sans-Serif\" font-size=\"14.00\" fill=\"#000000\"> ≤ 4.815</text>\n<text text-anchor=\"start\" x=\"2006\" y=\"-124.8\" font-family=\"Helvetica,sans-Serif\" font-size=\"14.00\" fill=\"#000000\">mse = 0.0</text>\n<text text-anchor=\"start\" x=\"1998.5\" y=\"-110.8\" font-family=\"Helvetica,sans-Serif\" font-size=\"14.00\" fill=\"#000000\">samples = 3</text>\n<text text-anchor=\"start\" x=\"1991.5\" y=\"-96.8\" font-family=\"Helvetica,sans-Serif\" font-size=\"14.00\" fill=\"#000000\">value = &#45;0.996</text>\n</g>\n<!-- 42&#45;&gt;43 -->\n<g id=\"edge43\" class=\"edge\">\n<title>42&#45;&gt;43</title>\n<path fill=\"none\" stroke=\"#000000\" d=\"M2038,-188.8089C2038,-180.6906 2038,-171.8517 2038,-163.3186\"/>\n<polygon fill=\"#000000\" stroke=\"#000000\" points=\"2041.5001,-163.1307 2038,-153.1308 2034.5001,-163.1308 2041.5001,-163.1307\"/>\n</g>\n<!-- 46 -->\n<g id=\"node47\" class=\"node\">\n<title>46</title>\n<path fill=\"#f9e3d3\" stroke=\"#000000\" d=\"M2207.5,-147.5C2207.5,-147.5 2122.5,-147.5 2122.5,-147.5 2116.5,-147.5 2110.5,-141.5 2110.5,-135.5 2110.5,-135.5 2110.5,-106.5 2110.5,-106.5 2110.5,-100.5 2116.5,-94.5 2122.5,-94.5 2122.5,-94.5 2207.5,-94.5 2207.5,-94.5 2213.5,-94.5 2219.5,-100.5 2219.5,-106.5 2219.5,-106.5 2219.5,-135.5 2219.5,-135.5 2219.5,-141.5 2213.5,-147.5 2207.5,-147.5\"/>\n<text text-anchor=\"start\" x=\"2130.5\" y=\"-132.3\" font-family=\"Helvetica,sans-Serif\" font-size=\"14.00\" fill=\"#000000\">mse = &#45;0.0</text>\n<text text-anchor=\"start\" x=\"2125.5\" y=\"-117.3\" font-family=\"Helvetica,sans-Serif\" font-size=\"14.00\" fill=\"#000000\">samples = 1</text>\n<text text-anchor=\"start\" x=\"2118.5\" y=\"-102.3\" font-family=\"Helvetica,sans-Serif\" font-size=\"14.00\" fill=\"#000000\">value = &#45;0.973</text>\n</g>\n<!-- 42&#45;&gt;46 -->\n<g id=\"edge46\" class=\"edge\">\n<title>42&#45;&gt;46</title>\n<path fill=\"none\" stroke=\"#000000\" d=\"M2078.8827,-188.8089C2092.9455,-177.7359 2108.7106,-165.3223 2122.8708,-154.1726\"/>\n<polygon fill=\"#000000\" stroke=\"#000000\" points=\"2125.3061,-156.7098 2130.9976,-147.7735 2120.9756,-151.2101 2125.3061,-156.7098\"/>\n</g>\n<!-- 44 -->\n<g id=\"node45\" class=\"node\">\n<title>44</title>\n<path fill=\"#f9e4d5\" stroke=\"#000000\" d=\"M2080.5,-53C2080.5,-53 1995.5,-53 1995.5,-53 1989.5,-53 1983.5,-47 1983.5,-41 1983.5,-41 1983.5,-12 1983.5,-12 1983.5,-6 1989.5,0 1995.5,0 1995.5,0 2080.5,0 2080.5,0 2086.5,0 2092.5,-6 2092.5,-12 2092.5,-12 2092.5,-41 2092.5,-41 2092.5,-47 2086.5,-53 2080.5,-53\"/>\n<text text-anchor=\"start\" x=\"2006\" y=\"-37.8\" font-family=\"Helvetica,sans-Serif\" font-size=\"14.00\" fill=\"#000000\">mse = 0.0</text>\n<text text-anchor=\"start\" x=\"1998.5\" y=\"-22.8\" font-family=\"Helvetica,sans-Serif\" font-size=\"14.00\" fill=\"#000000\">samples = 2</text>\n<text text-anchor=\"start\" x=\"1991.5\" y=\"-7.8\" font-family=\"Helvetica,sans-Serif\" font-size=\"14.00\" fill=\"#000000\">value = &#45;0.998</text>\n</g>\n<!-- 43&#45;&gt;44 -->\n<g id=\"edge44\" class=\"edge\">\n<title>43&#45;&gt;44</title>\n<path fill=\"none\" stroke=\"#000000\" d=\"M2038,-88.7428C2038,-80.6222 2038,-71.8426 2038,-63.5093\"/>\n<polygon fill=\"#000000\" stroke=\"#000000\" points=\"2041.5001,-63.2758 2038,-53.2759 2034.5001,-63.2759 2041.5001,-63.2758\"/>\n</g>\n<!-- 45 -->\n<g id=\"node46\" class=\"node\">\n<title>45</title>\n<path fill=\"#f9e4d4\" stroke=\"#000000\" d=\"M2207.5,-53C2207.5,-53 2122.5,-53 2122.5,-53 2116.5,-53 2110.5,-47 2110.5,-41 2110.5,-41 2110.5,-12 2110.5,-12 2110.5,-6 2116.5,0 2122.5,0 2122.5,0 2207.5,0 2207.5,0 2213.5,0 2219.5,-6 2219.5,-12 2219.5,-12 2219.5,-41 2219.5,-41 2219.5,-47 2213.5,-53 2207.5,-53\"/>\n<text text-anchor=\"start\" x=\"2130.5\" y=\"-37.8\" font-family=\"Helvetica,sans-Serif\" font-size=\"14.00\" fill=\"#000000\">mse = &#45;0.0</text>\n<text text-anchor=\"start\" x=\"2125.5\" y=\"-22.8\" font-family=\"Helvetica,sans-Serif\" font-size=\"14.00\" fill=\"#000000\">samples = 1</text>\n<text text-anchor=\"start\" x=\"2118.5\" y=\"-7.8\" font-family=\"Helvetica,sans-Serif\" font-size=\"14.00\" fill=\"#000000\">value = &#45;0.992</text>\n</g>\n<!-- 43&#45;&gt;45 -->\n<g id=\"edge45\" class=\"edge\">\n<title>43&#45;&gt;45</title>\n<path fill=\"none\" stroke=\"#000000\" d=\"M2081.351,-88.7428C2094.0832,-79.2688 2108.0211,-68.8977 2120.8053,-59.385\"/>\n<polygon fill=\"#000000\" stroke=\"#000000\" points=\"2123.0822,-62.0535 2129.0155,-53.2759 2118.9034,-56.4376 2123.0822,-62.0535\"/>\n</g>\n</g>\n</svg>\n"
          },
          "metadata": {
            "tags": []
          },
          "execution_count": 66
        }
      ]
    },
    {
      "cell_type": "code",
      "metadata": {
        "colab": {
          "base_uri": "https://localhost:8080/",
          "height": 369
        },
        "id": "Vb0xLLSaNK-5",
        "outputId": "71fad3df-fc34-4647-89b3-dc883b39ab90"
      },
      "source": [
        "# depth가 2인 그래프\n",
        "dot_data5=tree.export_graphviz(regr1, out_file=None,\n",
        "                              filled=True, rounded=True,\n",
        "                              special_characters=True)\n",
        "\n",
        "graph5 = graphviz.Source(dot_data5)\n",
        "graph5\n",
        "\n",
        "# value가 클수록 진하고, 작을수록 흰색으로 음영처리가 되어 있다."
      ],
      "execution_count": null,
      "outputs": [
        {
          "output_type": "execute_result",
          "data": {
            "text/plain": [
              "<graphviz.files.Source at 0x7fc7840d5550>"
            ],
            "image/svg+xml": "<?xml version=\"1.0\" encoding=\"UTF-8\" standalone=\"no\"?>\n<!DOCTYPE svg PUBLIC \"-//W3C//DTD SVG 1.1//EN\"\n \"http://www.w3.org/Graphics/SVG/1.1/DTD/svg11.dtd\">\n<!-- Generated by graphviz version 2.40.1 (20161225.0304)\n -->\n<!-- Title: Tree Pages: 1 -->\n<svg width=\"489pt\" height=\"261pt\"\n viewBox=\"0.00 0.00 488.50 261.00\" xmlns=\"http://www.w3.org/2000/svg\" xmlns:xlink=\"http://www.w3.org/1999/xlink\">\n<g id=\"graph0\" class=\"graph\" transform=\"scale(1 1) rotate(0) translate(4 257)\">\n<title>Tree</title>\n<polygon fill=\"#ffffff\" stroke=\"transparent\" points=\"-4,4 -4,-257 484.5,-257 484.5,4 -4,4\"/>\n<!-- 0 -->\n<g id=\"node1\" class=\"node\">\n<title>0</title>\n<path fill=\"#efb083\" stroke=\"#000000\" d=\"M276,-253C276,-253 196,-253 196,-253 190,-253 184,-247 184,-241 184,-241 184,-201 184,-201 184,-195 190,-189 196,-189 196,-189 276,-189 276,-189 282,-189 288,-195 288,-201 288,-201 288,-241 288,-241 288,-247 282,-253 276,-253\"/>\n<text text-anchor=\"start\" x=\"201.5\" y=\"-238.8\" font-family=\"Helvetica,sans-Serif\" font-size=\"14.00\" fill=\"#000000\">X</text>\n<text text-anchor=\"start\" x=\"211.5\" y=\"-238.8\" font-family=\"Helvetica,sans-Serif\" baseline-shift=\"sub\" font-size=\"14.00\" fill=\"#000000\">0</text>\n<text text-anchor=\"start\" x=\"218.5\" y=\"-238.8\" font-family=\"Helvetica,sans-Serif\" font-size=\"14.00\" fill=\"#000000\"> ≤ 3.133</text>\n<text text-anchor=\"start\" x=\"195.5\" y=\"-224.8\" font-family=\"Helvetica,sans-Serif\" font-size=\"14.00\" fill=\"#000000\">mse = 0.547</text>\n<text text-anchor=\"start\" x=\"192\" y=\"-210.8\" font-family=\"Helvetica,sans-Serif\" font-size=\"14.00\" fill=\"#000000\">samples = 80</text>\n<text text-anchor=\"start\" x=\"192\" y=\"-196.8\" font-family=\"Helvetica,sans-Serif\" font-size=\"14.00\" fill=\"#000000\">value = 0.122</text>\n</g>\n<!-- 1 -->\n<g id=\"node2\" class=\"node\">\n<title>1</title>\n<path fill=\"#e78c4b\" stroke=\"#000000\" d=\"M214,-153C214,-153 134,-153 134,-153 128,-153 122,-147 122,-141 122,-141 122,-101 122,-101 122,-95 128,-89 134,-89 134,-89 214,-89 214,-89 220,-89 226,-95 226,-101 226,-101 226,-141 226,-141 226,-147 220,-153 214,-153\"/>\n<text text-anchor=\"start\" x=\"139.5\" y=\"-138.8\" font-family=\"Helvetica,sans-Serif\" font-size=\"14.00\" fill=\"#000000\">X</text>\n<text text-anchor=\"start\" x=\"149.5\" y=\"-138.8\" font-family=\"Helvetica,sans-Serif\" baseline-shift=\"sub\" font-size=\"14.00\" fill=\"#000000\">0</text>\n<text text-anchor=\"start\" x=\"156.5\" y=\"-138.8\" font-family=\"Helvetica,sans-Serif\" font-size=\"14.00\" fill=\"#000000\"> ≤ 0.514</text>\n<text text-anchor=\"start\" x=\"133.5\" y=\"-124.8\" font-family=\"Helvetica,sans-Serif\" font-size=\"14.00\" fill=\"#000000\">mse = 0.231</text>\n<text text-anchor=\"start\" x=\"130\" y=\"-110.8\" font-family=\"Helvetica,sans-Serif\" font-size=\"14.00\" fill=\"#000000\">samples = 51</text>\n<text text-anchor=\"start\" x=\"130\" y=\"-96.8\" font-family=\"Helvetica,sans-Serif\" font-size=\"14.00\" fill=\"#000000\">value = 0.571</text>\n</g>\n<!-- 0&#45;&gt;1 -->\n<g id=\"edge1\" class=\"edge\">\n<title>0&#45;&gt;1</title>\n<path fill=\"none\" stroke=\"#000000\" d=\"M216.0415,-188.8089C210.6763,-180.1553 204.8035,-170.683 199.1937,-161.635\"/>\n<polygon fill=\"#000000\" stroke=\"#000000\" points=\"202.1652,-159.7855 193.9211,-153.1308 196.2159,-163.4741 202.1652,-159.7855\"/>\n<text text-anchor=\"middle\" x=\"188.2118\" y=\"-173.7701\" font-family=\"Helvetica,sans-Serif\" font-size=\"14.00\" fill=\"#000000\">True</text>\n</g>\n<!-- 4 -->\n<g id=\"node5\" class=\"node\">\n<title>4</title>\n<path fill=\"#fcefe6\" stroke=\"#000000\" d=\"M341.5,-153C341.5,-153 256.5,-153 256.5,-153 250.5,-153 244.5,-147 244.5,-141 244.5,-141 244.5,-101 244.5,-101 244.5,-95 250.5,-89 256.5,-89 256.5,-89 341.5,-89 341.5,-89 347.5,-89 353.5,-95 353.5,-101 353.5,-101 353.5,-141 353.5,-141 353.5,-147 347.5,-153 341.5,-153\"/>\n<text text-anchor=\"start\" x=\"268.5\" y=\"-138.8\" font-family=\"Helvetica,sans-Serif\" font-size=\"14.00\" fill=\"#000000\">X</text>\n<text text-anchor=\"start\" x=\"278.5\" y=\"-138.8\" font-family=\"Helvetica,sans-Serif\" baseline-shift=\"sub\" font-size=\"14.00\" fill=\"#000000\">0</text>\n<text text-anchor=\"start\" x=\"285.5\" y=\"-138.8\" font-family=\"Helvetica,sans-Serif\" font-size=\"14.00\" fill=\"#000000\"> ≤ 3.85</text>\n<text text-anchor=\"start\" x=\"258.5\" y=\"-124.8\" font-family=\"Helvetica,sans-Serif\" font-size=\"14.00\" fill=\"#000000\">mse = 0.124</text>\n<text text-anchor=\"start\" x=\"255\" y=\"-110.8\" font-family=\"Helvetica,sans-Serif\" font-size=\"14.00\" fill=\"#000000\">samples = 29</text>\n<text text-anchor=\"start\" x=\"252.5\" y=\"-96.8\" font-family=\"Helvetica,sans-Serif\" font-size=\"14.00\" fill=\"#000000\">value = &#45;0.667</text>\n</g>\n<!-- 0&#45;&gt;4 -->\n<g id=\"edge4\" class=\"edge\">\n<title>0&#45;&gt;4</title>\n<path fill=\"none\" stroke=\"#000000\" d=\"M256.2804,-188.8089C261.7322,-180.1553 267.6997,-170.683 273.3999,-161.635\"/>\n<polygon fill=\"#000000\" stroke=\"#000000\" points=\"276.3885,-163.4573 278.7576,-153.1308 270.4659,-159.726 276.3885,-163.4573\"/>\n<text text-anchor=\"middle\" x=\"284.2917\" y=\"-173.8105\" font-family=\"Helvetica,sans-Serif\" font-size=\"14.00\" fill=\"#000000\">False</text>\n</g>\n<!-- 2 -->\n<g id=\"node3\" class=\"node\">\n<title>2</title>\n<path fill=\"#f0b68c\" stroke=\"#000000\" d=\"M92,-53C92,-53 12,-53 12,-53 6,-53 0,-47 0,-41 0,-41 0,-12 0,-12 0,-6 6,0 12,0 12,0 92,0 92,0 98,0 104,-6 104,-12 104,-12 104,-41 104,-41 104,-47 98,-53 92,-53\"/>\n<text text-anchor=\"start\" x=\"11.5\" y=\"-37.8\" font-family=\"Helvetica,sans-Serif\" font-size=\"14.00\" fill=\"#000000\">mse = 0.192</text>\n<text text-anchor=\"start\" x=\"8\" y=\"-22.8\" font-family=\"Helvetica,sans-Serif\" font-size=\"14.00\" fill=\"#000000\">samples = 11</text>\n<text text-anchor=\"start\" x=\"8\" y=\"-7.8\" font-family=\"Helvetica,sans-Serif\" font-size=\"14.00\" fill=\"#000000\">value = 0.052</text>\n</g>\n<!-- 1&#45;&gt;2 -->\n<g id=\"edge2\" class=\"edge\">\n<title>1&#45;&gt;2</title>\n<path fill=\"none\" stroke=\"#000000\" d=\"M132.3557,-88.7428C120.2413,-79.359 106.9906,-69.0952 94.8059,-59.657\"/>\n<polygon fill=\"#000000\" stroke=\"#000000\" points=\"96.6168,-56.6326 86.5678,-53.2759 92.3302,-62.1666 96.6168,-56.6326\"/>\n</g>\n<!-- 3 -->\n<g id=\"node4\" class=\"node\">\n<title>3</title>\n<path fill=\"#e58139\" stroke=\"#000000\" d=\"M214,-53C214,-53 134,-53 134,-53 128,-53 122,-47 122,-41 122,-41 122,-12 122,-12 122,-6 128,0 134,0 134,0 214,0 214,0 220,0 226,-6 226,-12 226,-12 226,-41 226,-41 226,-47 220,-53 214,-53\"/>\n<text text-anchor=\"start\" x=\"133.5\" y=\"-37.8\" font-family=\"Helvetica,sans-Serif\" font-size=\"14.00\" fill=\"#000000\">mse = 0.148</text>\n<text text-anchor=\"start\" x=\"130\" y=\"-22.8\" font-family=\"Helvetica,sans-Serif\" font-size=\"14.00\" fill=\"#000000\">samples = 40</text>\n<text text-anchor=\"start\" x=\"130\" y=\"-7.8\" font-family=\"Helvetica,sans-Serif\" font-size=\"14.00\" fill=\"#000000\">value = 0.714</text>\n</g>\n<!-- 1&#45;&gt;3 -->\n<g id=\"edge3\" class=\"edge\">\n<title>1&#45;&gt;3</title>\n<path fill=\"none\" stroke=\"#000000\" d=\"M174,-88.7428C174,-80.6222 174,-71.8426 174,-63.5093\"/>\n<polygon fill=\"#000000\" stroke=\"#000000\" points=\"177.5001,-63.2758 174,-53.2759 170.5001,-63.2759 177.5001,-63.2758\"/>\n</g>\n<!-- 5 -->\n<g id=\"node6\" class=\"node\">\n<title>5</title>\n<path fill=\"#f8decb\" stroke=\"#000000\" d=\"M341.5,-53C341.5,-53 256.5,-53 256.5,-53 250.5,-53 244.5,-47 244.5,-41 244.5,-41 244.5,-12 244.5,-12 244.5,-6 250.5,0 256.5,0 256.5,0 341.5,0 341.5,0 347.5,0 353.5,-6 353.5,-12 353.5,-12 353.5,-41 353.5,-41 353.5,-47 347.5,-53 341.5,-53\"/>\n<text text-anchor=\"start\" x=\"258.5\" y=\"-37.8\" font-family=\"Helvetica,sans-Serif\" font-size=\"14.00\" fill=\"#000000\">mse = 0.124</text>\n<text text-anchor=\"start\" x=\"255\" y=\"-22.8\" font-family=\"Helvetica,sans-Serif\" font-size=\"14.00\" fill=\"#000000\">samples = 14</text>\n<text text-anchor=\"start\" x=\"252.5\" y=\"-7.8\" font-family=\"Helvetica,sans-Serif\" font-size=\"14.00\" fill=\"#000000\">value = &#45;0.452</text>\n</g>\n<!-- 4&#45;&gt;5 -->\n<g id=\"edge5\" class=\"edge\">\n<title>4&#45;&gt;5</title>\n<path fill=\"none\" stroke=\"#000000\" d=\"M299,-88.7428C299,-80.6222 299,-71.8426 299,-63.5093\"/>\n<polygon fill=\"#000000\" stroke=\"#000000\" points=\"302.5001,-63.2758 299,-53.2759 295.5001,-63.2759 302.5001,-63.2758\"/>\n</g>\n<!-- 6 -->\n<g id=\"node7\" class=\"node\">\n<title>6</title>\n<path fill=\"#ffffff\" stroke=\"#000000\" d=\"M468.5,-53C468.5,-53 383.5,-53 383.5,-53 377.5,-53 371.5,-47 371.5,-41 371.5,-41 371.5,-12 371.5,-12 371.5,-6 377.5,0 383.5,0 383.5,0 468.5,0 468.5,0 474.5,0 480.5,-6 480.5,-12 480.5,-12 480.5,-41 480.5,-41 480.5,-47 474.5,-53 468.5,-53\"/>\n<text text-anchor=\"start\" x=\"385.5\" y=\"-37.8\" font-family=\"Helvetica,sans-Serif\" font-size=\"14.00\" fill=\"#000000\">mse = 0.041</text>\n<text text-anchor=\"start\" x=\"382\" y=\"-22.8\" font-family=\"Helvetica,sans-Serif\" font-size=\"14.00\" fill=\"#000000\">samples = 15</text>\n<text text-anchor=\"start\" x=\"379.5\" y=\"-7.8\" font-family=\"Helvetica,sans-Serif\" font-size=\"14.00\" fill=\"#000000\">value = &#45;0.869</text>\n</g>\n<!-- 4&#45;&gt;6 -->\n<g id=\"edge6\" class=\"edge\">\n<title>4&#45;&gt;6</title>\n<path fill=\"none\" stroke=\"#000000\" d=\"M342.351,-88.7428C355.0832,-79.2688 369.0211,-68.8977 381.8053,-59.385\"/>\n<polygon fill=\"#000000\" stroke=\"#000000\" points=\"384.0822,-62.0535 390.0155,-53.2759 379.9034,-56.4376 384.0822,-62.0535\"/>\n</g>\n</g>\n</svg>\n"
          },
          "metadata": {
            "tags": []
          },
          "execution_count": 69
        }
      ]
    },
    {
      "cell_type": "code",
      "metadata": {
        "id": "HABaJ951N3JV"
      },
      "source": [
        ""
      ],
      "execution_count": null,
      "outputs": []
    }
  ]
}