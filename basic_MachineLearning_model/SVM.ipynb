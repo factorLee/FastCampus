{
  "nbformat": 4,
  "nbformat_minor": 0,
  "metadata": {
    "colab": {
      "name": "SVM.ipynb",
      "provenance": [],
      "authorship_tag": "ABX9TyN+f8Ksr2NTBnAHT0hfUe7Q",
      "include_colab_link": true
    },
    "kernelspec": {
      "name": "python3",
      "display_name": "Python 3"
    }
  },
  "cells": [
    {
      "cell_type": "markdown",
      "metadata": {
        "id": "view-in-github",
        "colab_type": "text"
      },
      "source": [
        "<a href=\"https://colab.research.google.com/github/factorLee/FastCampus/blob/main/SVM.ipynb\" target=\"_parent\"><img src=\"https://colab.research.google.com/assets/colab-badge.svg\" alt=\"Open In Colab\"/></a>"
      ]
    },
    {
      "cell_type": "markdown",
      "metadata": {
        "id": "pASRu3hDdgV4"
      },
      "source": [
        "# Support vector machine 실습"
      ]
    },
    {
      "cell_type": "markdown",
      "metadata": {
        "id": "esNN0jlVdb4a"
      },
      "source": [
        "# 1. 데이터 불러오기, 및 SVM 적합"
      ]
    },
    {
      "cell_type": "code",
      "metadata": {
        "id": "2fRCSZICdZfi"
      },
      "source": [
        "import numpy as np\n",
        "import matplotlib.pyplot as plt"
      ],
      "execution_count": null,
      "outputs": []
    },
    {
      "cell_type": "markdown",
      "metadata": {
        "id": "oPwRRe8OdsI3"
      },
      "source": [
        "- 함수불러오기"
      ]
    },
    {
      "cell_type": "code",
      "metadata": {
        "id": "xh5goYTbdqoH"
      },
      "source": [
        "from sklearn import svm, datasets"
      ],
      "execution_count": null,
      "outputs": []
    },
    {
      "cell_type": "markdown",
      "metadata": {
        "id": "Blfipc-iduSu"
      },
      "source": [
        "- 모델 적합"
      ]
    },
    {
      "cell_type": "code",
      "metadata": {
        "colab": {
          "base_uri": "https://localhost:8080/"
        },
        "id": "grewe1_YdveE",
        "outputId": "0ad9b765-8c8f-457d-86cb-4c19cb0ab6e6"
      },
      "source": [
        "iris=datasets.load_iris()\n",
        "X=iris.data[:,:2]\n",
        "y=iris.target\n",
        "\n",
        "C=1 #regularization\n",
        "clf=svm.SVC(kernel='linear',C=C) # kernel은 없이 설정\n",
        "clf.fit(X,y)"
      ],
      "execution_count": null,
      "outputs": [
        {
          "output_type": "execute_result",
          "data": {
            "text/plain": [
              "SVC(C=1, break_ties=False, cache_size=200, class_weight=None, coef0=0.0,\n",
              "    decision_function_shape='ovr', degree=3, gamma='scale', kernel='linear',\n",
              "    max_iter=-1, probability=False, random_state=None, shrinking=True,\n",
              "    tol=0.001, verbose=False)"
            ]
          },
          "metadata": {
            "tags": []
          },
          "execution_count": 20
        }
      ]
    },
    {
      "cell_type": "code",
      "metadata": {
        "colab": {
          "base_uri": "https://localhost:8080/"
        },
        "id": "Li-8Ws_Od_64",
        "outputId": "4fb7b11b-dd92-4572-c1e2-54315958a506"
      },
      "source": [
        " # confusion metrix\n",
        " from sklearn.metrics import confusion_matrix\n",
        "y_pred=clf.predict(X)\n",
        "confusion_matrix(y,y_pred)"
      ],
      "execution_count": null,
      "outputs": [
        {
          "output_type": "execute_result",
          "data": {
            "text/plain": [
              "array([[50,  0,  0],\n",
              "       [ 0, 38, 12],\n",
              "       [ 0, 15, 35]])"
            ]
          },
          "metadata": {
            "tags": []
          },
          "execution_count": 21
        }
      ]
    },
    {
      "cell_type": "markdown",
      "metadata": {
        "id": "6NX1KasffpSc"
      },
      "source": [
        "# 2. Kernel SVM 적합 및 비교"
      ]
    },
    {
      "cell_type": "markdown",
      "metadata": {
        "id": "fZNJXzRhftxS"
      },
      "source": [
        "- LinearSVC"
      ]
    },
    {
      "cell_type": "code",
      "metadata": {
        "colab": {
          "base_uri": "https://localhost:8080/"
        },
        "id": "S-uoyrsceA6Y",
        "outputId": "946b659e-1797-4948-d45c-8d4ea54b7e27"
      },
      "source": [
        "clf=svm.LinearSVC(C=C, max_iter=10000)\n",
        "clf.fit(X,y)\n",
        "y_pred=clf.predict(X)\n",
        "confusion_matrix(y,y_pred)\n"
      ],
      "execution_count": null,
      "outputs": [
        {
          "output_type": "execute_result",
          "data": {
            "text/plain": [
              "array([[49,  1,  0],\n",
              "       [ 2, 30, 18],\n",
              "       [ 0,  9, 41]])"
            ]
          },
          "metadata": {
            "tags": []
          },
          "execution_count": 22
        }
      ]
    },
    {
      "cell_type": "markdown",
      "metadata": {
        "id": "SFPhp0VSfuNq"
      },
      "source": [
        "- radial basis function"
      ]
    },
    {
      "cell_type": "code",
      "metadata": {
        "colab": {
          "base_uri": "https://localhost:8080/"
        },
        "id": "nEey6MKPf0VR",
        "outputId": "25b66bc4-2632-4943-c269-0a2343497d7a"
      },
      "source": [
        "clf=svm.SVC(kernel=\"rbf\", gamma=0.7, C=C, max_iter=10000) # sigma 제곱에 해당하는 스케일 parametar => gamma\n",
        "clf.fit(X,y)\n",
        "y_pred=clf.predict(X)\n",
        "confusion_matrix(y,y_pred)\n"
      ],
      "execution_count": null,
      "outputs": [
        {
          "output_type": "execute_result",
          "data": {
            "text/plain": [
              "array([[50,  0,  0],\n",
              "       [ 0, 37, 13],\n",
              "       [ 0, 13, 37]])"
            ]
          },
          "metadata": {
            "tags": []
          },
          "execution_count": 25
        }
      ]
    },
    {
      "cell_type": "markdown",
      "metadata": {
        "id": "IVudXXJigz73"
      },
      "source": [
        "- polynomial kernel"
      ]
    },
    {
      "cell_type": "code",
      "metadata": {
        "colab": {
          "base_uri": "https://localhost:8080/"
        },
        "id": "-GUffJVEggUY",
        "outputId": "0d6c59d8-4442-4b06-e218-26442ffe0e5a"
      },
      "source": [
        "clf=svm.SVC(kernel='poly', degree=3, C=C, gamma='auto')\n",
        "clf.fit(X,y)\n",
        "y_pred=clf.predict(X)\n",
        "confusion_matrix(y,y_pred)\n"
      ],
      "execution_count": null,
      "outputs": [
        {
          "output_type": "execute_result",
          "data": {
            "text/plain": [
              "array([[50,  0,  0],\n",
              "       [ 0, 38, 12],\n",
              "       [ 0, 16, 34]])"
            ]
          },
          "metadata": {
            "tags": []
          },
          "execution_count": 26
        }
      ]
    },
    {
      "cell_type": "markdown",
      "metadata": {
        "id": "8zKRI61VhRAs"
      },
      "source": [
        "- 시각적 비교"
      ]
    },
    {
      "cell_type": "markdown",
      "metadata": {
        "id": "cYqD-WsPhTuC"
      },
      "source": [
        "- 함수 정의"
      ]
    },
    {
      "cell_type": "code",
      "metadata": {
        "id": "dQL7qbo7hKvR"
      },
      "source": [
        "def make_meshgrid(x,y,h=0.2):\n",
        "    x_min, x_max = x.min() -1, x.max() + 1\n",
        "    y_min, y_max = y.min() -1, y.max() + 1\n",
        "    xx, yy = np.meshgrid(np.arange(x_min, x_max, h),\n",
        "                         np.arange(y_min, y_max, h))\n",
        "    return xx, yy\n",
        "\n",
        "def plot_contours(ax, clf, xx, yy, **params):\n",
        "    Z = clf.predict(np.c_[xx.ravel(), yy.ravel()])\n",
        "    Z = Z.reshape(xx.shape)\n",
        "    out = ax.contourf(xx, yy, Z, **params)\n",
        "    return out"
      ],
      "execution_count": null,
      "outputs": []
    },
    {
      "cell_type": "markdown",
      "metadata": {
        "id": "d5Zsb0vqiVpK"
      },
      "source": [
        "- 데이터 불러오기"
      ]
    },
    {
      "cell_type": "code",
      "metadata": {
        "id": "G4hNvoIkh319"
      },
      "source": [
        "iris = datasets.load_iris()\n",
        "\n",
        "X = iris.data[:, :2]\n",
        "y = iris.target"
      ],
      "execution_count": null,
      "outputs": []
    },
    {
      "cell_type": "markdown",
      "metadata": {
        "id": "d1mmC_uGkCPu"
      },
      "source": [
        "- 모델정의 및 피팅"
      ]
    },
    {
      "cell_type": "code",
      "metadata": {
        "id": "mmmZqziOieVj"
      },
      "source": [
        "C = 1.0 #Regularization parameter\n",
        "# 비교하고자하는 모델들 정의 하고 피팅까지\n",
        "models = (svm.SVC(kernel='linear', C=C),\n",
        "          svm.LinearSVC(C=C, max_iter=10000),\n",
        "          svm.SVC(kernel='rbf', gamma=0.7, C=C),\n",
        "          svm.SVC(kernel='poly', degree=3, gamma='auto', C=C))\n",
        "models = (clf.fit(X, y) for clf in models)"
      ],
      "execution_count": null,
      "outputs": []
    },
    {
      "cell_type": "code",
      "metadata": {
        "id": "JCNieX28kBnX"
      },
      "source": [
        "titles = ('SVC with linear kernel',\n",
        "          'LinearSVC (linear kernel)',\n",
        "          'SVC with RBF kernel',\n",
        "          'SVC with polynomial (degree 3) kernel')"
      ],
      "execution_count": null,
      "outputs": []
    },
    {
      "cell_type": "code",
      "metadata": {
        "colab": {
          "base_uri": "https://localhost:8080/",
          "height": 278
        },
        "id": "JnD_csu5kFH2",
        "outputId": "d9283335-b3cd-432c-fdba-820eb1db006c"
      },
      "source": [
        "fig, sub = plt.subplots(2, 2)\n",
        "plt.subplots_adjust(wspace=0.4, hspace=0.4)\n",
        "\n",
        "X0, X1 = X[:, 0], X[:, 1]\n",
        "xx, yy = make_meshgrid(X0, X1)\n",
        "\n",
        "for clf, title, ax in zip(models, titles, sub.flatten()):\n",
        "    plot_contours(ax, clf, xx, yy,\n",
        "                  cmap=plt.cm.coolwarm, alpha=0.8)\n",
        "    ax.scatter(X0, X1, c=y, cmap=plt.cm.coolwarm, s=20, edgecolors='k')\n",
        "    ax.set_xlim(xx.min(), xx.max())\n",
        "    ax.set_ylim(yy.min(), yy.max())\n",
        "    ax.set_xlabel('Sepal length')\n",
        "    ax.set_ylabel('Sepal width')\n",
        "    ax.set_xticks(())\n",
        "    ax.set_yticks(())\n",
        "    ax.set_title(title)\n",
        "\n",
        "plt.show()\n",
        "\n",
        "# 사용한 알고리즘이나 loss function이 달라서 서로 차이를 보인다."
      ],
      "execution_count": null,
      "outputs": [
        {
          "output_type": "display_data",
          "data": {
            "image/png": "[encoded data removed]",
            "text/plain": [
              "<Figure size 432x288 with 4 Axes>"
            ]
          },
          "metadata": {
            "tags": []
          }
        }
      ]
    },
    {
      "cell_type": "markdown",
      "metadata": {
        "id": "4LEQJ5-XkH_4"
      },
      "source": [
        "- LinearSVC minimizes the squared hinge loss while SVC minimizes the regular hinge loss.\n",
        "- LinearSVC uses the One-vs-All (also known as One-vs-Rest) multiclass reduction while SVC uses the One-vs-One multiclass reduction."
      ]
    },
    {
      "cell_type": "code",
      "metadata": {
        "id": "GUwp_GBfkGNW"
      },
      "source": [
        ""
      ],
      "execution_count": null,
      "outputs": []
    }
  ]
}
