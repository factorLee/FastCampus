{
  "nbformat": 4,
  "nbformat_minor": 0,
  "metadata": {
    "colab": {
      "name": "EL_Bagging.ipynb",
      "provenance": [],
      "toc_visible": true,
      "authorship_tag": "ABX9TyNOFHnjoARtKd6T939sEpqo",
      "include_colab_link": true
    },
    "kernelspec": {
      "name": "python3",
      "display_name": "Python 3"
    },
    "language_info": {
      "name": "python"
    }
  },
  "cells": [
    {
      "cell_type": "markdown",
      "metadata": {
        "id": "view-in-github",
        "colab_type": "text"
      },
      "source": [
        "<a href=\"https://colab.research.google.com/github/factorLee/FastCampus/blob/main/EL_Bagging.ipynb\" target=\"_parent\"><img src=\"https://colab.research.google.com/assets/colab-badge.svg\" alt=\"Open In Colab\"/></a>"
      ]
    },
    {
      "cell_type": "markdown",
      "metadata": {
        "id": "cGKZUEJYR2pz"
      },
      "source": [
        "# Ensemble Learning_Bagging"
      ]
    },
    {
      "cell_type": "code",
      "metadata": {
        "id": "CyrbBOd1RlTl"
      },
      "source": [
        "import os\n",
        "import pandas as pd\n",
        "import numpy as np\n",
        "from sklearn.model_selection import train_test_split"
      ],
      "execution_count": 4,
      "outputs": []
    },
    {
      "cell_type": "code",
      "metadata": {
        "colab": {
          "base_uri": "https://localhost:8080/",
          "height": 35
        },
        "id": "BgKu0QixSLkB",
        "outputId": "14465ade-ad08-4dbe-d1fc-4fb03356dfb5"
      },
      "source": [
        "# 현재경로 확인\n",
        "os.getcwd()"
      ],
      "execution_count": 5,
      "outputs": [
        {
          "output_type": "execute_result",
          "data": {
            "application/vnd.google.colaboratory.intrinsic+json": {
              "type": "string"
            },
            "text/plain": [
              "'/content'"
            ]
          },
          "metadata": {
            "tags": []
          },
          "execution_count": 5
        }
      ]
    },
    {
      "cell_type": "code",
      "metadata": {
        "colab": {
          "base_uri": "https://localhost:8080/",
          "height": 224
        },
        "id": "-iURj9wuSOSb",
        "outputId": "3e98be36-c269-44d1-99af-66edc7d83701"
      },
      "source": [
        "# kc_house 데이터 불러오기\n",
        "data=pd.read_csv(\"./kc_house_data.csv\")\n",
        "data.head()"
      ],
      "execution_count": 6,
      "outputs": [
        {
          "output_type": "execute_result",
          "data": {
            "text/html": [
              "<div>\n",
              "<style scoped>\n",
              "    .dataframe tbody tr th:only-of-type {\n",
              "        vertical-align: middle;\n",
              "    }\n",
              "\n",
              "    .dataframe tbody tr th {\n",
              "        vertical-align: top;\n",
              "    }\n",
              "\n",
              "    .dataframe thead th {\n",
              "        text-align: right;\n",
              "    }\n",
              "</style>\n",
              "<table border=\"1\" class=\"dataframe\">\n",
              "  <thead>\n",
              "    <tr style=\"text-align: right;\">\n",
              "      <th></th>\n",
              "      <th>id</th>\n",
              "      <th>date</th>\n",
              "      <th>price</th>\n",
              "      <th>bedrooms</th>\n",
              "      <th>bathrooms</th>\n",
              "      <th>floors</th>\n",
              "      <th>waterfront</th>\n",
              "      <th>condition</th>\n",
              "      <th>grade</th>\n",
              "      <th>yr_built</th>\n",
              "      <th>yr_renovated</th>\n",
              "      <th>zipcode</th>\n",
              "      <th>lat</th>\n",
              "      <th>long</th>\n",
              "    </tr>\n",
              "  </thead>\n",
              "  <tbody>\n",
              "    <tr>\n",
              "      <th>0</th>\n",
              "      <td>7129300520</td>\n",
              "      <td>20141013T000000</td>\n",
              "      <td>221900.0</td>\n",
              "      <td>3</td>\n",
              "      <td>1.00</td>\n",
              "      <td>1.0</td>\n",
              "      <td>0</td>\n",
              "      <td>3</td>\n",
              "      <td>7</td>\n",
              "      <td>1955</td>\n",
              "      <td>0</td>\n",
              "      <td>98178</td>\n",
              "      <td>47.5112</td>\n",
              "      <td>-122.257</td>\n",
              "    </tr>\n",
              "    <tr>\n",
              "      <th>1</th>\n",
              "      <td>6414100192</td>\n",
              "      <td>20141209T000000</td>\n",
              "      <td>538000.0</td>\n",
              "      <td>3</td>\n",
              "      <td>2.25</td>\n",
              "      <td>2.0</td>\n",
              "      <td>0</td>\n",
              "      <td>3</td>\n",
              "      <td>7</td>\n",
              "      <td>1951</td>\n",
              "      <td>1991</td>\n",
              "      <td>98125</td>\n",
              "      <td>47.7210</td>\n",
              "      <td>-122.319</td>\n",
              "    </tr>\n",
              "    <tr>\n",
              "      <th>2</th>\n",
              "      <td>5631500400</td>\n",
              "      <td>20150225T000000</td>\n",
              "      <td>180000.0</td>\n",
              "      <td>2</td>\n",
              "      <td>1.00</td>\n",
              "      <td>1.0</td>\n",
              "      <td>0</td>\n",
              "      <td>3</td>\n",
              "      <td>6</td>\n",
              "      <td>1933</td>\n",
              "      <td>0</td>\n",
              "      <td>98028</td>\n",
              "      <td>47.7379</td>\n",
              "      <td>-122.233</td>\n",
              "    </tr>\n",
              "    <tr>\n",
              "      <th>3</th>\n",
              "      <td>2487200875</td>\n",
              "      <td>20141209T000000</td>\n",
              "      <td>604000.0</td>\n",
              "      <td>4</td>\n",
              "      <td>3.00</td>\n",
              "      <td>1.0</td>\n",
              "      <td>0</td>\n",
              "      <td>5</td>\n",
              "      <td>7</td>\n",
              "      <td>1965</td>\n",
              "      <td>0</td>\n",
              "      <td>98136</td>\n",
              "      <td>47.5208</td>\n",
              "      <td>-122.393</td>\n",
              "    </tr>\n",
              "    <tr>\n",
              "      <th>4</th>\n",
              "      <td>1954400510</td>\n",
              "      <td>20150218T000000</td>\n",
              "      <td>510000.0</td>\n",
              "      <td>3</td>\n",
              "      <td>2.00</td>\n",
              "      <td>1.0</td>\n",
              "      <td>0</td>\n",
              "      <td>3</td>\n",
              "      <td>8</td>\n",
              "      <td>1987</td>\n",
              "      <td>0</td>\n",
              "      <td>98074</td>\n",
              "      <td>47.6168</td>\n",
              "      <td>-122.045</td>\n",
              "    </tr>\n",
              "  </tbody>\n",
              "</table>\n",
              "</div>"
            ],
            "text/plain": [
              "           id             date     price  ...  zipcode      lat     long\n",
              "0  7129300520  20141013T000000  221900.0  ...    98178  47.5112 -122.257\n",
              "1  6414100192  20141209T000000  538000.0  ...    98125  47.7210 -122.319\n",
              "2  5631500400  20150225T000000  180000.0  ...    98028  47.7379 -122.233\n",
              "3  2487200875  20141209T000000  604000.0  ...    98136  47.5208 -122.393\n",
              "4  1954400510  20150218T000000  510000.0  ...    98074  47.6168 -122.045\n",
              "\n",
              "[5 rows x 14 columns]"
            ]
          },
          "metadata": {
            "tags": []
          },
          "execution_count": 6
        }
      ]
    },
    {
      "cell_type": "code",
      "metadata": {
        "colab": {
          "base_uri": "https://localhost:8080/",
          "height": 69
        },
        "id": "q_dfk5npSwBP",
        "outputId": "95fc8074-0f7c-4d1f-9515-e92d54d80f6b"
      },
      "source": [
        "# 집값의 가격을 예측하는 문제\n",
        "'''\n",
        "id: 집 고유아이디\n",
        "date: 집이 팔린 날짜 \n",
        "price: 집 가격 (타겟변수)\n",
        "bedrooms: 주택 당 침실 개수\n",
        "bathrooms: 주택 당 화장실 개수\n",
        "floors: 전체 층 개수\n",
        "waterfront: 해변이 보이는지 (0, 1)\n",
        "condition: 집 청소상태 (1~5)\n",
        "grade: King County grading system 으로 인한 평점 (1~13)\n",
        "yr_built: 집이 지어진 년도\n",
        "yr_renovated: 집이 리모델링 된 년도\n",
        "zipcode: 우편번호\n",
        "lat: 위도\n",
        "long: 경도\n",
        "'''"
      ],
      "execution_count": 7,
      "outputs": [
        {
          "output_type": "execute_result",
          "data": {
            "application/vnd.google.colaboratory.intrinsic+json": {
              "type": "string"
            },
            "text/plain": [
              "'\\nid: 집 고유아이디\\ndate: 집이 팔린 날짜 \\nprice: 집 가격 (타겟변수)\\nbedrooms: 주택 당 침실 개수\\nbathrooms: 주택 당 화장실 개수\\nfloors: 전체 층 개수\\nwaterfront: 해변이 보이는지 (0, 1)\\ncondition: 집 청소상태 (1~5)\\ngrade: King County grading system 으로 인한 평점 (1~13)\\nyr_built: 집이 지어진 년도\\nyr_renovated: 집이 리모델링 된 년도\\nzipcode: 우편번호\\nlat: 위도\\nlong: 경도\\n'"
            ]
          },
          "metadata": {
            "tags": []
          },
          "execution_count": 7
        }
      ]
    },
    {
      "cell_type": "code",
      "metadata": {
        "colab": {
          "base_uri": "https://localhost:8080/"
        },
        "id": "oOy-fYhlS309",
        "outputId": "1086566b-107f-4082-e3cf-4432a64d005a"
      },
      "source": [
        "ncar=data.shape[0]\n",
        "nvar=data.shape[1]\n",
        "print(ncar) # 데이터 개수\n",
        "print(nvar) # 변수 개수"
      ],
      "execution_count": 8,
      "outputs": [
        {
          "output_type": "stream",
          "text": [
            "21613\n",
            "14\n"
          ],
          "name": "stdout"
        }
      ]
    },
    {
      "cell_type": "markdown",
      "metadata": {
        "id": "E2RLO6U8UHKO"
      },
      "source": [
        "# 의미가 없다고 판단되는 변수 제거"
      ]
    },
    {
      "cell_type": "code",
      "metadata": {
        "id": "lotP-3uTUCKH"
      },
      "source": [
        "data = data.drop(['id','date','zipcode','lat','long'], axis=1)"
      ],
      "execution_count": 9,
      "outputs": []
    },
    {
      "cell_type": "markdown",
      "metadata": {
        "id": "mf_bkdPEUa29"
      },
      "source": [
        "# 범주형 변수를 이진형 변수로 변형\n",
        "- 범주형 변수는 waterfront 컬럼 뿐이며, 이진 분류이기 때문에 0,1 로 표현한다.\n",
        "- 데이터에서 0,1로 표현되어 있으므로 과정 생략"
      ]
    },
    {
      "cell_type": "markdown",
      "metadata": {
        "id": "Oqgphd-WUqXy"
      },
      "source": [
        "# 설명변수와 타겟변수를 분리, 학습데이터와 평과데이터 분리"
      ]
    },
    {
      "cell_type": "code",
      "metadata": {
        "colab": {
          "base_uri": "https://localhost:8080/"
        },
        "id": "QCRx_4QhUXvD",
        "outputId": "fa2fbd7c-8cf6-422c-fa07-129075d8f718"
      },
      "source": [
        "# 설명변수와 타겟변수 분리\n",
        "feature_columns = list(data.columns.difference(['price'])) # 'price'를 빼고 나머지를 feature_columns에 넣는다.\n",
        "X = data[feature_columns]\n",
        "y = data['price']\n",
        "# 학습데이터와 평과데이터 분리\n",
        "train_x, test_x, train_y, test_y = train_test_split(X,y, test_size=0.3,random_state=42) # 학습데이터와 평가데이터의 비율을 7:3\n",
        "print(train_x.shape, test_x.shape, train_y.shape, test_y.shape)"
      ],
      "execution_count": 10,
      "outputs": [
        {
          "output_type": "stream",
          "text": [
            "(15129, 8) (6484, 8) (15129,) (6484,)\n"
          ],
          "name": "stdout"
        }
      ]
    },
    {
      "cell_type": "markdown",
      "metadata": {
        "id": "DcJ6y5z0W2sU"
      },
      "source": [
        "# 학습데이터를 선형 회귀 모형에 적합 후 평가 데이터로 검증 (State_Models)\n"
      ]
    },
    {
      "cell_type": "code",
      "metadata": {
        "colab": {
          "base_uri": "https://localhost:8080/",
          "height": 679
        },
        "id": "mQk1nnKpWKsR",
        "outputId": "4f054021-66d5-432c-81ef-9930b42bf534"
      },
      "source": [
        "import statsmodels.api as sm\n",
        "from sklearn.metrics import mean_squared_error, r2_score\n",
        "from math import sqrt\n",
        "\n",
        "sm_train_x = sm.add_constant(train_x, has_constant='add')\n",
        "sm_model = sm.OLS(train_y, sm_train_x)\n",
        "fitted_sm_model = sm_model.fit()\n",
        "fitted_sm_model.summary()\n"
      ],
      "execution_count": 11,
      "outputs": [
        {
          "output_type": "stream",
          "text": [
            "/usr/local/lib/python3.7/dist-packages/statsmodels/tools/_testing.py:19: FutureWarning: pandas.util.testing is deprecated. Use the functions in the public API at pandas.testing instead.\n",
            "  import pandas.util.testing as tm\n"
          ],
          "name": "stderr"
        },
        {
          "output_type": "execute_result",
          "data": {
            "text/html": [
              "<table class=\"simpletable\">\n",
              "<caption>OLS Regression Results</caption>\n",
              "<tr>\n",
              "  <th>Dep. Variable:</th>          <td>price</td>      <th>  R-squared:         </th>  <td>   0.595</td>  \n",
              "</tr>\n",
              "<tr>\n",
              "  <th>Model:</th>                   <td>OLS</td>       <th>  Adj. R-squared:    </th>  <td>   0.595</td>  \n",
              "</tr>\n",
              "<tr>\n",
              "  <th>Method:</th>             <td>Least Squares</td>  <th>  F-statistic:       </th>  <td>   2776.</td>  \n",
              "</tr>\n",
              "<tr>\n",
              "  <th>Date:</th>             <td>Sun, 21 Mar 2021</td> <th>  Prob (F-statistic):</th>   <td>  0.00</td>   \n",
              "</tr>\n",
              "<tr>\n",
              "  <th>Time:</th>                 <td>13:59:57</td>     <th>  Log-Likelihood:    </th> <td>-2.0826e+05</td>\n",
              "</tr>\n",
              "<tr>\n",
              "  <th>No. Observations:</th>      <td> 15129</td>      <th>  AIC:               </th>  <td>4.165e+05</td> \n",
              "</tr>\n",
              "<tr>\n",
              "  <th>Df Residuals:</th>          <td> 15120</td>      <th>  BIC:               </th>  <td>4.166e+05</td> \n",
              "</tr>\n",
              "<tr>\n",
              "  <th>Df Model:</th>              <td>     8</td>      <th>                     </th>      <td> </td>     \n",
              "</tr>\n",
              "<tr>\n",
              "  <th>Covariance Type:</th>      <td>nonrobust</td>    <th>                     </th>      <td> </td>     \n",
              "</tr>\n",
              "</table>\n",
              "<table class=\"simpletable\">\n",
              "<tr>\n",
              "        <td></td>          <th>coef</th>     <th>std err</th>      <th>t</th>      <th>P>|t|</th>  <th>[0.025</th>    <th>0.975]</th>  \n",
              "</tr>\n",
              "<tr>\n",
              "  <th>const</th>        <td> 7.186e+06</td> <td> 1.73e+05</td> <td>   41.548</td> <td> 0.000</td> <td> 6.85e+06</td> <td> 7.52e+06</td>\n",
              "</tr>\n",
              "<tr>\n",
              "  <th>bathrooms</th>    <td> 1.303e+05</td> <td> 3960.833</td> <td>   32.889</td> <td> 0.000</td> <td> 1.23e+05</td> <td> 1.38e+05</td>\n",
              "</tr>\n",
              "<tr>\n",
              "  <th>bedrooms</th>     <td>-2224.7910</td> <td> 2382.356</td> <td>   -0.934</td> <td> 0.350</td> <td>-6894.497</td> <td> 2444.915</td>\n",
              "</tr>\n",
              "<tr>\n",
              "  <th>condition</th>    <td> 1.641e+04</td> <td> 3169.013</td> <td>    5.178</td> <td> 0.000</td> <td> 1.02e+04</td> <td> 2.26e+04</td>\n",
              "</tr>\n",
              "<tr>\n",
              "  <th>floors</th>       <td> 1946.3052</td> <td> 4336.838</td> <td>    0.449</td> <td> 0.654</td> <td>-6554.422</td> <td> 1.04e+04</td>\n",
              "</tr>\n",
              "<tr>\n",
              "  <th>grade</th>        <td> 1.956e+05</td> <td> 2199.540</td> <td>   88.924</td> <td> 0.000</td> <td> 1.91e+05</td> <td>    2e+05</td>\n",
              "</tr>\n",
              "<tr>\n",
              "  <th>waterfront</th>   <td> 7.555e+05</td> <td> 2.26e+04</td> <td>   33.479</td> <td> 0.000</td> <td> 7.11e+05</td> <td>    8e+05</td>\n",
              "</tr>\n",
              "<tr>\n",
              "  <th>yr_built</th>     <td>-4300.7865</td> <td>   88.073</td> <td>  -48.832</td> <td> 0.000</td> <td>-4473.420</td> <td>-4128.153</td>\n",
              "</tr>\n",
              "<tr>\n",
              "  <th>yr_renovated</th> <td>   12.7325</td> <td>    5.043</td> <td>    2.525</td> <td> 0.012</td> <td>    2.847</td> <td>   22.618</td>\n",
              "</tr>\n",
              "</table>\n",
              "<table class=\"simpletable\">\n",
              "<tr>\n",
              "  <th>Omnibus:</th>       <td>13447.374</td> <th>  Durbin-Watson:     </th>  <td>   1.994</td>  \n",
              "</tr>\n",
              "<tr>\n",
              "  <th>Prob(Omnibus):</th>  <td> 0.000</td>   <th>  Jarque-Bera (JB):  </th> <td>1684794.827</td>\n",
              "</tr>\n",
              "<tr>\n",
              "  <th>Skew:</th>           <td> 3.763</td>   <th>  Prob(JB):          </th>  <td>    0.00</td>  \n",
              "</tr>\n",
              "<tr>\n",
              "  <th>Kurtosis:</th>       <td>54.147</td>   <th>  Cond. No.          </th>  <td>1.82e+05</td>  \n",
              "</tr>\n",
              "</table><br/><br/>Warnings:<br/>[1] Standard Errors assume that the covariance matrix of the errors is correctly specified.<br/>[2] The condition number is large, 1.82e+05. This might indicate that there are<br/>strong multicollinearity or other numerical problems."
            ],
            "text/plain": [
              "<class 'statsmodels.iolib.summary.Summary'>\n",
              "\"\"\"\n",
              "                            OLS Regression Results                            \n",
              "==============================================================================\n",
              "Dep. Variable:                  price   R-squared:                       0.595\n",
              "Model:                            OLS   Adj. R-squared:                  0.595\n",
              "Method:                 Least Squares   F-statistic:                     2776.\n",
              "Date:                Sun, 21 Mar 2021   Prob (F-statistic):               0.00\n",
              "Time:                        13:59:57   Log-Likelihood:            -2.0826e+05\n",
              "No. Observations:               15129   AIC:                         4.165e+05\n",
              "Df Residuals:                   15120   BIC:                         4.166e+05\n",
              "Df Model:                           8                                         \n",
              "Covariance Type:            nonrobust                                         \n",
              "================================================================================\n",
              "                   coef    std err          t      P>|t|      [0.025      0.975]\n",
              "--------------------------------------------------------------------------------\n",
              "const         7.186e+06   1.73e+05     41.548      0.000    6.85e+06    7.52e+06\n",
              "bathrooms     1.303e+05   3960.833     32.889      0.000    1.23e+05    1.38e+05\n",
              "bedrooms     -2224.7910   2382.356     -0.934      0.350   -6894.497    2444.915\n",
              "condition     1.641e+04   3169.013      5.178      0.000    1.02e+04    2.26e+04\n",
              "floors        1946.3052   4336.838      0.449      0.654   -6554.422    1.04e+04\n",
              "grade         1.956e+05   2199.540     88.924      0.000    1.91e+05       2e+05\n",
              "waterfront    7.555e+05   2.26e+04     33.479      0.000    7.11e+05       8e+05\n",
              "yr_built     -4300.7865     88.073    -48.832      0.000   -4473.420   -4128.153\n",
              "yr_renovated    12.7325      5.043      2.525      0.012       2.847      22.618\n",
              "==============================================================================\n",
              "Omnibus:                    13447.374   Durbin-Watson:                   1.994\n",
              "Prob(Omnibus):                  0.000   Jarque-Bera (JB):          1684794.827\n",
              "Skew:                           3.763   Prob(JB):                         0.00\n",
              "Kurtosis:                      54.147   Cond. No.                     1.82e+05\n",
              "==============================================================================\n",
              "\n",
              "Warnings:\n",
              "[1] Standard Errors assume that the covariance matrix of the errors is correctly specified.\n",
              "[2] The condition number is large, 1.82e+05. This might indicate that there are\n",
              "strong multicollinearity or other numerical problems.\n",
              "\"\"\""
            ]
          },
          "metadata": {
            "tags": []
          },
          "execution_count": 11
        }
      ]
    },
    {
      "cell_type": "code",
      "metadata": {
        "id": "leZLjO-WXZzF"
      },
      "source": [
        "sm_test_x=sm.add_constant(test_x, has_constant='add')\n",
        "sm_model_predict = fitted_sm_model.predict(sm_test_x)"
      ],
      "execution_count": 12,
      "outputs": []
    },
    {
      "cell_type": "code",
      "metadata": {
        "colab": {
          "base_uri": "https://localhost:8080/"
        },
        "id": "ELA5NSsPYEIn",
        "outputId": "c65f7e91-8e2c-4414-ded8-fb3c8af5dd8f"
      },
      "source": [
        "sqrt(mean_squared_error(sm_model_predict, test_y)) # RMSE"
      ],
      "execution_count": 13,
      "outputs": [
        {
          "output_type": "execute_result",
          "data": {
            "text/plain": [
              "239804.2967085816"
            ]
          },
          "metadata": {
            "tags": []
          },
          "execution_count": 13
        }
      ]
    },
    {
      "cell_type": "markdown",
      "metadata": {
        "id": "J226sRlHYUfd"
      },
      "source": [
        "# Bagging 한 결과가 일반적인 결과보다 좋은지 확인"
      ]
    },
    {
      "cell_type": "code",
      "metadata": {
        "id": "DCZ27XbeYGEJ"
      },
      "source": [
        "# for문을 이용한 앙상블기법(라이브러리를 다 쓰지 않음)\n",
        "import random\n",
        "bagging_predict_result = []\n",
        "for _ in range(10):\n",
        "    data_index = [data_index for data_index in range(train_x.shape[0])] # 1부터 train 개수의 인덱스를 가져옴\n",
        "    random_data_index = np.random.choice(data_index, train_x.shape[0]) # 데이터 복원 추출\n",
        "    sm_test_x = train_x.iloc[random_data_index,] # random_data_index 인덱스를 가져온다.\n",
        "    sm_test_y = train_y.iloc[random_data_index,]\n",
        "    sm.add_constant(sm_train_x, has_constant=\"add\") # 상수항 추가"
      ],
      "execution_count": 15,
      "outputs": []
    },
    {
      "cell_type": "markdown",
      "metadata": {
        "id": "MWQepyEGFf5c"
      },
      "source": [
        "# 2021.03.21"
      ]
    },
    {
      "cell_type": "code",
      "metadata": {
        "id": "pojG5sg_ZGk3"
      },
      "source": [
        ""
      ],
      "execution_count": null,
      "outputs": []
    }
  ]
}