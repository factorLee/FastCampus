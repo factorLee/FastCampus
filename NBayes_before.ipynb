{
  "nbformat": 4,
  "nbformat_minor": 0,
  "metadata": {
    "colab": {
      "name": "NBayes_before.ipynb",
      "provenance": [],
      "toc_visible": true
    },
    "kernelspec": {
      "name": "python3",
      "display_name": "Python 3"
    }
  },
  "cells": [
    {
      "cell_type": "markdown",
      "metadata": {
        "id": "XdpGzQaAeTOm"
      },
      "source": [
        "# Naive Bayes 실습\n",
        "\n",
        "1. Gaussian Naive Bayes\n",
        "- 데이터, 모듈 불러오기"
      ]
    },
    {
      "cell_type": "code",
      "metadata": {
        "id": "ipagCI2qeSql"
      },
      "source": [
        "from sklearn import datasets\n",
        "from sklearn.naive_bayes import GaussianNB # naive bayes 모듈에서 GaussianNB 함수 불러오기"
      ],
      "execution_count": null,
      "outputs": []
    },
    {
      "cell_type": "code",
      "metadata": {
        "id": "3lWMvGsigHLO"
      },
      "source": [
        "import pandas as pd"
      ],
      "execution_count": null,
      "outputs": []
    },
    {
      "cell_type": "code",
      "metadata": {
        "id": "QjwneiMBeM8u"
      },
      "source": [
        "iris = datasets.load_iris() # iris 데이터 불러오기\n",
        "df_X = pd.DataFrame(iris.data) #X,Y를 DataFrame으로\n",
        "df_Y = pd.DataFrame(iris.target)"
      ],
      "execution_count": null,
      "outputs": []
    },
    {
      "cell_type": "code",
      "metadata": {
        "colab": {
          "base_uri": "https://localhost:8080/",
          "height": 204
        },
        "id": "aShrjftXa0Nr",
        "outputId": "e9810e26-f306-447c-a371-27962f85f286"
      },
      "source": [
        "df_X.head()"
      ],
      "execution_count": null,
      "outputs": [
        {
          "output_type": "execute_result",
          "data": {
            "text/html": [
              "<div>\n",
              "<style scoped>\n",
              "    .dataframe tbody tr th:only-of-type {\n",
              "        vertical-align: middle;\n",
              "    }\n",
              "\n",
              "    .dataframe tbody tr th {\n",
              "        vertical-align: top;\n",
              "    }\n",
              "\n",
              "    .dataframe thead th {\n",
              "        text-align: right;\n",
              "    }\n",
              "</style>\n",
              "<table border=\"1\" class=\"dataframe\">\n",
              "  <thead>\n",
              "    <tr style=\"text-align: right;\">\n",
              "      <th></th>\n",
              "      <th>0</th>\n",
              "      <th>1</th>\n",
              "      <th>2</th>\n",
              "      <th>3</th>\n",
              "    </tr>\n",
              "  </thead>\n",
              "  <tbody>\n",
              "    <tr>\n",
              "      <th>0</th>\n",
              "      <td>5.1</td>\n",
              "      <td>3.5</td>\n",
              "      <td>1.4</td>\n",
              "      <td>0.2</td>\n",
              "    </tr>\n",
              "    <tr>\n",
              "      <th>1</th>\n",
              "      <td>4.9</td>\n",
              "      <td>3.0</td>\n",
              "      <td>1.4</td>\n",
              "      <td>0.2</td>\n",
              "    </tr>\n",
              "    <tr>\n",
              "      <th>2</th>\n",
              "      <td>4.7</td>\n",
              "      <td>3.2</td>\n",
              "      <td>1.3</td>\n",
              "      <td>0.2</td>\n",
              "    </tr>\n",
              "    <tr>\n",
              "      <th>3</th>\n",
              "      <td>4.6</td>\n",
              "      <td>3.1</td>\n",
              "      <td>1.5</td>\n",
              "      <td>0.2</td>\n",
              "    </tr>\n",
              "    <tr>\n",
              "      <th>4</th>\n",
              "      <td>5.0</td>\n",
              "      <td>3.6</td>\n",
              "      <td>1.4</td>\n",
              "      <td>0.2</td>\n",
              "    </tr>\n",
              "  </tbody>\n",
              "</table>\n",
              "</div>"
            ],
            "text/plain": [
              "     0    1    2    3\n",
              "0  5.1  3.5  1.4  0.2\n",
              "1  4.9  3.0  1.4  0.2\n",
              "2  4.7  3.2  1.3  0.2\n",
              "3  4.6  3.1  1.5  0.2\n",
              "4  5.0  3.6  1.4  0.2"
            ]
          },
          "metadata": {
            "tags": []
          },
          "execution_count": 19
        }
      ]
    },
    {
      "cell_type": "code",
      "metadata": {
        "colab": {
          "base_uri": "https://localhost:8080/",
          "height": 204
        },
        "id": "NivMpjlIbW6k",
        "outputId": "b23a84ed-5922-4477-a51d-1eed7be6f433"
      },
      "source": [
        "df_Y.head()"
      ],
      "execution_count": null,
      "outputs": [
        {
          "output_type": "execute_result",
          "data": {
            "text/html": [
              "<div>\n",
              "<style scoped>\n",
              "    .dataframe tbody tr th:only-of-type {\n",
              "        vertical-align: middle;\n",
              "    }\n",
              "\n",
              "    .dataframe tbody tr th {\n",
              "        vertical-align: top;\n",
              "    }\n",
              "\n",
              "    .dataframe thead th {\n",
              "        text-align: right;\n",
              "    }\n",
              "</style>\n",
              "<table border=\"1\" class=\"dataframe\">\n",
              "  <thead>\n",
              "    <tr style=\"text-align: right;\">\n",
              "      <th></th>\n",
              "      <th>0</th>\n",
              "    </tr>\n",
              "  </thead>\n",
              "  <tbody>\n",
              "    <tr>\n",
              "      <th>0</th>\n",
              "      <td>0</td>\n",
              "    </tr>\n",
              "    <tr>\n",
              "      <th>1</th>\n",
              "      <td>0</td>\n",
              "    </tr>\n",
              "    <tr>\n",
              "      <th>2</th>\n",
              "      <td>0</td>\n",
              "    </tr>\n",
              "    <tr>\n",
              "      <th>3</th>\n",
              "      <td>0</td>\n",
              "    </tr>\n",
              "    <tr>\n",
              "      <th>4</th>\n",
              "      <td>0</td>\n",
              "    </tr>\n",
              "  </tbody>\n",
              "</table>\n",
              "</div>"
            ],
            "text/plain": [
              "   0\n",
              "0  0\n",
              "1  0\n",
              "2  0\n",
              "3  0\n",
              "4  0"
            ]
          },
          "metadata": {
            "tags": []
          },
          "execution_count": 20
        }
      ]
    },
    {
      "cell_type": "markdown",
      "metadata": {
        "id": "2nCGV7USbaig"
      },
      "source": [
        "- 모델 피팅"
      ]
    },
    {
      "cell_type": "code",
      "metadata": {
        "id": "0Jd4inxZbZLG"
      },
      "source": [
        "gnb=GaussianNB()\n",
        "fitted=gnb.fit(iris.data,iris.target)\n",
        "y_pred=fitted.predict(iris.data)"
      ],
      "execution_count": null,
      "outputs": []
    },
    {
      "cell_type": "code",
      "metadata": {
        "colab": {
          "base_uri": "https://localhost:8080/"
        },
        "id": "89AMYxfvcpg4",
        "outputId": "816d9b94-b8aa-4014-aa2b-5fc4f9c660ef"
      },
      "source": [
        "fitted.predict_proba(iris.data)[[1,48,51,100]] # 1,48,51,100번째 데이터가 0,1,2일 확률을 보여주는 proba"
      ],
      "execution_count": null,
      "outputs": [
        {
          "output_type": "execute_result",
          "data": {
            "text/plain": [
              "array([[1.00000000e+000, 1.51480769e-017, 2.34820051e-025],\n",
              "       [1.00000000e+000, 2.63876217e-018, 2.79566024e-025],\n",
              "       [7.27347795e-102, 9.45169639e-001, 5.48303606e-002],\n",
              "       [3.23245181e-254, 6.35381031e-011, 1.00000000e+000]])"
            ]
          },
          "metadata": {
            "tags": []
          },
          "execution_count": 22
        }
      ]
    },
    {
      "cell_type": "code",
      "metadata": {
        "colab": {
          "base_uri": "https://localhost:8080/"
        },
        "id": "8JdwNRF2c_2-",
        "outputId": "443a6908-02c0-45fc-d2c5-7fcd76ace703"
      },
      "source": [
        "fitted.predict(iris.data)[[1,48,51,100]]# 1,48,51,100번째 데이터 예측값"
      ],
      "execution_count": null,
      "outputs": [
        {
          "output_type": "execute_result",
          "data": {
            "text/plain": [
              "array([0, 0, 1, 2])"
            ]
          },
          "metadata": {
            "tags": []
          },
          "execution_count": 23
        }
      ]
    },
    {
      "cell_type": "markdown",
      "metadata": {
        "id": "mvGCX2pC-PHH"
      },
      "source": [
        "- Confusion matrix 구하기"
      ]
    },
    {
      "cell_type": "code",
      "metadata": {
        "id": "6HtWT-xadDQn"
      },
      "source": [
        "from sklearn.metrics import confusion_matrix"
      ],
      "execution_count": null,
      "outputs": []
    },
    {
      "cell_type": "code",
      "metadata": {
        "colab": {
          "base_uri": "https://localhost:8080/"
        },
        "id": "WtQdM6T6dZkO",
        "outputId": "6de8229f-963e-4fae-a8e5-227d2c3209d4"
      },
      "source": [
        "confusion_matrix(iris.target, y_pred)\n",
        "# 트라이얼을 하나도안준것은 0인 것을 잘 맞췄음\n",
        "# 1,2인것도 나름 잘 맞췄으나 3개는 틀렸음\n"
      ],
      "execution_count": null,
      "outputs": [
        {
          "output_type": "execute_result",
          "data": {
            "text/plain": [
              "array([[50,  0,  0],\n",
              "       [ 0, 47,  3],\n",
              "       [ 0,  3, 47]])"
            ]
          },
          "metadata": {
            "tags": []
          },
          "execution_count": 30
        }
      ]
    },
    {
      "cell_type": "markdown",
      "metadata": {
        "id": "dD10MFGq-bhK"
      },
      "source": [
        "- Prior 설정하기 (특정 범주일 확률을 바꿔줄 수 있음)"
      ]
    },
    {
      "cell_type": "code",
      "metadata": {
        "id": "IsN2lBsLddC5",
        "colab": {
          "base_uri": "https://localhost:8080/"
        },
        "outputId": "3c05a98e-b0ac-4d69-c605-c10349d00c54"
      },
      "source": [
        "gnb2 = GaussianNB(priors=[1/100,1/100,98/100]) # 3개의 범주(0,1,2)를 각각의 설정한 확률로 바꾸는 작업\n",
        "fitted2 = gnb2.fit(iris.data,iris.target)\n",
        "y_pred2=fitted2.predict(iris.data) # prediction한 결과값을 pred2에 저장\n",
        "confusion_matrix(iris.target, y_pred2)\n",
        "\n",
        "# 3번째(2인 것들)가 나올 확률을 막 높였더니 3번째인것들을 다 맞추었으나 대신 1번째, 2번째를 적게 나오게 했으니 2번째를 3번째로 인식하게되는 trade off가 발생함\n",
        " \n"
      ],
      "execution_count": null,
      "outputs": [
        {
          "output_type": "execute_result",
          "data": {
            "text/plain": [
              "array([[50,  0,  0],\n",
              "       [ 0, 33, 17],\n",
              "       [ 0,  0, 50]])"
            ]
          },
          "metadata": {
            "tags": []
          },
          "execution_count": 31
        }
      ]
    },
    {
      "cell_type": "code",
      "metadata": {
        "colab": {
          "base_uri": "https://localhost:8080/"
        },
        "id": "O-6A4hBK-8eB",
        "outputId": "541704ac-4581-43fe-a7f6-eaddd46824b1"
      },
      "source": [
        "# 다른 트라이얼 값\n",
        "gnb2 = GaussianNB(priors=[1/100,98/100,1/100]) # 3개의 범주(0,1,2)를 각각의 설정한 확률로 바꾸는 작업\n",
        "fitted2 = gnb2.fit(iris.data,iris.target)\n",
        "y_pred2=fitted2.predict(iris.data) # prediction한 결과값을 pred2에 저장\n",
        "confusion_matrix(iris.target, y_pred2)\n",
        "\n",
        "# 2번째 범주를 높였더니 3번째 범주에서 틀리는 경우가 많이 발생함"
      ],
      "execution_count": null,
      "outputs": [
        {
          "output_type": "execute_result",
          "data": {
            "text/plain": [
              "array([[50,  0,  0],\n",
              "       [ 0, 50,  0],\n",
              "       [ 0, 14, 36]])"
            ]
          },
          "metadata": {
            "tags": []
          },
          "execution_count": 32
        }
      ]
    },
    {
      "cell_type": "markdown",
      "metadata": {
        "id": "93O8gLDCB7MA"
      },
      "source": [
        "# 2. Multinomial naive bayes\n",
        "\n",
        "- 모듈 불러오기 및 데이터 생성\n"
      ]
    },
    {
      "cell_type": "code",
      "metadata": {
        "id": "ldwYOXB_AitH"
      },
      "source": [
        "from sklearn.naive_bayes import MultinomialNB "
      ],
      "execution_count": null,
      "outputs": []
    },
    {
      "cell_type": "code",
      "metadata": {
        "id": "g2FY72b2CYlb"
      },
      "source": [
        "import numpy as np"
      ],
      "execution_count": null,
      "outputs": []
    },
    {
      "cell_type": "code",
      "metadata": {
        "id": "aEHWAhMBCaM_"
      },
      "source": [
        "# 변수가 100개고 sample size가 6개인\n",
        "X = np.random.randint(5, size=(6,100))\n",
        "y = np.array([1,2,3,4,5,6])"
      ],
      "execution_count": null,
      "outputs": []
    },
    {
      "cell_type": "code",
      "metadata": {
        "colab": {
          "base_uri": "https://localhost:8080/"
        },
        "id": "VkQxoYXQCizA",
        "outputId": "2a11782f-2fb8-4c14-a6a2-27ac6826e964"
      },
      "source": [
        "X"
      ],
      "execution_count": null,
      "outputs": [
        {
          "output_type": "execute_result",
          "data": {
            "text/plain": [
              "array([[1, 4, 4, 2, 3, 2, 1, 4, 2, 2, 2, 1, 1, 2, 4, 4, 0, 3, 1, 2, 1, 1,\n",
              "        2, 2, 2, 2, 0, 2, 1, 0, 3, 3, 0, 4, 0, 4, 1, 3, 3, 4, 2, 4, 2, 2,\n",
              "        2, 1, 0, 1, 3, 1, 1, 2, 2, 3, 0, 1, 0, 2, 2, 3, 3, 4, 2, 0, 3, 2,\n",
              "        0, 1, 4, 0, 4, 4, 1, 0, 2, 1, 0, 4, 2, 2, 0, 0, 1, 1, 0, 0, 1, 3,\n",
              "        0, 3, 2, 3, 1, 0, 4, 2, 0, 4, 1, 2],\n",
              "       [0, 1, 2, 2, 2, 3, 3, 4, 4, 1, 0, 3, 2, 1, 4, 0, 4, 4, 0, 4, 0, 0,\n",
              "        3, 4, 2, 1, 3, 1, 4, 2, 2, 4, 4, 4, 2, 2, 2, 1, 1, 2, 0, 0, 1, 2,\n",
              "        3, 3, 1, 4, 3, 4, 1, 0, 2, 3, 4, 4, 1, 3, 3, 2, 3, 1, 2, 3, 2, 2,\n",
              "        3, 3, 0, 1, 0, 4, 3, 4, 3, 1, 2, 2, 3, 0, 1, 3, 3, 2, 0, 3, 2, 4,\n",
              "        2, 3, 1, 2, 0, 3, 4, 4, 1, 4, 1, 4],\n",
              "       [2, 4, 1, 1, 3, 4, 0, 1, 3, 4, 0, 0, 4, 3, 0, 0, 1, 3, 3, 2, 0, 1,\n",
              "        2, 0, 4, 1, 2, 3, 1, 4, 0, 1, 2, 3, 1, 3, 2, 3, 4, 3, 4, 0, 0, 3,\n",
              "        1, 4, 2, 2, 1, 3, 1, 2, 0, 1, 0, 2, 3, 4, 3, 1, 4, 1, 2, 1, 4, 1,\n",
              "        0, 3, 0, 3, 1, 0, 1, 0, 3, 3, 4, 2, 1, 4, 4, 1, 3, 0, 0, 1, 2, 0,\n",
              "        1, 2, 1, 1, 3, 1, 3, 3, 2, 3, 3, 4],\n",
              "       [4, 0, 2, 0, 1, 1, 2, 4, 3, 4, 3, 3, 3, 0, 2, 0, 4, 1, 4, 0, 4, 1,\n",
              "        2, 4, 2, 1, 4, 1, 2, 4, 3, 1, 3, 4, 4, 0, 1, 0, 4, 3, 1, 4, 0, 4,\n",
              "        2, 2, 0, 1, 2, 3, 1, 3, 1, 2, 0, 4, 2, 4, 3, 2, 2, 2, 0, 4, 4, 3,\n",
              "        2, 2, 0, 2, 4, 0, 1, 0, 2, 2, 4, 3, 1, 0, 0, 0, 4, 0, 4, 2, 1, 1,\n",
              "        2, 4, 1, 2, 1, 4, 3, 2, 0, 0, 3, 1],\n",
              "       [0, 1, 2, 0, 2, 4, 0, 4, 4, 0, 1, 3, 4, 3, 0, 2, 1, 4, 3, 4, 3, 2,\n",
              "        4, 4, 1, 4, 4, 4, 2, 1, 3, 3, 2, 2, 4, 2, 4, 3, 4, 4, 2, 1, 2, 1,\n",
              "        1, 2, 0, 1, 0, 2, 4, 2, 3, 3, 0, 4, 0, 0, 4, 0, 4, 3, 1, 0, 0, 2,\n",
              "        4, 2, 2, 2, 1, 1, 1, 0, 2, 4, 2, 0, 0, 1, 0, 1, 3, 0, 1, 1, 2, 0,\n",
              "        0, 0, 2, 4, 3, 3, 2, 1, 2, 4, 4, 1],\n",
              "       [0, 1, 1, 2, 2, 1, 3, 4, 4, 4, 1, 4, 2, 3, 2, 0, 2, 1, 2, 1, 0, 3,\n",
              "        2, 2, 1, 1, 0, 3, 4, 0, 3, 4, 3, 4, 2, 4, 0, 1, 0, 2, 1, 2, 2, 4,\n",
              "        4, 3, 0, 2, 2, 4, 2, 4, 1, 4, 1, 3, 2, 2, 4, 2, 0, 0, 1, 1, 0, 1,\n",
              "        4, 3, 4, 0, 4, 1, 0, 3, 4, 4, 3, 0, 1, 3, 0, 2, 4, 3, 3, 1, 0, 2,\n",
              "        2, 2, 4, 1, 0, 3, 0, 2, 1, 4, 0, 4]])"
            ]
          },
          "metadata": {
            "tags": []
          },
          "execution_count": 36
        }
      ]
    },
    {
      "cell_type": "code",
      "metadata": {
        "colab": {
          "base_uri": "https://localhost:8080/"
        },
        "id": "VQ5rr7XNCj08",
        "outputId": "f62e2b24-113d-49df-9c24-be5407f40fcb"
      },
      "source": [
        "y\n",
        "# y가 1~6까지의 클래스"
      ],
      "execution_count": null,
      "outputs": [
        {
          "output_type": "execute_result",
          "data": {
            "text/plain": [
              "array([1, 2, 3, 4, 5, 6])"
            ]
          },
          "metadata": {
            "tags": []
          },
          "execution_count": 39
        }
      ]
    },
    {
      "cell_type": "markdown",
      "metadata": {
        "id": "MJAgLPAYC7P5"
      },
      "source": [
        "- Multinomial naive bayes 모델 생성"
      ]
    },
    {
      "cell_type": "code",
      "metadata": {
        "colab": {
          "base_uri": "https://localhost:8080/"
        },
        "id": "O71mgsA2CkRH",
        "outputId": "c6473dc9-6330-4960-dbbb-be8e82488b62"
      },
      "source": [
        "clf = MultinomialNB()\n",
        "clf.fit(X,y)"
      ],
      "execution_count": null,
      "outputs": [
        {
          "output_type": "execute_result",
          "data": {
            "text/plain": [
              "MultinomialNB(alpha=1.0, class_prior=None, fit_prior=True)"
            ]
          },
          "metadata": {
            "tags": []
          },
          "execution_count": 40
        }
      ]
    },
    {
      "cell_type": "code",
      "metadata": {
        "colab": {
          "base_uri": "https://localhost:8080/"
        },
        "id": "RaTFp2YUDKeD",
        "outputId": "165b63fc-3019-4854-ba4e-97377b1c1c61"
      },
      "source": [
        "print(clf.predict(X[2:3])) # 2번째 관측치를 가지고 왔을때 다음과 같이 predict가 된다."
      ],
      "execution_count": null,
      "outputs": [
        {
          "output_type": "stream",
          "text": [
            "[3]\n"
          ],
          "name": "stdout"
        }
      ]
    },
    {
      "cell_type": "code",
      "metadata": {
        "colab": {
          "base_uri": "https://localhost:8080/"
        },
        "id": "2AcvEONjDOao",
        "outputId": "3b0c319f-c9d0-4774-abd1-c7a2c70d412b"
      },
      "source": [
        "clf.predict_proba(X[2:3]) # 2번째 관측치가 1~6번째 범주일 확률 (ex. 3번째관측치가 될 확률이 1이다.)"
      ],
      "execution_count": null,
      "outputs": [
        {
          "output_type": "execute_result",
          "data": {
            "text/plain": [
              "array([[9.70243966e-32, 3.28760646e-32, 1.00000000e+00, 7.21679138e-37,\n",
              "        1.67814462e-33, 2.60178970e-31]])"
            ]
          },
          "metadata": {
            "tags": []
          },
          "execution_count": 47
        }
      ]
    },
    {
      "cell_type": "markdown",
      "metadata": {
        "id": "fFOxdIVZEHHQ"
      },
      "source": [
        "- prior 변경해보기"
      ]
    },
    {
      "cell_type": "code",
      "metadata": {
        "colab": {
          "base_uri": "https://localhost:8080/"
        },
        "id": "k9U-vWSCDt2Q",
        "outputId": "da5480b8-949d-4db1-ef11-fd52dc1f03a2"
      },
      "source": [
        "clf2 = MultinomialNB(class_prior=[0.1,0.5,0.1,0.1,0.1,0.1]) # 다른건 똑같고 2번째 3번째 범주의 확률만 바꾼것\n",
        "clf2.fit(X,y)"
      ],
      "execution_count": null,
      "outputs": [
        {
          "output_type": "execute_result",
          "data": {
            "text/plain": [
              "MultinomialNB(alpha=1.0, class_prior=[0.1, 0.5, 0.1, 0.1, 0.1, 0.1],\n",
              "              fit_prior=True)"
            ]
          },
          "metadata": {
            "tags": []
          },
          "execution_count": 52
        }
      ]
    },
    {
      "cell_type": "code",
      "metadata": {
        "colab": {
          "base_uri": "https://localhost:8080/"
        },
        "id": "LbZoSqJQEAxI",
        "outputId": "9c866b41-ea9d-4450-edd9-12710b416322"
      },
      "source": [
        "clf2.predict_proba(X[2:3]) \n",
        "# 웨어트를 많이준 2번째를 보면 프라이얼을 변경하지 않은 것에 비해 상승하는것을 볼수있음\n",
        "# 아닌값은 하락"
      ],
      "execution_count": null,
      "outputs": [
        {
          "output_type": "execute_result",
          "data": {
            "text/plain": [
              "array([[9.70243966e-32, 1.64380323e-31, 1.00000000e+00, 7.21679138e-37,\n",
              "        1.67814462e-33, 2.60178970e-31]])"
            ]
          },
          "metadata": {
            "tags": []
          },
          "execution_count": 53
        }
      ]
    },
    {
      "cell_type": "markdown",
      "metadata": {
        "id": "ead_yNJPFZuV"
      },
      "source": [
        "# prior을 활용해서 Gaussian Naive Bayes, Multinomial Naive Bayes"
      ]
    },
    {
      "cell_type": "code",
      "metadata": {
        "id": "B6l4iJRFEoSR"
      },
      "source": [
        ""
      ],
      "execution_count": null,
      "outputs": []
    }
  ]
}